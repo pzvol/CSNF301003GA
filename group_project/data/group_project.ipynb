{
 "cells": [
  {
   "cell_type": "markdown",
   "metadata": {},
   "source": [
    "# (Title to be decided)"
   ]
  },
  {
   "cell_type": "markdown",
   "metadata": {},
   "source": [
    "*This is the file for the code of our group assignment. Under development.*"
   ]
  },
  {
   "cell_type": "code",
   "execution_count": 1,
   "metadata": {
    "scrolled": true
   },
   "outputs": [],
   "source": [
    "import json\n",
    "import matplotlib.pyplot as plt\n",
    "import numpy as np\n",
    "import pandas as pd\n",
    "import re\n",
    "import time\n",
    "from sklearn import preprocessing\n",
    "from sklearn.decomposition import PCA\n",
    "from sklearn.feature_extraction.text import CountVectorizer\n",
    "from sklearn.model_selection import train_test_split\n",
    "from sklearn.preprocessing import LabelEncoder\n",
    "from sklearn.preprocessing import MinMaxScaler\n",
    "from tensorflow import keras\n",
    "from keras_tuner.tuners import BayesianOptimization\n",
    "\n",
    "# gpu acceleration, would cause an error when running without a cuda gpu\n",
    "import os\n",
    "os.environ[\"CUDA_VISIBLE_DEVICES\"]=\"0\""
   ]
  },
  {
   "cell_type": "markdown",
   "metadata": {},
   "source": [
    "Set up a time calculation method for collecting time used during running the code:"
   ]
  },
  {
   "cell_type": "code",
   "execution_count": 2,
   "metadata": {},
   "outputs": [],
   "source": [
    "# Variable for storing recorded timestamp\n",
    "timer_record = 0\n",
    "\n",
    "# Method for updating timer (setting the starting time)\n",
    "def timer_start():\n",
    "\tglobal timer_record\n",
    "\ttimer_record = time.time()\n",
    "\n",
    "# Method for printing the time since last update\n",
    "#\n",
    "# the second num will be returned\n",
    "def timer_read(print_result=True):\n",
    "\tsecond_passed = time.time() - timer_record\n",
    "\tif print_result:\n",
    "\t\tprint(f\"{second_passed:.3}s passed\")\n",
    "\treturn second_passed\n"
   ]
  },
  {
   "cell_type": "markdown",
   "metadata": {},
   "source": [
    "## 1. Read Data from External File\n",
    "\n",
    "Read data in external files. For convenience, the original `.pcapng` file has been converted into `.json` and `.csv` with Wireshark."
   ]
  },
  {
   "cell_type": "code",
   "execution_count": 3,
   "metadata": {
    "tags": []
   },
   "outputs": [
    {
     "name": "stdout",
     "output_type": "stream",
     "text": [
      "10625 packets read\n"
     ]
    },
    {
     "data": {
      "text/plain": [
       "{'_index': 'packets-XXXX-XX-XX',\n",
       " '_type': 'doc',\n",
       " '_score': None,\n",
       " '_source': {'layers': {'pkt_comment': {'frame.comment': '13682128230572000042,china',\n",
       "    'frame.comment_tree': {'_ws.expert': {'frame.comment.expert': '',\n",
       "      '_ws.expert.message': '13682128230572000042,china',\n",
       "      '_ws.expert.severity': '1048576',\n",
       "      '_ws.expert.group': '184549376'}}},\n",
       "   'frame': {'frame.interface_id': '0',\n",
       "    'frame.interface_id_tree': {'frame.interface_name': 'unknown'},\n",
       "    'frame.encap_type': '7',\n",
       "    'frame.time': 'Not representable',\n",
       "    'frame.offset_shift': '0.000000000',\n",
       "    'frame.time_epoch': '-1460980371.753735000',\n",
       "    'frame.time_delta': '0.000000000',\n",
       "    'frame.time_delta_displayed': '0.000000000',\n",
       "    'frame.time_relative': '0.000000000',\n",
       "    'frame.number': '1',\n",
       "    'frame.len': '58',\n",
       "    'frame.cap_len': '58',\n",
       "    'frame.marked': '0',\n",
       "    'frame.ignored': '0',\n",
       "    'frame.protocols': 'raw:ip:udp:dns',\n",
       "    'frame.coloring_rule.name': 'UDP',\n",
       "    'frame.coloring_rule.string': 'udp'},\n",
       "   'raw': 'Raw packet data',\n",
       "   'ip': {'ip.version': '4',\n",
       "    'ip.hdr_len': '20',\n",
       "    'ip.dsfield': '0x00000000',\n",
       "    'ip.dsfield_tree': {'ip.dsfield.dscp': '0', 'ip.dsfield.ecn': '0'},\n",
       "    'ip.len': '58',\n",
       "    'ip.id': '0x00002baf',\n",
       "    'ip.flags': '0x00000000',\n",
       "    'ip.flags_tree': {'ip.flags.rb': '0',\n",
       "     'ip.flags.df': '0',\n",
       "     'ip.flags.mf': '0'},\n",
       "    'ip.frag_offset': '0',\n",
       "    'ip.ttl': '254',\n",
       "    'ip.proto': '17',\n",
       "    'ip.checksum': '0x000075e6',\n",
       "    'ip.checksum.status': '2',\n",
       "    'ip.src': '10.11.1.3',\n",
       "    'ip.addr': '8.8.8.8',\n",
       "    'ip.src_host': '10.11.1.3',\n",
       "    'ip.host': 'dns.google',\n",
       "    'ip.dst': '8.8.8.8',\n",
       "    'ip.dst_host': 'dns.google'},\n",
       "   'udp': {'udp.srcport': '57329',\n",
       "    'udp.dstport': '53',\n",
       "    'udp.port': '53',\n",
       "    'udp.length': '38',\n",
       "    'udp.checksum': '0x000074d0',\n",
       "    'udp.checksum.status': '2',\n",
       "    'udp.stream': '0',\n",
       "    'Timestamps': {'udp.time_relative': '0.000000000',\n",
       "     'udp.time_delta': '0.000000000'}},\n",
       "   'dns': {'dns.id': '0x0000e8e9',\n",
       "    'dns.flags': '0x00000100',\n",
       "    'dns.flags_tree': {'dns.flags.response': '0',\n",
       "     'dns.flags.opcode': '0',\n",
       "     'dns.flags.truncated': '0',\n",
       "     'dns.flags.recdesired': '1',\n",
       "     'dns.flags.z': '0',\n",
       "     'dns.flags.checkdisable': '0'},\n",
       "    'dns.count.queries': '1',\n",
       "    'dns.count.answers': '0',\n",
       "    'dns.count.auth_rr': '0',\n",
       "    'dns.count.add_rr': '0',\n",
       "    'Queries': {'lcs.naver.jp: type A, class IN': {'dns.qry.name': 'lcs.naver.jp',\n",
       "      'dns.qry.name.len': '12',\n",
       "      'dns.count.labels': '3',\n",
       "      'dns.qry.type': '1',\n",
       "      'dns.qry.class': '0x00000001'}},\n",
       "    'dns.response_in': '2'}}}}"
      ]
     },
     "execution_count": 3,
     "metadata": {},
     "output_type": "execute_result"
    }
   ],
   "source": [
    "# Read the JSON including all details of packets\n",
    "#   errors=\"surrogateescape\" to pass the encoding errors raised by contents in HTTP packets\n",
    "with open(\"./data/traffic.json\", \"r\", encoding=\"utf-8\", errors=\"surrogateescape\") as f:\n",
    "    dataset_json=json.load(f)\n",
    "    print(f\"{len(dataset_json)} packets read\")\n",
    "\n",
    "# print one for checking\n",
    "dataset_json[0]"
   ]
  },
  {
   "cell_type": "markdown",
   "metadata": {},
   "source": [
    "## 2. Data Preprocessing"
   ]
  },
  {
   "cell_type": "markdown",
   "metadata": {},
   "source": [
    "### 2.1 Extract dataset labels and encoding"
   ]
  },
  {
   "cell_type": "code",
   "execution_count": 4,
   "metadata": {
    "tags": []
   },
   "outputs": [
    {
     "name": "stdout",
     "output_type": "stream",
     "text": [
      "Labels include ['china' 'india' 'us']\n",
      "(10625,)\n"
     ]
    }
   ],
   "source": [
    "# Extract labels(y) from JSON\n",
    "dataset_y = np.array(list(map(\n",
    "    lambda packet_json: (packet_json[\"_source\"][\"layers\"][\"pkt_comment\"][\"frame.comment\"]).split(\",\")[1], \n",
    "    dataset_json\n",
    ")))\n",
    "\n",
    "print(f\"Labels include {np.unique(dataset_y)}\")\n",
    "print(dataset_y.shape)"
   ]
  },
  {
   "cell_type": "markdown",
   "metadata": {},
   "source": [
    "### 2.2 Extract features"
   ]
  },
  {
   "cell_type": "code",
   "execution_count": 5,
   "metadata": {
    "tags": []
   },
   "outputs": [
    {
     "name": "stdout",
     "output_type": "stream",
     "text": [
      "10.11.1.3\n",
      "10.11.1.3\n",
      "8.8.8.8\n",
      "dns.google\n"
     ]
    }
   ],
   "source": [
    "# Extract source IP, source IP host, destination IP and destination IP host from dataset\n",
    "dataset_X_ip_src = np.array(list(map(\n",
    "    lambda packet_json: packet_json[\"_source\"][\"layers\"][\"ip\"][\"ip.src\"], \n",
    "    dataset_json\n",
    ")))\n",
    "dataset_X_ip_src_host = np.array(list(map(\n",
    "    lambda packet_json: packet_json[\"_source\"][\"layers\"][\"ip\"][\"ip.src_host\"], \n",
    "    dataset_json\n",
    ")))\n",
    "dataset_X_ip_dst = np.array(list(map(\n",
    "    lambda packet_json: packet_json[\"_source\"][\"layers\"][\"ip\"][\"ip.dst\"], \n",
    "    dataset_json\n",
    ")))\n",
    "dataset_X_ip_dst_host = np.array(list(map(\n",
    "    lambda packet_json: packet_json[\"_source\"][\"layers\"][\"ip\"][\"ip.dst_host\"], \n",
    "    dataset_json\n",
    ")))\n",
    "\n",
    "# print first ones for checking\n",
    "print(dataset_X_ip_src[0])\n",
    "print(dataset_X_ip_src_host[0])\n",
    "print(dataset_X_ip_dst[0])\n",
    "print(dataset_X_ip_dst_host[0])\n"
   ]
  },
  {
   "cell_type": "markdown",
   "metadata": {},
   "source": [
    "### 2.3 Check data sanity and deal with missing fields"
   ]
  },
  {
   "cell_type": "code",
   "execution_count": 6,
   "metadata": {
    "tags": []
   },
   "outputs": [
    {
     "name": "stdout",
     "output_type": "stream",
     "text": [
      "Source/dest IP not an IPv4 address:\n",
      "[]\n",
      "[]\n",
      "Source/dest host not an IPv4 nor a domain:\n",
      "[]\n",
      "['no-data', 'no-data']\n",
      "\n",
      "Indexes of rows with missing 'dst.host': [960 964]\n",
      "Missing 'dst.host' filled\n"
     ]
    }
   ],
   "source": [
    "# Data sanity check\n",
    "pattern_not_ipv4 = re.compile(r\"(?!((\\b25[0-5]|\\b2[0-4][0-9]|\\b[01]?[0-9][0-9]?)(\\.(25[0-5]|2[0-4][0-9]|[01]?[0-9][0-9]?)){3}))\")\n",
    "pattern_not_ipv4_nor_domain = re.compile(r\"(?!((\\b25[0-5]|\\b2[0-4][0-9]|\\b[01]?[0-9][0-9]?)(\\.(25[0-5]|2[0-4][0-9]|[01]?[0-9][0-9]?)){3})|[-_0-9a-zA-Z]+\\.[-_0-9a-zA-Z]+)\")\n",
    "\n",
    "print(\"Source/dest IP not an IPv4 address:\")\n",
    "print(list(filter(pattern_not_ipv4.match, dataset_X_ip_src)))\n",
    "print(list(filter(pattern_not_ipv4.match, dataset_X_ip_dst)))\n",
    "print(\"Source/dest host not an IPv4 nor a domain:\")\n",
    "print(list(filter(pattern_not_ipv4_nor_domain.match, dataset_X_ip_src_host)))\n",
    "print(list(filter(pattern_not_ipv4_nor_domain.match, dataset_X_ip_dst_host)))\n",
    "\n",
    "print()\n",
    "\n",
    "# Fill the missing `dst.host`\n",
    "#\n",
    "# Find \"no-data\" rows\n",
    "missing_dst_host_indexes = np.where(dataset_X_ip_dst_host=='no-data')[0]\n",
    "print(f\"Indexes of rows with missing 'dst.host': {missing_dst_host_indexes}\")\n",
    "\n",
    "# Fill the field with the IP address in `dst`, following the way of other rows\n",
    "for i in missing_dst_host_indexes:\n",
    "    dataset_X_ip_dst_host[i] = dataset_X_ip_dst[i]\n",
    "\n",
    "print(\"Missing 'dst.host' filled\")"
   ]
  },
  {
   "cell_type": "markdown",
   "metadata": {},
   "source": [
    "### 2.4 Bi-gram for similarity between IPs and domains"
   ]
  },
  {
   "cell_type": "code",
   "execution_count": 7,
   "metadata": {
    "tags": []
   },
   "outputs": [
    {
     "name": "stdout",
     "output_type": "stream",
     "text": [
      "(10625, 1402)\n",
      "(10625, 867)\n",
      "(10625, 1629)\n",
      "(10625, 1059)\n",
      "\n",
      "(10625, 4957)\n"
     ]
    }
   ],
   "source": [
    "# bi-gram for similar IP and hostnames\n",
    "bigram_vec = CountVectorizer(ngram_range=(2, 2), token_pattern=r\"(?u)[^.]+\")\n",
    "dataset_X_ip_src_bg = bigram_vec.fit_transform(dataset_X_ip_src).toarray()\n",
    "dataset_X_ip_src_host_bg = bigram_vec.fit_transform(dataset_X_ip_src_host).toarray()\n",
    "dataset_X_ip_dst_bg = bigram_vec.fit_transform(dataset_X_ip_dst).toarray()\n",
    "dataset_X_ip_dst_host_bg = bigram_vec.fit_transform(dataset_X_ip_dst_host).toarray()\n",
    "\n",
    "print(dataset_X_ip_src_bg.shape)\n",
    "print(dataset_X_ip_src_host_bg.shape)\n",
    "print(dataset_X_ip_dst_bg.shape)\n",
    "print(dataset_X_ip_dst_host_bg.shape)\n",
    "\n",
    "dataset_X = np.concatenate((\n",
    "    dataset_X_ip_src_bg, \n",
    "    dataset_X_ip_src_host_bg,\n",
    "    dataset_X_ip_dst_bg, \n",
    "    dataset_X_ip_dst_host_bg), axis=1)\n",
    "\n",
    "print(\"\")\n",
    "print(dataset_X.shape)\n"
   ]
  },
  {
   "cell_type": "markdown",
   "metadata": {},
   "source": [
    "### 2.5 Normalization"
   ]
  },
  {
   "cell_type": "code",
   "execution_count": 8,
   "metadata": {
    "tags": []
   },
   "outputs": [
    {
     "name": "stdout",
     "output_type": "stream",
     "text": [
      "(10625, 4957)\n"
     ]
    }
   ],
   "source": [
    "# Normalization\n",
    "dataset_X = MinMaxScaler().fit_transform(dataset_X)\n",
    "print(dataset_X.shape)"
   ]
  },
  {
   "cell_type": "markdown",
   "metadata": {},
   "source": [
    "### 2.6 Principal Component Analysis (PCA)"
   ]
  },
  {
   "cell_type": "code",
   "execution_count": 9,
   "metadata": {},
   "outputs": [],
   "source": [
    "# # PCA - check the 95% with figure\n",
    "# pca = PCA()\n",
    "# pca.fit(dataset_X)\n",
    "# pca_cumsum = np.cumsum(pca.explained_variance_ratio_)\n",
    "\n",
    "# plt.figure()\n",
    "# plt.axis([0, dataset_X.shape[1], 0, 1]) \n",
    "# plt.plot(pca_cumsum)\n",
    "# plt.axhline(y=0.95,color='red')\n",
    "# plt.xlabel(\"dimensions\")\n",
    "# plt.ylabel(\"explained variance\")\n",
    "# plt.grid(True)\n",
    "# plt.show()"
   ]
  },
  {
   "cell_type": "code",
   "execution_count": 10,
   "metadata": {
    "tags": []
   },
   "outputs": [
    {
     "name": "stdout",
     "output_type": "stream",
     "text": [
      "(10625, 650)\n"
     ]
    }
   ],
   "source": [
    "# Apply PCA for compression\n",
    "pca = PCA(n_components=0.95)\n",
    "dataset_X = pca.fit_transform(dataset_X)\n",
    "\n",
    "print(dataset_X.shape)"
   ]
  },
  {
   "cell_type": "markdown",
   "metadata": {},
   "source": [
    "### 2.7 Dataset split"
   ]
  },
  {
   "cell_type": "code",
   "execution_count": 11,
   "metadata": {
    "tags": []
   },
   "outputs": [
    {
     "name": "stdout",
     "output_type": "stream",
     "text": [
      "(7968, 650)\n",
      "(7968,)\n",
      "(2657, 650)\n",
      "(2657,)\n"
     ]
    }
   ],
   "source": [
    "# Split the dataset into training set and testing set\n",
    "train_X, test_X, train_y, test_y = train_test_split(dataset_X, dataset_y, random_state=12345)\n",
    "\n",
    "print(train_X.shape)\n",
    "print(train_y.shape)\n",
    "print(test_X.shape)\n",
    "print(test_y.shape)"
   ]
  },
  {
   "cell_type": "markdown",
   "metadata": {},
   "source": [
    "## 3. Model Training\n",
    "\n",
    "### 3.1 Logistic Regression"
   ]
  },
  {
   "cell_type": "code",
   "execution_count": 13,
   "metadata": {},
   "outputs": [
    {
     "name": "stdout",
     "output_type": "stream",
     "text": [
      "Best Parameter:  {'C': 1.0}\n",
      "Best Score:  0.8841648807006186\n"
     ]
    },
    {
     "data": {
      "image/png": "[encoded data removed]",
      "text/plain": [
       "<Figure size 640x480 with 1 Axes>"
      ]
     },
     "metadata": {},
     "output_type": "display_data"
    }
   ],
   "source": [
    "from sklearn.linear_model import LogisticRegression\n",
    "from sklearn.model_selection import GridSearchCV\n",
    "from sklearn.metrics import accuracy_score\n",
    "\n",
    "# Define the model\n",
    "model = LogisticRegression(max_iter=10000)\n",
    "\n",
    "# Define the parameter grid\n",
    "param_grid = {\n",
    "    'C': np.logspace(-3, 3, 7),\n",
    "}\n",
    "\n",
    "# Define the grid search object\n",
    "grid_search = GridSearchCV(model, param_grid, cv=5, scoring='accuracy')\n",
    "\n",
    "# Fit the grid search object to the data\n",
    "grid_search.fit(train_X, train_y)\n",
    "\n",
    "# Print the best parameter and score\n",
    "print(\"Best Parameter: \", grid_search.best_params_)\n",
    "print(\"Best Score: \", grid_search.best_score_)\n",
    "\n",
    "# Get the results for each parameter value\n",
    "param_values = []\n",
    "precision_values = []\n",
    "for i, params in enumerate(grid_search.cv_results_['params']):\n",
    "    param_values.append(params['C'])\n",
    "    precision_values.append(grid_search.cv_results_['mean_test_score'][i])\n",
    "\n",
    "# Plot the precision values for each parameter value\n",
    "plt.plot(param_values, precision_values, '-o')\n",
    "plt.xscale('log')\n",
    "plt.xlabel('C')\n",
    "plt.ylabel('Accuracy')\n",
    "plt.title('Parameter-based Precision Change')\n",
    "plt.show()"
   ]
  },
  {
   "cell_type": "markdown",
   "metadata": {},
   "source": [
    "#### evaluating the performance for lr"
   ]
  },
  {
   "cell_type": "code",
   "execution_count": 14,
   "metadata": {},
   "outputs": [
    {
     "name": "stdout",
     "output_type": "stream",
     "text": [
      "Accuracy:  0.8987579977418141\n"
     ]
    }
   ],
   "source": [
    "# Make predictions using the model with the best combination of parameters\n",
    "y_pred = grid_search.predict(test_X)\n",
    "\n",
    "# Calculate the accuracy\n",
    "accuracy = accuracy_score(test_y, y_pred)\n",
    "print(\"Accuracy: \", accuracy)"
   ]
  },
  {
   "cell_type": "markdown",
   "metadata": {},
   "source": [
    "### 3.2 Support Vector Machine (SVM)\n",
    "\n",
    "TODO"
   ]
  },
  {
   "cell_type": "code",
   "execution_count": 15,
   "metadata": {},
   "outputs": [
    {
     "name": "stdout",
     "output_type": "stream",
     "text": [
      "Accuracy on test set: 0.8965\n"
     ]
    }
   ],
   "source": [
    "#For the linear kernel (kernel_type='linear') svm\n",
    "from sklearn.svm import SVC  # Support Vector Classifier\n",
    "from sklearn.metrics import accuracy_score\n",
    "from sklearn.metrics import confusion_matrix\n",
    "from sklearn.metrics import classification_report\n",
    "SVM_linear = SVC(kernel='linear') \n",
    "SVM_linear.fit(train_X, train_y)\n",
    "predict_results=SVM_linear.predict(test_X)\n",
    "print(f\"Accuracy on test set: {accuracy_score(predict_results, test_y):.4f}\")"
   ]
  },
  {
   "cell_type": "code",
   "execution_count": 16,
   "metadata": {},
   "outputs": [
    {
     "name": "stdout",
     "output_type": "stream",
     "text": [
      "Accuracy on test set: 0.8991\n"
     ]
    }
   ],
   "source": [
    "#For the radial basis function kernel (kernel_type='rbf') svm\n",
    "from sklearn.svm import SVC  # Support Vector Classifier\n",
    "SVM_rbf = SVC(kernel='rbf')  \n",
    "SVM_rbf.fit(train_X, train_y)\n",
    "print(f\"Accuracy on test set: {SVM_rbf.score(test_X, test_y):.4f}\")"
   ]
  },
  {
   "cell_type": "code",
   "execution_count": 17,
   "metadata": {},
   "outputs": [
    {
     "name": "stdout",
     "output_type": "stream",
     "text": [
      "Accuracy on test set: 0.8995\n"
     ]
    }
   ],
   "source": [
    "#For the polynomial kernel (kernel_type='poly') svm\n",
    "from sklearn.svm import SVC  # Support Vector Classifier\n",
    "SVM_poly = SVC(kernel='poly') \n",
    "SVM_poly.fit(train_X, train_y)\n",
    "print(f\"Accuracy on test set: {SVM_poly.score(test_X, test_y):.4f}\")"
   ]
  },
  {
   "cell_type": "code",
   "execution_count": 18,
   "metadata": {},
   "outputs": [
    {
     "name": "stdout",
     "output_type": "stream",
     "text": [
      "Accuracy on test set: 0.3801\n"
     ]
    }
   ],
   "source": [
    "#For the sigmoid function kernel (kernel_type='sigmoid') svm\n",
    "from sklearn.svm import SVC  # Support Vector Classifier\n",
    "SVM_sig = SVC(C=1, kernel='sigmoid', gamma=10, decision_function_shape='ovr')\n",
    "SVM_sig.fit(train_X, train_y)\n",
    "print(f\"Accuracy on test set: {SVM_sig.score(test_X, test_y):.4f}\")"
   ]
  },
  {
   "cell_type": "markdown",
   "metadata": {},
   "source": [
    "### 3.3 neural network"
   ]
  },
  {
   "cell_type": "markdown",
   "metadata": {},
   "source": [
    "Data proccess"
   ]
  },
  {
   "cell_type": "code",
   "execution_count": 19,
   "metadata": {},
   "outputs": [
    {
     "name": "stdout",
     "output_type": "stream",
     "text": [
      "(5577, 650)\n",
      "(2391, 650)\n",
      "(5577, 3)\n",
      "(2391, 3)\n"
     ]
    }
   ],
   "source": [
    "keras.backend.clear_session()\n",
    "\n",
    "temp_train_y = pd.DataFrame(train_y, columns=['country'])\n",
    "temp_train_y = pd.factorize(temp_train_y['country'], sort=True)[0]\n",
    "train_X_nn, validate_X, train_y_nn, validate_y = train_test_split(train_X, temp_train_y, random_state=114514, test_size=0.3)\n",
    "\n",
    "train_y_nn = keras.utils.to_categorical(train_y_nn, 3).astype('int32')\n",
    "validate_y = keras.utils.to_categorical(validate_y, 3).astype('int32')\n",
    "\n",
    "test_y_nn = pd.DataFrame(test_y, columns=['country'])\n",
    "test_y_nn = pd.factorize(test_y_nn['country'], sort=True)[0]\n",
    "\n",
    "print(train_X_nn.shape)\n",
    "print(validate_X.shape)\n",
    "print(train_y_nn.shape)\n",
    "print(validate_y.shape)"
   ]
  },
  {
   "cell_type": "markdown",
   "metadata": {},
   "source": [
    "Define model"
   ]
  },
  {
   "cell_type": "code",
   "execution_count": 20,
   "metadata": {},
   "outputs": [],
   "source": [
    "def build_optimizer(hp):\n",
    "    optimizer = hp.Choice('optimizer', ['adam', 'rmsprop', 'sgd'])\n",
    "    lr = hp.Float('learning_rate', min_value=1e-5, max_value=1e-4, step=1e-5)\n",
    "    if optimizer == 'adam':\n",
    "        return keras.optimizers.Adam(learning_rate=lr)\n",
    "    elif optimizer == 'rmsprop':\n",
    "        return keras.optimizers.RMSprop(learning_rate=lr)\n",
    "    else:\n",
    "        return keras.optimizers.SGD(learning_rate=lr, momentum=hp.Float('momentum', min_value=0, max_value=0.9, step=0.02))\n",
    "\n",
    "def build_model(hp):\n",
    "    model = keras.models.Sequential(keras.layers.InputLayer(input_shape=[train_X.shape[1]]))\n",
    "    model.add(keras.layers.Dense(hp.Int('neurons1', min_value=1, max_value=300, step=5),\n",
    "                                 activation=hp.Choice('actv1', ['relu', 'tanh', 'sigmoid']),\n",
    "                                 kernel_initializer='he_normal'))\n",
    "    if hp.Boolean('second_layer', True):\n",
    "        model.add(keras.layers.Dropout(hp.Float('dropout1', min_value=0, max_value=0.3, step=0.02)))\n",
    "        model.add(keras.layers.Dense(hp.Int('neurons2', min_value=1, max_value=300, step=5),\n",
    "                                     activation=hp.Choice('actv2', ['relu', 'tanh', 'sigmoid']),\n",
    "                                     kernel_initializer='he_normal'))\n",
    "    model.add(keras.layers.Dense(3, activation=\"softmax\"))\n",
    "\n",
    "    model.compile(loss='categorical_crossentropy',\n",
    "                  optimizer=build_optimizer(hp),\n",
    "                  metrics=['accuracy'])\n",
    "    return model"
   ]
  },
  {
   "cell_type": "markdown",
   "metadata": {},
   "source": [
    "Bayesion optimization"
   ]
  },
  {
   "cell_type": "code",
   "execution_count": 21,
   "metadata": {},
   "outputs": [
    {
     "name": "stdout",
     "output_type": "stream",
     "text": [
      "INFO:tensorflow:Reloading Oracle from existing project ./neural_network_optimize/oracle.json\n",
      "INFO:tensorflow:Reloading Tuner from ./neural_network_optimize/tuner0.json\n",
      "INFO:tensorflow:Oracle triggered exit\n",
      "Best hyperparameters: {'neurons1': 216, 'actv1': 'relu', 'second_layer': False, 'dropout1': 0.3, 'neurons2': 216, 'actv2': 'sigmoid', 'optimizer': 'adam', 'learning_rate': 7.000000000000001e-05, 'momentum': 0.0}\n"
     ]
    }
   ],
   "source": [
    "tuner = BayesianOptimization(\n",
    "    build_model,\n",
    "    objective='val_accuracy',\n",
    "    max_trials=10,\n",
    "    executions_per_trial=2,\n",
    "    project_name='neural_network_optimize'\n",
    ")\n",
    "\n",
    "tuner.search(x=train_X_nn, y=train_y_nn, epochs=35, validation_data=(validate_X, validate_y))\n",
    "\n",
    "best_hps = tuner.get_best_hyperparameters()[0]\n",
    "print(f'Best hyperparameters: {best_hps.values}')\n"
   ]
  },
  {
   "cell_type": "markdown",
   "metadata": {},
   "source": [
    "Model Trainning"
   ]
  },
  {
   "cell_type": "code",
   "execution_count": 22,
   "metadata": {},
   "outputs": [
    {
     "name": "stdout",
     "output_type": "stream",
     "text": [
      "Epoch 1/35\n"
     ]
    },
    {
     "name": "stderr",
     "output_type": "stream",
     "text": [
      "2023-03-23 21:20:52.279522: W tensorflow/core/platform/profile_utils/cpu_utils.cc:128] Failed to get CPU frequency: 0 Hz\n"
     ]
    },
    {
     "name": "stdout",
     "output_type": "stream",
     "text": [
      "175/175 [==============================] - 0s 1ms/step - loss: 1.0524 - accuracy: 0.5360 - val_loss: 0.9912 - val_accuracy: 0.7089\n",
      "Epoch 2/35\n",
      "175/175 [==============================] - 0s 986us/step - loss: 0.9350 - accuracy: 0.7726 - val_loss: 0.8860 - val_accuracy: 0.7951\n",
      "Epoch 3/35\n",
      "175/175 [==============================] - 0s 1ms/step - loss: 0.8320 - accuracy: 0.8105 - val_loss: 0.7908 - val_accuracy: 0.8135\n",
      "Epoch 4/35\n",
      "175/175 [==============================] - 0s 951us/step - loss: 0.7377 - accuracy: 0.8282 - val_loss: 0.7033 - val_accuracy: 0.8239\n",
      "Epoch 5/35\n",
      "175/175 [==============================] - 0s 1ms/step - loss: 0.6528 - accuracy: 0.8427 - val_loss: 0.6259 - val_accuracy: 0.8356\n",
      "Epoch 6/35\n",
      "175/175 [==============================] - 0s 2ms/step - loss: 0.5799 - accuracy: 0.8526 - val_loss: 0.5611 - val_accuracy: 0.8415\n",
      "Epoch 7/35\n",
      "175/175 [==============================] - 0s 1ms/step - loss: 0.5194 - accuracy: 0.8591 - val_loss: 0.5078 - val_accuracy: 0.8469\n",
      "Epoch 8/35\n",
      "175/175 [==============================] - 0s 1ms/step - loss: 0.4703 - accuracy: 0.8655 - val_loss: 0.4649 - val_accuracy: 0.8549\n",
      "Epoch 9/35\n",
      "175/175 [==============================] - 0s 1ms/step - loss: 0.4306 - accuracy: 0.8695 - val_loss: 0.4302 - val_accuracy: 0.8565\n",
      "Epoch 10/35\n",
      "175/175 [==============================] - 0s 1ms/step - loss: 0.3982 - accuracy: 0.8757 - val_loss: 0.4017 - val_accuracy: 0.8637\n",
      "Epoch 11/35\n",
      "175/175 [==============================] - 0s 1ms/step - loss: 0.3718 - accuracy: 0.8824 - val_loss: 0.3782 - val_accuracy: 0.8683\n",
      "Epoch 12/35\n",
      "175/175 [==============================] - 0s 1ms/step - loss: 0.3496 - accuracy: 0.8856 - val_loss: 0.3587 - val_accuracy: 0.8708\n",
      "Epoch 13/35\n",
      "175/175 [==============================] - 0s 1ms/step - loss: 0.3310 - accuracy: 0.8876 - val_loss: 0.3424 - val_accuracy: 0.8729\n",
      "Epoch 14/35\n",
      "175/175 [==============================] - 0s 924us/step - loss: 0.3155 - accuracy: 0.8895 - val_loss: 0.3281 - val_accuracy: 0.8749\n",
      "Epoch 15/35\n",
      "175/175 [==============================] - 0s 914us/step - loss: 0.3022 - accuracy: 0.8903 - val_loss: 0.3162 - val_accuracy: 0.8766\n",
      "Epoch 16/35\n",
      "175/175 [==============================] - 0s 939us/step - loss: 0.2907 - accuracy: 0.8922 - val_loss: 0.3058 - val_accuracy: 0.8783\n",
      "Epoch 17/35\n",
      "175/175 [==============================] - 0s 966us/step - loss: 0.2810 - accuracy: 0.8930 - val_loss: 0.2969 - val_accuracy: 0.8791\n",
      "Epoch 18/35\n",
      "175/175 [==============================] - 0s 938us/step - loss: 0.2726 - accuracy: 0.8935 - val_loss: 0.2892 - val_accuracy: 0.8795\n",
      "Epoch 19/35\n",
      "175/175 [==============================] - 0s 1ms/step - loss: 0.2651 - accuracy: 0.8930 - val_loss: 0.2821 - val_accuracy: 0.8795\n",
      "Epoch 20/35\n",
      "175/175 [==============================] - 0s 1ms/step - loss: 0.2589 - accuracy: 0.8956 - val_loss: 0.2765 - val_accuracy: 0.8808\n",
      "Epoch 21/35\n",
      "175/175 [==============================] - 0s 968us/step - loss: 0.2533 - accuracy: 0.8956 - val_loss: 0.2712 - val_accuracy: 0.8800\n",
      "Epoch 22/35\n",
      "175/175 [==============================] - 0s 958us/step - loss: 0.2484 - accuracy: 0.8964 - val_loss: 0.2668 - val_accuracy: 0.8800\n",
      "Epoch 23/35\n",
      "175/175 [==============================] - 0s 966us/step - loss: 0.2441 - accuracy: 0.8962 - val_loss: 0.2625 - val_accuracy: 0.8800\n",
      "Epoch 24/35\n",
      "175/175 [==============================] - 0s 1ms/step - loss: 0.2404 - accuracy: 0.8969 - val_loss: 0.2591 - val_accuracy: 0.8812\n",
      "Epoch 25/35\n",
      "175/175 [==============================] - 0s 1ms/step - loss: 0.2369 - accuracy: 0.8953 - val_loss: 0.2560 - val_accuracy: 0.8808\n",
      "Epoch 26/35\n",
      "175/175 [==============================] - 0s 926us/step - loss: 0.2339 - accuracy: 0.8967 - val_loss: 0.2530 - val_accuracy: 0.8808\n",
      "Epoch 27/35\n",
      "175/175 [==============================] - 0s 981us/step - loss: 0.2313 - accuracy: 0.8971 - val_loss: 0.2502 - val_accuracy: 0.8808\n",
      "Epoch 28/35\n",
      "175/175 [==============================] - 0s 975us/step - loss: 0.2287 - accuracy: 0.8958 - val_loss: 0.2482 - val_accuracy: 0.8812\n",
      "Epoch 29/35\n",
      "175/175 [==============================] - 0s 998us/step - loss: 0.2266 - accuracy: 0.8983 - val_loss: 0.2461 - val_accuracy: 0.8821\n",
      "Epoch 30/35\n",
      "175/175 [==============================] - 0s 976us/step - loss: 0.2246 - accuracy: 0.8982 - val_loss: 0.2439 - val_accuracy: 0.8816\n",
      "Epoch 31/35\n",
      "175/175 [==============================] - 0s 1ms/step - loss: 0.2229 - accuracy: 0.8965 - val_loss: 0.2427 - val_accuracy: 0.8837\n",
      "Epoch 32/35\n",
      "175/175 [==============================] - 0s 1ms/step - loss: 0.2212 - accuracy: 0.8983 - val_loss: 0.2409 - val_accuracy: 0.8837\n",
      "Epoch 33/35\n",
      "175/175 [==============================] - 0s 1ms/step - loss: 0.2196 - accuracy: 0.8985 - val_loss: 0.2398 - val_accuracy: 0.8837\n",
      "Epoch 34/35\n",
      "175/175 [==============================] - 0s 1000us/step - loss: 0.2182 - accuracy: 0.8976 - val_loss: 0.2388 - val_accuracy: 0.8837\n",
      "Epoch 35/35\n",
      "175/175 [==============================] - 0s 1ms/step - loss: 0.2169 - accuracy: 0.8990 - val_loss: 0.2371 - val_accuracy: 0.8829\n",
      "Model: \"sequential_1\"\n",
      "_________________________________________________________________\n",
      " Layer (type)                Output Shape              Param #   \n",
      "=================================================================\n",
      " dense_3 (Dense)             (None, 216)               140616    \n",
      "                                                                 \n",
      " dense_4 (Dense)             (None, 3)                 651       \n",
      "                                                                 \n",
      "=================================================================\n",
      "Total params: 141,267\n",
      "Trainable params: 141,267\n",
      "Non-trainable params: 0\n",
      "_________________________________________________________________\n"
     ]
    }
   ],
   "source": [
    "optimized_model = build_model(best_hps)\n",
    "history = optimized_model.fit(train_X_nn, train_y_nn, epochs=35,\n",
    "                     validation_data=(validate_X, validate_y))\n",
    "optimized_model.summary()"
   ]
  },
  {
   "cell_type": "markdown",
   "metadata": {},
   "source": [
    "Output"
   ]
  },
  {
   "cell_type": "code",
   "execution_count": 23,
   "metadata": {},
   "outputs": [
    {
     "data": {
      "image/png": "[encoded data removed]",
      "text/plain": [
       "<Figure size 800x500 with 1 Axes>"
      ]
     },
     "metadata": {},
     "output_type": "display_data"
    },
    {
     "name": "stdout",
     "output_type": "stream",
     "text": [
      "84/84 [==============================] - 0s 515us/step\n",
      "Accuracy on test set: 89.65%\n"
     ]
    }
   ],
   "source": [
    "pd.DataFrame(history.history).plot(figsize=(8, 5))\n",
    "plt.grid(True)\n",
    "plt.gca().set_ylim(0, 3)\n",
    "plt.show()\n",
    "\n",
    "y_pred = optimized_model.predict(test_X)\n",
    "prediction = np.argmax(y_pred, axis=1)\n",
    "count=0\n",
    "for i,j in zip(prediction, test_y_nn):\n",
    "  if i==j:\n",
    "    count+=1\n",
    "print(f'Accuracy on test set: {count*100/test_y_nn.shape[0]:.2f}%')"
   ]
  },
  {
   "cell_type": "markdown",
   "metadata": {},
   "source": [
    "## 4. Model Testing and Comparison\n",
    "\n",
    "TODO"
   ]
  }
 ],
 "metadata": {
  "kernelspec": {
   "display_name": "Python 3 (ipykernel)",
   "language": "python",
   "name": "python3"
  },
  "language_info": {
   "codemirror_mode": {
    "name": "ipython",
    "version": 3
   },
   "file_extension": ".py",
   "mimetype": "text/x-python",
   "name": "python",
   "nbconvert_exporter": "python",
   "pygments_lexer": "ipython3",
   "version": "3.8.11"
  }
 },
 "nbformat": 4,
 "nbformat_minor": 2
}
