{
 "cells": [
  {
   "cell_type": "markdown",
   "metadata": {},
   "source": [
    "# Classification of Network Traffic Trace Origin Country"
   ]
  },
  {
   "cell_type": "markdown",
   "metadata": {},
   "source": [
    "*The code of the group project for determining the country of origin with traffic trace.*"
   ]
  },
  {
   "cell_type": "code",
   "execution_count": 1,
   "metadata": {
    "scrolled": true
   },
   "outputs": [],
   "source": [
    "import json\n",
    "import matplotlib.pyplot as plt\n",
    "import numpy as np\n",
    "import os\n",
    "import pandas as pd\n",
    "import re\n",
    "import time\n",
    "from sklearn import metrics\n",
    "from sklearn import preprocessing\n",
    "from sklearn.decomposition import PCA\n",
    "from sklearn.feature_extraction.text import CountVectorizer\n",
    "from sklearn.linear_model import LogisticRegression\n",
    "from sklearn.model_selection import GridSearchCV\n",
    "from sklearn.model_selection import train_test_split\n",
    "from sklearn.preprocessing import LabelEncoder\n",
    "from sklearn.preprocessing import MinMaxScaler\n",
    "from sklearn.svm import SVC\n",
    "from tensorflow import keras\n",
    "from keras_tuner.tuners import BayesianOptimization\n",
    "\n",
    "# gpu acceleration, would cause an error when running without a cuda gpu\n",
    "os.environ[\"CUDA_VISIBLE_DEVICES\"]=\"0\""
   ]
  },
  {
   "cell_type": "markdown",
   "metadata": {},
   "source": [
    "Set up a time calculation method for collecting time used during running the code:"
   ]
  },
  {
   "cell_type": "code",
   "execution_count": 2,
   "metadata": {},
   "outputs": [],
   "source": [
    "# Variable for storing recorded timestamp\n",
    "timer_record = 0\n",
    "\n",
    "# Method for updating timer (setting the starting time)\n",
    "def timer_start():\n",
    "    global timer_record\n",
    "    timer_record = time.time()\n",
    "\n",
    "# Method for printing the time since last update\n",
    "#\n",
    "# the second num will be returned\n",
    "def timer_read(print_result=True, return_time=True):\n",
    "    second_passed = time.time() - timer_record\n",
    "    if print_result:\n",
    "        print(f\"{second_passed:.3}s passed\")\n",
    "    if return_time:\n",
    "        return second_passed\n",
    "    return"
   ]
  },
  {
   "cell_type": "markdown",
   "metadata": {},
   "source": [
    "## 1. Read Data from the External File\n",
    "\n",
    "Read data in external files. For convenience, the original `.pcapng` file has been converted into `.json` and `.csv` with Wireshark."
   ]
  },
  {
   "cell_type": "code",
   "execution_count": 3,
   "metadata": {
    "tags": []
   },
   "outputs": [
    {
     "name": "stdout",
     "output_type": "stream",
     "text": [
      "10625 packets read\n"
     ]
    }
   ],
   "source": [
    "# Read the JSON including all details of packets\n",
    "#   errors=\"surrogateescape\" to pass the encoding errors raised by contents in HTTP packets\n",
    "with open(\"./data/traffic.json\", \"r\", encoding=\"utf-8\", errors=\"surrogateescape\") as f:\n",
    "    dataset_json=json.load(f)\n",
    "    print(f\"{len(dataset_json)} packets read\")"
   ]
  },
  {
   "cell_type": "markdown",
   "metadata": {},
   "source": [
    "## 2. Data Preprocessing"
   ]
  },
  {
   "cell_type": "markdown",
   "metadata": {},
   "source": [
    "### 2.1 Extract dataset labels"
   ]
  },
  {
   "cell_type": "code",
   "execution_count": 4,
   "metadata": {
    "tags": []
   },
   "outputs": [
    {
     "name": "stdout",
     "output_type": "stream",
     "text": [
      "Labels include ['china' 'india' 'us']\n",
      "(10625,)\n"
     ]
    }
   ],
   "source": [
    "# Extract labels(y) from JSON\n",
    "dataset_y = np.array(list(map(\n",
    "    lambda packet_json: (packet_json[\"_source\"][\"layers\"][\"pkt_comment\"][\"frame.comment\"]).split(\",\")[1], \n",
    "    dataset_json\n",
    ")))\n",
    "\n",
    "print(f\"Labels include {np.unique(dataset_y)}\")\n",
    "print(dataset_y.shape)"
   ]
  },
  {
   "cell_type": "markdown",
   "metadata": {},
   "source": [
    "### 2.2 Extract features"
   ]
  },
  {
   "cell_type": "code",
   "execution_count": 5,
   "metadata": {
    "tags": []
   },
   "outputs": [
    {
     "name": "stdout",
     "output_type": "stream",
     "text": [
      "10.11.1.3\n",
      "10.11.1.3\n",
      "8.8.8.8\n",
      "dns.google\n"
     ]
    }
   ],
   "source": [
    "# Extract source IP, source IP host, destination IP and destination IP host from dataset\n",
    "dataset_X_ip_src = np.array(list(map(\n",
    "    lambda packet_json: packet_json[\"_source\"][\"layers\"][\"ip\"][\"ip.src\"], \n",
    "    dataset_json\n",
    ")))\n",
    "dataset_X_ip_src_host = np.array(list(map(\n",
    "    lambda packet_json: packet_json[\"_source\"][\"layers\"][\"ip\"][\"ip.src_host\"], \n",
    "    dataset_json\n",
    ")))\n",
    "dataset_X_ip_dst = np.array(list(map(\n",
    "    lambda packet_json: packet_json[\"_source\"][\"layers\"][\"ip\"][\"ip.dst\"], \n",
    "    dataset_json\n",
    ")))\n",
    "dataset_X_ip_dst_host = np.array(list(map(\n",
    "    lambda packet_json: packet_json[\"_source\"][\"layers\"][\"ip\"][\"ip.dst_host\"], \n",
    "    dataset_json\n",
    ")))\n",
    "\n",
    "# print first ones for checking\n",
    "print(dataset_X_ip_src[0])\n",
    "print(dataset_X_ip_src_host[0])\n",
    "print(dataset_X_ip_dst[0])\n",
    "print(dataset_X_ip_dst_host[0])\n"
   ]
  },
  {
   "cell_type": "markdown",
   "metadata": {},
   "source": [
    "### 2.3 Check data sanity and deal with missing fields"
   ]
  },
  {
   "cell_type": "code",
   "execution_count": 6,
   "metadata": {
    "tags": []
   },
   "outputs": [
    {
     "name": "stdout",
     "output_type": "stream",
     "text": [
      "Source/dest IP not an IPv4 address:\n",
      "[]\n",
      "[]\n",
      "Source/dest host not an IPv4 nor a domain:\n",
      "[]\n",
      "['no-data', 'no-data']\n",
      "\n",
      "Indexes of rows with missing 'dst.host': [960 964]\n",
      "Missing 'dst.host' filled\n"
     ]
    }
   ],
   "source": [
    "# Data sanity check\n",
    "pattern_not_ipv4 = re.compile(r\"(?!((\\b25[0-5]|\\b2[0-4][0-9]|\\b[01]?[0-9][0-9]?)(\\.(25[0-5]|2[0-4][0-9]|[01]?[0-9][0-9]?)){3}))\")\n",
    "pattern_not_ipv4_nor_domain = re.compile(r\"(?!((\\b25[0-5]|\\b2[0-4][0-9]|\\b[01]?[0-9][0-9]?)(\\.(25[0-5]|2[0-4][0-9]|[01]?[0-9][0-9]?)){3})|[-_0-9a-zA-Z]+\\.[-_0-9a-zA-Z]+)\")\n",
    "\n",
    "print(\"Source/dest IP not an IPv4 address:\")\n",
    "print(list(filter(pattern_not_ipv4.match, dataset_X_ip_src)))\n",
    "print(list(filter(pattern_not_ipv4.match, dataset_X_ip_dst)))\n",
    "print(\"Source/dest host not an IPv4 nor a domain:\")\n",
    "print(list(filter(pattern_not_ipv4_nor_domain.match, dataset_X_ip_src_host)))\n",
    "print(list(filter(pattern_not_ipv4_nor_domain.match, dataset_X_ip_dst_host)))\n",
    "\n",
    "print()\n",
    "\n",
    "# Fill the missing `dst.host`\n",
    "#\n",
    "# Find \"no-data\" rows\n",
    "missing_dst_host_indexes = np.where(dataset_X_ip_dst_host=='no-data')[0]\n",
    "print(f\"Indexes of rows with missing 'dst.host': {missing_dst_host_indexes}\")\n",
    "\n",
    "# Fill the field with the IP address in `dst`, following the way of other rows\n",
    "for i in missing_dst_host_indexes:\n",
    "    dataset_X_ip_dst_host[i] = dataset_X_ip_dst[i]\n",
    "\n",
    "print(\"Missing 'dst.host' filled\")"
   ]
  },
  {
   "cell_type": "markdown",
   "metadata": {},
   "source": [
    "### 2.4 Bi-gram for similarity between IPs and domains"
   ]
  },
  {
   "cell_type": "code",
   "execution_count": 7,
   "metadata": {
    "tags": []
   },
   "outputs": [
    {
     "name": "stdout",
     "output_type": "stream",
     "text": [
      "(10625, 1402)\n",
      "(10625, 867)\n",
      "(10625, 1629)\n",
      "(10625, 1059)\n",
      "\n",
      "(10625, 4957)\n"
     ]
    }
   ],
   "source": [
    "# bi-gram for similar IP and hostnames\n",
    "bigram_vec = CountVectorizer(ngram_range=(2, 2), token_pattern=r\"(?u)[^.]+\")\n",
    "dataset_X_ip_src_bg = bigram_vec.fit_transform(dataset_X_ip_src).toarray()\n",
    "dataset_X_ip_src_host_bg = bigram_vec.fit_transform(dataset_X_ip_src_host).toarray()\n",
    "dataset_X_ip_dst_bg = bigram_vec.fit_transform(dataset_X_ip_dst).toarray()\n",
    "dataset_X_ip_dst_host_bg = bigram_vec.fit_transform(dataset_X_ip_dst_host).toarray()\n",
    "\n",
    "print(dataset_X_ip_src_bg.shape)\n",
    "print(dataset_X_ip_src_host_bg.shape)\n",
    "print(dataset_X_ip_dst_bg.shape)\n",
    "print(dataset_X_ip_dst_host_bg.shape)\n",
    "\n",
    "dataset_X = np.concatenate((\n",
    "    dataset_X_ip_src_bg, \n",
    "    dataset_X_ip_src_host_bg,\n",
    "    dataset_X_ip_dst_bg, \n",
    "    dataset_X_ip_dst_host_bg), axis=1)\n",
    "\n",
    "print(\"\")\n",
    "print(dataset_X.shape)\n"
   ]
  },
  {
   "cell_type": "markdown",
   "metadata": {},
   "source": [
    "### 2.5 Normalization"
   ]
  },
  {
   "cell_type": "code",
   "execution_count": 8,
   "metadata": {
    "tags": []
   },
   "outputs": [
    {
     "name": "stdout",
     "output_type": "stream",
     "text": [
      "(10625, 4957)\n"
     ]
    }
   ],
   "source": [
    "# Normalization\n",
    "dataset_X = MinMaxScaler().fit_transform(dataset_X)\n",
    "print(dataset_X.shape)"
   ]
  },
  {
   "cell_type": "markdown",
   "metadata": {},
   "source": [
    "### 2.6 Principal Component Analysis (PCA)"
   ]
  },
  {
   "cell_type": "code",
   "execution_count": 9,
   "metadata": {},
   "outputs": [
    {
     "data": {
      "text/plain": "<Figure size 640x480 with 1 Axes>",
      "image/png": "[encoded data removed]"
     },
     "metadata": {},
     "output_type": "display_data"
    }
   ],
   "source": [
    "# PCA - check the 95% with figure\n",
    "#\n",
    "# This part is not necessary for the main process and\n",
    "# can be commented out to save time\n",
    "pca = PCA()\n",
    "pca.fit(dataset_X)\n",
    "pca_cumsum = np.cumsum(pca.explained_variance_ratio_)\n",
    "\n",
    "plt.figure()\n",
    "plt.axis([0, dataset_X.shape[1], 0, 1]) \n",
    "plt.plot(pca_cumsum)\n",
    "plt.axhline(y=0.95,color='red')\n",
    "plt.xlabel(\"dimensions\")\n",
    "plt.ylabel(\"explained variance\")\n",
    "plt.grid(True)\n",
    "plt.show()"
   ]
  },
  {
   "cell_type": "code",
   "execution_count": 10,
   "metadata": {
    "tags": []
   },
   "outputs": [
    {
     "name": "stdout",
     "output_type": "stream",
     "text": [
      "(10625, 650)\n",
      "66.7s passed\n"
     ]
    }
   ],
   "source": [
    "timer_start()\n",
    "\n",
    "# Apply PCA for compression\n",
    "pca = PCA(n_components=0.95)\n",
    "dataset_X = pca.fit_transform(dataset_X)\n",
    "\n",
    "print(dataset_X.shape)\n",
    "timer_read(return_time=False)"
   ]
  },
  {
   "cell_type": "markdown",
   "metadata": {},
   "source": [
    "### 2.7 Dataset split"
   ]
  },
  {
   "cell_type": "code",
   "execution_count": 11,
   "metadata": {
    "tags": []
   },
   "outputs": [
    {
     "name": "stdout",
     "output_type": "stream",
     "text": [
      "(7968, 650)\n",
      "(7968,)\n",
      "(2657, 650)\n",
      "(2657,)\n"
     ]
    }
   ],
   "source": [
    "# Split the dataset into training set and testing set\n",
    "#\n",
    "# `random_state` is specified for generating the same output between different runs after submitting\n",
    "train_X, test_X, train_y, test_y = train_test_split(dataset_X, dataset_y, random_state=123456)\n",
    "\n",
    "print(train_X.shape)\n",
    "print(train_y.shape)\n",
    "print(test_X.shape)\n",
    "print(test_y.shape)"
   ]
  },
  {
   "cell_type": "markdown",
   "metadata": {},
   "source": [
    "## 3. Model Training\n",
    "\n",
    "### 3.1 Logistic Regression\n",
    "\n",
    "#### 3.1.1 Parameter Tuning\n",
    "\n",
    "(This part is **not** necessary for generating the final result and can be commented out to save time)"
   ]
  },
  {
   "cell_type": "code",
   "execution_count": 12,
   "metadata": {},
   "outputs": [
    {
     "name": "stdout",
     "output_type": "stream",
     "text": [
      "Fitting 5 folds for each of 5 candidates, totalling 25 fits\n",
      "[CV 1/5] END ............................C=0.01;, score=0.826 total time=   0.1s\n",
      "[CV 2/5] END ............................C=0.01;, score=0.806 total time=   0.1s\n",
      "[CV 3/5] END ............................C=0.01;, score=0.809 total time=   0.1s\n",
      "[CV 4/5] END ............................C=0.01;, score=0.814 total time=   0.1s\n",
      "[CV 5/5] END ............................C=0.01;, score=0.790 total time=   0.1s\n",
      "[CV 1/5] END .............................C=0.1;, score=0.875 total time=   0.3s\n",
      "[CV 2/5] END .............................C=0.1;, score=0.869 total time=   0.3s\n",
      "[CV 3/5] END .............................C=0.1;, score=0.870 total time=   0.3s\n",
      "[CV 4/5] END .............................C=0.1;, score=0.883 total time=   0.3s\n",
      "[CV 5/5] END .............................C=0.1;, score=0.862 total time=   0.3s\n",
      "[CV 1/5] END .............................C=1.0;, score=0.885 total time=   0.8s\n",
      "[CV 2/5] END .............................C=1.0;, score=0.875 total time=   0.8s\n",
      "[CV 3/5] END .............................C=1.0;, score=0.889 total time=   0.9s\n",
      "[CV 4/5] END .............................C=1.0;, score=0.890 total time=   0.7s\n",
      "[CV 5/5] END .............................C=1.0;, score=0.881 total time=   0.9s\n",
      "[CV 1/5] END ............................C=10.0;, score=0.886 total time=   2.5s\n",
      "[CV 2/5] END ............................C=10.0;, score=0.875 total time=   2.5s\n",
      "[CV 3/5] END ............................C=10.0;, score=0.883 total time=   2.1s\n",
      "[CV 4/5] END ............................C=10.0;, score=0.890 total time=   2.1s\n",
      "[CV 5/5] END ............................C=10.0;, score=0.886 total time=   2.2s\n",
      "[CV 1/5] END ...........................C=100.0;, score=0.890 total time=   7.0s\n",
      "[CV 2/5] END ...........................C=100.0;, score=0.878 total time=   6.6s\n",
      "[CV 3/5] END ...........................C=100.0;, score=0.884 total time=   6.2s\n",
      "[CV 4/5] END ...........................C=100.0;, score=0.891 total time=   6.7s\n",
      "[CV 5/5] END ...........................C=100.0;, score=0.888 total time=   5.9s\n",
      "Best Parameter:     {'C': 100.0}\n",
      "Score of the best:  0.8859194988110625\n"
     ]
    }
   ],
   "source": [
    "# Define the model\n",
    "lr = LogisticRegression(max_iter=10000)\n",
    "\n",
    "# Search for the best C value using grid search CV\n",
    "lr_param_grid = {\n",
    "    'C': np.logspace(-2, 2, 5),\n",
    "}\n",
    "lr_grid_search = GridSearchCV(lr, lr_param_grid, cv=5, scoring='accuracy', verbose=4)\n",
    "lr_grid_search.fit(train_X, train_y)\n",
    "\n",
    "# Print the best parameter and score\n",
    "print(\"Best Parameter:    \", lr_grid_search.best_params_)\n",
    "print(\"Score of the best: \", lr_grid_search.best_score_)"
   ]
  },
  {
   "cell_type": "code",
   "execution_count": 13,
   "metadata": {},
   "outputs": [
    {
     "data": {
      "text/plain": "<Figure size 640x480 with 1 Axes>",
      "image/png": "[encoded data removed]"
     },
     "metadata": {},
     "output_type": "display_data"
    }
   ],
   "source": [
    "# Print the scores of all tested potential params\n",
    "lr_grid_param_values = []\n",
    "lr_grid_precision_values = []\n",
    "for i, params in enumerate(lr_grid_search.cv_results_['params']):\n",
    "    lr_grid_param_values.append(params['C'])\n",
    "    lr_grid_precision_values.append(lr_grid_search.cv_results_['mean_test_score'][i])\n",
    "\n",
    "# Plot the precision values for each parameter value\n",
    "plt.bar(range(len(lr_grid_precision_values)), lr_grid_precision_values, tick_label=lr_grid_param_values)\n",
    "plt.xlabel('C')\n",
    "plt.ylabel('Accuracy')\n",
    "plt.ylim([0.8, 0.9])\n",
    "plt.title('Grid search result: accuracy for different C values')\n",
    "plt.show()"
   ]
  },
  {
   "cell_type": "markdown",
   "metadata": {},
   "source": [
    "Based on the bar chart, scores for 1, 10 and 100 are close to each other with few differences. `C=1` is chosen with its high performance and the lowest time consumption between the three values, who is also the default value and a frequently used one in common practice,"
   ]
  },
  {
   "cell_type": "markdown",
   "metadata": {},
   "source": [
    "#### 3.1.2 Model Training"
   ]
  },
  {
   "cell_type": "code",
   "execution_count": 14,
   "metadata": {},
   "outputs": [
    {
     "name": "stdout",
     "output_type": "stream",
     "text": [
      "1.3s passed\n"
     ]
    }
   ],
   "source": [
    "timer_start()\n",
    "\n",
    "lr = LogisticRegression(C=1.0, max_iter=1000)\n",
    "lr.fit(train_X, train_y)\n",
    "\n",
    "lr_train_time = timer_read()"
   ]
  },
  {
   "cell_type": "markdown",
   "metadata": {},
   "source": [
    "### 3.2 Support Vector Machine (SVM)\n",
    "\n",
    "#### 3.2.1 Parameter Tuning\n",
    "\n",
    "(This part is **not** necessary for generating the final result and can be commented out to save time)"
   ]
  },
  {
   "cell_type": "code",
   "execution_count": 15,
   "metadata": {},
   "outputs": [
    {
     "name": "stdout",
     "output_type": "stream",
     "text": [
      "Fitting 5 folds for each of 15 candidates, totalling 75 fits\n",
      "[CV 1/5] END .............C=0.01, kernel=linear;, score=0.796 total time=  10.0s\n",
      "[CV 2/5] END .............C=0.01, kernel=linear;, score=0.763 total time=   9.5s\n",
      "[CV 3/5] END .............C=0.01, kernel=linear;, score=0.784 total time=   9.5s\n",
      "[CV 4/5] END .............C=0.01, kernel=linear;, score=0.789 total time=   9.2s\n",
      "[CV 5/5] END .............C=0.01, kernel=linear;, score=0.753 total time=   8.3s\n",
      "[CV 1/5] END ................C=0.01, kernel=rbf;, score=0.713 total time=  19.1s\n",
      "[CV 2/5] END ................C=0.01, kernel=rbf;, score=0.691 total time=  20.9s\n",
      "[CV 3/5] END ................C=0.01, kernel=rbf;, score=0.705 total time=  20.3s\n",
      "[CV 4/5] END ................C=0.01, kernel=rbf;, score=0.716 total time=  19.7s\n",
      "[CV 5/5] END ................C=0.01, kernel=rbf;, score=0.689 total time=  18.9s\n",
      "[CV 1/5] END ............C=0.01, kernel=sigmoid;, score=0.738 total time=  17.4s\n",
      "[CV 2/5] END ............C=0.01, kernel=sigmoid;, score=0.714 total time=  17.2s\n",
      "[CV 3/5] END ............C=0.01, kernel=sigmoid;, score=0.729 total time=  19.1s\n",
      "[CV 4/5] END ............C=0.01, kernel=sigmoid;, score=0.736 total time=  22.3s\n",
      "[CV 5/5] END ............C=0.01, kernel=sigmoid;, score=0.709 total time=  18.8s\n",
      "[CV 1/5] END ..............C=0.1, kernel=linear;, score=0.892 total time=   6.7s\n",
      "[CV 2/5] END ..............C=0.1, kernel=linear;, score=0.867 total time=   5.8s\n",
      "[CV 3/5] END ..............C=0.1, kernel=linear;, score=0.883 total time=   5.2s\n",
      "[CV 4/5] END ..............C=0.1, kernel=linear;, score=0.884 total time=   6.0s\n",
      "[CV 5/5] END ..............C=0.1, kernel=linear;, score=0.867 total time=   5.8s\n",
      "[CV 1/5] END .................C=0.1, kernel=rbf;, score=0.814 total time=  12.2s\n",
      "[CV 2/5] END .................C=0.1, kernel=rbf;, score=0.783 total time=  12.1s\n",
      "[CV 3/5] END .................C=0.1, kernel=rbf;, score=0.790 total time=  12.9s\n",
      "[CV 4/5] END .................C=0.1, kernel=rbf;, score=0.805 total time=  12.3s\n",
      "[CV 5/5] END .................C=0.1, kernel=rbf;, score=0.779 total time=  11.7s\n",
      "[CV 1/5] END .............C=0.1, kernel=sigmoid;, score=0.789 total time=  10.2s\n",
      "[CV 2/5] END .............C=0.1, kernel=sigmoid;, score=0.756 total time=   9.3s\n",
      "[CV 3/5] END .............C=0.1, kernel=sigmoid;, score=0.775 total time=  10.0s\n",
      "[CV 4/5] END .............C=0.1, kernel=sigmoid;, score=0.782 total time=  10.1s\n",
      "[CV 5/5] END .............C=0.1, kernel=sigmoid;, score=0.738 total time=   9.9s\n",
      "[CV 1/5] END ..............C=1.0, kernel=linear;, score=0.883 total time=   4.8s\n",
      "[CV 2/5] END ..............C=1.0, kernel=linear;, score=0.870 total time=   4.3s\n",
      "[CV 3/5] END ..............C=1.0, kernel=linear;, score=0.876 total time=   4.1s\n",
      "[CV 4/5] END ..............C=1.0, kernel=linear;, score=0.890 total time=   4.7s\n",
      "[CV 5/5] END ..............C=1.0, kernel=linear;, score=0.882 total time=   4.4s\n",
      "[CV 1/5] END .................C=1.0, kernel=rbf;, score=0.882 total time=   6.9s\n",
      "[CV 2/5] END .................C=1.0, kernel=rbf;, score=0.877 total time=   6.4s\n",
      "[CV 3/5] END .................C=1.0, kernel=rbf;, score=0.888 total time=   6.6s\n",
      "[CV 4/5] END .................C=1.0, kernel=rbf;, score=0.888 total time=   7.3s\n",
      "[CV 5/5] END .................C=1.0, kernel=rbf;, score=0.881 total time=   6.6s\n",
      "[CV 1/5] END .............C=1.0, kernel=sigmoid;, score=0.839 total time=   7.6s\n",
      "[CV 2/5] END .............C=1.0, kernel=sigmoid;, score=0.837 total time=   6.8s\n",
      "[CV 3/5] END .............C=1.0, kernel=sigmoid;, score=0.820 total time=   6.8s\n",
      "[CV 4/5] END .............C=1.0, kernel=sigmoid;, score=0.860 total time=   7.0s\n",
      "[CV 5/5] END .............C=1.0, kernel=sigmoid;, score=0.820 total time=   6.1s\n",
      "[CV 1/5] END .............C=10.0, kernel=linear;, score=0.888 total time=   4.2s\n",
      "[CV 2/5] END .............C=10.0, kernel=linear;, score=0.869 total time=   4.7s\n",
      "[CV 3/5] END .............C=10.0, kernel=linear;, score=0.875 total time=   4.5s\n",
      "[CV 4/5] END .............C=10.0, kernel=linear;, score=0.888 total time=   4.9s\n",
      "[CV 5/5] END .............C=10.0, kernel=linear;, score=0.881 total time=   4.3s\n",
      "[CV 1/5] END ................C=10.0, kernel=rbf;, score=0.888 total time=   5.6s\n",
      "[CV 2/5] END ................C=10.0, kernel=rbf;, score=0.880 total time=   5.5s\n",
      "[CV 3/5] END ................C=10.0, kernel=rbf;, score=0.891 total time=   5.5s\n",
      "[CV 4/5] END ................C=10.0, kernel=rbf;, score=0.890 total time=   5.4s\n",
      "[CV 5/5] END ................C=10.0, kernel=rbf;, score=0.884 total time=   5.3s\n",
      "[CV 1/5] END ............C=10.0, kernel=sigmoid;, score=0.852 total time=   5.1s\n",
      "[CV 2/5] END ............C=10.0, kernel=sigmoid;, score=0.843 total time=   4.2s\n",
      "[CV 3/5] END ............C=10.0, kernel=sigmoid;, score=0.828 total time=   4.3s\n",
      "[CV 4/5] END ............C=10.0, kernel=sigmoid;, score=0.873 total time=   4.3s\n",
      "[CV 5/5] END ............C=10.0, kernel=sigmoid;, score=0.830 total time=   4.4s\n",
      "[CV 1/5] END ............C=100.0, kernel=linear;, score=0.887 total time=   5.5s\n",
      "[CV 2/5] END ............C=100.0, kernel=linear;, score=0.865 total time=   5.5s\n",
      "[CV 3/5] END ............C=100.0, kernel=linear;, score=0.870 total time=   6.4s\n",
      "[CV 4/5] END ............C=100.0, kernel=linear;, score=0.890 total time=   6.3s\n",
      "[CV 5/5] END ............C=100.0, kernel=linear;, score=0.881 total time=   5.6s\n",
      "[CV 1/5] END ...............C=100.0, kernel=rbf;, score=0.888 total time=   5.5s\n",
      "[CV 2/5] END ...............C=100.0, kernel=rbf;, score=0.876 total time=   5.7s\n",
      "[CV 3/5] END ...............C=100.0, kernel=rbf;, score=0.893 total time=   6.6s\n",
      "[CV 4/5] END ...............C=100.0, kernel=rbf;, score=0.893 total time=   5.8s\n",
      "[CV 5/5] END ...............C=100.0, kernel=rbf;, score=0.888 total time=   5.7s\n",
      "[CV 1/5] END ...........C=100.0, kernel=sigmoid;, score=0.842 total time=   4.4s\n",
      "[CV 2/5] END ...........C=100.0, kernel=sigmoid;, score=0.827 total time=   4.5s\n",
      "[CV 3/5] END ...........C=100.0, kernel=sigmoid;, score=0.844 total time=   4.4s\n",
      "[CV 4/5] END ...........C=100.0, kernel=sigmoid;, score=0.864 total time=   4.5s\n",
      "[CV 5/5] END ...........C=100.0, kernel=sigmoid;, score=0.826 total time=   4.4s\n",
      "Best Parameter:     {'C': 100.0, 'kernel': 'rbf'}\n",
      "Score of the best:  0.8874253812751995\n"
     ]
    }
   ],
   "source": [
    "# Grid_search for SVM\n",
    "svm = SVC()\n",
    "svm_param_grid = {\n",
    "    'C': np.logspace(-2, 2, 5),\n",
    "    'kernel':['linear','rbf','sigmoid']\n",
    "}\n",
    "\n",
    "svm_grid_search = GridSearchCV(svm, svm_param_grid, cv=5, scoring='accuracy', verbose=4)\n",
    "svm_grid_search.fit(train_X, train_y)\n",
    "\n",
    "# Print the best parameter and score\n",
    "print(\"Best Parameter:    \", svm_grid_search.best_params_)\n",
    "print(\"Score of the best: \", svm_grid_search.best_score_)"
   ]
  },
  {
   "cell_type": "code",
   "execution_count": 16,
   "metadata": {
    "scrolled": false
   },
   "outputs": [
    {
     "data": {
      "text/plain": "<Figure size 640x480 with 1 Axes>",
      "image/png": "[encoded data removed]"
     },
     "metadata": {},
     "output_type": "display_data"
    }
   ],
   "source": [
    "svm_grid_results = []\n",
    "for i, params in enumerate(svm_grid_search.cv_results_['params']):\n",
    "    svm_grid_results.append({\n",
    "        \"param\": f\"{params['kernel']}, {params['C']}\",\n",
    "        \"score\": svm_grid_search.cv_results_['mean_test_score'][i]\n",
    "    })\n",
    "\n",
    "# Sort the results by params\n",
    "svm_grid_results = sorted(svm_grid_results, key=lambda a:a[\"param\"])\n",
    "\n",
    "\n",
    "# Plot the accuracy values for each parameter value\n",
    "svm_grid_param_values = []\n",
    "svm_grid_accuracy_values = []\n",
    "for r in svm_grid_results:\n",
    "    svm_grid_param_values.append(r[\"param\"])\n",
    "    svm_grid_accuracy_values.append(r[\"score\"])\n",
    "\n",
    "plt.bar(range(len(svm_grid_param_values)), svm_grid_accuracy_values, tick_label=svm_grid_param_values)\n",
    "plt.xlabel('kernel & C combination')\n",
    "plt.xticks(rotation=90)\n",
    "plt.ylabel('Accuracy')\n",
    "plt.ylim([0.6, 0.95])\n",
    "plt.title('Grid search result: accuracy with different kernels and C')\n",
    "plt.show()"
   ]
  },
  {
   "cell_type": "markdown",
   "metadata": {},
   "source": [
    "Based on the grid search result, `C=100` and `kernel=\"rbf\"` is chosen for the SVM model with its best accuracy."
   ]
  },
  {
   "cell_type": "markdown",
   "metadata": {},
   "source": [
    "#### 3.2.2 Model Training"
   ]
  },
  {
   "cell_type": "code",
   "execution_count": 17,
   "metadata": {},
   "outputs": [
    {
     "name": "stdout",
     "output_type": "stream",
     "text": [
      "6.37s passed\n"
     ]
    }
   ],
   "source": [
    "timer_start()\n",
    "\n",
    "svm_model = SVC(kernel = 'rbf', C = 100)\n",
    "svm_model.fit(train_X, train_y)\n",
    "\n",
    "svm_train_time = timer_read()"
   ]
  },
  {
   "cell_type": "markdown",
   "metadata": {},
   "source": [
    "### 3.3 A Neural Network"
   ]
  },
  {
   "cell_type": "markdown",
   "metadata": {},
   "source": [
    "#### 3.3.1 Data Proccess\n",
    "\n",
    "A validation set is further splitted out from the original training set for the parameter tuning of the neural network."
   ]
  },
  {
   "cell_type": "code",
   "execution_count": 18,
   "metadata": {},
   "outputs": [
    {
     "name": "stdout",
     "output_type": "stream",
     "text": [
      "(5577, 650)\n",
      "(2391, 650)\n",
      "(5577, 3)\n",
      "(2391, 3)\n",
      "Index(['china', 'india', 'us'], dtype='object')\n"
     ]
    }
   ],
   "source": [
    "keras.backend.clear_session()\n",
    "\n",
    "temp_train_y = pd.DataFrame(train_y, columns=['country'])\n",
    "temp_train_y, uniques = pd.factorize(temp_train_y['country'], sort=True)\n",
    "train_X_nn, validate_X, train_y_nn, validate_y = train_test_split(train_X, temp_train_y, random_state=114514, test_size=0.3)\n",
    "\n",
    "train_y_nn = keras.utils.to_categorical(train_y_nn, 3).astype('int32')\n",
    "validate_y = keras.utils.to_categorical(validate_y, 3).astype('int32')\n",
    "\n",
    "print(train_X_nn.shape)\n",
    "print(validate_X.shape)\n",
    "print(train_y_nn.shape)\n",
    "print(validate_y.shape)\n",
    "print(uniques)"
   ]
  },
  {
   "cell_type": "markdown",
   "metadata": {},
   "source": [
    "#### 3.3.2 Model Definition"
   ]
  },
  {
   "cell_type": "code",
   "execution_count": 19,
   "metadata": {},
   "outputs": [],
   "source": [
    "def build_optimizer(hp):\n",
    "    optimizer = hp.Choice('optimizer', ['adam', 'rmsprop', 'sgd'])\n",
    "    lr = hp.Float('learning_rate', min_value=1e-5, max_value=1e-4, step=1e-5)\n",
    "    if optimizer == 'adam':\n",
    "        return keras.optimizers.Adam(learning_rate=lr)\n",
    "    elif optimizer == 'rmsprop':\n",
    "        return keras.optimizers.RMSprop(learning_rate=lr)\n",
    "    else:\n",
    "        return keras.optimizers.SGD(learning_rate=lr, momentum=hp.Float('momentum', min_value=0, max_value=0.9, step=0.02))\n",
    "\n",
    "def build_model(hp):\n",
    "    model = keras.models.Sequential(keras.layers.InputLayer(input_shape=[train_X.shape[1]]))\n",
    "    model.add(keras.layers.Dense(hp.Int('neurons1', min_value=1, max_value=300, step=5),\n",
    "                                 activation=hp.Choice('actv1', ['relu', 'tanh', 'sigmoid']),\n",
    "                                 kernel_initializer='he_normal'))\n",
    "    if hp.Boolean('second_layer', True):\n",
    "        model.add(keras.layers.Dropout(hp.Float('dropout1', min_value=0, max_value=0.3, step=0.02)))\n",
    "        model.add(keras.layers.Dense(hp.Int('neurons2', min_value=1, max_value=300, step=5),\n",
    "                                     activation=hp.Choice('actv2', ['relu', 'tanh', 'sigmoid']),\n",
    "                                     kernel_initializer='he_normal'))\n",
    "    model.add(keras.layers.Dense(3, activation=\"softmax\"))\n",
    "\n",
    "    model.compile(loss='categorical_crossentropy',\n",
    "                  optimizer=build_optimizer(hp),\n",
    "                  metrics=['accuracy'])\n",
    "    return model"
   ]
  },
  {
   "cell_type": "markdown",
   "metadata": {},
   "source": [
    "#### 3.3.3 Parameter Selection using Bayesion Optimization"
   ]
  },
  {
   "cell_type": "code",
   "execution_count": 20,
   "metadata": {},
   "outputs": [
    {
     "name": "stdout",
     "output_type": "stream",
     "text": [
      "INFO:tensorflow:Reloading Tuner from .\\neural_network_optimize\\tuner0.json\n",
      "INFO:tensorflow:Oracle triggered exit\n",
      "Best hyperparameters: {'neurons1': 281, 'actv1': 'relu', 'second_layer': False, 'dropout1': 0.02, 'neurons2': 131, 'actv2': 'relu', 'optimizer': 'adam', 'learning_rate': 6e-05}\n"
     ]
    }
   ],
   "source": [
    "tuner = BayesianOptimization(\n",
    "    build_model,\n",
    "    objective='val_accuracy',\n",
    "    max_trials=10,\n",
    "    executions_per_trial=2,\n",
    "    project_name='neural_network_optimize'\n",
    ")\n",
    "\n",
    "tuner.search(x=train_X_nn, y=train_y_nn, epochs=35, validation_data=(validate_X, validate_y))\n",
    "\n",
    "best_hps = tuner.get_best_hyperparameters()[0]\n",
    "print(f'Best hyperparameters: {best_hps.values}')"
   ]
  },
  {
   "cell_type": "markdown",
   "metadata": {},
   "source": [
    "#### 3.3.4 Model Trainning"
   ]
  },
  {
   "cell_type": "code",
   "execution_count": 21,
   "metadata": {},
   "outputs": [
    {
     "name": "stdout",
     "output_type": "stream",
     "text": [
      "Epoch 1/35\n",
      "175/175 [==============================] - 2s 4ms/step - loss: 1.0723 - accuracy: 0.4246 - val_loss: 1.0120 - val_accuracy: 0.5709\n",
      "Epoch 2/35\n",
      "175/175 [==============================] - 1s 3ms/step - loss: 0.9599 - accuracy: 0.7165 - val_loss: 0.9101 - val_accuracy: 0.7884\n",
      "Epoch 3/35\n",
      "175/175 [==============================] - 1s 3ms/step - loss: 0.8600 - accuracy: 0.8076 - val_loss: 0.8168 - val_accuracy: 0.8181\n",
      "Epoch 4/35\n",
      "175/175 [==============================] - 1s 3ms/step - loss: 0.7682 - accuracy: 0.8232 - val_loss: 0.7318 - val_accuracy: 0.8210\n",
      "Epoch 5/35\n",
      "175/175 [==============================] - 1s 3ms/step - loss: 0.6848 - accuracy: 0.8307 - val_loss: 0.6551 - val_accuracy: 0.8252\n",
      "Epoch 6/35\n",
      "175/175 [==============================] - 1s 3ms/step - loss: 0.6111 - accuracy: 0.8427 - val_loss: 0.5888 - val_accuracy: 0.8348\n",
      "Epoch 7/35\n",
      "175/175 [==============================] - 1s 3ms/step - loss: 0.5489 - accuracy: 0.8501 - val_loss: 0.5337 - val_accuracy: 0.8448\n",
      "Epoch 8/35\n",
      "175/175 [==============================] - 1s 3ms/step - loss: 0.4976 - accuracy: 0.8609 - val_loss: 0.4885 - val_accuracy: 0.8536\n",
      "Epoch 9/35\n",
      "175/175 [==============================] - 1s 4ms/step - loss: 0.4554 - accuracy: 0.8698 - val_loss: 0.4518 - val_accuracy: 0.8616\n",
      "Epoch 10/35\n",
      "175/175 [==============================] - 1s 4ms/step - loss: 0.4209 - accuracy: 0.8774 - val_loss: 0.4215 - val_accuracy: 0.8653\n",
      "Epoch 11/35\n",
      "175/175 [==============================] - 1s 4ms/step - loss: 0.3922 - accuracy: 0.8808 - val_loss: 0.3961 - val_accuracy: 0.8678\n",
      "Epoch 12/35\n",
      "175/175 [==============================] - 1s 3ms/step - loss: 0.3681 - accuracy: 0.8833 - val_loss: 0.3747 - val_accuracy: 0.8720\n",
      "Epoch 13/35\n",
      "175/175 [==============================] - 1s 4ms/step - loss: 0.3478 - accuracy: 0.8869 - val_loss: 0.3566 - val_accuracy: 0.8733\n",
      "Epoch 14/35\n",
      "175/175 [==============================] - 1s 3ms/step - loss: 0.3304 - accuracy: 0.8892 - val_loss: 0.3416 - val_accuracy: 0.8745\n",
      "Epoch 15/35\n",
      "175/175 [==============================] - 1s 3ms/step - loss: 0.3155 - accuracy: 0.8912 - val_loss: 0.3276 - val_accuracy: 0.8783\n",
      "Epoch 16/35\n",
      "175/175 [==============================] - 1s 3ms/step - loss: 0.3027 - accuracy: 0.8913 - val_loss: 0.3159 - val_accuracy: 0.8800\n",
      "Epoch 17/35\n",
      "175/175 [==============================] - 1s 4ms/step - loss: 0.2916 - accuracy: 0.8928 - val_loss: 0.3058 - val_accuracy: 0.8804\n",
      "Epoch 18/35\n",
      "175/175 [==============================] - 1s 3ms/step - loss: 0.2818 - accuracy: 0.8949 - val_loss: 0.2969 - val_accuracy: 0.8816\n",
      "Epoch 19/35\n",
      "175/175 [==============================] - 1s 3ms/step - loss: 0.2733 - accuracy: 0.8956 - val_loss: 0.2889 - val_accuracy: 0.8825\n",
      "Epoch 20/35\n",
      "175/175 [==============================] - 1s 3ms/step - loss: 0.2660 - accuracy: 0.8958 - val_loss: 0.2818 - val_accuracy: 0.8816\n",
      "Epoch 21/35\n",
      "175/175 [==============================] - 1s 4ms/step - loss: 0.2594 - accuracy: 0.8956 - val_loss: 0.2760 - val_accuracy: 0.8821\n",
      "Epoch 22/35\n",
      "175/175 [==============================] - 1s 3ms/step - loss: 0.2537 - accuracy: 0.8958 - val_loss: 0.2703 - val_accuracy: 0.8833\n",
      "Epoch 23/35\n",
      "175/175 [==============================] - 1s 4ms/step - loss: 0.2487 - accuracy: 0.8965 - val_loss: 0.2657 - val_accuracy: 0.8833\n",
      "Epoch 24/35\n",
      "175/175 [==============================] - 1s 3ms/step - loss: 0.2441 - accuracy: 0.8974 - val_loss: 0.2610 - val_accuracy: 0.8846\n",
      "Epoch 25/35\n",
      "175/175 [==============================] - 1s 4ms/step - loss: 0.2401 - accuracy: 0.8974 - val_loss: 0.2572 - val_accuracy: 0.8841\n",
      "Epoch 26/35\n",
      "175/175 [==============================] - 1s 4ms/step - loss: 0.2364 - accuracy: 0.8985 - val_loss: 0.2541 - val_accuracy: 0.8850\n",
      "Epoch 27/35\n",
      "175/175 [==============================] - 1s 4ms/step - loss: 0.2333 - accuracy: 0.8982 - val_loss: 0.2505 - val_accuracy: 0.8841\n",
      "Epoch 28/35\n",
      "175/175 [==============================] - 1s 3ms/step - loss: 0.2304 - accuracy: 0.8985 - val_loss: 0.2479 - val_accuracy: 0.8846\n",
      "Epoch 29/35\n",
      "175/175 [==============================] - 1s 3ms/step - loss: 0.2278 - accuracy: 0.8987 - val_loss: 0.2453 - val_accuracy: 0.8841\n",
      "Epoch 30/35\n",
      "175/175 [==============================] - 1s 3ms/step - loss: 0.2255 - accuracy: 0.8994 - val_loss: 0.2432 - val_accuracy: 0.8854\n",
      "Epoch 31/35\n",
      "175/175 [==============================] - 1s 4ms/step - loss: 0.2234 - accuracy: 0.8980 - val_loss: 0.2413 - val_accuracy: 0.8862\n",
      "Epoch 32/35\n",
      "175/175 [==============================] - 1s 3ms/step - loss: 0.2213 - accuracy: 0.8996 - val_loss: 0.2392 - val_accuracy: 0.8858\n",
      "Epoch 33/35\n",
      "175/175 [==============================] - 1s 3ms/step - loss: 0.2196 - accuracy: 0.9001 - val_loss: 0.2375 - val_accuracy: 0.8862\n",
      "Epoch 34/35\n",
      "175/175 [==============================] - 1s 3ms/step - loss: 0.2180 - accuracy: 0.8996 - val_loss: 0.2363 - val_accuracy: 0.8858\n",
      "Epoch 35/35\n",
      "175/175 [==============================] - 1s 4ms/step - loss: 0.2164 - accuracy: 0.9005 - val_loss: 0.2355 - val_accuracy: 0.8858\n",
      "Model: \"sequential\"\n",
      "_________________________________________________________________\n",
      " Layer (type)                Output Shape              Param #   \n",
      "=================================================================\n",
      " dense (Dense)               (None, 281)               182931    \n",
      "                                                                 \n",
      " dense_1 (Dense)             (None, 3)                 846       \n",
      "                                                                 \n",
      "=================================================================\n",
      "Total params: 183,777\n",
      "Trainable params: 183,777\n",
      "Non-trainable params: 0\n",
      "_________________________________________________________________\n",
      "24.7s passed\n"
     ]
    }
   ],
   "source": [
    "timer_start()\n",
    "\n",
    "optimized_model = build_model(best_hps)\n",
    "history = optimized_model.fit(train_X_nn, train_y_nn, epochs=35,\n",
    "                     validation_data=(validate_X, validate_y))\n",
    "optimized_model.summary()\n",
    "\n",
    "nn_train_time = timer_read()"
   ]
  },
  {
   "cell_type": "markdown",
   "metadata": {},
   "source": [
    "#### 3.3.5 Output of Model Training History"
   ]
  },
  {
   "cell_type": "code",
   "execution_count": 22,
   "metadata": {},
   "outputs": [
    {
     "data": {
      "text/plain": "<Figure size 800x500 with 1 Axes>",
      "image/png": "[encoded data removed]"
     },
     "metadata": {},
     "output_type": "display_data"
    }
   ],
   "source": [
    "pd.DataFrame(history.history).plot(figsize=(8, 5))\n",
    "plt.grid(True)\n",
    "plt.gca().set_ylim(0, 3)\n",
    "plt.show()"
   ]
  },
  {
   "cell_type": "markdown",
   "metadata": {},
   "source": [
    "## 4. Model Testing and Comparison"
   ]
  },
  {
   "cell_type": "markdown",
   "metadata": {},
   "source": [
    "### 4.1 Test Results"
   ]
  },
  {
   "cell_type": "markdown",
   "metadata": {},
   "source": [
    "#### 4.1.1 Logistic Regression"
   ]
  },
  {
   "cell_type": "code",
   "execution_count": 23,
   "metadata": {},
   "outputs": [
    {
     "name": "stdout",
     "output_type": "stream",
     "text": [
      "0.00401s passed\n"
     ]
    }
   ],
   "source": [
    "# Make prediction on the test set\n",
    "timer_start()\n",
    "\n",
    "lr_y_pred = lr.predict(test_X)\n",
    "\n",
    "lr_test_time = timer_read()"
   ]
  },
  {
   "cell_type": "code",
   "execution_count": 24,
   "metadata": {},
   "outputs": [
    {
     "name": "stdout",
     "output_type": "stream",
     "text": [
      "              precision    recall  f1-score   support\n",
      "\n",
      "       china       0.99      0.90      0.94       783\n",
      "       india       0.80      0.99      0.88      1021\n",
      "          us       0.97      0.77      0.86       853\n",
      "\n",
      "    accuracy                           0.89      2657\n",
      "   macro avg       0.92      0.89      0.89      2657\n",
      "weighted avg       0.91      0.89      0.89      2657\n",
      "\n",
      "\n",
      "{'f1_score': 0.8943782402425424, 'recall': 0.8862786634498686, 'precision': 0.9177243469954429, 'accuracy': 0.8923598042905533, 'by_label': {'labels': array(['china', 'india', 'us'], dtype='<U5'), 'f1_score': array([0.94109772, 0.882662  , 0.859375  ]), 'recall': array([0.89782886, 0.98726738, 0.77373974]), 'precision': array([0.98874824, 0.79809976, 0.96632504])}}\n"
     ]
    }
   ],
   "source": [
    "# Generate and save evaluation results\n",
    "\n",
    "# Variable for storing the evaluation of logistic regression\n",
    "lr_results={}\n",
    "\n",
    "lr_results[\"f1_score\"] = metrics.f1_score(test_y, lr_y_pred, average='macro')\n",
    "lr_results[\"recall\"] = metrics.recall_score(test_y, lr_y_pred, average='macro')\n",
    "lr_results[\"precision\"] = metrics.precision_score(test_y, lr_y_pred, average='macro')\n",
    "lr_results[\"accuracy\"] = metrics.accuracy_score(test_y, lr_y_pred)\n",
    "\n",
    "lr_results[\"by_label\"] = {}\n",
    "lr_results[\"by_label\"][\"labels\"] = np.sort(np.unique(dataset_y))  # for metric functions, all labels are used in sorted order\n",
    "lr_results[\"by_label\"][\"f1_score\"] = metrics.f1_score(test_y, lr_y_pred, average=None)\n",
    "lr_results[\"by_label\"][\"recall\"] = metrics.recall_score(test_y, lr_y_pred, average=None)\n",
    "lr_results[\"by_label\"][\"precision\"] = metrics.precision_score(test_y, lr_y_pred, average=None)\n",
    "\n",
    "# Print formatted classification report\n",
    "print(metrics.classification_report(test_y, lr_y_pred))\n",
    "\n",
    "# Check the result dict\n",
    "print()\n",
    "print(lr_results)"
   ]
  },
  {
   "cell_type": "markdown",
   "metadata": {},
   "source": [
    "#### 4.1.2 Support Vector Machine (SVM)"
   ]
  },
  {
   "cell_type": "code",
   "execution_count": 25,
   "metadata": {},
   "outputs": [
    {
     "name": "stdout",
     "output_type": "stream",
     "text": [
      "2.85s passed\n"
     ]
    }
   ],
   "source": [
    "# Make prediction\n",
    "timer_start()\n",
    "\n",
    "svm_y_pred = svm_model.predict(test_X)\n",
    "\n",
    "svm_test_time = timer_read()"
   ]
  },
  {
   "cell_type": "code",
   "execution_count": 26,
   "metadata": {},
   "outputs": [
    {
     "name": "stdout",
     "output_type": "stream",
     "text": [
      "              precision    recall  f1-score   support\n",
      "\n",
      "       china       0.99      0.90      0.94       783\n",
      "       india       0.80      0.99      0.89      1021\n",
      "          us       0.97      0.78      0.87       853\n",
      "\n",
      "    accuracy                           0.90      2657\n",
      "   macro avg       0.92      0.89      0.90      2657\n",
      "weighted avg       0.91      0.90      0.90      2657\n",
      "\n",
      "{'f1_score': 0.8975676028201737, 'recall': 0.8893399894076407, 'precision': 0.9213144035345174, 'accuracy': 0.8957470831765149, 'by_label': {'labels': array(['china', 'india', 'us'], dtype='<U5'), 'f1_score': array([0.93967828, 0.88713911, 0.86588542]), 'recall': array([0.89527458, 0.99314398, 0.77960141]), 'precision': array([0.9887165 , 0.80158103, 0.97364568])}}\n"
     ]
    }
   ],
   "source": [
    "# Evaluate the prediction\n",
    "svm_results={}\n",
    "\n",
    "svm_results[\"f1_score\"] = metrics.f1_score(test_y, svm_y_pred, average='macro')\n",
    "svm_results[\"recall\"] = metrics.recall_score(test_y, svm_y_pred, average='macro')\n",
    "svm_results[\"precision\"] = metrics.precision_score(test_y, svm_y_pred, average='macro')\n",
    "svm_results[\"accuracy\"] = metrics.accuracy_score(test_y, svm_y_pred)\n",
    "\n",
    "svm_results[\"by_label\"] = {}\n",
    "svm_results[\"by_label\"][\"labels\"] = np.sort(np.unique(dataset_y))\n",
    "svm_results[\"by_label\"][\"f1_score\"] = metrics.f1_score(test_y, svm_y_pred, average=None)\n",
    "svm_results[\"by_label\"][\"recall\"] = metrics.recall_score(test_y, svm_y_pred, average=None)\n",
    "svm_results[\"by_label\"][\"precision\"] = metrics.precision_score(test_y, svm_y_pred, average=None)\n",
    "\n",
    "# Print formatted classification report\n",
    "print(metrics.classification_report(test_y, svm_y_pred))\n",
    "\n",
    "# Check the result dict\n",
    "print(svm_results)"
   ]
  },
  {
   "cell_type": "markdown",
   "metadata": {},
   "source": [
    "#### 4.1.3 The Neural Network"
   ]
  },
  {
   "cell_type": "code",
   "execution_count": 27,
   "metadata": {},
   "outputs": [
    {
     "name": "stdout",
     "output_type": "stream",
     "text": [
      "84/84 [==============================] - 0s 2ms/step\n",
      "['1' '1' '1' ... '2' '0' '2']\n",
      "0.31s passed\n"
     ]
    },
    {
     "data": {
      "text/plain": "array(['india', 'india', 'india', ..., 'us', 'china', 'us'], dtype='<U21')"
     },
     "execution_count": 27,
     "metadata": {},
     "output_type": "execute_result"
    }
   ],
   "source": [
    "timer_start()\n",
    "\n",
    "# Test on the test set\n",
    "nn_y_pred = optimized_model.predict(test_X)\n",
    "nn_y_pred = np.argmax(nn_y_pred, axis=1)\n",
    "nn_y_pred = nn_y_pred.astype(np.unicode_)\n",
    "print(nn_y_pred)\n",
    "\n",
    "for i in range(len(uniques)):\n",
    "    n1 = str(i)\n",
    "    n2 = uniques[i]\n",
    "    index = (nn_y_pred == n1)\n",
    "    nn_y_pred[index] = n2\n",
    "\n",
    "nn_test_time = timer_read()\n",
    "\n",
    "nn_y_pred"
   ]
  },
  {
   "cell_type": "code",
   "execution_count": 28,
   "metadata": {},
   "outputs": [
    {
     "name": "stdout",
     "output_type": "stream",
     "text": [
      "              precision    recall  f1-score   support\n",
      "\n",
      "       china       0.99      0.90      0.94       783\n",
      "       india       0.79      0.99      0.88      1021\n",
      "          us       0.98      0.77      0.86       853\n",
      "\n",
      "    accuracy                           0.89      2657\n",
      "   macro avg       0.92      0.89      0.89      2657\n",
      "weighted avg       0.91      0.89      0.89      2657\n",
      "\n",
      "{'f1_score': 0.8945443533104637, 'recall': 0.8862898044619761, 'precision': 0.919677933388931, 'accuracy': 0.8923598042905533, 'by_label': {'labels': array(['china', 'india', 'us'], dtype='<U5'), 'f1_score': array([0.94329553, 0.880942  , 0.85939553]), 'recall': array([0.90293742, 0.98922625, 0.76670574]), 'precision': array([0.98743017, 0.79402516, 0.97757848])}}\n"
     ]
    }
   ],
   "source": [
    "# Evaluate the result\n",
    "nn_results={}\n",
    "\n",
    "nn_results[\"f1_score\"] = metrics.f1_score(test_y, nn_y_pred, average='macro')\n",
    "nn_results[\"recall\"] = metrics.recall_score(test_y, nn_y_pred, average='macro')\n",
    "nn_results[\"precision\"] = metrics.precision_score(test_y, nn_y_pred, average='macro')\n",
    "nn_results[\"accuracy\"] = metrics.accuracy_score(test_y, nn_y_pred)\n",
    "\n",
    "nn_results[\"by_label\"] = {}\n",
    "nn_results[\"by_label\"][\"labels\"] = np.sort(np.unique(dataset_y))\n",
    "nn_results[\"by_label\"][\"f1_score\"] = metrics.f1_score(test_y, nn_y_pred, average=None)\n",
    "nn_results[\"by_label\"][\"recall\"] = metrics.recall_score(test_y, nn_y_pred, average=None)\n",
    "nn_results[\"by_label\"][\"precision\"] = metrics.precision_score(test_y, nn_y_pred, average=None)\n",
    "\n",
    "print(metrics.classification_report(test_y, nn_y_pred))\n",
    "print(nn_results)"
   ]
  },
  {
   "cell_type": "code",
   "execution_count": 29,
   "metadata": {},
   "outputs": [],
   "source": [
    "###################################\n",
    "# TODO Comparsion testing used    #\n",
    "# REMOVE IT                       #\n",
    "###################################\n",
    "# nn_results = {\n",
    "#     'f1_score': 0.9007197889398685, \n",
    "#     'recall': 0.893005095965005, \n",
    "#     'precision': 0.9225999568649534, \n",
    "#     'accuracy': 0.8980052691004893, \n",
    "#     'by_label': {\n",
    "#         'labels': np.array(['china', 'india', 'us']), \n",
    "#         'f1_score': np.array([0.94291471, 0.88456435, 0.87468031]), \n",
    "#         'recall': np.array([0.90115533, 0.98619329, 0.79166667]), \n",
    "#         'precision': np.array([0.98873239, 0.80192462, 0.97714286])\n",
    "#     }\n",
    "# }\n",
    "# nn_train_time = 0\n",
    "# nn_test_time = 0.248\n",
    "# print(\"MOCK NN RESULT USED\")"
   ]
  },
  {
   "cell_type": "markdown",
   "metadata": {},
   "source": [
    "### 4.2 Result Comparison\n",
    "\n",
    "#### 4.2.1 Overall Results\n",
    "\n",
    "##### (a) time consumption"
   ]
  },
  {
   "cell_type": "code",
   "execution_count": 30,
   "metadata": {},
   "outputs": [
    {
     "name": "stdout",
     "output_type": "stream",
     "text": [
      "Time consumption (second)\n",
      "\n",
      "                Training  Testing\n",
      "Logistic Reg        1.30     0.00\n",
      "SVM                 6.37     2.85\n",
      "Neural Network     24.65     0.31\n"
     ]
    }
   ],
   "source": [
    "time_stat = pd.DataFrame({\n",
    "    \"Training\": [\n",
    "        lr_train_time,\n",
    "        svm_train_time,\n",
    "        nn_train_time\n",
    "    ],\n",
    "    \"Testing\": [\n",
    "        lr_test_time,\n",
    "        svm_test_time,\n",
    "        nn_test_time\n",
    "    ]\n",
    "}, index=[\"Logistic Reg\", \"SVM\", \"Neural Network\"])\n",
    "\n",
    "pd.options.display.float_format = '{:.2f}'.format\n",
    "\n",
    "print(\"Time consumption (second)\")\n",
    "print()\n",
    "print(time_stat)"
   ]
  },
  {
   "cell_type": "markdown",
   "metadata": {},
   "source": [
    "##### (b) accuracy"
   ]
  },
  {
   "cell_type": "code",
   "execution_count": 31,
   "metadata": {},
   "outputs": [
    {
     "data": {
      "text/plain": "<Figure size 300x600 with 1 Axes>",
      "image/png": "[encoded data removed]"
     },
     "metadata": {},
     "output_type": "display_data"
    }
   ],
   "source": [
    "# Print the accuracy comparsion\n",
    "plt.figure(figsize=(3, 6))\n",
    "plt.bar_label(\n",
    "    plt.bar(\n",
    "        range(3), \n",
    "        [lr_results[\"accuracy\"] * 100, svm_results[\"accuracy\"] * 100, nn_results[\"accuracy\"] * 100], \n",
    "        tick_label=[\"Logistic Reg\", \"SVM\", \"Neural Network\"]\n",
    "    ),\n",
    "    fmt=\"%.2f\"\n",
    ")\n",
    "plt.xlabel('Model')\n",
    "plt.xticks(rotation=90)\n",
    "plt.ylabel('Accuracy (%)')\n",
    "plt.ylim([85, 92])\n",
    "plt.title('Accuracy with different models')\n",
    "plt.show()"
   ]
  },
  {
   "cell_type": "markdown",
   "metadata": {},
   "source": [
    "##### (c) precision, recall and F1 score"
   ]
  },
  {
   "cell_type": "code",
   "execution_count": 32,
   "metadata": {},
   "outputs": [
    {
     "name": "stderr",
     "output_type": "stream",
     "text": [
      "C:\\Users\\EricTan\\AppData\\Local\\Temp\\ipykernel_33284\\2451151969.py:5: MatplotlibDeprecationWarning: Auto-removal of overlapping axes is deprecated since 3.6 and will be removed two minor releases later; explicitly call ax.remove() as needed.\n",
      "  plt.subplot(1, 3, 1)\n"
     ]
    },
    {
     "data": {
      "text/plain": "(0.85, 0.95)"
     },
     "execution_count": 32,
     "metadata": {},
     "output_type": "execute_result"
    },
    {
     "data": {
      "text/plain": "<Figure size 900x400 with 3 Axes>",
      "image/png": "[encoded data removed]"
     },
     "metadata": {},
     "output_type": "display_data"
    }
   ],
   "source": [
    "# Print the comparsion with other measures\n",
    "plt.subplots(figsize=(9, 4))\n",
    "plt.subplots_adjust(right=1)\n",
    "\n",
    "plt.subplot(1, 3, 1)\n",
    "plt.bar_label(\n",
    "    plt.bar(\n",
    "        range(3), \n",
    "        [lr_results[\"precision\"], svm_results[\"precision\"], nn_results[\"precision\"]], \n",
    "        tick_label=[\"Logistic Reg\", \"SVM\", \"Neural Network\"]\n",
    "    ),\n",
    "    fmt=\"%.4f\"\n",
    ")\n",
    "plt.title('Precision')\n",
    "plt.xticks(rotation=60)\n",
    "plt.ylim([0.85, 0.95])\n",
    "\n",
    "plt.subplot(1, 3, 2)\n",
    "plt.bar_label(\n",
    "    plt.bar(\n",
    "        range(3), \n",
    "        [lr_results[\"recall\"], svm_results[\"recall\"], nn_results[\"recall\"]], \n",
    "        tick_label=[\"Logistic Reg\", \"SVM\", \"Neural Network\"],\n",
    "        color=\"#ff7f0e\"\n",
    "    ),\n",
    "    fmt=\"%.4f\"\n",
    ")\n",
    "plt.title('Recall')\n",
    "plt.xticks(rotation=60)\n",
    "plt.ylim([0.85, 0.95])\n",
    "\n",
    "plt.subplot(1, 3, 3)\n",
    "plt.bar_label(\n",
    "    plt.bar(\n",
    "        range(3), \n",
    "        [lr_results[\"f1_score\"], svm_results[\"f1_score\"], nn_results[\"f1_score\"]], \n",
    "        tick_label=[\"Logistic Reg\", \"SVM\", \"Neural Network\"],\n",
    "        color=\"#2ca02c\"\n",
    "    ),\n",
    "    fmt=\"%.4f\"\n",
    ")\n",
    "plt.title('F1 Score')\n",
    "plt.xticks(rotation=60)\n",
    "plt.ylim([0.85, 0.95])"
   ]
  },
  {
   "cell_type": "markdown",
   "metadata": {},
   "source": [
    "#### 4.2.2 Category-based Comparison\n",
    "\n",
    "##### performance within different categories"
   ]
  },
  {
   "cell_type": "code",
   "execution_count": 33,
   "metadata": {},
   "outputs": [
    {
     "name": "stderr",
     "output_type": "stream",
     "text": [
      "C:\\Users\\EricTan\\AppData\\Local\\Temp\\ipykernel_33284\\1053457287.py:10: MatplotlibDeprecationWarning: Auto-removal of overlapping axes is deprecated since 3.6 and will be removed two minor releases later; explicitly call ax.remove() as needed.\n",
      "  plt.subplot(1, 3, 1)\n"
     ]
    },
    {
     "data": {
      "text/plain": "<matplotlib.legend.Legend at 0x16feca7fac0>"
     },
     "execution_count": 33,
     "metadata": {},
     "output_type": "execute_result"
    },
    {
     "data": {
      "text/plain": "<Figure size 900x400 with 3 Axes>",
      "image/png": "[encoded data removed]"
     },
     "metadata": {},
     "output_type": "display_data"
    }
   ],
   "source": [
    "# Compare between categories\n",
    "bar_width=0.2\n",
    "bar_group_margin=0.3\n",
    "bar_margin=(1 - bar_group_margin - bar_width * 3) / 3\n",
    "\n",
    "plt.subplots(figsize=(9, 4))\n",
    "plt.subplots_adjust(right=1)\n",
    "\n",
    "# Draw bars for precision on diffierent categories\n",
    "plt.subplot(1, 3, 1)\n",
    "plt.title(\"Precision by category\")\n",
    "plt.bar(\n",
    "    np.arange(3) - bar_width - bar_margin, [\n",
    "        lr_results[\"by_label\"][\"precision\"][0],\n",
    "        lr_results[\"by_label\"][\"precision\"][1],\n",
    "        lr_results[\"by_label\"][\"precision\"][2],\n",
    "    ], label=\"Logistic Reg\", width=bar_width\n",
    ")\n",
    "plt.bar(\n",
    "    np.arange(3), [\n",
    "        svm_results[\"by_label\"][\"precision\"][0],\n",
    "        svm_results[\"by_label\"][\"precision\"][1],\n",
    "        svm_results[\"by_label\"][\"precision\"][2],\n",
    "    ], label=\"SVM\", width=bar_width\n",
    ")\n",
    "plt.bar(\n",
    "    np.arange(3) + bar_width + bar_margin, [\n",
    "        nn_results[\"by_label\"][\"precision\"][0],\n",
    "        nn_results[\"by_label\"][\"precision\"][1],\n",
    "        nn_results[\"by_label\"][\"precision\"][2],\n",
    "    ], label=\"Neural Network\", width=bar_width\n",
    ")\n",
    "\n",
    "bar_names=lr_results[\"by_label\"][\"labels\"]\n",
    "plt.xticks(np.arange(3), bar_names)\n",
    "plt.ylim([0.75, 1])\n",
    "\n",
    "\n",
    "# Draw bars for recall on diffierent categories\n",
    "plt.subplot(1, 3, 2)\n",
    "plt.title(\"Recall by category\")\n",
    "plt.bar(\n",
    "    np.arange(3) - bar_width - bar_margin, [\n",
    "        lr_results[\"by_label\"][\"recall\"][0],\n",
    "        lr_results[\"by_label\"][\"recall\"][1],\n",
    "        lr_results[\"by_label\"][\"recall\"][2],\n",
    "    ], label=\"Logistic Reg\", width=bar_width\n",
    ")\n",
    "plt.bar(\n",
    "    np.arange(3), [\n",
    "        svm_results[\"by_label\"][\"recall\"][0],\n",
    "        svm_results[\"by_label\"][\"recall\"][1],\n",
    "        svm_results[\"by_label\"][\"recall\"][2],\n",
    "    ], label=\"SVM\", width=bar_width\n",
    ")\n",
    "plt.bar(\n",
    "    np.arange(3) + bar_width + bar_margin, [\n",
    "        nn_results[\"by_label\"][\"recall\"][0],\n",
    "        nn_results[\"by_label\"][\"recall\"][1],\n",
    "        nn_results[\"by_label\"][\"recall\"][2],\n",
    "    ], label=\"Neural Network\", width=bar_width\n",
    ")\n",
    "\n",
    "bar_names=lr_results[\"by_label\"][\"labels\"]\n",
    "plt.xticks(np.arange(3), bar_names)\n",
    "plt.ylim([0.75, 1])\n",
    "\n",
    "\n",
    "# Draw bars for F1 score on diffierent categories\n",
    "plt.subplot(1, 3, 3)\n",
    "plt.title(\"F1 score by category\")\n",
    "plt.bar(\n",
    "    np.arange(3) - bar_width - bar_margin, [\n",
    "        lr_results[\"by_label\"][\"f1_score\"][0],\n",
    "        lr_results[\"by_label\"][\"f1_score\"][1],\n",
    "        lr_results[\"by_label\"][\"f1_score\"][2],\n",
    "    ], label=\"Logistic Reg\", width=bar_width\n",
    ")\n",
    "plt.bar(\n",
    "    np.arange(3), [\n",
    "        svm_results[\"by_label\"][\"f1_score\"][0],\n",
    "        svm_results[\"by_label\"][\"f1_score\"][1],\n",
    "        svm_results[\"by_label\"][\"f1_score\"][2],\n",
    "    ], label=\"SVM\", width=bar_width\n",
    ")\n",
    "plt.bar(\n",
    "    np.arange(3) + bar_width + bar_margin, [\n",
    "        nn_results[\"by_label\"][\"f1_score\"][0],\n",
    "        nn_results[\"by_label\"][\"f1_score\"][1],\n",
    "        nn_results[\"by_label\"][\"f1_score\"][2],\n",
    "    ], label=\"Neural Network\", width=bar_width\n",
    ")\n",
    "\n",
    "bar_names=lr_results[\"by_label\"][\"labels\"]\n",
    "plt.xticks(np.arange(3), bar_names)\n",
    "plt.ylim([0.75, 1])\n",
    "plt.legend()"
   ]
  },
  {
   "cell_type": "markdown",
   "metadata": {},
   "source": [
    "#### 4.2.3 Dataset Analysis\n",
    "\n",
    "##### (a) number of samples with different labels"
   ]
  },
  {
   "cell_type": "code",
   "execution_count": 34,
   "metadata": {},
   "outputs": [
    {
     "data": {
      "text/plain": "Text(0.5, 1.0, 'Sample number by category')"
     },
     "execution_count": 34,
     "metadata": {},
     "output_type": "execute_result"
    },
    {
     "data": {
      "text/plain": "<Figure size 300x600 with 1 Axes>",
      "image/png": "[encoded data removed]"
     },
     "metadata": {},
     "output_type": "display_data"
    }
   ],
   "source": [
    "# Number of samples with different category in the dataset\n",
    "num_of_samples = {\n",
    "    \"china\": np.count_nonzero(dataset_y == \"china\"),\n",
    "    \"india\": np.count_nonzero(dataset_y == \"india\"),\n",
    "    \"us\": np.count_nonzero(dataset_y == \"us\")\n",
    "}\n",
    "\n",
    "plt.figure(figsize=(3, 6))\n",
    "plt.bar_label(plt.bar(\n",
    "    range(3), [\n",
    "        num_of_samples[\"china\"],\n",
    "        num_of_samples[\"india\"],\n",
    "        num_of_samples[\"us\"],\n",
    "    ], tick_label=[\"china\", \"india\", \"us\"]\n",
    "))\n",
    "plt.title('Sample number by category')\n"
   ]
  },
  {
   "cell_type": "markdown",
   "metadata": {},
   "source": [
    "##### (b) number of distinct raw features in categories"
   ]
  },
  {
   "cell_type": "code",
   "execution_count": 35,
   "metadata": {},
   "outputs": [
    {
     "data": {
      "text/plain": "<matplotlib.legend.Legend at 0x16ff2ec2040>"
     },
     "execution_count": 35,
     "metadata": {},
     "output_type": "execute_result"
    },
    {
     "data": {
      "text/plain": "<Figure size 640x480 with 1 Axes>",
      "image/png": "[encoded data removed]"
     },
     "metadata": {},
     "output_type": "display_data"
    }
   ],
   "source": [
    "# Check raw feature variance within different data groups\n",
    "\n",
    "# Find sample indexes by label\n",
    "label_i = {\n",
    "    \"china\": np.where(dataset_y == \"china\"),\n",
    "    \"india\": np.where(dataset_y == \"india\"),\n",
    "    \"us\": np.where(dataset_y == \"us\"),\n",
    "}\n",
    "# Count number of raw feature values within categories\n",
    "def count_distinct(checked_array):\n",
    "    return {\n",
    "        \"china\": len(np.unique(np.take(checked_array, label_i[\"china\"]))),\n",
    "        \"india\": len(np.unique(np.take(checked_array, label_i[\"india\"]))),\n",
    "        \"us\": len(np.unique(np.take(checked_array, label_i[\"us\"]))),\n",
    "    }\n",
    "num_of_distinct = {\n",
    "    \"ip_src\": count_distinct(dataset_X_ip_src),\n",
    "    \"ip_src_host\": count_distinct(dataset_X_ip_src_host),\n",
    "    \"ip_dst\": count_distinct(dataset_X_ip_dst),\n",
    "    \"ip_dst_host\": count_distinct(dataset_X_ip_dst_host),\n",
    "}\n",
    "\n",
    "\n",
    "# Draw chart for printing the result\n",
    "bar_width=0.15\n",
    "bar_group_margin=0.4\n",
    "bar_margin=(1 - bar_group_margin - bar_width * 4) / 4\n",
    "\n",
    "# Draw bars for precision on diffierent categories\n",
    "plt.title(\"Unique raw feature value count by category\")\n",
    "plt.bar(\n",
    "    np.arange(3) - bar_width * 1.5 - bar_margin * 1.5, [\n",
    "        num_of_distinct[\"ip_src\"][\"china\"],\n",
    "        num_of_distinct[\"ip_src\"][\"india\"],\n",
    "        num_of_distinct[\"ip_src\"][\"us\"]\n",
    "    ], label=\"ip.src\", width=bar_width\n",
    ")\n",
    "plt.bar(\n",
    "    np.arange(3) - bar_width * 0.5 - bar_margin * 0.5, [\n",
    "        num_of_distinct[\"ip_src_host\"][\"china\"],\n",
    "        num_of_distinct[\"ip_src_host\"][\"india\"],\n",
    "        num_of_distinct[\"ip_src_host\"][\"us\"]\n",
    "    ], label=\"ip.src_host\", width=bar_width\n",
    ")\n",
    "plt.bar(\n",
    "    np.arange(3) + bar_width * 0.5 + bar_margin * 0.5, [\n",
    "        num_of_distinct[\"ip_dst\"][\"china\"],\n",
    "        num_of_distinct[\"ip_dst\"][\"india\"],\n",
    "        num_of_distinct[\"ip_dst\"][\"us\"]\n",
    "    ], label=\"ip.dst\", width=bar_width\n",
    ")\n",
    "plt.bar(\n",
    "    np.arange(3) + bar_width * 1.5 + bar_margin * 1.5, [\n",
    "        num_of_distinct[\"ip_dst_host\"][\"china\"],\n",
    "        num_of_distinct[\"ip_dst_host\"][\"india\"],\n",
    "        num_of_distinct[\"ip_dst_host\"][\"us\"]\n",
    "    ], label=\"ip.dst_host\", width=bar_width\n",
    ")\n",
    "\n",
    "bar_names=[\"china\", \"india\", \"us\"]\n",
    "plt.xticks(np.arange(3), bar_names)\n",
    "plt.legend()"
   ]
  },
  {
   "cell_type": "code",
   "execution_count": 35,
   "metadata": {},
   "outputs": [],
   "source": []
  }
 ],
 "metadata": {
  "kernelspec": {
   "display_name": "Python 3 (ipykernel)",
   "language": "python",
   "name": "python3"
  },
  "language_info": {
   "codemirror_mode": {
    "name": "ipython",
    "version": 3
   },
   "file_extension": ".py",
   "mimetype": "text/x-python",
   "name": "python",
   "nbconvert_exporter": "python",
   "pygments_lexer": "ipython3",
   "version": "3.9.13"
  }
 },
 "nbformat": 4,
 "nbformat_minor": 2
}
