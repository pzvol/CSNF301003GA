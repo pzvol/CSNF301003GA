{
 "cells": [
  {
   "cell_type": "markdown",
   "metadata": {},
   "source": [
    "# (Title to be decided)"
   ]
  },
  {
   "cell_type": "markdown",
   "metadata": {},
   "source": [
    "*This is the file for the code of our group assignment. Under development.*"
   ]
  },
  {
   "cell_type": "code",
   "execution_count": 35,
   "metadata": {
    "scrolled": true
   },
   "outputs": [],
   "source": [
    "import json\n",
    "import matplotlib.pyplot as plt\n",
    "import numpy as np\n",
    "import pandas as pd\n",
    "import re\n",
    "import time\n",
    "from sklearn import metrics\n",
    "from sklearn import preprocessing\n",
    "from sklearn.decomposition import PCA\n",
    "from sklearn.feature_extraction.text import CountVectorizer\n",
    "from sklearn.model_selection import train_test_split\n",
    "from sklearn.preprocessing import LabelEncoder\n",
    "from sklearn.preprocessing import MinMaxScaler\n",
    "from tensorflow import keras\n",
    "from keras_tuner.tuners import BayesianOptimization\n",
    "\n",
    "# gpu acceleration, would cause an error when running without a cuda gpu\n",
    "import os\n",
    "os.environ[\"CUDA_VISIBLE_DEVICES\"]=\"0\""
   ]
  },
  {
   "cell_type": "markdown",
   "metadata": {},
   "source": [
    "Set up a time calculation method for collecting time used during running the code:"
   ]
  },
  {
   "cell_type": "code",
   "execution_count": 38,
   "metadata": {},
   "outputs": [],
   "source": [
    "# Variable for storing recorded timestamp\n",
    "timer_record = 0\n",
    "\n",
    "# Method for updating timer (setting the starting time)\n",
    "def timer_start():\n",
    "    global timer_record\n",
    "    timer_record = time.time()\n",
    "\n",
    "# Method for printing the time since last update\n",
    "#\n",
    "# the second num will be returned\n",
    "def timer_read(print_result=True):\n",
    "    second_passed = time.time() - timer_record\n",
    "    if print_result:\n",
    "        print(f\"{second_passed:.3}s passed\")\n",
    "        return\n",
    "    return second_passed\n"
   ]
  },
  {
   "cell_type": "markdown",
   "metadata": {},
   "source": [
    "## 1. Read Data from External File\n",
    "\n",
    "Read data in external files. For convenience, the original `.pcapng` file has been converted into `.json` and `.csv` with Wireshark."
   ]
  },
  {
   "cell_type": "code",
   "execution_count": 39,
   "metadata": {
    "tags": []
   },
   "outputs": [
    {
     "name": "stdout",
     "output_type": "stream",
     "text": [
      "10625 packets read\n"
     ]
    }
   ],
   "source": [
    "# Read the JSON including all details of packets\n",
    "#   errors=\"surrogateescape\" to pass the encoding errors raised by contents in HTTP packets\n",
    "with open(\"./data/traffic.json\", \"r\", encoding=\"utf-8\", errors=\"surrogateescape\") as f:\n",
    "    dataset_json=json.load(f)\n",
    "    print(f\"{len(dataset_json)} packets read\")\n",
    "\n",
    "# print one for checking\n",
    "#dataset_json[0]"
   ]
  },
  {
   "cell_type": "markdown",
   "metadata": {},
   "source": [
    "## 2. Data Preprocessing"
   ]
  },
  {
   "cell_type": "markdown",
   "metadata": {},
   "source": [
    "### 2.1 Extract dataset labels and encoding"
   ]
  },
  {
   "cell_type": "code",
   "execution_count": 40,
   "metadata": {
    "tags": []
   },
   "outputs": [
    {
     "name": "stdout",
     "output_type": "stream",
     "text": [
      "Labels include ['china' 'india' 'us']\n",
      "(10625,)\n"
     ]
    }
   ],
   "source": [
    "# Extract labels(y) from JSON\n",
    "dataset_y = np.array(list(map(\n",
    "    lambda packet_json: (packet_json[\"_source\"][\"layers\"][\"pkt_comment\"][\"frame.comment\"]).split(\",\")[1], \n",
    "    dataset_json\n",
    ")))\n",
    "\n",
    "print(f\"Labels include {np.unique(dataset_y)}\")\n",
    "print(dataset_y.shape)"
   ]
  },
  {
   "cell_type": "markdown",
   "metadata": {},
   "source": [
    "### 2.2 Extract features"
   ]
  },
  {
   "cell_type": "code",
   "execution_count": 41,
   "metadata": {
    "tags": []
   },
   "outputs": [
    {
     "name": "stdout",
     "output_type": "stream",
     "text": [
      "10.11.1.3\n",
      "10.11.1.3\n",
      "8.8.8.8\n",
      "dns.google\n"
     ]
    }
   ],
   "source": [
    "# Extract source IP, source IP host, destination IP and destination IP host from dataset\n",
    "dataset_X_ip_src = np.array(list(map(\n",
    "    lambda packet_json: packet_json[\"_source\"][\"layers\"][\"ip\"][\"ip.src\"], \n",
    "    dataset_json\n",
    ")))\n",
    "dataset_X_ip_src_host = np.array(list(map(\n",
    "    lambda packet_json: packet_json[\"_source\"][\"layers\"][\"ip\"][\"ip.src_host\"], \n",
    "    dataset_json\n",
    ")))\n",
    "dataset_X_ip_dst = np.array(list(map(\n",
    "    lambda packet_json: packet_json[\"_source\"][\"layers\"][\"ip\"][\"ip.dst\"], \n",
    "    dataset_json\n",
    ")))\n",
    "dataset_X_ip_dst_host = np.array(list(map(\n",
    "    lambda packet_json: packet_json[\"_source\"][\"layers\"][\"ip\"][\"ip.dst_host\"], \n",
    "    dataset_json\n",
    ")))\n",
    "\n",
    "# print first ones for checking\n",
    "print(dataset_X_ip_src[0])\n",
    "print(dataset_X_ip_src_host[0])\n",
    "print(dataset_X_ip_dst[0])\n",
    "print(dataset_X_ip_dst_host[0])\n"
   ]
  },
  {
   "cell_type": "markdown",
   "metadata": {},
   "source": [
    "### 2.3 Check data sanity and deal with missing fields"
   ]
  },
  {
   "cell_type": "code",
   "execution_count": 42,
   "metadata": {
    "tags": []
   },
   "outputs": [
    {
     "name": "stdout",
     "output_type": "stream",
     "text": [
      "Source/dest IP not an IPv4 address:\n",
      "[]\n",
      "[]\n",
      "Source/dest host not an IPv4 nor a domain:\n",
      "[]\n",
      "['no-data', 'no-data']\n",
      "\n",
      "Indexes of rows with missing 'dst.host': [960 964]\n",
      "Missing 'dst.host' filled\n"
     ]
    }
   ],
   "source": [
    "# Data sanity check\n",
    "pattern_not_ipv4 = re.compile(r\"(?!((\\b25[0-5]|\\b2[0-4][0-9]|\\b[01]?[0-9][0-9]?)(\\.(25[0-5]|2[0-4][0-9]|[01]?[0-9][0-9]?)){3}))\")\n",
    "pattern_not_ipv4_nor_domain = re.compile(r\"(?!((\\b25[0-5]|\\b2[0-4][0-9]|\\b[01]?[0-9][0-9]?)(\\.(25[0-5]|2[0-4][0-9]|[01]?[0-9][0-9]?)){3})|[-_0-9a-zA-Z]+\\.[-_0-9a-zA-Z]+)\")\n",
    "\n",
    "print(\"Source/dest IP not an IPv4 address:\")\n",
    "print(list(filter(pattern_not_ipv4.match, dataset_X_ip_src)))\n",
    "print(list(filter(pattern_not_ipv4.match, dataset_X_ip_dst)))\n",
    "print(\"Source/dest host not an IPv4 nor a domain:\")\n",
    "print(list(filter(pattern_not_ipv4_nor_domain.match, dataset_X_ip_src_host)))\n",
    "print(list(filter(pattern_not_ipv4_nor_domain.match, dataset_X_ip_dst_host)))\n",
    "\n",
    "print()\n",
    "\n",
    "# Fill the missing `dst.host`\n",
    "#\n",
    "# Find \"no-data\" rows\n",
    "missing_dst_host_indexes = np.where(dataset_X_ip_dst_host=='no-data')[0]\n",
    "print(f\"Indexes of rows with missing 'dst.host': {missing_dst_host_indexes}\")\n",
    "\n",
    "# Fill the field with the IP address in `dst`, following the way of other rows\n",
    "for i in missing_dst_host_indexes:\n",
    "    dataset_X_ip_dst_host[i] = dataset_X_ip_dst[i]\n",
    "\n",
    "print(\"Missing 'dst.host' filled\")"
   ]
  },
  {
   "cell_type": "markdown",
   "metadata": {},
   "source": [
    "### 2.4 Bi-gram for similarity between IPs and domains"
   ]
  },
  {
   "cell_type": "code",
   "execution_count": 43,
   "metadata": {
    "tags": []
   },
   "outputs": [
    {
     "name": "stdout",
     "output_type": "stream",
     "text": [
      "(10625, 1402)\n",
      "(10625, 867)\n",
      "(10625, 1629)\n",
      "(10625, 1059)\n",
      "\n",
      "(10625, 4957)\n"
     ]
    }
   ],
   "source": [
    "# bi-gram for similar IP and hostnames\n",
    "bigram_vec = CountVectorizer(ngram_range=(2, 2), token_pattern=r\"(?u)[^.]+\")\n",
    "dataset_X_ip_src_bg = bigram_vec.fit_transform(dataset_X_ip_src).toarray()\n",
    "dataset_X_ip_src_host_bg = bigram_vec.fit_transform(dataset_X_ip_src_host).toarray()\n",
    "dataset_X_ip_dst_bg = bigram_vec.fit_transform(dataset_X_ip_dst).toarray()\n",
    "dataset_X_ip_dst_host_bg = bigram_vec.fit_transform(dataset_X_ip_dst_host).toarray()\n",
    "\n",
    "print(dataset_X_ip_src_bg.shape)\n",
    "print(dataset_X_ip_src_host_bg.shape)\n",
    "print(dataset_X_ip_dst_bg.shape)\n",
    "print(dataset_X_ip_dst_host_bg.shape)\n",
    "\n",
    "dataset_X = np.concatenate((\n",
    "    dataset_X_ip_src_bg, \n",
    "    dataset_X_ip_src_host_bg,\n",
    "    dataset_X_ip_dst_bg, \n",
    "    dataset_X_ip_dst_host_bg), axis=1)\n",
    "\n",
    "print(\"\")\n",
    "print(dataset_X.shape)\n"
   ]
  },
  {
   "cell_type": "markdown",
   "metadata": {},
   "source": [
    "### 2.5 Normalization"
   ]
  },
  {
   "cell_type": "code",
   "execution_count": 44,
   "metadata": {
    "tags": []
   },
   "outputs": [
    {
     "name": "stdout",
     "output_type": "stream",
     "text": [
      "(10625, 4957)\n"
     ]
    }
   ],
   "source": [
    "# Normalization\n",
    "dataset_X = MinMaxScaler().fit_transform(dataset_X)\n",
    "print(dataset_X.shape)"
   ]
  },
  {
   "cell_type": "markdown",
   "metadata": {},
   "source": [
    "### 2.6 Principal Component Analysis (PCA)"
   ]
  },
  {
   "cell_type": "code",
   "execution_count": 45,
   "metadata": {},
   "outputs": [],
   "source": [
    "# # PCA - check the 95% with figure\n",
    "# #\n",
    "# # This part is not necessary for the main process and\n",
    "# # can be commented out to save time\n",
    "# pca = PCA()\n",
    "# pca.fit(dataset_X)\n",
    "# pca_cumsum = np.cumsum(pca.explained_variance_ratio_)\n",
    "\n",
    "# plt.figure()\n",
    "# plt.axis([0, dataset_X.shape[1], 0, 1]) \n",
    "# plt.plot(pca_cumsum)\n",
    "# plt.axhline(y=0.95,color='red')\n",
    "# plt.xlabel(\"dimensions\")\n",
    "# plt.ylabel(\"explained variance\")\n",
    "# plt.grid(True)\n",
    "# plt.show()"
   ]
  },
  {
   "cell_type": "code",
   "execution_count": 46,
   "metadata": {
    "tags": []
   },
   "outputs": [
    {
     "name": "stdout",
     "output_type": "stream",
     "text": [
      "(10625, 650)\n",
      "30.4s passed\n"
     ]
    }
   ],
   "source": [
    "timer_start()\n",
    "\n",
    "# Apply PCA for compression\n",
    "pca = PCA(n_components=0.95)\n",
    "dataset_X = pca.fit_transform(dataset_X)\n",
    "\n",
    "print(dataset_X.shape)\n",
    "timer_read()"
   ]
  },
  {
   "cell_type": "markdown",
   "metadata": {},
   "source": [
    "### 2.7 Dataset split"
   ]
  },
  {
   "cell_type": "code",
   "execution_count": 47,
   "metadata": {
    "tags": []
   },
   "outputs": [
    {
     "name": "stdout",
     "output_type": "stream",
     "text": [
      "(7968, 650)\n",
      "(7968,)\n",
      "(2657, 650)\n",
      "(2657,)\n"
     ]
    }
   ],
   "source": [
    "# Split the dataset into training set and testing set\n",
    "train_X, test_X, train_y, test_y = train_test_split(dataset_X, dataset_y)\n",
    "\n",
    "print(train_X.shape)\n",
    "print(train_y.shape)\n",
    "print(test_X.shape)\n",
    "print(test_y.shape)"
   ]
  },
  {
   "cell_type": "markdown",
   "metadata": {},
   "source": [
    "## 3. Model Training\n",
    "\n",
    "### 3.1 Logistic Regression\n",
    "\n",
    "#### 3.1.1 Parameter Tuning\n",
    "\n",
    "(This part is **not** necessary for generating the final result and can be commented out to save time)"
   ]
  },
  {
   "cell_type": "code",
   "execution_count": 51,
   "metadata": {},
   "outputs": [
    {
     "name": "stdout",
     "output_type": "stream",
     "text": [
      "Fitting 5 folds for each of 5 candidates, totalling 25 fits\n",
      "[CV 1/5] END ............................C=0.01;, score=0.809 total time=   0.1s\n",
      "[CV 2/5] END ............................C=0.01;, score=0.827 total time=   0.1s\n",
      "[CV 3/5] END ............................C=0.01;, score=0.804 total time=   0.1s\n",
      "[CV 4/5] END ............................C=0.01;, score=0.802 total time=   0.1s\n",
      "[CV 5/5] END ............................C=0.01;, score=0.816 total time=   0.1s\n",
      "[CV 1/5] END .............................C=0.1;, score=0.862 total time=   0.2s\n",
      "[CV 2/5] END .............................C=0.1;, score=0.886 total time=   0.2s\n",
      "[CV 3/5] END .............................C=0.1;, score=0.881 total time=   0.2s\n",
      "[CV 4/5] END .............................C=0.1;, score=0.876 total time=   0.2s\n",
      "[CV 5/5] END .............................C=0.1;, score=0.884 total time=   0.2s\n",
      "[CV 1/5] END .............................C=1.0;, score=0.871 total time=   0.4s\n",
      "[CV 2/5] END .............................C=1.0;, score=0.898 total time=   0.5s\n",
      "[CV 3/5] END .............................C=1.0;, score=0.890 total time=   0.5s\n",
      "[CV 4/5] END .............................C=1.0;, score=0.893 total time=   0.6s\n",
      "[CV 5/5] END .............................C=1.0;, score=0.890 total time=   0.6s\n",
      "[CV 1/5] END ............................C=10.0;, score=0.878 total time=   1.5s\n",
      "[CV 2/5] END ............................C=10.0;, score=0.902 total time=   1.5s\n",
      "[CV 3/5] END ............................C=10.0;, score=0.891 total time=   1.3s\n",
      "[CV 4/5] END ............................C=10.0;, score=0.895 total time=   1.4s\n",
      "[CV 5/5] END ............................C=10.0;, score=0.891 total time=   1.5s\n",
      "[CV 1/5] END ...........................C=100.0;, score=0.876 total time=   3.3s\n",
      "[CV 2/5] END ...........................C=100.0;, score=0.907 total time=   6.0s\n",
      "[CV 3/5] END ...........................C=100.0;, score=0.891 total time=   4.4s\n",
      "[CV 4/5] END ...........................C=100.0;, score=0.900 total time=   4.6s\n",
      "[CV 5/5] END ...........................C=100.0;, score=0.895 total time=   4.9s\n",
      "Best Parameter:     {'C': 100.0}\n",
      "Score of the best:  0.8938261890753225\n"
     ]
    }
   ],
   "source": [
    "from sklearn.linear_model import LogisticRegression\n",
    "from sklearn.model_selection import GridSearchCV\n",
    "\n",
    "# Define the model\n",
    "lr = LogisticRegression(max_iter=10000)\n",
    "\n",
    "# Search for the best C value using grid search CV\n",
    "lr_param_grid = {\n",
    "    'C': np.logspace(-2, 2, 5),\n",
    "}\n",
    "lr_grid_search = GridSearchCV(lr, lr_param_grid, cv=5, scoring='accuracy', verbose=4)\n",
    "lr_grid_search.fit(train_X, train_y)\n",
    "\n",
    "# Print the best parameter and score\n",
    "print(\"Best Parameter:    \", lr_grid_search.best_params_)\n",
    "print(\"Score of the best: \", lr_grid_search.best_score_)"
   ]
  },
  {
   "cell_type": "code",
   "execution_count": 52,
   "metadata": {},
   "outputs": [
    {
     "data": {
      "image/png": "[encoded data removed]",
      "text/plain": [
       "<Figure size 640x480 with 1 Axes>"
      ]
     },
     "metadata": {},
     "output_type": "display_data"
    }
   ],
   "source": [
    "# Print the scores of all tested potential params\n",
    "lr_grid_param_values = []\n",
    "lr_grid_precision_values = []\n",
    "for i, params in enumerate(lr_grid_search.cv_results_['params']):\n",
    "    lr_grid_param_values.append(params['C'])\n",
    "    lr_grid_precision_values.append(lr_grid_search.cv_results_['mean_test_score'][i])\n",
    "\n",
    "# Plot the precision values for each parameter value\n",
    "plt.bar(range(len(lr_grid_precision_values)), lr_grid_precision_values, tick_label=lr_grid_param_values)\n",
    "plt.xlabel('C')\n",
    "plt.ylabel('Accuracy')\n",
    "plt.ylim([0.8, 0.9])\n",
    "plt.title('Grid search result: accuracy for different C values')\n",
    "plt.show()"
   ]
  },
  {
   "cell_type": "markdown",
   "metadata": {},
   "source": [
    "Based on the bar chart, scores for 1, 10 and 100 are close to each other with minor differences. C=1 is chosen with its high performance and lowest time consumption between the three values."
   ]
  },
  {
   "cell_type": "markdown",
   "metadata": {},
   "source": [
    "#### 3.1.2 Model Training"
   ]
  },
  {
   "cell_type": "code",
   "execution_count": 17,
   "metadata": {},
   "outputs": [
    {
     "name": "stdout",
     "output_type": "stream",
     "text": [
      "0.796s passed\n"
     ]
    }
   ],
   "source": [
    "timer_start()\n",
    "\n",
    "lr = LogisticRegression(C=1.0, max_iter=1000)\n",
    "lr.fit(train_X, train_y)\n",
    "\n",
    "timer_read()"
   ]
  },
  {
   "cell_type": "markdown",
   "metadata": {},
   "source": [
    "### 3.2 Support Vector Machine (SVM)\n",
    "\n",
    "TODO"
   ]
  },
  {
   "cell_type": "code",
   "execution_count": 88,
   "metadata": {},
   "outputs": [
    {
     "name": "stdout",
     "output_type": "stream",
     "text": [
      "Fitting 5 folds for each of 15 candidates, totalling 75 fits\n",
      "[CV 1/5] END .............C=0.01, kernel=linear;, score=0.768 total time=   5.3s\n",
      "[CV 2/5] END .............C=0.01, kernel=linear;, score=0.789 total time=   4.9s\n",
      "[CV 3/5] END .............C=0.01, kernel=linear;, score=0.767 total time=   4.9s\n",
      "[CV 4/5] END .............C=0.01, kernel=linear;, score=0.774 total time=   4.9s\n",
      "[CV 5/5] END .............C=0.01, kernel=linear;, score=0.772 total time=   4.8s\n",
      "[CV 1/5] END ................C=0.01, kernel=rbf;, score=0.697 total time=  12.0s\n",
      "[CV 2/5] END ................C=0.01, kernel=rbf;, score=0.705 total time=  12.3s\n",
      "[CV 3/5] END ................C=0.01, kernel=rbf;, score=0.691 total time=  12.8s\n",
      "[CV 4/5] END ................C=0.01, kernel=rbf;, score=0.683 total time=  12.7s\n",
      "[CV 5/5] END ................C=0.01, kernel=rbf;, score=0.703 total time=  12.8s\n",
      "[CV 1/5] END ............C=0.01, kernel=sigmoid;, score=0.718 total time=  10.7s\n",
      "[CV 2/5] END ............C=0.01, kernel=sigmoid;, score=0.737 total time=  11.1s\n",
      "[CV 3/5] END ............C=0.01, kernel=sigmoid;, score=0.724 total time=  10.8s\n",
      "[CV 4/5] END ............C=0.01, kernel=sigmoid;, score=0.723 total time=  11.5s\n",
      "[CV 5/5] END ............C=0.01, kernel=sigmoid;, score=0.724 total time=  10.4s\n",
      "[CV 1/5] END ..............C=0.1, kernel=linear;, score=0.870 total time=   3.0s\n",
      "[CV 2/5] END ..............C=0.1, kernel=linear;, score=0.883 total time=   3.1s\n",
      "[CV 3/5] END ..............C=0.1, kernel=linear;, score=0.880 total time=   3.1s\n",
      "[CV 4/5] END ..............C=0.1, kernel=linear;, score=0.879 total time=   3.1s\n",
      "[CV 5/5] END ..............C=0.1, kernel=linear;, score=0.879 total time=   3.1s\n",
      "[CV 1/5] END .................C=0.1, kernel=rbf;, score=0.786 total time=   6.2s\n",
      "[CV 2/5] END .................C=0.1, kernel=rbf;, score=0.804 total time=   6.3s\n",
      "[CV 3/5] END .................C=0.1, kernel=rbf;, score=0.783 total time=   6.2s\n",
      "[CV 4/5] END .................C=0.1, kernel=rbf;, score=0.795 total time=   6.2s\n",
      "[CV 5/5] END .................C=0.1, kernel=rbf;, score=0.788 total time=   6.3s\n",
      "[CV 1/5] END .............C=0.1, kernel=sigmoid;, score=0.755 total time=   5.4s\n",
      "[CV 2/5] END .............C=0.1, kernel=sigmoid;, score=0.777 total time=   5.5s\n",
      "[CV 3/5] END .............C=0.1, kernel=sigmoid;, score=0.765 total time=   5.5s\n",
      "[CV 4/5] END .............C=0.1, kernel=sigmoid;, score=0.758 total time=   5.7s\n",
      "[CV 5/5] END .............C=0.1, kernel=sigmoid;, score=0.761 total time=   5.9s\n",
      "[CV 1/5] END ..............C=1.0, kernel=linear;, score=0.869 total time=   2.4s\n",
      "[CV 2/5] END ..............C=1.0, kernel=linear;, score=0.891 total time=   2.6s\n",
      "[CV 3/5] END ..............C=1.0, kernel=linear;, score=0.880 total time=   2.9s\n",
      "[CV 4/5] END ..............C=1.0, kernel=linear;, score=0.890 total time=   2.8s\n",
      "[CV 5/5] END ..............C=1.0, kernel=linear;, score=0.884 total time=   2.5s\n",
      "[CV 1/5] END .................C=1.0, kernel=rbf;, score=0.878 total time=   3.8s\n",
      "[CV 2/5] END .................C=1.0, kernel=rbf;, score=0.893 total time=   4.1s\n",
      "[CV 3/5] END .................C=1.0, kernel=rbf;, score=0.888 total time=   4.7s\n",
      "[CV 4/5] END .................C=1.0, kernel=rbf;, score=0.891 total time=   4.0s\n",
      "[CV 5/5] END .................C=1.0, kernel=rbf;, score=0.884 total time=   4.0s\n",
      "[CV 1/5] END .............C=1.0, kernel=sigmoid;, score=0.797 total time=   3.8s\n",
      "[CV 2/5] END .............C=1.0, kernel=sigmoid;, score=0.853 total time=   3.7s\n",
      "[CV 3/5] END .............C=1.0, kernel=sigmoid;, score=0.827 total time=   3.9s\n",
      "[CV 4/5] END .............C=1.0, kernel=sigmoid;, score=0.835 total time=   3.7s\n",
      "[CV 5/5] END .............C=1.0, kernel=sigmoid;, score=0.856 total time=   3.7s\n",
      "[CV 1/5] END .............C=10.0, kernel=linear;, score=0.873 total time=   2.4s\n",
      "[CV 2/5] END .............C=10.0, kernel=linear;, score=0.896 total time=   2.4s\n",
      "[CV 3/5] END .............C=10.0, kernel=linear;, score=0.884 total time=   2.4s\n",
      "[CV 4/5] END .............C=10.0, kernel=linear;, score=0.891 total time=   2.7s\n",
      "[CV 5/5] END .............C=10.0, kernel=linear;, score=0.888 total time=   2.5s\n",
      "[CV 1/5] END ................C=10.0, kernel=rbf;, score=0.884 total time=   3.4s\n",
      "[CV 2/5] END ................C=10.0, kernel=rbf;, score=0.904 total time=   3.4s\n",
      "[CV 3/5] END ................C=10.0, kernel=rbf;, score=0.892 total time=   3.4s\n",
      "[CV 4/5] END ................C=10.0, kernel=rbf;, score=0.896 total time=   3.3s\n",
      "[CV 5/5] END ................C=10.0, kernel=rbf;, score=0.891 total time=   3.4s\n",
      "[CV 1/5] END ............C=10.0, kernel=sigmoid;, score=0.814 total time=   2.7s\n",
      "[CV 2/5] END ............C=10.0, kernel=sigmoid;, score=0.851 total time=   2.9s\n",
      "[CV 3/5] END ............C=10.0, kernel=sigmoid;, score=0.831 total time=   2.8s\n",
      "[CV 4/5] END ............C=10.0, kernel=sigmoid;, score=0.844 total time=   2.9s\n",
      "[CV 5/5] END ............C=10.0, kernel=sigmoid;, score=0.858 total time=   2.9s\n",
      "[CV 1/5] END ............C=100.0, kernel=linear;, score=0.873 total time=   3.0s\n",
      "[CV 2/5] END ............C=100.0, kernel=linear;, score=0.897 total time=   3.1s\n",
      "[CV 3/5] END ............C=100.0, kernel=linear;, score=0.880 total time=   2.8s\n",
      "[CV 4/5] END ............C=100.0, kernel=linear;, score=0.893 total time=   3.4s\n",
      "[CV 5/5] END ............C=100.0, kernel=linear;, score=0.890 total time=   3.1s\n",
      "[CV 1/5] END ...............C=100.0, kernel=rbf;, score=0.888 total time=   3.2s\n",
      "[CV 2/5] END ...............C=100.0, kernel=rbf;, score=0.906 total time=   3.3s\n",
      "[CV 3/5] END ...............C=100.0, kernel=rbf;, score=0.893 total time=   3.4s\n",
      "[CV 4/5] END ...............C=100.0, kernel=rbf;, score=0.899 total time=   3.2s\n",
      "[CV 5/5] END ...............C=100.0, kernel=rbf;, score=0.895 total time=   3.1s\n",
      "[CV 1/5] END ...........C=100.0, kernel=sigmoid;, score=0.813 total time=   2.8s\n",
      "[CV 2/5] END ...........C=100.0, kernel=sigmoid;, score=0.848 total time=   2.8s\n",
      "[CV 3/5] END ...........C=100.0, kernel=sigmoid;, score=0.839 total time=   2.5s\n",
      "[CV 4/5] END ...........C=100.0, kernel=sigmoid;, score=0.836 total time=   2.7s\n",
      "[CV 5/5] END ...........C=100.0, kernel=sigmoid;, score=0.860 total time=   2.6s\n",
      "Best Parameter:     {'C': 100.0, 'kernel': 'rbf'}\n",
      "Score of the best:  0.8960845008077214\n"
     ]
    }
   ],
   "source": [
    "#For the linear kernel (kernel_type='linear') svm\n",
    "from sklearn.svm import SVC  # Support Vector Classifier\n",
    "from sklearn.metrics import accuracy_score\n",
    "from sklearn.metrics import confusion_matrix\n",
    "from sklearn.metrics import classification_report\n",
    "#grid_search for SVM_linear\n",
    "SVM  = SVC() \n",
    "SVM_param_grid = {\n",
    "    'C': np.logspace(-2, 2, 5),\n",
    "    'kernel':['linear','rbf','sigmoid']\n",
    "}\n",
    "\n",
    "SVM_grid_search = GridSearchCV(SVM, SVM_param_grid, cv=5, scoring='accuracy', verbose=4)\n",
    "SVM_grid_search.fit(train_X, train_y)\n",
    "# Print the best parameter and score\n",
    "print(\"Best Parameter:    \", SVM_grid_search.best_params_)\n",
    "print(\"Score of the best: \", SVM_grid_search.best_score_)"
   ]
  },
  {
   "cell_type": "code",
   "execution_count": 89,
   "metadata": {},
   "outputs": [
    {
     "data": {
      "image/png": "[encoded data removed]",
      "text/plain": [
       "<Figure size 640x480 with 1 Axes>"
      ]
     },
     "metadata": {},
     "output_type": "display_data"
    }
   ],
   "source": [
    "#  only kenrnel rbf \n",
    "svm_grid_param_values = []\n",
    "svm_grid_precision_values = []\n",
    "for i, params in enumerate(SVM_grid_search.cv_results_['params']):\n",
    "    if (params['kernel'] != 'rbf'):\n",
    "        continue\n",
    "    svm_grid_param_values.append(params['C'])\n",
    "    svm_grid_precision_values.append(SVM_grid_search.cv_results_['mean_test_score'][i])\n",
    "\n",
    "# Plot the precision values for each parameter value\n",
    "plt.bar(range(len(svm_grid_param_values)), svm_grid_precision_values, tick_label=svm_grid_param_values)\n",
    "plt.xlabel('C')\n",
    "plt.ylabel('Accuracy')\n",
    "plt.ylim([0.1, 0.9])\n",
    "plt.title('Grid search result: accuracy for different C values (Kernel = rbf)')\n",
    "plt.show()"
   ]
  },
  {
   "cell_type": "code",
   "execution_count": 91,
   "metadata": {},
   "outputs": [
    {
     "name": "stdout",
     "output_type": "stream",
     "text": [
      "Accuracy on test set: 0.8882\n"
     ]
    }
   ],
   "source": [
    "## train\n",
    "best_svm_model = SVC(kernel = 'rbf', C = 100)\n",
    "best_svm_model.fit(train_X, train_y)\n",
    "print(f\"Accuracy on test set: {best_svm_model.score(test_X, test_y):.4f}\")"
   ]
  },
  {
   "cell_type": "markdown",
   "metadata": {},
   "source": [
    "### 3.3 neural network"
   ]
  },
  {
   "cell_type": "markdown",
   "metadata": {},
   "source": [
    "Data proccess"
   ]
  },
  {
   "cell_type": "code",
   "execution_count": 19,
   "metadata": {},
   "outputs": [
    {
     "name": "stdout",
     "output_type": "stream",
     "text": [
      "(5577, 650)\n",
      "(2391, 650)\n",
      "(5577, 3)\n",
      "(2391, 3)\n"
     ]
    }
   ],
   "source": [
    "keras.backend.clear_session()\n",
    "\n",
    "temp_train_y = pd.DataFrame(train_y, columns=['country'])\n",
    "temp_train_y = pd.factorize(temp_train_y['country'], sort=True)[0]\n",
    "train_X_nn, validate_X, train_y_nn, validate_y = train_test_split(train_X, temp_train_y, random_state=114514, test_size=0.3)\n",
    "\n",
    "train_y_nn = keras.utils.to_categorical(train_y_nn, 3).astype('int32')\n",
    "validate_y = keras.utils.to_categorical(validate_y, 3).astype('int32')\n",
    "\n",
    "test_y_nn = pd.DataFrame(test_y, columns=['country'])\n",
    "test_y_nn = pd.factorize(test_y_nn['country'], sort=True)[0]\n",
    "\n",
    "print(train_X_nn.shape)\n",
    "print(validate_X.shape)\n",
    "print(train_y_nn.shape)\n",
    "print(validate_y.shape)"
   ]
  },
  {
   "cell_type": "markdown",
   "metadata": {},
   "source": [
    "Define model"
   ]
  },
  {
   "cell_type": "code",
   "execution_count": 20,
   "metadata": {},
   "outputs": [],
   "source": [
    "def build_optimizer(hp):\n",
    "    optimizer = hp.Choice('optimizer', ['adam', 'rmsprop', 'sgd'])\n",
    "    lr = hp.Float('learning_rate', min_value=1e-5, max_value=1e-4, step=1e-5)\n",
    "    if optimizer == 'adam':\n",
    "        return keras.optimizers.Adam(learning_rate=lr)\n",
    "    elif optimizer == 'rmsprop':\n",
    "        return keras.optimizers.RMSprop(learning_rate=lr)\n",
    "    else:\n",
    "        return keras.optimizers.SGD(learning_rate=lr, momentum=hp.Float('momentum', min_value=0, max_value=0.9, step=0.02))\n",
    "\n",
    "def build_model(hp):\n",
    "    model = keras.models.Sequential(keras.layers.InputLayer(input_shape=[train_X.shape[1]]))\n",
    "    model.add(keras.layers.Dense(hp.Int('neurons1', min_value=1, max_value=300, step=5),\n",
    "                                 activation=hp.Choice('actv1', ['relu', 'tanh', 'sigmoid']),\n",
    "                                 kernel_initializer='he_normal'))\n",
    "    if hp.Boolean('second_layer', True):\n",
    "        model.add(keras.layers.Dropout(hp.Float('dropout1', min_value=0, max_value=0.3, step=0.02)))\n",
    "        model.add(keras.layers.Dense(hp.Int('neurons2', min_value=1, max_value=300, step=5),\n",
    "                                     activation=hp.Choice('actv2', ['relu', 'tanh', 'sigmoid']),\n",
    "                                     kernel_initializer='he_normal'))\n",
    "    model.add(keras.layers.Dense(3, activation=\"softmax\"))\n",
    "\n",
    "    model.compile(loss='categorical_crossentropy',\n",
    "                  optimizer=build_optimizer(hp),\n",
    "                  metrics=['accuracy'])\n",
    "    return model"
   ]
  },
  {
   "cell_type": "markdown",
   "metadata": {},
   "source": [
    "Bayesion optimization"
   ]
  },
  {
   "cell_type": "code",
   "execution_count": 21,
   "metadata": {},
   "outputs": [
    {
     "name": "stdout",
     "output_type": "stream",
     "text": [
      "INFO:tensorflow:Reloading Oracle from existing project ./neural_network_optimize/oracle.json\n",
      "INFO:tensorflow:Reloading Tuner from ./neural_network_optimize/tuner0.json\n",
      "INFO:tensorflow:Oracle triggered exit\n",
      "Best hyperparameters: {'neurons1': 216, 'actv1': 'relu', 'second_layer': False, 'dropout1': 0.3, 'neurons2': 216, 'actv2': 'sigmoid', 'optimizer': 'adam', 'learning_rate': 7.000000000000001e-05, 'momentum': 0.0}\n"
     ]
    }
   ],
   "source": [
    "tuner = BayesianOptimization(\n",
    "    build_model,\n",
    "    objective='val_accuracy',\n",
    "    max_trials=10,\n",
    "    executions_per_trial=2,\n",
    "    project_name='neural_network_optimize'\n",
    ")\n",
    "\n",
    "tuner.search(x=train_X_nn, y=train_y_nn, epochs=35, validation_data=(validate_X, validate_y))\n",
    "\n",
    "best_hps = tuner.get_best_hyperparameters()[0]\n",
    "print(f'Best hyperparameters: {best_hps.values}')\n"
   ]
  },
  {
   "cell_type": "markdown",
   "metadata": {},
   "source": [
    "Model Trainning"
   ]
  },
  {
   "cell_type": "code",
   "execution_count": 22,
   "metadata": {},
   "outputs": [
    {
     "name": "stdout",
     "output_type": "stream",
     "text": [
      "Epoch 1/35\n"
     ]
    },
    {
     "name": "stderr",
     "output_type": "stream",
     "text": [
      "2023-03-23 21:20:52.279522: W tensorflow/core/platform/profile_utils/cpu_utils.cc:128] Failed to get CPU frequency: 0 Hz\n"
     ]
    },
    {
     "name": "stdout",
     "output_type": "stream",
     "text": [
      "175/175 [==============================] - 0s 1ms/step - loss: 1.0524 - accuracy: 0.5360 - val_loss: 0.9912 - val_accuracy: 0.7089\n",
      "Epoch 2/35\n",
      "175/175 [==============================] - 0s 986us/step - loss: 0.9350 - accuracy: 0.7726 - val_loss: 0.8860 - val_accuracy: 0.7951\n",
      "Epoch 3/35\n",
      "175/175 [==============================] - 0s 1ms/step - loss: 0.8320 - accuracy: 0.8105 - val_loss: 0.7908 - val_accuracy: 0.8135\n",
      "Epoch 4/35\n",
      "175/175 [==============================] - 0s 951us/step - loss: 0.7377 - accuracy: 0.8282 - val_loss: 0.7033 - val_accuracy: 0.8239\n",
      "Epoch 5/35\n",
      "175/175 [==============================] - 0s 1ms/step - loss: 0.6528 - accuracy: 0.8427 - val_loss: 0.6259 - val_accuracy: 0.8356\n",
      "Epoch 6/35\n",
      "175/175 [==============================] - 0s 2ms/step - loss: 0.5799 - accuracy: 0.8526 - val_loss: 0.5611 - val_accuracy: 0.8415\n",
      "Epoch 7/35\n",
      "175/175 [==============================] - 0s 1ms/step - loss: 0.5194 - accuracy: 0.8591 - val_loss: 0.5078 - val_accuracy: 0.8469\n",
      "Epoch 8/35\n",
      "175/175 [==============================] - 0s 1ms/step - loss: 0.4703 - accuracy: 0.8655 - val_loss: 0.4649 - val_accuracy: 0.8549\n",
      "Epoch 9/35\n",
      "175/175 [==============================] - 0s 1ms/step - loss: 0.4306 - accuracy: 0.8695 - val_loss: 0.4302 - val_accuracy: 0.8565\n",
      "Epoch 10/35\n",
      "175/175 [==============================] - 0s 1ms/step - loss: 0.3982 - accuracy: 0.8757 - val_loss: 0.4017 - val_accuracy: 0.8637\n",
      "Epoch 11/35\n",
      "175/175 [==============================] - 0s 1ms/step - loss: 0.3718 - accuracy: 0.8824 - val_loss: 0.3782 - val_accuracy: 0.8683\n",
      "Epoch 12/35\n",
      "175/175 [==============================] - 0s 1ms/step - loss: 0.3496 - accuracy: 0.8856 - val_loss: 0.3587 - val_accuracy: 0.8708\n",
      "Epoch 13/35\n",
      "175/175 [==============================] - 0s 1ms/step - loss: 0.3310 - accuracy: 0.8876 - val_loss: 0.3424 - val_accuracy: 0.8729\n",
      "Epoch 14/35\n",
      "175/175 [==============================] - 0s 924us/step - loss: 0.3155 - accuracy: 0.8895 - val_loss: 0.3281 - val_accuracy: 0.8749\n",
      "Epoch 15/35\n",
      "175/175 [==============================] - 0s 914us/step - loss: 0.3022 - accuracy: 0.8903 - val_loss: 0.3162 - val_accuracy: 0.8766\n",
      "Epoch 16/35\n",
      "175/175 [==============================] - 0s 939us/step - loss: 0.2907 - accuracy: 0.8922 - val_loss: 0.3058 - val_accuracy: 0.8783\n",
      "Epoch 17/35\n",
      "175/175 [==============================] - 0s 966us/step - loss: 0.2810 - accuracy: 0.8930 - val_loss: 0.2969 - val_accuracy: 0.8791\n",
      "Epoch 18/35\n",
      "175/175 [==============================] - 0s 938us/step - loss: 0.2726 - accuracy: 0.8935 - val_loss: 0.2892 - val_accuracy: 0.8795\n",
      "Epoch 19/35\n",
      "175/175 [==============================] - 0s 1ms/step - loss: 0.2651 - accuracy: 0.8930 - val_loss: 0.2821 - val_accuracy: 0.8795\n",
      "Epoch 20/35\n",
      "175/175 [==============================] - 0s 1ms/step - loss: 0.2589 - accuracy: 0.8956 - val_loss: 0.2765 - val_accuracy: 0.8808\n",
      "Epoch 21/35\n",
      "175/175 [==============================] - 0s 968us/step - loss: 0.2533 - accuracy: 0.8956 - val_loss: 0.2712 - val_accuracy: 0.8800\n",
      "Epoch 22/35\n",
      "175/175 [==============================] - 0s 958us/step - loss: 0.2484 - accuracy: 0.8964 - val_loss: 0.2668 - val_accuracy: 0.8800\n",
      "Epoch 23/35\n",
      "175/175 [==============================] - 0s 966us/step - loss: 0.2441 - accuracy: 0.8962 - val_loss: 0.2625 - val_accuracy: 0.8800\n",
      "Epoch 24/35\n",
      "175/175 [==============================] - 0s 1ms/step - loss: 0.2404 - accuracy: 0.8969 - val_loss: 0.2591 - val_accuracy: 0.8812\n",
      "Epoch 25/35\n",
      "175/175 [==============================] - 0s 1ms/step - loss: 0.2369 - accuracy: 0.8953 - val_loss: 0.2560 - val_accuracy: 0.8808\n",
      "Epoch 26/35\n",
      "175/175 [==============================] - 0s 926us/step - loss: 0.2339 - accuracy: 0.8967 - val_loss: 0.2530 - val_accuracy: 0.8808\n",
      "Epoch 27/35\n",
      "175/175 [==============================] - 0s 981us/step - loss: 0.2313 - accuracy: 0.8971 - val_loss: 0.2502 - val_accuracy: 0.8808\n",
      "Epoch 28/35\n",
      "175/175 [==============================] - 0s 975us/step - loss: 0.2287 - accuracy: 0.8958 - val_loss: 0.2482 - val_accuracy: 0.8812\n",
      "Epoch 29/35\n",
      "175/175 [==============================] - 0s 998us/step - loss: 0.2266 - accuracy: 0.8983 - val_loss: 0.2461 - val_accuracy: 0.8821\n",
      "Epoch 30/35\n",
      "175/175 [==============================] - 0s 976us/step - loss: 0.2246 - accuracy: 0.8982 - val_loss: 0.2439 - val_accuracy: 0.8816\n",
      "Epoch 31/35\n",
      "175/175 [==============================] - 0s 1ms/step - loss: 0.2229 - accuracy: 0.8965 - val_loss: 0.2427 - val_accuracy: 0.8837\n",
      "Epoch 32/35\n",
      "175/175 [==============================] - 0s 1ms/step - loss: 0.2212 - accuracy: 0.8983 - val_loss: 0.2409 - val_accuracy: 0.8837\n",
      "Epoch 33/35\n",
      "175/175 [==============================] - 0s 1ms/step - loss: 0.2196 - accuracy: 0.8985 - val_loss: 0.2398 - val_accuracy: 0.8837\n",
      "Epoch 34/35\n",
      "175/175 [==============================] - 0s 1000us/step - loss: 0.2182 - accuracy: 0.8976 - val_loss: 0.2388 - val_accuracy: 0.8837\n",
      "Epoch 35/35\n",
      "175/175 [==============================] - 0s 1ms/step - loss: 0.2169 - accuracy: 0.8990 - val_loss: 0.2371 - val_accuracy: 0.8829\n",
      "Model: \"sequential_1\"\n",
      "_________________________________________________________________\n",
      " Layer (type)                Output Shape              Param #   \n",
      "=================================================================\n",
      " dense_3 (Dense)             (None, 216)               140616    \n",
      "                                                                 \n",
      " dense_4 (Dense)             (None, 3)                 651       \n",
      "                                                                 \n",
      "=================================================================\n",
      "Total params: 141,267\n",
      "Trainable params: 141,267\n",
      "Non-trainable params: 0\n",
      "_________________________________________________________________\n"
     ]
    }
   ],
   "source": [
    "optimized_model = build_model(best_hps)\n",
    "history = optimized_model.fit(train_X_nn, train_y_nn, epochs=35,\n",
    "                     validation_data=(validate_X, validate_y))\n",
    "optimized_model.summary()"
   ]
  },
  {
   "cell_type": "markdown",
   "metadata": {},
   "source": [
    "Output"
   ]
  },
  {
   "cell_type": "code",
   "execution_count": 23,
   "metadata": {},
   "outputs": [
    {
     "data": {
      "image/png": "[encoded data removed]",
      "text/plain": [
       "<Figure size 800x500 with 1 Axes>"
      ]
     },
     "metadata": {},
     "output_type": "display_data"
    },
    {
     "name": "stdout",
     "output_type": "stream",
     "text": [
      "84/84 [==============================] - 0s 515us/step\n",
      "Accuracy on test set: 89.65%\n"
     ]
    }
   ],
   "source": [
    "pd.DataFrame(history.history).plot(figsize=(8, 5))\n",
    "plt.grid(True)\n",
    "plt.gca().set_ylim(0, 3)\n",
    "plt.show()\n",
    "\n",
    "y_pred = optimized_model.predict(test_X)\n",
    "prediction = np.argmax(y_pred, axis=1)\n",
    "count=0\n",
    "for i,j in zip(prediction, test_y_nn):\n",
    "  if i==j:\n",
    "    count+=1\n",
    "print(f'Accuracy on test set: {count*100/test_y_nn.shape[0]:.2f}%')"
   ]
  },
  {
   "cell_type": "markdown",
   "metadata": {},
   "source": [
    "## 4. Model Testing and Comparison"
   ]
  },
  {
   "cell_type": "markdown",
   "metadata": {},
   "source": [
    "### 4.1 Test Results"
   ]
  },
  {
   "cell_type": "code",
   "execution_count": 57,
   "metadata": {},
   "outputs": [],
   "source": [
    "# NOTE\n",
    "# TODO: REMOVE BEFORE SUBMIT\n",
    "\n",
    "# For team members - Structure of a result dict (example):\n",
    "#\n",
    "# Add additional key/values if feel necessary\n",
    "\n",
    "example_lr_results = {\n",
    "    \"f1_score\": 0.12,\n",
    "    \"recall\": 0.34,\n",
    "    \"precision\": 0.56,\n",
    "    \"accuracy\": 0.78,\n",
    "\n",
    "    \"by_label\": {  # VALUES FOR DIFFERENT COUNTRY CATEGORIES\n",
    "        \"labels\": ['china', 'india', 'us'],  # country name labels, should be the same for every one\n",
    "        \"f1_score\": [ 0.12, 0.34, 0.56],\n",
    "        \"recall\": [ 0.12, 0.34, 0.56],\n",
    "        \"precision\": [ 0.12, 0.34, 0.56],\n",
    "    }\n",
    "}\n",
    "\n"
   ]
  },
  {
   "cell_type": "markdown",
   "metadata": {},
   "source": [
    "#### 4.1.1 Logistic Regression"
   ]
  },
  {
   "cell_type": "code",
   "execution_count": 59,
   "metadata": {},
   "outputs": [
    {
     "ename": "NotFittedError",
     "evalue": "This LogisticRegression instance is not fitted yet. Call 'fit' with appropriate arguments before using this estimator.",
     "output_type": "error",
     "traceback": [
      "\u001b[0;31m---------------------------------------------------------------------------\u001b[0m",
      "\u001b[0;31mNotFittedError\u001b[0m                            Traceback (most recent call last)",
      "\u001b[0;32m/tmp/ipykernel_21429/590473309.py\u001b[0m in \u001b[0;36m<module>\u001b[0;34m\u001b[0m\n\u001b[1;32m      1\u001b[0m \u001b[0;31m# Make prediction on the test set\u001b[0m\u001b[0;34m\u001b[0m\u001b[0;34m\u001b[0m\u001b[0;34m\u001b[0m\u001b[0m\n\u001b[0;32m----> 2\u001b[0;31m \u001b[0mlr_y_pred\u001b[0m \u001b[0;34m=\u001b[0m \u001b[0mlr\u001b[0m\u001b[0;34m.\u001b[0m\u001b[0mpredict\u001b[0m\u001b[0;34m(\u001b[0m\u001b[0mtest_X\u001b[0m\u001b[0;34m)\u001b[0m\u001b[0;34m\u001b[0m\u001b[0;34m\u001b[0m\u001b[0m\n\u001b[0m",
      "\u001b[0;32m~/miniconda3/lib/python3.7/site-packages/sklearn/linear_model/_base.py\u001b[0m in \u001b[0;36mpredict\u001b[0;34m(self, X)\u001b[0m\n\u001b[1;32m    423\u001b[0m             \u001b[0mVector\u001b[0m \u001b[0mcontaining\u001b[0m \u001b[0mthe\u001b[0m \u001b[0;32mclass\u001b[0m \u001b[0mlabels\u001b[0m \u001b[0;32mfor\u001b[0m \u001b[0meach\u001b[0m \u001b[0msample\u001b[0m\u001b[0;34m.\u001b[0m\u001b[0;34m\u001b[0m\u001b[0;34m\u001b[0m\u001b[0m\n\u001b[1;32m    424\u001b[0m         \"\"\"\n\u001b[0;32m--> 425\u001b[0;31m         \u001b[0mscores\u001b[0m \u001b[0;34m=\u001b[0m \u001b[0mself\u001b[0m\u001b[0;34m.\u001b[0m\u001b[0mdecision_function\u001b[0m\u001b[0;34m(\u001b[0m\u001b[0mX\u001b[0m\u001b[0;34m)\u001b[0m\u001b[0;34m\u001b[0m\u001b[0;34m\u001b[0m\u001b[0m\n\u001b[0m\u001b[1;32m    426\u001b[0m         \u001b[0;32mif\u001b[0m \u001b[0mlen\u001b[0m\u001b[0;34m(\u001b[0m\u001b[0mscores\u001b[0m\u001b[0;34m.\u001b[0m\u001b[0mshape\u001b[0m\u001b[0;34m)\u001b[0m \u001b[0;34m==\u001b[0m \u001b[0;36m1\u001b[0m\u001b[0;34m:\u001b[0m\u001b[0;34m\u001b[0m\u001b[0;34m\u001b[0m\u001b[0m\n\u001b[1;32m    427\u001b[0m             \u001b[0mindices\u001b[0m \u001b[0;34m=\u001b[0m \u001b[0;34m(\u001b[0m\u001b[0mscores\u001b[0m \u001b[0;34m>\u001b[0m \u001b[0;36m0\u001b[0m\u001b[0;34m)\u001b[0m\u001b[0;34m.\u001b[0m\u001b[0mastype\u001b[0m\u001b[0;34m(\u001b[0m\u001b[0mint\u001b[0m\u001b[0;34m)\u001b[0m\u001b[0;34m\u001b[0m\u001b[0;34m\u001b[0m\u001b[0m\n",
      "\u001b[0;32m~/miniconda3/lib/python3.7/site-packages/sklearn/linear_model/_base.py\u001b[0m in \u001b[0;36mdecision_function\u001b[0;34m(self, X)\u001b[0m\n\u001b[1;32m    403\u001b[0m             \u001b[0mthis\u001b[0m \u001b[0;32mclass\u001b[0m \u001b[0mwould\u001b[0m \u001b[0mbe\u001b[0m \u001b[0mpredicted\u001b[0m\u001b[0;34m.\u001b[0m\u001b[0;34m\u001b[0m\u001b[0;34m\u001b[0m\u001b[0m\n\u001b[1;32m    404\u001b[0m         \"\"\"\n\u001b[0;32m--> 405\u001b[0;31m         \u001b[0mcheck_is_fitted\u001b[0m\u001b[0;34m(\u001b[0m\u001b[0mself\u001b[0m\u001b[0;34m)\u001b[0m\u001b[0;34m\u001b[0m\u001b[0;34m\u001b[0m\u001b[0m\n\u001b[0m\u001b[1;32m    406\u001b[0m \u001b[0;34m\u001b[0m\u001b[0m\n\u001b[1;32m    407\u001b[0m         \u001b[0mX\u001b[0m \u001b[0;34m=\u001b[0m \u001b[0mself\u001b[0m\u001b[0;34m.\u001b[0m\u001b[0m_validate_data\u001b[0m\u001b[0;34m(\u001b[0m\u001b[0mX\u001b[0m\u001b[0;34m,\u001b[0m \u001b[0maccept_sparse\u001b[0m\u001b[0;34m=\u001b[0m\u001b[0;34m\"csr\"\u001b[0m\u001b[0;34m,\u001b[0m \u001b[0mreset\u001b[0m\u001b[0;34m=\u001b[0m\u001b[0;32mFalse\u001b[0m\u001b[0;34m)\u001b[0m\u001b[0;34m\u001b[0m\u001b[0;34m\u001b[0m\u001b[0m\n",
      "\u001b[0;32m~/miniconda3/lib/python3.7/site-packages/sklearn/utils/validation.py\u001b[0m in \u001b[0;36mcheck_is_fitted\u001b[0;34m(estimator, attributes, msg, all_or_any)\u001b[0m\n\u001b[1;32m   1220\u001b[0m \u001b[0;34m\u001b[0m\u001b[0m\n\u001b[1;32m   1221\u001b[0m     \u001b[0;32mif\u001b[0m \u001b[0;32mnot\u001b[0m \u001b[0mfitted\u001b[0m\u001b[0;34m:\u001b[0m\u001b[0;34m\u001b[0m\u001b[0;34m\u001b[0m\u001b[0m\n\u001b[0;32m-> 1222\u001b[0;31m         \u001b[0;32mraise\u001b[0m \u001b[0mNotFittedError\u001b[0m\u001b[0;34m(\u001b[0m\u001b[0mmsg\u001b[0m \u001b[0;34m%\u001b[0m \u001b[0;34m{\u001b[0m\u001b[0;34m\"name\"\u001b[0m\u001b[0;34m:\u001b[0m \u001b[0mtype\u001b[0m\u001b[0;34m(\u001b[0m\u001b[0mestimator\u001b[0m\u001b[0;34m)\u001b[0m\u001b[0;34m.\u001b[0m\u001b[0m__name__\u001b[0m\u001b[0;34m}\u001b[0m\u001b[0;34m)\u001b[0m\u001b[0;34m\u001b[0m\u001b[0;34m\u001b[0m\u001b[0m\n\u001b[0m\u001b[1;32m   1223\u001b[0m \u001b[0;34m\u001b[0m\u001b[0m\n\u001b[1;32m   1224\u001b[0m \u001b[0;34m\u001b[0m\u001b[0m\n",
      "\u001b[0;31mNotFittedError\u001b[0m: This LogisticRegression instance is not fitted yet. Call 'fit' with appropriate arguments before using this estimator."
     ]
    }
   ],
   "source": [
    "# Make prediction on the test set\n",
    "lr_y_pred = lr.predict(test_X)"
   ]
  },
  {
   "cell_type": "code",
   "execution_count": 56,
   "metadata": {},
   "outputs": [
    {
     "ename": "NameError",
     "evalue": "name 'lr_y_pred' is not defined",
     "output_type": "error",
     "traceback": [
      "\u001b[0;31m---------------------------------------------------------------------------\u001b[0m",
      "\u001b[0;31mNameError\u001b[0m                                 Traceback (most recent call last)",
      "\u001b[0;32m/tmp/ipykernel_21429/873855486.py\u001b[0m in \u001b[0;36m<module>\u001b[0;34m\u001b[0m\n\u001b[1;32m      4\u001b[0m \u001b[0mlr_results\u001b[0m\u001b[0;34m=\u001b[0m\u001b[0;34m{\u001b[0m\u001b[0;34m}\u001b[0m\u001b[0;34m\u001b[0m\u001b[0;34m\u001b[0m\u001b[0m\n\u001b[1;32m      5\u001b[0m \u001b[0;34m\u001b[0m\u001b[0m\n\u001b[0;32m----> 6\u001b[0;31m \u001b[0mlr_results\u001b[0m\u001b[0;34m[\u001b[0m\u001b[0;34m\"f1_score\"\u001b[0m\u001b[0;34m]\u001b[0m \u001b[0;34m=\u001b[0m \u001b[0mmetrics\u001b[0m\u001b[0;34m.\u001b[0m\u001b[0mf1_score\u001b[0m\u001b[0;34m(\u001b[0m\u001b[0mtest_y\u001b[0m\u001b[0;34m,\u001b[0m \u001b[0mlr_y_pred\u001b[0m\u001b[0;34m,\u001b[0m \u001b[0maverage\u001b[0m\u001b[0;34m=\u001b[0m\u001b[0;34m'macro'\u001b[0m\u001b[0;34m)\u001b[0m\u001b[0;34m\u001b[0m\u001b[0;34m\u001b[0m\u001b[0m\n\u001b[0m\u001b[1;32m      7\u001b[0m \u001b[0mlr_results\u001b[0m\u001b[0;34m[\u001b[0m\u001b[0;34m\"recall\"\u001b[0m\u001b[0;34m]\u001b[0m \u001b[0;34m=\u001b[0m \u001b[0mmetrics\u001b[0m\u001b[0;34m.\u001b[0m\u001b[0mrecall_score\u001b[0m\u001b[0;34m(\u001b[0m\u001b[0mtest_y\u001b[0m\u001b[0;34m,\u001b[0m \u001b[0mlr_y_pred\u001b[0m\u001b[0;34m,\u001b[0m \u001b[0maverage\u001b[0m\u001b[0;34m=\u001b[0m\u001b[0;34m'macro'\u001b[0m\u001b[0;34m)\u001b[0m\u001b[0;34m\u001b[0m\u001b[0;34m\u001b[0m\u001b[0m\n\u001b[1;32m      8\u001b[0m \u001b[0mlr_results\u001b[0m\u001b[0;34m[\u001b[0m\u001b[0;34m\"precision\"\u001b[0m\u001b[0;34m]\u001b[0m \u001b[0;34m=\u001b[0m \u001b[0mmetrics\u001b[0m\u001b[0;34m.\u001b[0m\u001b[0mprecision_score\u001b[0m\u001b[0;34m(\u001b[0m\u001b[0mtest_y\u001b[0m\u001b[0;34m,\u001b[0m \u001b[0mlr_y_pred\u001b[0m\u001b[0;34m,\u001b[0m \u001b[0maverage\u001b[0m\u001b[0;34m=\u001b[0m\u001b[0;34m'macro'\u001b[0m\u001b[0;34m)\u001b[0m\u001b[0;34m\u001b[0m\u001b[0;34m\u001b[0m\u001b[0m\n",
      "\u001b[0;31mNameError\u001b[0m: name 'lr_y_pred' is not defined"
     ]
    }
   ],
   "source": [
    "# Generate and save evaluation results\n",
    "\n",
    "# Variable for storing the evaluation of logistic regression\n",
    "lr_results={}\n",
    "\n",
    "lr_results[\"f1_score\"] = metrics.f1_score(test_y, lr_y_pred, average='macro')\n",
    "lr_results[\"recall\"] = metrics.recall_score(test_y, lr_y_pred, average='macro')\n",
    "lr_results[\"precision\"] = metrics.precision_score(test_y, lr_y_pred, average='macro')\n",
    "lr_results[\"accuracy\"] = metrics.accuracy_score(test_y, lr_y_pred)\n",
    "\n",
    "lr_results[\"by_label\"] = {}\n",
    "lr_results[\"by_label\"][\"labels\"] = np.sort(np.unique(dataset_y))  # for metric functions, all labels are used in sorted order\n",
    "lr_results[\"by_label\"][\"f1_score\"] = metrics.f1_score(test_y, lr_y_pred, average=None)\n",
    "lr_results[\"by_label\"][\"recall\"] = metrics.recall_score(test_y, lr_y_pred, average=None)\n",
    "lr_results[\"by_label\"][\"precision\"] = metrics.precision_score(test_y, lr_y_pred, average=None)\n",
    "\n",
    "# Print formatted classification report\n",
    "print(metrics.classification_report(test_y, lr_y_pred))\n",
    "\n",
    "# Check the result dict\n",
    "print()\n",
    "print(lr_results)"
   ]
  },
  {
   "cell_type": "markdown",
   "metadata": {},
   "source": [
    "#### 4.1.2 SVM"
   ]
  },
  {
   "cell_type": "code",
   "execution_count": 60,
   "metadata": {},
   "outputs": [
    {
     "name": "stdout",
     "output_type": "stream",
     "text": [
      "              precision    recall  f1-score   support\n",
      "\n",
      "       china       0.99      0.89      0.93       775\n",
      "       india       0.80      0.99      0.88      1009\n",
      "          us       0.97      0.79      0.87       873\n",
      "\n",
      "    accuracy                           0.89      2657\n",
      "   macro avg       0.92      0.89      0.90      2657\n",
      "weighted avg       0.91      0.89      0.89      2657\n",
      "\n",
      "\n",
      "{'f1_score': 0.8958323077872188, 'recall': 0.8880066112545991, 'precision': 0.9193575875795507, 'accuracy': 0.8934888972525404, 'by_label': {'labels': array(['china', 'india', 'us'], dtype='<U5'), 'f1_score': array([0.9346049 , 0.88398765, 0.86890437]), 'recall': array([0.88516129, 0.99306244, 0.78579611]), 'precision': array([0.98989899, 0.79650238, 0.97167139])}}\n"
     ]
    }
   ],
   "source": [
    "# Make prediction on the test set\n",
    "svm_y_pred = best_svm_model.predict(test_X)\n",
    "svm_results={}\n",
    "\n",
    "svm_results[\"f1_score\"] = metrics.f1_score(test_y, svm_y_pred, average='macro')\n",
    "svm_results[\"recall\"] = metrics.recall_score(test_y, svm_y_pred, average='macro')\n",
    "svm_results[\"precision\"] = metrics.precision_score(test_y, svm_y_pred, average='macro')\n",
    "svm_results[\"accuracy\"] = metrics.accuracy_score(test_y, svm_y_pred)\n",
    "\n",
    "svm_results[\"by_label\"] = {}\n",
    "svm_results[\"by_label\"][\"labels\"] = np.sort(np.unique(dataset_y)) \n",
    "svm_results[\"by_label\"][\"f1_score\"] = metrics.f1_score(test_y, svm_y_pred, average=None)\n",
    "svm_results[\"by_label\"][\"recall\"] = metrics.recall_score(test_y, svm_y_pred, average=None)\n",
    "svm_results[\"by_label\"][\"precision\"] = metrics.precision_score(test_y, svm_y_pred, average=None)\n",
    "\n",
    "# Print formatted classification report\n",
    "print(metrics.classification_report(test_y, svm_y_pred))\n",
    "\n",
    "# Check the result dict\n",
    "print(svm_results)"
   ]
  },
  {
   "cell_type": "markdown",
   "metadata": {},
   "source": [
    "#### 4.1.3 The Neural Network"
   ]
  },
  {
   "cell_type": "markdown",
   "metadata": {},
   "source": [
    "### 4.2 Result Comparison\n",
    "\n",
    "TODO"
   ]
  },
  {
   "cell_type": "code",
   "execution_count": null,
   "metadata": {},
   "outputs": [],
   "source": []
  }
 ],
 "metadata": {
  "kernelspec": {
   "display_name": "Python 3 (ipykernel)",
   "language": "python",
   "name": "python3"
  },
  "language_info": {
   "codemirror_mode": {
    "name": "ipython",
    "version": 3
   },
   "file_extension": ".py",
   "mimetype": "text/x-python",
   "name": "python",
   "nbconvert_exporter": "python",
   "pygments_lexer": "ipython3",
   "version": "3.7.13"
  }
 },
 "nbformat": 4,
 "nbformat_minor": 2
}
