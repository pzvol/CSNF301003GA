{
 "cells": [
  {
   "cell_type": "markdown",
   "metadata": {},
   "source": [
    "# (Title to be decided)"
   ]
  },
  {
   "cell_type": "markdown",
   "metadata": {},
   "source": [
    "*This is the file for the code of our group assignment. Under development.*"
   ]
  },
  {
   "cell_type": "code",
   "execution_count": 1,
   "metadata": {
    "scrolled": true
   },
   "outputs": [],
   "source": [
    "import json\n",
    "import matplotlib.pyplot as plt\n",
    "import numpy as np\n",
    "import pandas as pd\n",
    "import re\n",
    "import time\n",
    "from sklearn import metrics\n",
    "from sklearn import preprocessing\n",
    "from sklearn.decomposition import PCA\n",
    "from sklearn.feature_extraction.text import CountVectorizer\n",
    "from sklearn.model_selection import train_test_split\n",
    "from sklearn.preprocessing import LabelEncoder\n",
    "from sklearn.preprocessing import MinMaxScaler\n",
    "from tensorflow import keras\n",
    "from keras_tuner.tuners import BayesianOptimization\n",
    "\n",
    "# gpu acceleration, would cause an error when running without a cuda gpu\n",
    "import os\n",
    "os.environ[\"CUDA_VISIBLE_DEVICES\"]=\"0\""
   ]
  },
  {
   "cell_type": "markdown",
   "metadata": {},
   "source": [
    "Set up a time calculation method for collecting time used during running the code:"
   ]
  },
  {
   "cell_type": "code",
   "execution_count": 2,
   "metadata": {},
   "outputs": [],
   "source": [
    "# Variable for storing recorded timestamp\n",
    "timer_record = 0\n",
    "\n",
    "# Method for updating timer (setting the starting time)\n",
    "def timer_start():\n",
    "    global timer_record\n",
    "    timer_record = time.time()\n",
    "\n",
    "# Method for printing the time since last update\n",
    "#\n",
    "# the second num will be returned\n",
    "def timer_read(print_result=True):\n",
    "    second_passed = time.time() - timer_record\n",
    "    if print_result:\n",
    "        print(f\"{second_passed:.3}s passed\")\n",
    "        return\n",
    "    return second_passed\n"
   ]
  },
  {
   "cell_type": "markdown",
   "metadata": {},
   "source": [
    "## 1. Read Data from External File\n",
    "\n",
    "Read data in external files. For convenience, the original `.pcapng` file has been converted into `.json` and `.csv` with Wireshark."
   ]
  },
  {
   "cell_type": "code",
   "execution_count": 3,
   "metadata": {
    "tags": []
   },
   "outputs": [
    {
     "name": "stdout",
     "output_type": "stream",
     "text": [
      "10625 packets read\n"
     ]
    }
   ],
   "source": [
    "# Read the JSON including all details of packets\n",
    "#   errors=\"surrogateescape\" to pass the encoding errors raised by contents in HTTP packets\n",
    "with open(\"./data/traffic.json\", \"r\", encoding=\"utf-8\", errors=\"surrogateescape\") as f:\n",
    "    dataset_json=json.load(f)\n",
    "    print(f\"{len(dataset_json)} packets read\")\n",
    "\n",
    "# print one for checking\n",
    "#dataset_json[0]"
   ]
  },
  {
   "cell_type": "markdown",
   "metadata": {},
   "source": [
    "## 2. Data Preprocessing"
   ]
  },
  {
   "cell_type": "markdown",
   "metadata": {},
   "source": [
    "### 2.1 Extract dataset labels and encoding"
   ]
  },
  {
   "cell_type": "code",
   "execution_count": 4,
   "metadata": {
    "tags": []
   },
   "outputs": [
    {
     "name": "stdout",
     "output_type": "stream",
     "text": [
      "Labels include ['china' 'india' 'us']\n",
      "(10625,)\n"
     ]
    }
   ],
   "source": [
    "# Extract labels(y) from JSON\n",
    "dataset_y = np.array(list(map(\n",
    "    lambda packet_json: (packet_json[\"_source\"][\"layers\"][\"pkt_comment\"][\"frame.comment\"]).split(\",\")[1], \n",
    "    dataset_json\n",
    ")))\n",
    "\n",
    "print(f\"Labels include {np.unique(dataset_y)}\")\n",
    "print(dataset_y.shape)"
   ]
  },
  {
   "cell_type": "markdown",
   "metadata": {},
   "source": [
    "### 2.2 Extract features"
   ]
  },
  {
   "cell_type": "code",
   "execution_count": 5,
   "metadata": {
    "tags": []
   },
   "outputs": [
    {
     "name": "stdout",
     "output_type": "stream",
     "text": [
      "10.11.1.3\n",
      "10.11.1.3\n",
      "8.8.8.8\n",
      "dns.google\n"
     ]
    }
   ],
   "source": [
    "# Extract source IP, source IP host, destination IP and destination IP host from dataset\n",
    "dataset_X_ip_src = np.array(list(map(\n",
    "    lambda packet_json: packet_json[\"_source\"][\"layers\"][\"ip\"][\"ip.src\"], \n",
    "    dataset_json\n",
    ")))\n",
    "dataset_X_ip_src_host = np.array(list(map(\n",
    "    lambda packet_json: packet_json[\"_source\"][\"layers\"][\"ip\"][\"ip.src_host\"], \n",
    "    dataset_json\n",
    ")))\n",
    "dataset_X_ip_dst = np.array(list(map(\n",
    "    lambda packet_json: packet_json[\"_source\"][\"layers\"][\"ip\"][\"ip.dst\"], \n",
    "    dataset_json\n",
    ")))\n",
    "dataset_X_ip_dst_host = np.array(list(map(\n",
    "    lambda packet_json: packet_json[\"_source\"][\"layers\"][\"ip\"][\"ip.dst_host\"], \n",
    "    dataset_json\n",
    ")))\n",
    "\n",
    "# print first ones for checking\n",
    "print(dataset_X_ip_src[0])\n",
    "print(dataset_X_ip_src_host[0])\n",
    "print(dataset_X_ip_dst[0])\n",
    "print(dataset_X_ip_dst_host[0])\n"
   ]
  },
  {
   "cell_type": "markdown",
   "metadata": {},
   "source": [
    "### 2.3 Check data sanity and deal with missing fields"
   ]
  },
  {
   "cell_type": "code",
   "execution_count": 6,
   "metadata": {
    "tags": []
   },
   "outputs": [
    {
     "name": "stdout",
     "output_type": "stream",
     "text": [
      "Source/dest IP not an IPv4 address:\n",
      "[]\n",
      "[]\n",
      "Source/dest host not an IPv4 nor a domain:\n",
      "[]\n",
      "['no-data', 'no-data']\n",
      "\n",
      "Indexes of rows with missing 'dst.host': [960 964]\n",
      "Missing 'dst.host' filled\n"
     ]
    }
   ],
   "source": [
    "# Data sanity check\n",
    "pattern_not_ipv4 = re.compile(r\"(?!((\\b25[0-5]|\\b2[0-4][0-9]|\\b[01]?[0-9][0-9]?)(\\.(25[0-5]|2[0-4][0-9]|[01]?[0-9][0-9]?)){3}))\")\n",
    "pattern_not_ipv4_nor_domain = re.compile(r\"(?!((\\b25[0-5]|\\b2[0-4][0-9]|\\b[01]?[0-9][0-9]?)(\\.(25[0-5]|2[0-4][0-9]|[01]?[0-9][0-9]?)){3})|[-_0-9a-zA-Z]+\\.[-_0-9a-zA-Z]+)\")\n",
    "\n",
    "print(\"Source/dest IP not an IPv4 address:\")\n",
    "print(list(filter(pattern_not_ipv4.match, dataset_X_ip_src)))\n",
    "print(list(filter(pattern_not_ipv4.match, dataset_X_ip_dst)))\n",
    "print(\"Source/dest host not an IPv4 nor a domain:\")\n",
    "print(list(filter(pattern_not_ipv4_nor_domain.match, dataset_X_ip_src_host)))\n",
    "print(list(filter(pattern_not_ipv4_nor_domain.match, dataset_X_ip_dst_host)))\n",
    "\n",
    "print()\n",
    "\n",
    "# Fill the missing `dst.host`\n",
    "#\n",
    "# Find \"no-data\" rows\n",
    "missing_dst_host_indexes = np.where(dataset_X_ip_dst_host=='no-data')[0]\n",
    "print(f\"Indexes of rows with missing 'dst.host': {missing_dst_host_indexes}\")\n",
    "\n",
    "# Fill the field with the IP address in `dst`, following the way of other rows\n",
    "for i in missing_dst_host_indexes:\n",
    "    dataset_X_ip_dst_host[i] = dataset_X_ip_dst[i]\n",
    "\n",
    "print(\"Missing 'dst.host' filled\")"
   ]
  },
  {
   "cell_type": "markdown",
   "metadata": {},
   "source": [
    "### 2.4 Bi-gram for similarity between IPs and domains"
   ]
  },
  {
   "cell_type": "code",
   "execution_count": 7,
   "metadata": {
    "tags": []
   },
   "outputs": [
    {
     "name": "stdout",
     "output_type": "stream",
     "text": [
      "(10625, 1402)\n",
      "(10625, 867)\n",
      "(10625, 1629)\n",
      "(10625, 1059)\n",
      "\n",
      "(10625, 4957)\n"
     ]
    }
   ],
   "source": [
    "# bi-gram for similar IP and hostnames\n",
    "bigram_vec = CountVectorizer(ngram_range=(2, 2), token_pattern=r\"(?u)[^.]+\")\n",
    "dataset_X_ip_src_bg = bigram_vec.fit_transform(dataset_X_ip_src).toarray()\n",
    "dataset_X_ip_src_host_bg = bigram_vec.fit_transform(dataset_X_ip_src_host).toarray()\n",
    "dataset_X_ip_dst_bg = bigram_vec.fit_transform(dataset_X_ip_dst).toarray()\n",
    "dataset_X_ip_dst_host_bg = bigram_vec.fit_transform(dataset_X_ip_dst_host).toarray()\n",
    "\n",
    "print(dataset_X_ip_src_bg.shape)\n",
    "print(dataset_X_ip_src_host_bg.shape)\n",
    "print(dataset_X_ip_dst_bg.shape)\n",
    "print(dataset_X_ip_dst_host_bg.shape)\n",
    "\n",
    "dataset_X = np.concatenate((\n",
    "    dataset_X_ip_src_bg, \n",
    "    dataset_X_ip_src_host_bg,\n",
    "    dataset_X_ip_dst_bg, \n",
    "    dataset_X_ip_dst_host_bg), axis=1)\n",
    "\n",
    "print(\"\")\n",
    "print(dataset_X.shape)\n"
   ]
  },
  {
   "cell_type": "markdown",
   "metadata": {},
   "source": [
    "### 2.5 Normalization"
   ]
  },
  {
   "cell_type": "code",
   "execution_count": 8,
   "metadata": {
    "tags": []
   },
   "outputs": [
    {
     "name": "stdout",
     "output_type": "stream",
     "text": [
      "(10625, 4957)\n"
     ]
    }
   ],
   "source": [
    "# Normalization\n",
    "dataset_X = MinMaxScaler().fit_transform(dataset_X)\n",
    "print(dataset_X.shape)"
   ]
  },
  {
   "cell_type": "markdown",
   "metadata": {},
   "source": [
    "### 2.6 Principal Component Analysis (PCA)"
   ]
  },
  {
   "cell_type": "code",
   "execution_count": 9,
   "metadata": {},
   "outputs": [],
   "source": [
    "# # PCA - check the 95% with figure\n",
    "# #\n",
    "# # This part is not necessary for the main process and\n",
    "# # can be commented out to save time\n",
    "# pca = PCA()\n",
    "# pca.fit(dataset_X)\n",
    "# pca_cumsum = np.cumsum(pca.explained_variance_ratio_)\n",
    "\n",
    "# plt.figure()\n",
    "# plt.axis([0, dataset_X.shape[1], 0, 1]) \n",
    "# plt.plot(pca_cumsum)\n",
    "# plt.axhline(y=0.95,color='red')\n",
    "# plt.xlabel(\"dimensions\")\n",
    "# plt.ylabel(\"explained variance\")\n",
    "# plt.grid(True)\n",
    "# plt.show()"
   ]
  },
  {
   "cell_type": "code",
   "execution_count": 10,
   "metadata": {
    "tags": []
   },
   "outputs": [
    {
     "name": "stdout",
     "output_type": "stream",
     "text": [
      "(10625, 650)\n",
      "66.3s passed\n"
     ]
    }
   ],
   "source": [
    "timer_start()\n",
    "\n",
    "# Apply PCA for compression\n",
    "pca = PCA(n_components=0.95)\n",
    "dataset_X = pca.fit_transform(dataset_X)\n",
    "\n",
    "print(dataset_X.shape)\n",
    "timer_read()"
   ]
  },
  {
   "cell_type": "markdown",
   "metadata": {},
   "source": [
    "### 2.7 Dataset split"
   ]
  },
  {
   "cell_type": "code",
   "execution_count": 11,
   "metadata": {
    "tags": []
   },
   "outputs": [
    {
     "name": "stdout",
     "output_type": "stream",
     "text": [
      "(7968, 650)\n",
      "(7968,)\n",
      "(2657, 650)\n",
      "(2657,)\n"
     ]
    }
   ],
   "source": [
    "# Split the dataset into training set and testing set\n",
    "train_X, test_X, train_y, test_y = train_test_split(dataset_X, dataset_y)\n",
    "\n",
    "print(train_X.shape)\n",
    "print(train_y.shape)\n",
    "print(test_X.shape)\n",
    "print(test_y.shape)"
   ]
  },
  {
   "cell_type": "markdown",
   "metadata": {},
   "source": [
    "## 3. Model Training\n",
    "\n",
    "### 3.1 Logistic Regression\n",
    "\n",
    "#### 3.1.1 Parameter Tuning\n",
    "\n",
    "(This part is **not** necessary for generating the final result and can be commented out to save time)"
   ]
  },
  {
   "cell_type": "code",
   "execution_count": 12,
   "metadata": {},
   "outputs": [
    {
     "name": "stdout",
     "output_type": "stream",
     "text": [
      "Fitting 5 folds for each of 5 candidates, totalling 25 fits\n",
      "[CV 1/5] END ............................C=0.01;, score=0.807 total time=   0.1s\n",
      "[CV 2/5] END ............................C=0.01;, score=0.819 total time=   0.1s\n",
      "[CV 3/5] END ............................C=0.01;, score=0.801 total time=   0.1s\n",
      "[CV 4/5] END ............................C=0.01;, score=0.813 total time=   0.1s\n",
      "[CV 5/5] END ............................C=0.01;, score=0.804 total time=   0.1s\n",
      "[CV 1/5] END .............................C=0.1;, score=0.871 total time=   0.3s\n",
      "[CV 2/5] END .............................C=0.1;, score=0.857 total time=   0.3s\n",
      "[CV 3/5] END .............................C=0.1;, score=0.866 total time=   0.4s\n",
      "[CV 4/5] END .............................C=0.1;, score=0.872 total time=   0.3s\n",
      "[CV 5/5] END .............................C=0.1;, score=0.870 total time=   0.3s\n",
      "[CV 1/5] END .............................C=1.0;, score=0.891 total time=   0.7s\n",
      "[CV 2/5] END .............................C=1.0;, score=0.863 total time=   0.8s\n",
      "[CV 3/5] END .............................C=1.0;, score=0.885 total time=   0.7s\n",
      "[CV 4/5] END .............................C=1.0;, score=0.896 total time=   0.7s\n",
      "[CV 5/5] END .............................C=1.0;, score=0.886 total time=   0.8s\n",
      "[CV 1/5] END ............................C=10.0;, score=0.893 total time=   2.0s\n",
      "[CV 2/5] END ............................C=10.0;, score=0.863 total time=   2.0s\n",
      "[CV 3/5] END ............................C=10.0;, score=0.885 total time=   2.0s\n",
      "[CV 4/5] END ............................C=10.0;, score=0.895 total time=   1.9s\n",
      "[CV 5/5] END ............................C=10.0;, score=0.884 total time=   2.0s\n",
      "[CV 1/5] END ...........................C=100.0;, score=0.895 total time=   6.2s\n",
      "[CV 2/5] END ...........................C=100.0;, score=0.862 total time=   5.8s\n",
      "[CV 3/5] END ...........................C=100.0;, score=0.888 total time=   5.1s\n",
      "[CV 4/5] END ...........................C=100.0;, score=0.895 total time=   5.4s\n",
      "[CV 5/5] END ...........................C=100.0;, score=0.886 total time=   5.9s\n",
      "Best Parameter:     {'C': 100.0}\n",
      "Score of the best:  0.8851669907791381\n"
     ]
    }
   ],
   "source": [
    "from sklearn.linear_model import LogisticRegression\n",
    "from sklearn.model_selection import GridSearchCV\n",
    "\n",
    "# Define the model\n",
    "lr = LogisticRegression(max_iter=10000)\n",
    "\n",
    "# Search for the best C value using grid search CV\n",
    "lr_param_grid = {\n",
    "    'C': np.logspace(-2, 2, 5),\n",
    "}\n",
    "lr_grid_search = GridSearchCV(lr, lr_param_grid, cv=5, scoring='accuracy', verbose=4)\n",
    "lr_grid_search.fit(train_X, train_y)\n",
    "\n",
    "# Print the best parameter and score\n",
    "print(\"Best Parameter:    \", lr_grid_search.best_params_)\n",
    "print(\"Score of the best: \", lr_grid_search.best_score_)"
   ]
  },
  {
   "cell_type": "code",
   "execution_count": 13,
   "metadata": {},
   "outputs": [
    {
     "data": {
      "text/plain": "<Figure size 640x480 with 1 Axes>",
      "image/png": "[encoded data removed]"
     },
     "metadata": {},
     "output_type": "display_data"
    }
   ],
   "source": [
    "# Print the scores of all tested potential params\n",
    "lr_grid_param_values = []\n",
    "lr_grid_precision_values = []\n",
    "for i, params in enumerate(lr_grid_search.cv_results_['params']):\n",
    "    lr_grid_param_values.append(params['C'])\n",
    "    lr_grid_precision_values.append(lr_grid_search.cv_results_['mean_test_score'][i])\n",
    "\n",
    "# Plot the precision values for each parameter value\n",
    "plt.bar(range(len(lr_grid_precision_values)), lr_grid_precision_values, tick_label=lr_grid_param_values)\n",
    "plt.xlabel('C')\n",
    "plt.ylabel('Accuracy')\n",
    "plt.ylim([0.8, 0.9])\n",
    "plt.title('Grid search result: accuracy for different C values')\n",
    "plt.show()"
   ]
  },
  {
   "cell_type": "markdown",
   "metadata": {},
   "source": [
    "Based on the bar chart, scores for 1, 10 and 100 are close to each other with few differences. `C=1` is chosen with its high performance and the lowest time consumption between the three values, who is also the default value and a frequently used one in common practice,"
   ]
  },
  {
   "cell_type": "markdown",
   "metadata": {},
   "source": [
    "#### 3.1.2 Model Training"
   ]
  },
  {
   "cell_type": "code",
   "execution_count": 14,
   "metadata": {},
   "outputs": [
    {
     "name": "stdout",
     "output_type": "stream",
     "text": [
      "1.41s passed\n"
     ]
    }
   ],
   "source": [
    "timer_start()\n",
    "\n",
    "lr = LogisticRegression(C=1.0, max_iter=1000)\n",
    "lr.fit(train_X, train_y)\n",
    "\n",
    "timer_read()"
   ]
  },
  {
   "cell_type": "markdown",
   "metadata": {},
   "source": [
    "### 3.2 Support Vector Machine (SVM)\n",
    "\n",
    "#### 3.2.1 Parameter Tuning\n",
    "\n",
    "(This part is **not** necessary for generating the final result and can be commented out to save time)"
   ]
  },
  {
   "cell_type": "code",
   "execution_count": 15,
   "metadata": {},
   "outputs": [
    {
     "name": "stdout",
     "output_type": "stream",
     "text": [
      "Fitting 5 folds for each of 15 candidates, totalling 75 fits\n",
      "[CV 1/5] END .............C=0.01, kernel=linear;, score=0.774 total time=   8.9s\n",
      "[CV 2/5] END .............C=0.01, kernel=linear;, score=0.789 total time=   7.9s\n",
      "[CV 3/5] END .............C=0.01, kernel=linear;, score=0.767 total time=   7.8s\n",
      "[CV 4/5] END .............C=0.01, kernel=linear;, score=0.765 total time=   7.9s\n",
      "[CV 5/5] END .............C=0.01, kernel=linear;, score=0.765 total time=   8.2s\n",
      "[CV 1/5] END ................C=0.01, kernel=rbf;, score=0.679 total time=  17.8s\n",
      "[CV 2/5] END ................C=0.01, kernel=rbf;, score=0.707 total time=  18.0s\n",
      "[CV 3/5] END ................C=0.01, kernel=rbf;, score=0.687 total time=  17.6s\n",
      "[CV 4/5] END ................C=0.01, kernel=rbf;, score=0.692 total time=  19.5s\n",
      "[CV 5/5] END ................C=0.01, kernel=rbf;, score=0.684 total time=  18.4s\n",
      "[CV 1/5] END ............C=0.01, kernel=sigmoid;, score=0.730 total time=  16.6s\n",
      "[CV 2/5] END ............C=0.01, kernel=sigmoid;, score=0.735 total time=  19.1s\n",
      "[CV 3/5] END ............C=0.01, kernel=sigmoid;, score=0.718 total time=  15.8s\n",
      "[CV 4/5] END ............C=0.01, kernel=sigmoid;, score=0.715 total time=  16.0s\n",
      "[CV 5/5] END ............C=0.01, kernel=sigmoid;, score=0.719 total time=  15.9s\n",
      "[CV 1/5] END ..............C=0.1, kernel=linear;, score=0.868 total time=   5.0s\n",
      "[CV 2/5] END ..............C=0.1, kernel=linear;, score=0.866 total time=   4.9s\n",
      "[CV 3/5] END ..............C=0.1, kernel=linear;, score=0.873 total time=   4.9s\n",
      "[CV 4/5] END ..............C=0.1, kernel=linear;, score=0.877 total time=   5.0s\n",
      "[CV 5/5] END ..............C=0.1, kernel=linear;, score=0.873 total time=   5.0s\n",
      "[CV 1/5] END .................C=0.1, kernel=rbf;, score=0.799 total time=  10.4s\n",
      "[CV 2/5] END .................C=0.1, kernel=rbf;, score=0.811 total time=  11.4s\n",
      "[CV 3/5] END .................C=0.1, kernel=rbf;, score=0.786 total time=  14.0s\n",
      "[CV 4/5] END .................C=0.1, kernel=rbf;, score=0.790 total time=  19.0s\n",
      "[CV 5/5] END .................C=0.1, kernel=rbf;, score=0.783 total time=  12.1s\n",
      "[CV 1/5] END .............C=0.1, kernel=sigmoid;, score=0.765 total time=  10.5s\n",
      "[CV 2/5] END .............C=0.1, kernel=sigmoid;, score=0.775 total time=   9.4s\n",
      "[CV 3/5] END .............C=0.1, kernel=sigmoid;, score=0.763 total time=  10.2s\n",
      "[CV 4/5] END .............C=0.1, kernel=sigmoid;, score=0.760 total time=  10.2s\n",
      "[CV 5/5] END .............C=0.1, kernel=sigmoid;, score=0.757 total time=   9.6s\n",
      "[CV 1/5] END ..............C=1.0, kernel=linear;, score=0.886 total time=   4.1s\n",
      "[CV 2/5] END ..............C=1.0, kernel=linear;, score=0.863 total time=   3.9s\n",
      "[CV 3/5] END ..............C=1.0, kernel=linear;, score=0.883 total time=   3.9s\n",
      "[CV 4/5] END ..............C=1.0, kernel=linear;, score=0.890 total time=   3.9s\n",
      "[CV 5/5] END ..............C=1.0, kernel=linear;, score=0.887 total time=   3.9s\n",
      "[CV 1/5] END .................C=1.0, kernel=rbf;, score=0.883 total time=   6.3s\n",
      "[CV 2/5] END .................C=1.0, kernel=rbf;, score=0.861 total time=   6.1s\n",
      "[CV 3/5] END .................C=1.0, kernel=rbf;, score=0.880 total time=   6.5s\n",
      "[CV 4/5] END .................C=1.0, kernel=rbf;, score=0.889 total time=   6.9s\n",
      "[CV 5/5] END .................C=1.0, kernel=rbf;, score=0.887 total time=   7.6s\n",
      "[CV 1/5] END .............C=1.0, kernel=sigmoid;, score=0.848 total time=   6.8s\n",
      "[CV 2/5] END .............C=1.0, kernel=sigmoid;, score=0.826 total time=   6.0s\n",
      "[CV 3/5] END .............C=1.0, kernel=sigmoid;, score=0.834 total time=   6.1s\n",
      "[CV 4/5] END .............C=1.0, kernel=sigmoid;, score=0.847 total time=   6.4s\n",
      "[CV 5/5] END .............C=1.0, kernel=sigmoid;, score=0.837 total time=   6.3s\n",
      "[CV 1/5] END .............C=10.0, kernel=linear;, score=0.888 total time=   4.3s\n",
      "[CV 2/5] END .............C=10.0, kernel=linear;, score=0.863 total time=   3.7s\n",
      "[CV 3/5] END .............C=10.0, kernel=linear;, score=0.885 total time=   4.0s\n",
      "[CV 4/5] END .............C=10.0, kernel=linear;, score=0.891 total time=   4.1s\n",
      "[CV 5/5] END .............C=10.0, kernel=linear;, score=0.882 total time=   4.4s\n",
      "[CV 1/5] END ................C=10.0, kernel=rbf;, score=0.888 total time=   6.3s\n",
      "[CV 2/5] END ................C=10.0, kernel=rbf;, score=0.864 total time=   5.9s\n",
      "[CV 3/5] END ................C=10.0, kernel=rbf;, score=0.883 total time=   5.9s\n",
      "[CV 4/5] END ................C=10.0, kernel=rbf;, score=0.891 total time=   5.4s\n",
      "[CV 5/5] END ................C=10.0, kernel=rbf;, score=0.887 total time=   5.8s\n",
      "[CV 1/5] END ............C=10.0, kernel=sigmoid;, score=0.863 total time=   5.5s\n",
      "[CV 2/5] END ............C=10.0, kernel=sigmoid;, score=0.822 total time=   5.4s\n",
      "[CV 3/5] END ............C=10.0, kernel=sigmoid;, score=0.846 total time=   4.0s\n",
      "[CV 4/5] END ............C=10.0, kernel=sigmoid;, score=0.838 total time=   6.1s\n",
      "[CV 5/5] END ............C=10.0, kernel=sigmoid;, score=0.847 total time=   5.1s\n",
      "[CV 1/5] END ............C=100.0, kernel=linear;, score=0.887 total time=   7.3s\n",
      "[CV 2/5] END ............C=100.0, kernel=linear;, score=0.861 total time=   4.5s\n",
      "[CV 3/5] END ............C=100.0, kernel=linear;, score=0.880 total time=   7.0s\n",
      "[CV 4/5] END ............C=100.0, kernel=linear;, score=0.895 total time=   6.1s\n",
      "[CV 5/5] END ............C=100.0, kernel=linear;, score=0.882 total time=   5.4s\n",
      "[CV 1/5] END ...............C=100.0, kernel=rbf;, score=0.890 total time=   6.6s\n",
      "[CV 2/5] END ...............C=100.0, kernel=rbf;, score=0.864 total time=   7.0s\n",
      "[CV 3/5] END ...............C=100.0, kernel=rbf;, score=0.886 total time=   6.0s\n",
      "[CV 4/5] END ...............C=100.0, kernel=rbf;, score=0.895 total time=   5.4s\n",
      "[CV 5/5] END ...............C=100.0, kernel=rbf;, score=0.887 total time=   5.6s\n",
      "[CV 1/5] END ...........C=100.0, kernel=sigmoid;, score=0.856 total time=   3.7s\n",
      "[CV 2/5] END ...........C=100.0, kernel=sigmoid;, score=0.828 total time=   3.9s\n",
      "[CV 3/5] END ...........C=100.0, kernel=sigmoid;, score=0.838 total time=   4.2s\n",
      "[CV 4/5] END ...........C=100.0, kernel=sigmoid;, score=0.847 total time=   4.8s\n",
      "[CV 5/5] END ...........C=100.0, kernel=sigmoid;, score=0.837 total time=   5.4s\n",
      "Best Parameter:     {'C': 100.0, 'kernel': 'rbf'}\n",
      "Score of the best:  0.8842888547054594\n"
     ]
    }
   ],
   "source": [
    "from sklearn.svm import SVC  # Support Vector Classifier\n",
    "\n",
    "# Grid_search for SVM\n",
    "svm = SVC()\n",
    "svm_param_grid = {\n",
    "    'C': np.logspace(-2, 2, 5),\n",
    "    'kernel':['linear','rbf','sigmoid']\n",
    "}\n",
    "\n",
    "svm_grid_search = GridSearchCV(svm, svm_param_grid, cv=5, scoring='accuracy', verbose=4)\n",
    "svm_grid_search.fit(train_X, train_y)\n",
    "\n",
    "# Print the best parameter and score\n",
    "print(\"Best Parameter:    \", svm_grid_search.best_params_)\n",
    "print(\"Score of the best: \", svm_grid_search.best_score_)"
   ]
  },
  {
   "cell_type": "code",
   "execution_count": 16,
   "metadata": {
    "scrolled": false
   },
   "outputs": [
    {
     "data": {
      "text/plain": "<Figure size 640x480 with 1 Axes>",
      "image/png": "[encoded data removed]"
     },
     "metadata": {},
     "output_type": "display_data"
    }
   ],
   "source": [
    "svm_grid_results = []\n",
    "for i, params in enumerate(svm_grid_search.cv_results_['params']):\n",
    "    svm_grid_results.append({\n",
    "        \"param\": f\"{params['kernel']}, {params['C']}\",\n",
    "        \"score\": svm_grid_search.cv_results_['mean_test_score'][i]\n",
    "    })\n",
    "\n",
    "# Sort the results by params\n",
    "svm_grid_results = sorted(svm_grid_results, key=lambda a:a[\"param\"])\n",
    "\n",
    "\n",
    "# Plot the accuracy values for each parameter value\n",
    "svm_grid_param_values = []\n",
    "svm_grid_accuracy_values = []\n",
    "for r in svm_grid_results:\n",
    "    svm_grid_param_values.append(r[\"param\"])\n",
    "    svm_grid_accuracy_values.append(r[\"score\"])\n",
    "\n",
    "plt.bar(range(len(svm_grid_param_values)), svm_grid_accuracy_values, tick_label=svm_grid_param_values)\n",
    "plt.xlabel('C & kernel combination')\n",
    "plt.xticks(rotation=90)\n",
    "plt.ylabel('Accuracy')\n",
    "plt.ylim([0.6, 0.95])\n",
    "plt.title('Grid search result: accuracy with different C and kernels')\n",
    "plt.show()"
   ]
  },
  {
   "cell_type": "markdown",
   "metadata": {},
   "source": [
    "Based on the grid search result, `C=100` and `kernel=\"rbf\"` is chosen for the SVM model with its best accuracy."
   ]
  },
  {
   "cell_type": "markdown",
   "metadata": {},
   "source": [
    "#### 3.2.2 Model Training"
   ]
  },
  {
   "cell_type": "code",
   "execution_count": 17,
   "metadata": {},
   "outputs": [
    {
     "name": "stdout",
     "output_type": "stream",
     "text": [
      "6.96s passed\n"
     ]
    }
   ],
   "source": [
    "timer_start()\n",
    "\n",
    "svm_model = SVC(kernel = 'rbf', C = 100)\n",
    "svm_model.fit(train_X, train_y)\n",
    "\n",
    "timer_read()"
   ]
  },
  {
   "cell_type": "markdown",
   "metadata": {},
   "source": [
    "### 3.3 neural network"
   ]
  },
  {
   "cell_type": "markdown",
   "metadata": {},
   "source": [
    "Data proccess"
   ]
  },
  {
   "cell_type": "code",
   "execution_count": 18,
   "metadata": {},
   "outputs": [
    {
     "name": "stdout",
     "output_type": "stream",
     "text": [
      "(5577, 650)\n",
      "(2391, 650)\n",
      "(5577, 3)\n",
      "(2391, 3)\n",
      "Index(['china', 'india', 'us'], dtype='object')\n"
     ]
    }
   ],
   "source": [
    "keras.backend.clear_session()\n",
    "\n",
    "temp_train_y = pd.DataFrame(train_y, columns=['country'])\n",
    "temp_train_y, uniques = pd.factorize(temp_train_y['country'], sort=True)\n",
    "train_X_nn, validate_X, train_y_nn, validate_y = train_test_split(train_X, temp_train_y, random_state=114514, test_size=0.3)\n",
    "\n",
    "train_y_nn = keras.utils.to_categorical(train_y_nn, 3).astype('int32')\n",
    "validate_y = keras.utils.to_categorical(validate_y, 3).astype('int32')\n",
    "\n",
    "print(train_X_nn.shape)\n",
    "print(validate_X.shape)\n",
    "print(train_y_nn.shape)\n",
    "print(validate_y.shape)\n",
    "print(uniques)"
   ]
  },
  {
   "cell_type": "markdown",
   "metadata": {},
   "source": [
    "Define model"
   ]
  },
  {
   "cell_type": "code",
   "execution_count": 19,
   "metadata": {},
   "outputs": [],
   "source": [
    "def build_optimizer(hp):\n",
    "    optimizer = hp.Choice('optimizer', ['adam', 'rmsprop', 'sgd'])\n",
    "    lr = hp.Float('learning_rate', min_value=1e-5, max_value=1e-4, step=1e-5)\n",
    "    if optimizer == 'adam':\n",
    "        return keras.optimizers.Adam(learning_rate=lr)\n",
    "    elif optimizer == 'rmsprop':\n",
    "        return keras.optimizers.RMSprop(learning_rate=lr)\n",
    "    else:\n",
    "        return keras.optimizers.SGD(learning_rate=lr, momentum=hp.Float('momentum', min_value=0, max_value=0.9, step=0.02))\n",
    "\n",
    "def build_model(hp):\n",
    "    model = keras.models.Sequential(keras.layers.InputLayer(input_shape=[train_X.shape[1]]))\n",
    "    model.add(keras.layers.Dense(hp.Int('neurons1', min_value=1, max_value=300, step=5),\n",
    "                                 activation=hp.Choice('actv1', ['relu', 'tanh', 'sigmoid']),\n",
    "                                 kernel_initializer='he_normal'))\n",
    "    if hp.Boolean('second_layer', True):\n",
    "        model.add(keras.layers.Dropout(hp.Float('dropout1', min_value=0, max_value=0.3, step=0.02)))\n",
    "        model.add(keras.layers.Dense(hp.Int('neurons2', min_value=1, max_value=300, step=5),\n",
    "                                     activation=hp.Choice('actv2', ['relu', 'tanh', 'sigmoid']),\n",
    "                                     kernel_initializer='he_normal'))\n",
    "    model.add(keras.layers.Dense(3, activation=\"softmax\"))\n",
    "\n",
    "    model.compile(loss='categorical_crossentropy',\n",
    "                  optimizer=build_optimizer(hp),\n",
    "                  metrics=['accuracy'])\n",
    "    return model"
   ]
  },
  {
   "cell_type": "markdown",
   "metadata": {},
   "source": [
    "Bayesion optimization"
   ]
  },
  {
   "cell_type": "code",
   "execution_count": 20,
   "metadata": {},
   "outputs": [
    {
     "name": "stdout",
     "output_type": "stream",
     "text": [
      "INFO:tensorflow:Reloading Tuner from .\\neural_network_optimize\\tuner0.json\n",
      "INFO:tensorflow:Oracle triggered exit\n",
      "Best hyperparameters: {'neurons1': 281, 'actv1': 'relu', 'second_layer': False, 'dropout1': 0.02, 'neurons2': 131, 'actv2': 'relu', 'optimizer': 'adam', 'learning_rate': 6e-05}\n"
     ]
    }
   ],
   "source": [
    "tuner = BayesianOptimization(\n",
    "    build_model,\n",
    "    objective='val_accuracy',\n",
    "    max_trials=10,\n",
    "    executions_per_trial=2,\n",
    "    project_name='neural_network_optimize'\n",
    ")\n",
    "\n",
    "tuner.search(x=train_X_nn, y=train_y_nn, epochs=35, validation_data=(validate_X, validate_y))\n",
    "\n",
    "best_hps = tuner.get_best_hyperparameters()[0]\n",
    "print(f'Best hyperparameters: {best_hps.values}')\n"
   ]
  },
  {
   "cell_type": "markdown",
   "metadata": {},
   "source": [
    "Model Trainning"
   ]
  },
  {
   "cell_type": "code",
   "execution_count": 21,
   "metadata": {},
   "outputs": [
    {
     "name": "stdout",
     "output_type": "stream",
     "text": [
      "Epoch 1/35\n",
      "175/175 [==============================] - 2s 5ms/step - loss: 1.0602 - accuracy: 0.4653 - val_loss: 1.0051 - val_accuracy: 0.6403\n",
      "Epoch 2/35\n",
      "175/175 [==============================] - 1s 3ms/step - loss: 0.9511 - accuracy: 0.7300 - val_loss: 0.9091 - val_accuracy: 0.7599\n",
      "Epoch 3/35\n",
      "175/175 [==============================] - 1s 3ms/step - loss: 0.8527 - accuracy: 0.7963 - val_loss: 0.8190 - val_accuracy: 0.7913\n",
      "Epoch 4/35\n",
      "175/175 [==============================] - 1s 3ms/step - loss: 0.7606 - accuracy: 0.8189 - val_loss: 0.7350 - val_accuracy: 0.8051\n",
      "Epoch 5/35\n",
      "175/175 [==============================] - 1s 3ms/step - loss: 0.6767 - accuracy: 0.8297 - val_loss: 0.6594 - val_accuracy: 0.8210\n",
      "Epoch 6/35\n",
      "175/175 [==============================] - 1s 3ms/step - loss: 0.6029 - accuracy: 0.8413 - val_loss: 0.5945 - val_accuracy: 0.8302\n",
      "Epoch 7/35\n",
      "175/175 [==============================] - 1s 3ms/step - loss: 0.5408 - accuracy: 0.8474 - val_loss: 0.5400 - val_accuracy: 0.8377\n",
      "Epoch 8/35\n",
      "175/175 [==============================] - 1s 3ms/step - loss: 0.4893 - accuracy: 0.8573 - val_loss: 0.4951 - val_accuracy: 0.8511\n",
      "Epoch 9/35\n",
      "175/175 [==============================] - 1s 3ms/step - loss: 0.4473 - accuracy: 0.8670 - val_loss: 0.4584 - val_accuracy: 0.8582\n",
      "Epoch 10/35\n",
      "175/175 [==============================] - 1s 3ms/step - loss: 0.4129 - accuracy: 0.8723 - val_loss: 0.4280 - val_accuracy: 0.8670\n",
      "Epoch 11/35\n",
      "175/175 [==============================] - 1s 3ms/step - loss: 0.3846 - accuracy: 0.8804 - val_loss: 0.4030 - val_accuracy: 0.8678\n",
      "Epoch 12/35\n",
      "175/175 [==============================] - 1s 4ms/step - loss: 0.3609 - accuracy: 0.8815 - val_loss: 0.3819 - val_accuracy: 0.8699\n",
      "Epoch 13/35\n",
      "175/175 [==============================] - 1s 4ms/step - loss: 0.3411 - accuracy: 0.8809 - val_loss: 0.3636 - val_accuracy: 0.8770\n",
      "Epoch 14/35\n",
      "175/175 [==============================] - 1s 3ms/step - loss: 0.3243 - accuracy: 0.8822 - val_loss: 0.3482 - val_accuracy: 0.8800\n",
      "Epoch 15/35\n",
      "175/175 [==============================] - 1s 3ms/step - loss: 0.3099 - accuracy: 0.8874 - val_loss: 0.3345 - val_accuracy: 0.8808\n",
      "Epoch 16/35\n",
      "175/175 [==============================] - 1s 3ms/step - loss: 0.2976 - accuracy: 0.8879 - val_loss: 0.3236 - val_accuracy: 0.8766\n",
      "Epoch 17/35\n",
      "175/175 [==============================] - 1s 4ms/step - loss: 0.2869 - accuracy: 0.8897 - val_loss: 0.3133 - val_accuracy: 0.8787\n",
      "Epoch 18/35\n",
      "175/175 [==============================] - 1s 4ms/step - loss: 0.2776 - accuracy: 0.8899 - val_loss: 0.3044 - val_accuracy: 0.8791\n",
      "Epoch 19/35\n",
      "175/175 [==============================] - 1s 3ms/step - loss: 0.2697 - accuracy: 0.8894 - val_loss: 0.2968 - val_accuracy: 0.8787\n",
      "Epoch 20/35\n",
      "175/175 [==============================] - 1s 4ms/step - loss: 0.2626 - accuracy: 0.8919 - val_loss: 0.2897 - val_accuracy: 0.8854\n",
      "Epoch 21/35\n",
      "175/175 [==============================] - 1s 4ms/step - loss: 0.2564 - accuracy: 0.8930 - val_loss: 0.2836 - val_accuracy: 0.8795\n",
      "Epoch 22/35\n",
      "175/175 [==============================] - 1s 3ms/step - loss: 0.2511 - accuracy: 0.8919 - val_loss: 0.2781 - val_accuracy: 0.8846\n",
      "Epoch 23/35\n",
      "175/175 [==============================] - 1s 3ms/step - loss: 0.2463 - accuracy: 0.8919 - val_loss: 0.2733 - val_accuracy: 0.8850\n",
      "Epoch 24/35\n",
      "175/175 [==============================] - 1s 3ms/step - loss: 0.2419 - accuracy: 0.8921 - val_loss: 0.2690 - val_accuracy: 0.8883\n",
      "Epoch 25/35\n",
      "175/175 [==============================] - 1s 3ms/step - loss: 0.2382 - accuracy: 0.8897 - val_loss: 0.2655 - val_accuracy: 0.8795\n",
      "Epoch 26/35\n",
      "175/175 [==============================] - 1s 3ms/step - loss: 0.2347 - accuracy: 0.8928 - val_loss: 0.2621 - val_accuracy: 0.8795\n",
      "Epoch 27/35\n",
      "175/175 [==============================] - 1s 3ms/step - loss: 0.2318 - accuracy: 0.8908 - val_loss: 0.2595 - val_accuracy: 0.8795\n",
      "Epoch 28/35\n",
      "175/175 [==============================] - 1s 3ms/step - loss: 0.2289 - accuracy: 0.8933 - val_loss: 0.2564 - val_accuracy: 0.8795\n",
      "Epoch 29/35\n",
      "175/175 [==============================] - 1s 4ms/step - loss: 0.2265 - accuracy: 0.8949 - val_loss: 0.2538 - val_accuracy: 0.8833\n",
      "Epoch 30/35\n",
      "175/175 [==============================] - 1s 4ms/step - loss: 0.2242 - accuracy: 0.8931 - val_loss: 0.2516 - val_accuracy: 0.8833\n",
      "Epoch 31/35\n",
      "175/175 [==============================] - 1s 3ms/step - loss: 0.2222 - accuracy: 0.8904 - val_loss: 0.2498 - val_accuracy: 0.8833\n",
      "Epoch 32/35\n",
      "175/175 [==============================] - 1s 3ms/step - loss: 0.2202 - accuracy: 0.8922 - val_loss: 0.2479 - val_accuracy: 0.8858\n",
      "Epoch 33/35\n",
      "175/175 [==============================] - 1s 3ms/step - loss: 0.2186 - accuracy: 0.8962 - val_loss: 0.2464 - val_accuracy: 0.8883\n",
      "Epoch 34/35\n",
      "175/175 [==============================] - 1s 3ms/step - loss: 0.2171 - accuracy: 0.8912 - val_loss: 0.2450 - val_accuracy: 0.8871\n",
      "Epoch 35/35\n",
      "175/175 [==============================] - 1s 3ms/step - loss: 0.2156 - accuracy: 0.8940 - val_loss: 0.2438 - val_accuracy: 0.8871\n",
      "Model: \"sequential\"\n",
      "_________________________________________________________________\n",
      " Layer (type)                Output Shape              Param #   \n",
      "=================================================================\n",
      " dense (Dense)               (None, 281)               182931    \n",
      "                                                                 \n",
      " dense_1 (Dense)             (None, 3)                 846       \n",
      "                                                                 \n",
      "=================================================================\n",
      "Total params: 183,777\n",
      "Trainable params: 183,777\n",
      "Non-trainable params: 0\n",
      "_________________________________________________________________\n"
     ]
    }
   ],
   "source": [
    "optimized_model = build_model(best_hps)\n",
    "history = optimized_model.fit(train_X_nn, train_y_nn, epochs=35,\n",
    "                     validation_data=(validate_X, validate_y))\n",
    "optimized_model.summary()"
   ]
  },
  {
   "cell_type": "markdown",
   "metadata": {},
   "source": [
    "Output"
   ]
  },
  {
   "cell_type": "code",
   "execution_count": 22,
   "metadata": {},
   "outputs": [
    {
     "data": {
      "text/plain": "<Figure size 800x500 with 1 Axes>",
      "image/png": "[encoded data removed]"
     },
     "metadata": {},
     "output_type": "display_data"
    }
   ],
   "source": [
    "pd.DataFrame(history.history).plot(figsize=(8, 5))\n",
    "plt.grid(True)\n",
    "plt.gca().set_ylim(0, 3)\n",
    "plt.show()"
   ]
  },
  {
   "cell_type": "markdown",
   "metadata": {},
   "source": [
    "## 4. Model Testing and Comparison"
   ]
  },
  {
   "cell_type": "markdown",
   "metadata": {},
   "source": [
    "### 4.1 Test Results"
   ]
  },
  {
   "cell_type": "code",
   "execution_count": 23,
   "metadata": {},
   "outputs": [],
   "source": [
    "# NOTE\n",
    "# TODO: REMOVE BEFORE SUBMIT\n",
    "\n",
    "# For team members - Structure of a result dict (example):\n",
    "#\n",
    "# Add additional key/values if feel necessary\n",
    "\n",
    "example_lr_results = {\n",
    "    \"f1_score\": 0.12,\n",
    "    \"recall\": 0.34,\n",
    "    \"precision\": 0.56,\n",
    "    \"accuracy\": 0.78,\n",
    "\n",
    "    \"by_label\": {  # VALUES FOR DIFFERENT COUNTRY CATEGORIES\n",
    "        \"labels\": ['china', 'india', 'us'],  # country name labels, should be the same for every one\n",
    "        \"f1_score\": [ 0.12, 0.34, 0.56],\n",
    "        \"recall\": [ 0.12, 0.34, 0.56],\n",
    "        \"precision\": [ 0.12, 0.34, 0.56],\n",
    "    }\n",
    "}\n",
    "\n"
   ]
  },
  {
   "cell_type": "markdown",
   "metadata": {},
   "source": [
    "#### 4.1.1 Logistic Regression"
   ]
  },
  {
   "cell_type": "code",
   "execution_count": 24,
   "metadata": {},
   "outputs": [
    {
     "name": "stdout",
     "output_type": "stream",
     "text": [
      "0.004s passed\n"
     ]
    }
   ],
   "source": [
    "# Make prediction on the test set\n",
    "timer_start()\n",
    "\n",
    "lr_y_pred = lr.predict(test_X)\n",
    "\n",
    "timer_read()"
   ]
  },
  {
   "cell_type": "code",
   "execution_count": 25,
   "metadata": {},
   "outputs": [
    {
     "name": "stdout",
     "output_type": "stream",
     "text": [
      "              precision    recall  f1-score   support\n",
      "\n",
      "       china       0.99      0.90      0.94       779\n",
      "       india       0.85      0.90      0.87      1014\n",
      "          us       0.85      0.87      0.86       864\n",
      "\n",
      "    accuracy                           0.89      2657\n",
      "   macro avg       0.90      0.89      0.89      2657\n",
      "weighted avg       0.89      0.89      0.89      2657\n",
      "\n",
      "\n",
      "{'f1_score': 0.891525848365471, 'recall': 0.8876977309817736, 'precision': 0.897376460122679, 'accuracy': 0.8878434324426044, 'by_label': {'labels': array(['china', 'india', 'us'], dtype='<U5'), 'f1_score': array([0.94339623, 0.87403846, 0.85714286]), 'recall': array([0.89858793, 0.8964497 , 0.86805556]), 'precision': array([0.9929078 , 0.85272045, 0.84650113])}}\n"
     ]
    }
   ],
   "source": [
    "# Generate and save evaluation results\n",
    "\n",
    "# Variable for storing the evaluation of logistic regression\n",
    "lr_results={}\n",
    "\n",
    "lr_results[\"f1_score\"] = metrics.f1_score(test_y, lr_y_pred, average='macro')\n",
    "lr_results[\"recall\"] = metrics.recall_score(test_y, lr_y_pred, average='macro')\n",
    "lr_results[\"precision\"] = metrics.precision_score(test_y, lr_y_pred, average='macro')\n",
    "lr_results[\"accuracy\"] = metrics.accuracy_score(test_y, lr_y_pred)\n",
    "\n",
    "lr_results[\"by_label\"] = {}\n",
    "lr_results[\"by_label\"][\"labels\"] = np.sort(np.unique(dataset_y))  # for metric functions, all labels are used in sorted order\n",
    "lr_results[\"by_label\"][\"f1_score\"] = metrics.f1_score(test_y, lr_y_pred, average=None)\n",
    "lr_results[\"by_label\"][\"recall\"] = metrics.recall_score(test_y, lr_y_pred, average=None)\n",
    "lr_results[\"by_label\"][\"precision\"] = metrics.precision_score(test_y, lr_y_pred, average=None)\n",
    "\n",
    "# Print formatted classification report\n",
    "print(metrics.classification_report(test_y, lr_y_pred))\n",
    "\n",
    "# Check the result dict\n",
    "print()\n",
    "print(lr_results)"
   ]
  },
  {
   "cell_type": "markdown",
   "metadata": {},
   "source": [
    "#### 4.1.2 SVM"
   ]
  },
  {
   "cell_type": "code",
   "execution_count": 26,
   "metadata": {},
   "outputs": [
    {
     "name": "stdout",
     "output_type": "stream",
     "text": [
      "3.11s passed\n"
     ]
    }
   ],
   "source": [
    "# Make prediction\n",
    "timer_start()\n",
    "svm_y_pred = svm_model.predict(test_X)\n",
    "timer_read()"
   ]
  },
  {
   "cell_type": "code",
   "execution_count": 27,
   "metadata": {},
   "outputs": [
    {
     "name": "stdout",
     "output_type": "stream",
     "text": [
      "              precision    recall  f1-score   support\n",
      "\n",
      "       china       0.99      0.90      0.94       779\n",
      "       india       0.81      0.99      0.89      1014\n",
      "          us       0.97      0.81      0.88       864\n",
      "\n",
      "    accuracy                           0.90      2657\n",
      "   macro avg       0.92      0.90      0.90      2657\n",
      "weighted avg       0.91      0.90      0.90      2657\n",
      "\n",
      "{'f1_score': 0.9035277709755819, 'recall': 0.8960222974491762, 'precision': 0.9234380068511792, 'accuracy': 0.9010161836657885, 'by_label': {'labels': array(['china', 'india', 'us'], dtype='<U5'), 'f1_score': array([0.94078062, 0.88879004, 0.88101266]), 'recall': array([0.89730424, 0.9852071 , 0.80555556]), 'precision': array([0.98868458, 0.8095624 , 0.97206704])}}\n"
     ]
    }
   ],
   "source": [
    "# Evaluate the prediction\n",
    "svm_results={}\n",
    "\n",
    "svm_results[\"f1_score\"] = metrics.f1_score(test_y, svm_y_pred, average='macro')\n",
    "svm_results[\"recall\"] = metrics.recall_score(test_y, svm_y_pred, average='macro')\n",
    "svm_results[\"precision\"] = metrics.precision_score(test_y, svm_y_pred, average='macro')\n",
    "svm_results[\"accuracy\"] = metrics.accuracy_score(test_y, svm_y_pred)\n",
    "\n",
    "svm_results[\"by_label\"] = {}\n",
    "svm_results[\"by_label\"][\"labels\"] = np.sort(np.unique(dataset_y))\n",
    "svm_results[\"by_label\"][\"f1_score\"] = metrics.f1_score(test_y, svm_y_pred, average=None)\n",
    "svm_results[\"by_label\"][\"recall\"] = metrics.recall_score(test_y, svm_y_pred, average=None)\n",
    "svm_results[\"by_label\"][\"precision\"] = metrics.precision_score(test_y, svm_y_pred, average=None)\n",
    "\n",
    "# Print formatted classification report\n",
    "print(metrics.classification_report(test_y, svm_y_pred))\n",
    "\n",
    "# Check the result dict\n",
    "print(svm_results)"
   ]
  },
  {
   "cell_type": "markdown",
   "metadata": {},
   "source": [
    "#### 4.1.3 The Neural Network"
   ]
  },
  {
   "cell_type": "code",
   "execution_count": 56,
   "outputs": [
    {
     "name": "stdout",
     "output_type": "stream",
     "text": [
      "84/84 [==============================] - 0s 2ms/step\n",
      "['2' '1' '2' ... '2' '1' '1']\n",
      "0.248s passed\n"
     ]
    },
    {
     "data": {
      "text/plain": "array(['us', 'india', 'us', ..., 'us', 'india', 'india'], dtype='<U21')"
     },
     "execution_count": 56,
     "metadata": {},
     "output_type": "execute_result"
    }
   ],
   "source": [
    "timer_start()\n",
    "nn_y_pred = optimized_model.predict(test_X)\n",
    "nn_y_pred = np.argmax(nn_y_pred, axis=1)\n",
    "nn_y_pred = nn_y_pred.astype(np.unicode_)\n",
    "print(nn_y_pred)\n",
    "for i in range(len(uniques)):\n",
    "    n1 = str(i)\n",
    "    n2 = uniques[i]\n",
    "    index = (nn_y_pred == n1)\n",
    "    nn_y_pred[index] = n2\n",
    "timer_read()\n",
    "nn_y_pred"
   ],
   "metadata": {
    "collapsed": false
   }
  },
  {
   "cell_type": "code",
   "execution_count": 57,
   "outputs": [
    {
     "name": "stdout",
     "output_type": "stream",
     "text": [
      "              precision    recall  f1-score   support\n",
      "\n",
      "       china       0.99      0.90      0.94       779\n",
      "       india       0.80      0.99      0.88      1014\n",
      "          us       0.98      0.79      0.87       864\n",
      "\n",
      "    accuracy                           0.90      2657\n",
      "   macro avg       0.92      0.89      0.90      2657\n",
      "weighted avg       0.91      0.90      0.90      2657\n",
      "\n",
      "{'f1_score': 0.9007197889398685, 'recall': 0.893005095965005, 'precision': 0.9225999568649534, 'accuracy': 0.8980052691004893, 'by_label': {'labels': array(['china', 'india', 'us'], dtype='<U5'), 'f1_score': array([0.94291471, 0.88456435, 0.87468031]), 'recall': array([0.90115533, 0.98619329, 0.79166667]), 'precision': array([0.98873239, 0.80192462, 0.97714286])}}\n"
     ]
    }
   ],
   "source": [
    "nn_results={}\n",
    "\n",
    "nn_results[\"f1_score\"] = metrics.f1_score(test_y, nn_y_pred, average='macro')\n",
    "nn_results[\"recall\"] = metrics.recall_score(test_y, nn_y_pred, average='macro')\n",
    "nn_results[\"precision\"] = metrics.precision_score(test_y, nn_y_pred, average='macro')\n",
    "nn_results[\"accuracy\"] = metrics.accuracy_score(test_y, nn_y_pred)\n",
    "\n",
    "nn_results[\"by_label\"] = {}\n",
    "nn_results[\"by_label\"][\"labels\"] = np.sort(np.unique(dataset_y))\n",
    "nn_results[\"by_label\"][\"f1_score\"] = metrics.f1_score(test_y, nn_y_pred, average=None)\n",
    "nn_results[\"by_label\"][\"recall\"] = metrics.recall_score(test_y, nn_y_pred, average=None)\n",
    "nn_results[\"by_label\"][\"precision\"] = metrics.precision_score(test_y, nn_y_pred, average=None)\n",
    "\n",
    "print(metrics.classification_report(test_y, nn_y_pred))\n",
    "print(nn_results)"
   ],
   "metadata": {
    "collapsed": false
   }
  },
  {
   "cell_type": "markdown",
   "metadata": {},
   "source": [
    "### 4.2 Result Comparison\n",
    "\n",
    "TODO"
   ]
  },
  {
   "cell_type": "code",
   "execution_count": null,
   "metadata": {},
   "outputs": [],
   "source": []
  }
 ],
 "metadata": {
  "kernelspec": {
   "display_name": "Python 3 (ipykernel)",
   "language": "python",
   "name": "python3"
  },
  "language_info": {
   "codemirror_mode": {
    "name": "ipython",
    "version": 3
   },
   "file_extension": ".py",
   "mimetype": "text/x-python",
   "name": "python",
   "nbconvert_exporter": "python",
   "pygments_lexer": "ipython3",
   "version": "3.9.13"
  }
 },
 "nbformat": 4,
 "nbformat_minor": 2
}
