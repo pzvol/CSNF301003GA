{
 "cells": [
  {
   "cell_type": "markdown",
   "metadata": {},
   "source": [
    "# (Title to be decided)"
   ]
  },
  {
   "cell_type": "markdown",
   "metadata": {},
   "source": [
    "*This is the file for the code of our group assignment. Under development.*"
   ]
  },
  {
   "cell_type": "code",
   "execution_count": 1,
   "metadata": {
    "scrolled": true
   },
   "outputs": [],
   "source": [
    "import json\n",
    "import matplotlib.pyplot as plt\n",
    "import numpy as np\n",
    "import pandas as pd\n",
    "import re\n",
    "import time\n",
    "from sklearn import preprocessing\n",
    "from sklearn.decomposition import PCA\n",
    "from sklearn.feature_extraction.text import CountVectorizer\n",
    "from sklearn.model_selection import train_test_split\n",
    "from sklearn.preprocessing import LabelEncoder\n",
    "from sklearn.preprocessing import MinMaxScaler\n",
    "from tensorflow import keras\n",
    "from keras_tuner.tuners import BayesianOptimization\n",
    "\n",
    "# gpu acceleration, would cause an error when running without a cuda gpu\n",
    "import os\n",
    "os.environ[\"CUDA_VISIBLE_DEVICES\"]=\"0\""
   ]
  },
  {
   "cell_type": "markdown",
   "metadata": {},
   "source": [
    "Set up a time calculation method for collecting time used during running the code:"
   ]
  },
  {
   "cell_type": "code",
   "execution_count": 2,
   "metadata": {},
   "outputs": [],
   "source": [
    "# Variable for storing recorded timestamp\n",
    "timer_record = 0\n",
    "\n",
    "# Method for updating timer (setting the starting time)\n",
    "def timer_start():\n",
    "\tglobal timer_record\n",
    "\ttimer_record = time.time()\n",
    "\n",
    "# Method for printing the time since last update\n",
    "#\n",
    "# the second num will be returned\n",
    "def timer_read(print_result=True):\n",
    "\tsecond_passed = time.time() - timer_record\n",
    "\tif print_result:\n",
    "\t\tprint(f\"{second_passed:.3}s passed\")\n",
    "\treturn second_passed\n"
   ]
  },
  {
   "cell_type": "markdown",
   "metadata": {},
   "source": [
    "## 1. Read Data from External File\n",
    "\n",
    "Read data in external files. For convenience, the original `.pcapng` file has been converted into `.json` and `.csv` with Wireshark."
   ]
  },
  {
   "cell_type": "code",
   "execution_count": 3,
   "metadata": {
    "tags": []
   },
   "outputs": [
    {
     "name": "stdout",
     "output_type": "stream",
     "text": [
      "10625 packets read\n"
     ]
    },
    {
     "data": {
      "text/plain": "{'_index': 'packets-XXXX-XX-XX',\n '_type': 'doc',\n '_score': None,\n '_source': {'layers': {'pkt_comment': {'frame.comment': '13682128230572000042,china',\n    'frame.comment_tree': {'_ws.expert': {'frame.comment.expert': '',\n      '_ws.expert.message': '13682128230572000042,china',\n      '_ws.expert.severity': '1048576',\n      '_ws.expert.group': '184549376'}}},\n   'frame': {'frame.interface_id': '0',\n    'frame.interface_id_tree': {'frame.interface_name': 'unknown'},\n    'frame.encap_type': '7',\n    'frame.time': 'Not representable',\n    'frame.offset_shift': '0.000000000',\n    'frame.time_epoch': '-1460980371.753735000',\n    'frame.time_delta': '0.000000000',\n    'frame.time_delta_displayed': '0.000000000',\n    'frame.time_relative': '0.000000000',\n    'frame.number': '1',\n    'frame.len': '58',\n    'frame.cap_len': '58',\n    'frame.marked': '0',\n    'frame.ignored': '0',\n    'frame.protocols': 'raw:ip:udp:dns',\n    'frame.coloring_rule.name': 'UDP',\n    'frame.coloring_rule.string': 'udp'},\n   'raw': 'Raw packet data',\n   'ip': {'ip.version': '4',\n    'ip.hdr_len': '20',\n    'ip.dsfield': '0x00000000',\n    'ip.dsfield_tree': {'ip.dsfield.dscp': '0', 'ip.dsfield.ecn': '0'},\n    'ip.len': '58',\n    'ip.id': '0x00002baf',\n    'ip.flags': '0x00000000',\n    'ip.flags_tree': {'ip.flags.rb': '0',\n     'ip.flags.df': '0',\n     'ip.flags.mf': '0'},\n    'ip.frag_offset': '0',\n    'ip.ttl': '254',\n    'ip.proto': '17',\n    'ip.checksum': '0x000075e6',\n    'ip.checksum.status': '2',\n    'ip.src': '10.11.1.3',\n    'ip.addr': '8.8.8.8',\n    'ip.src_host': '10.11.1.3',\n    'ip.host': 'dns.google',\n    'ip.dst': '8.8.8.8',\n    'ip.dst_host': 'dns.google'},\n   'udp': {'udp.srcport': '57329',\n    'udp.dstport': '53',\n    'udp.port': '53',\n    'udp.length': '38',\n    'udp.checksum': '0x000074d0',\n    'udp.checksum.status': '2',\n    'udp.stream': '0',\n    'Timestamps': {'udp.time_relative': '0.000000000',\n     'udp.time_delta': '0.000000000'}},\n   'dns': {'dns.id': '0x0000e8e9',\n    'dns.flags': '0x00000100',\n    'dns.flags_tree': {'dns.flags.response': '0',\n     'dns.flags.opcode': '0',\n     'dns.flags.truncated': '0',\n     'dns.flags.recdesired': '1',\n     'dns.flags.z': '0',\n     'dns.flags.checkdisable': '0'},\n    'dns.count.queries': '1',\n    'dns.count.answers': '0',\n    'dns.count.auth_rr': '0',\n    'dns.count.add_rr': '0',\n    'Queries': {'lcs.naver.jp: type A, class IN': {'dns.qry.name': 'lcs.naver.jp',\n      'dns.qry.name.len': '12',\n      'dns.count.labels': '3',\n      'dns.qry.type': '1',\n      'dns.qry.class': '0x00000001'}},\n    'dns.response_in': '2'}}}}"
     },
     "execution_count": 3,
     "metadata": {},
     "output_type": "execute_result"
    }
   ],
   "source": [
    "# Read the JSON including all details of packets\n",
    "#   errors=\"surrogateescape\" to pass the encoding errors raised by contents in HTTP packets\n",
    "with open(\"./data/traffic.json\", \"r\", encoding=\"utf-8\", errors=\"surrogateescape\") as f:\n",
    "    dataset_json=json.load(f)\n",
    "    print(f\"{len(dataset_json)} packets read\")\n",
    "\n",
    "# print one for checking\n",
    "dataset_json[0]"
   ]
  },
  {
   "cell_type": "markdown",
   "metadata": {},
   "source": [
    "## 2. Data Preprocessing"
   ]
  },
  {
   "cell_type": "markdown",
   "metadata": {},
   "source": [
    "### 2.1 Extract dataset labels and encoding"
   ]
  },
  {
   "cell_type": "code",
   "execution_count": 4,
   "metadata": {
    "tags": []
   },
   "outputs": [
    {
     "name": "stdout",
     "output_type": "stream",
     "text": [
      "Labels include ['china' 'india' 'us']\n",
      "(10625,)\n"
     ]
    }
   ],
   "source": [
    "# Extract labels(y) from JSON\n",
    "dataset_y = np.array(list(map(\n",
    "    lambda packet_json: (packet_json[\"_source\"][\"layers\"][\"pkt_comment\"][\"frame.comment\"]).split(\",\")[1], \n",
    "    dataset_json\n",
    ")))\n",
    "\n",
    "print(f\"Labels include {np.unique(dataset_y)}\")\n",
    "print(dataset_y.shape)"
   ]
  },
  {
   "cell_type": "markdown",
   "metadata": {},
   "source": [
    "### 2.2 Extract features"
   ]
  },
  {
   "cell_type": "code",
   "execution_count": 5,
   "metadata": {
    "tags": []
   },
   "outputs": [
    {
     "name": "stdout",
     "output_type": "stream",
     "text": [
      "10.11.1.3\n",
      "10.11.1.3\n",
      "8.8.8.8\n",
      "dns.google\n"
     ]
    }
   ],
   "source": [
    "# Extract source IP, source IP host, destination IP and destination IP host from dataset\n",
    "dataset_X_ip_src = np.array(list(map(\n",
    "    lambda packet_json: packet_json[\"_source\"][\"layers\"][\"ip\"][\"ip.src\"], \n",
    "    dataset_json\n",
    ")))\n",
    "dataset_X_ip_src_host = np.array(list(map(\n",
    "    lambda packet_json: packet_json[\"_source\"][\"layers\"][\"ip\"][\"ip.src_host\"], \n",
    "    dataset_json\n",
    ")))\n",
    "dataset_X_ip_dst = np.array(list(map(\n",
    "    lambda packet_json: packet_json[\"_source\"][\"layers\"][\"ip\"][\"ip.dst\"], \n",
    "    dataset_json\n",
    ")))\n",
    "dataset_X_ip_dst_host = np.array(list(map(\n",
    "    lambda packet_json: packet_json[\"_source\"][\"layers\"][\"ip\"][\"ip.dst_host\"], \n",
    "    dataset_json\n",
    ")))\n",
    "\n",
    "# print first ones for checking\n",
    "print(dataset_X_ip_src[0])\n",
    "print(dataset_X_ip_src_host[0])\n",
    "print(dataset_X_ip_dst[0])\n",
    "print(dataset_X_ip_dst_host[0])\n"
   ]
  },
  {
   "cell_type": "markdown",
   "metadata": {},
   "source": [
    "### 2.3 Check data sanity and deal with missing fields"
   ]
  },
  {
   "cell_type": "code",
   "execution_count": 6,
   "metadata": {
    "tags": []
   },
   "outputs": [
    {
     "name": "stdout",
     "output_type": "stream",
     "text": [
      "Source/dest IP not an IPv4 address:\n",
      "[]\n",
      "[]\n",
      "Source/dest host not an IPv4 nor a domain:\n",
      "[]\n",
      "['no-data', 'no-data']\n",
      "\n",
      "Indexes of rows with missing 'dst.host': [960 964]\n",
      "Missing 'dst.host' filled\n"
     ]
    }
   ],
   "source": [
    "# Data sanity check\n",
    "pattern_not_ipv4 = re.compile(r\"(?!((\\b25[0-5]|\\b2[0-4][0-9]|\\b[01]?[0-9][0-9]?)(\\.(25[0-5]|2[0-4][0-9]|[01]?[0-9][0-9]?)){3}))\")\n",
    "pattern_not_ipv4_nor_domain = re.compile(r\"(?!((\\b25[0-5]|\\b2[0-4][0-9]|\\b[01]?[0-9][0-9]?)(\\.(25[0-5]|2[0-4][0-9]|[01]?[0-9][0-9]?)){3})|[-_0-9a-zA-Z]+\\.[-_0-9a-zA-Z]+)\")\n",
    "\n",
    "print(\"Source/dest IP not an IPv4 address:\")\n",
    "print(list(filter(pattern_not_ipv4.match, dataset_X_ip_src)))\n",
    "print(list(filter(pattern_not_ipv4.match, dataset_X_ip_dst)))\n",
    "print(\"Source/dest host not an IPv4 nor a domain:\")\n",
    "print(list(filter(pattern_not_ipv4_nor_domain.match, dataset_X_ip_src_host)))\n",
    "print(list(filter(pattern_not_ipv4_nor_domain.match, dataset_X_ip_dst_host)))\n",
    "\n",
    "print()\n",
    "\n",
    "# Fill the missing `dst.host`\n",
    "#\n",
    "# Find \"no-data\" rows\n",
    "missing_dst_host_indexes = np.where(dataset_X_ip_dst_host=='no-data')[0]\n",
    "print(f\"Indexes of rows with missing 'dst.host': {missing_dst_host_indexes}\")\n",
    "\n",
    "# Fill the field with the IP address in `dst`, following the way of other rows\n",
    "for i in missing_dst_host_indexes:\n",
    "    dataset_X_ip_dst_host[i] = dataset_X_ip_dst[i]\n",
    "\n",
    "print(\"Missing 'dst.host' filled\")"
   ]
  },
  {
   "cell_type": "markdown",
   "metadata": {},
   "source": [
    "### 2.4 Bi-gram for similarity between IPs and domains"
   ]
  },
  {
   "cell_type": "code",
   "execution_count": 7,
   "metadata": {
    "tags": []
   },
   "outputs": [
    {
     "name": "stdout",
     "output_type": "stream",
     "text": [
      "(10625, 1402)\n",
      "(10625, 867)\n",
      "(10625, 1629)\n",
      "(10625, 1059)\n",
      "\n",
      "(10625, 4957)\n"
     ]
    }
   ],
   "source": [
    "# bi-gram for similar IP and hostnames\n",
    "bigram_vec = CountVectorizer(ngram_range=(2, 2), token_pattern=r\"(?u)[^.]+\")\n",
    "dataset_X_ip_src_bg = bigram_vec.fit_transform(dataset_X_ip_src).toarray()\n",
    "dataset_X_ip_src_host_bg = bigram_vec.fit_transform(dataset_X_ip_src_host).toarray()\n",
    "dataset_X_ip_dst_bg = bigram_vec.fit_transform(dataset_X_ip_dst).toarray()\n",
    "dataset_X_ip_dst_host_bg = bigram_vec.fit_transform(dataset_X_ip_dst_host).toarray()\n",
    "\n",
    "print(dataset_X_ip_src_bg.shape)\n",
    "print(dataset_X_ip_src_host_bg.shape)\n",
    "print(dataset_X_ip_dst_bg.shape)\n",
    "print(dataset_X_ip_dst_host_bg.shape)\n",
    "\n",
    "dataset_X = np.concatenate((\n",
    "    dataset_X_ip_src_bg, \n",
    "    dataset_X_ip_src_host_bg,\n",
    "    dataset_X_ip_dst_bg, \n",
    "    dataset_X_ip_dst_host_bg), axis=1)\n",
    "\n",
    "print(\"\")\n",
    "print(dataset_X.shape)\n"
   ]
  },
  {
   "cell_type": "markdown",
   "metadata": {},
   "source": [
    "### 2.5 Normalization"
   ]
  },
  {
   "cell_type": "code",
   "execution_count": 8,
   "metadata": {
    "tags": []
   },
   "outputs": [
    {
     "name": "stdout",
     "output_type": "stream",
     "text": [
      "(10625, 4957)\n"
     ]
    }
   ],
   "source": [
    "# Normalization\n",
    "dataset_X = MinMaxScaler().fit_transform(dataset_X)\n",
    "print(dataset_X.shape)"
   ]
  },
  {
   "cell_type": "markdown",
   "metadata": {},
   "source": [
    "### 2.6 Principal Component Analysis (PCA)"
   ]
  },
  {
   "cell_type": "code",
   "execution_count": 9,
   "metadata": {},
   "outputs": [],
   "source": [
    "# # PCA - check the 95% with figure\n",
    "# pca = PCA()\n",
    "# pca.fit(dataset_X)\n",
    "# pca_cumsum = np.cumsum(pca.explained_variance_ratio_)\n",
    "\n",
    "# plt.figure()\n",
    "# plt.axis([0, dataset_X.shape[1], 0, 1]) \n",
    "# plt.plot(pca_cumsum)\n",
    "# plt.axhline(y=0.95,color='red')\n",
    "# plt.xlabel(\"dimensions\")\n",
    "# plt.ylabel(\"explained variance\")\n",
    "# plt.grid(True)\n",
    "# plt.show()"
   ]
  },
  {
   "cell_type": "code",
   "execution_count": 10,
   "metadata": {
    "tags": []
   },
   "outputs": [
    {
     "name": "stdout",
     "output_type": "stream",
     "text": [
      "(10625, 650)\n"
     ]
    }
   ],
   "source": [
    "# Apply PCA for compression\n",
    "pca = PCA(n_components=0.95)\n",
    "dataset_X = pca.fit_transform(dataset_X)\n",
    "\n",
    "print(dataset_X.shape)"
   ]
  },
  {
   "cell_type": "markdown",
   "metadata": {},
   "source": [
    "### 2.7 Dataset split"
   ]
  },
  {
   "cell_type": "code",
   "execution_count": 11,
   "metadata": {
    "tags": []
   },
   "outputs": [
    {
     "name": "stdout",
     "output_type": "stream",
     "text": [
      "(7968, 650)\n",
      "(7968,)\n",
      "(2657, 650)\n",
      "(2657,)\n"
     ]
    }
   ],
   "source": [
    "# Split the dataset into training set and testing set\n",
    "train_X, test_X, train_y, test_y = train_test_split(dataset_X, dataset_y, random_state=12345)\n",
    "\n",
    "print(train_X.shape)\n",
    "print(train_y.shape)\n",
    "print(test_X.shape)\n",
    "print(test_y.shape)"
   ]
  },
  {
   "cell_type": "markdown",
   "metadata": {},
   "source": [
    "## 3. Model Training\n",
    "\n",
    "### 3.1 Logistic Regression"
   ]
  },
  {
   "cell_type": "code",
   "execution_count": 12,
   "metadata": {},
   "outputs": [
    {
     "data": {
      "text/plain": "LogisticRegression(max_iter=1000)",
      "text/html": "<style>#sk-container-id-1 {color: black;background-color: white;}#sk-container-id-1 pre{padding: 0;}#sk-container-id-1 div.sk-toggleable {background-color: white;}#sk-container-id-1 label.sk-toggleable__label {cursor: pointer;display: block;width: 100%;margin-bottom: 0;padding: 0.3em;box-sizing: border-box;text-align: center;}#sk-container-id-1 label.sk-toggleable__label-arrow:before {content: \"▸\";float: left;margin-right: 0.25em;color: #696969;}#sk-container-id-1 label.sk-toggleable__label-arrow:hover:before {color: black;}#sk-container-id-1 div.sk-estimator:hover label.sk-toggleable__label-arrow:before {color: black;}#sk-container-id-1 div.sk-toggleable__content {max-height: 0;max-width: 0;overflow: hidden;text-align: left;background-color: #f0f8ff;}#sk-container-id-1 div.sk-toggleable__content pre {margin: 0.2em;color: black;border-radius: 0.25em;background-color: #f0f8ff;}#sk-container-id-1 input.sk-toggleable__control:checked~div.sk-toggleable__content {max-height: 200px;max-width: 100%;overflow: auto;}#sk-container-id-1 input.sk-toggleable__control:checked~label.sk-toggleable__label-arrow:before {content: \"▾\";}#sk-container-id-1 div.sk-estimator input.sk-toggleable__control:checked~label.sk-toggleable__label {background-color: #d4ebff;}#sk-container-id-1 div.sk-label input.sk-toggleable__control:checked~label.sk-toggleable__label {background-color: #d4ebff;}#sk-container-id-1 input.sk-hidden--visually {border: 0;clip: rect(1px 1px 1px 1px);clip: rect(1px, 1px, 1px, 1px);height: 1px;margin: -1px;overflow: hidden;padding: 0;position: absolute;width: 1px;}#sk-container-id-1 div.sk-estimator {font-family: monospace;background-color: #f0f8ff;border: 1px dotted black;border-radius: 0.25em;box-sizing: border-box;margin-bottom: 0.5em;}#sk-container-id-1 div.sk-estimator:hover {background-color: #d4ebff;}#sk-container-id-1 div.sk-parallel-item::after {content: \"\";width: 100%;border-bottom: 1px solid gray;flex-grow: 1;}#sk-container-id-1 div.sk-label:hover label.sk-toggleable__label {background-color: #d4ebff;}#sk-container-id-1 div.sk-serial::before {content: \"\";position: absolute;border-left: 1px solid gray;box-sizing: border-box;top: 0;bottom: 0;left: 50%;z-index: 0;}#sk-container-id-1 div.sk-serial {display: flex;flex-direction: column;align-items: center;background-color: white;padding-right: 0.2em;padding-left: 0.2em;position: relative;}#sk-container-id-1 div.sk-item {position: relative;z-index: 1;}#sk-container-id-1 div.sk-parallel {display: flex;align-items: stretch;justify-content: center;background-color: white;position: relative;}#sk-container-id-1 div.sk-item::before, #sk-container-id-1 div.sk-parallel-item::before {content: \"\";position: absolute;border-left: 1px solid gray;box-sizing: border-box;top: 0;bottom: 0;left: 50%;z-index: -1;}#sk-container-id-1 div.sk-parallel-item {display: flex;flex-direction: column;z-index: 1;position: relative;background-color: white;}#sk-container-id-1 div.sk-parallel-item:first-child::after {align-self: flex-end;width: 50%;}#sk-container-id-1 div.sk-parallel-item:last-child::after {align-self: flex-start;width: 50%;}#sk-container-id-1 div.sk-parallel-item:only-child::after {width: 0;}#sk-container-id-1 div.sk-dashed-wrapped {border: 1px dashed gray;margin: 0 0.4em 0.5em 0.4em;box-sizing: border-box;padding-bottom: 0.4em;background-color: white;}#sk-container-id-1 div.sk-label label {font-family: monospace;font-weight: bold;display: inline-block;line-height: 1.2em;}#sk-container-id-1 div.sk-label-container {text-align: center;}#sk-container-id-1 div.sk-container {/* jupyter's `normalize.less` sets `[hidden] { display: none; }` but bootstrap.min.css set `[hidden] { display: none !important; }` so we also need the `!important` here to be able to override the default hidden behavior on the sphinx rendered scikit-learn.org. See: https://github.com/scikit-learn/scikit-learn/issues/21755 */display: inline-block !important;position: relative;}#sk-container-id-1 div.sk-text-repr-fallback {display: none;}</style><div id=\"sk-container-id-1\" class=\"sk-top-container\"><div class=\"sk-text-repr-fallback\"><pre>LogisticRegression(max_iter=1000)</pre><b>In a Jupyter environment, please rerun this cell to show the HTML representation or trust the notebook. <br />On GitHub, the HTML representation is unable to render, please try loading this page with nbviewer.org.</b></div><div class=\"sk-container\" hidden><div class=\"sk-item\"><div class=\"sk-estimator sk-toggleable\"><input class=\"sk-toggleable__control sk-hidden--visually\" id=\"sk-estimator-id-1\" type=\"checkbox\" checked><label for=\"sk-estimator-id-1\" class=\"sk-toggleable__label sk-toggleable__label-arrow\">LogisticRegression</label><div class=\"sk-toggleable__content\"><pre>LogisticRegression(max_iter=1000)</pre></div></div></div></div></div>"
     },
     "execution_count": 12,
     "metadata": {},
     "output_type": "execute_result"
    }
   ],
   "source": [
    "from sklearn.linear_model import LogisticRegression\n",
    "lr = LogisticRegression(max_iter=1000)\n",
    "lr.fit(train_X, train_y)"
   ]
  },
  {
   "cell_type": "markdown",
   "metadata": {},
   "source": [
    "#### evaluating the performance for lr"
   ]
  },
  {
   "cell_type": "code",
   "execution_count": 13,
   "metadata": {},
   "outputs": [
    {
     "name": "stdout",
     "output_type": "stream",
     "text": [
      "              precision    recall  f1-score   support\n",
      "\n",
      "       china       0.98      0.91      0.94       741\n",
      "       india       0.81      0.98      0.89      1031\n",
      "          us       0.96      0.80      0.87       885\n",
      "\n",
      "    accuracy                           0.90      2657\n",
      "   macro avg       0.92      0.89      0.90      2657\n",
      "weighted avg       0.91      0.90      0.90      2657\n",
      "\n",
      "accuracy: 0.8987579977418141, f1: 0.9016876006118091, recall: 0.8945181705103176, precision: 0.920636382619889\n"
     ]
    }
   ],
   "source": [
    "# evaluating the lr performance using auc,f1, precision,recall, and accuracy\n",
    "from sklearn.metrics import classification_report, \\\n",
    "    roc_auc_score, f1_score, precision_score, recall_score, accuracy_score\n",
    "y_pred = lr.predict(test_X)\n",
    "\n",
    "f1 = f1_score(test_y, y_pred, average='macro')\n",
    "recall = recall_score(test_y, y_pred,average='macro')\n",
    "precision = precision_score(test_y, y_pred,average='macro')\n",
    "acc = accuracy_score(test_y, y_pred)\n",
    "print(classification_report(test_y, y_pred))\n",
    "print(f'accuracy: {acc}, f1: {f1}, recall: {recall}, precision: {precision}')"
   ]
  },
  {
   "cell_type": "markdown",
   "metadata": {},
   "source": [
    "### 3.2 Support Vector Machine (SVM)\n",
    "\n",
    "TODO"
   ]
  },
  {
   "cell_type": "code",
   "execution_count": 14,
   "metadata": {},
   "outputs": [
    {
     "name": "stdout",
     "output_type": "stream",
     "text": [
      "Accuracy on test set: 0.8965\n"
     ]
    }
   ],
   "source": [
    "#For the linear kernel (kernel_type='linear') svm\n",
    "from sklearn.svm import SVC  # Support Vector Classifier\n",
    "from sklearn.metrics import accuracy_score\n",
    "from sklearn.metrics import confusion_matrix\n",
    "from sklearn.metrics import classification_report\n",
    "SVM_linear = SVC(kernel='linear') \n",
    "SVM_linear.fit(train_X, train_y)\n",
    "predict_results=SVM_linear.predict(test_X)\n",
    "print(f\"Accuracy on test set: {accuracy_score(predict_results, test_y):.4f}\")"
   ]
  },
  {
   "cell_type": "code",
   "execution_count": 15,
   "metadata": {},
   "outputs": [
    {
     "name": "stdout",
     "output_type": "stream",
     "text": [
      "Accuracy on test set: 0.8991\n"
     ]
    }
   ],
   "source": [
    "#For the radial basis function kernel (kernel_type='rbf') svm\n",
    "from sklearn.svm import SVC  # Support Vector Classifier\n",
    "SVM_rbf = SVC(kernel='rbf')  \n",
    "SVM_rbf.fit(train_X, train_y)\n",
    "print(f\"Accuracy on test set: {SVM_rbf.score(test_X, test_y):.4f}\")"
   ]
  },
  {
   "cell_type": "code",
   "execution_count": 16,
   "metadata": {},
   "outputs": [
    {
     "name": "stdout",
     "output_type": "stream",
     "text": [
      "Accuracy on test set: 0.8995\n"
     ]
    }
   ],
   "source": [
    "#For the polynomial kernel (kernel_type='poly') svm\n",
    "from sklearn.svm import SVC  # Support Vector Classifier\n",
    "SVM_poly = SVC(kernel='poly') \n",
    "SVM_poly.fit(train_X, train_y)\n",
    "print(f\"Accuracy on test set: {SVM_poly.score(test_X, test_y):.4f}\")"
   ]
  },
  {
   "cell_type": "code",
   "execution_count": 17,
   "metadata": {},
   "outputs": [
    {
     "name": "stdout",
     "output_type": "stream",
     "text": [
      "Accuracy on test set: 0.3801\n"
     ]
    }
   ],
   "source": [
    "#For the sigmoid function kernel (kernel_type='sigmoid') svm\n",
    "from sklearn.svm import SVC  # Support Vector Classifier\n",
    "SVM_sig = SVC(C=1, kernel='sigmoid', gamma=10, decision_function_shape='ovr')\n",
    "SVM_sig.fit(train_X, train_y)\n",
    "print(f\"Accuracy on test set: {SVM_sig.score(test_X, test_y):.4f}\")"
   ]
  },
  {
   "cell_type": "markdown",
   "metadata": {},
   "source": [
    "### 3.3 neural network"
   ]
  },
  {
   "cell_type": "markdown",
   "source": [
    "Data proccess"
   ],
   "metadata": {
    "collapsed": false
   }
  },
  {
   "cell_type": "code",
   "execution_count": 18,
   "outputs": [
    {
     "name": "stdout",
     "output_type": "stream",
     "text": [
      "(5976, 650)\n",
      "(1992, 650)\n",
      "(5976, 3)\n",
      "(1992, 3)\n"
     ]
    }
   ],
   "source": [
    "keras.backend.clear_session()\n",
    "\n",
    "temp_train_y = pd.DataFrame(train_y, columns=['country'])\n",
    "temp_train_y = pd.factorize(temp_train_y['country'], sort=True)[0]\n",
    "train_X_nn, validate_X, train_y_nn, validate_y = train_test_split(train_X, temp_train_y, random_state=114514)\n",
    "\n",
    "train_y_nn = keras.utils.to_categorical(train_y_nn, 3).astype('int32')\n",
    "validate_y = keras.utils.to_categorical(validate_y, 3).astype('int32')\n",
    "\n",
    "test_y_nn = pd.DataFrame(test_y, columns=['country'])\n",
    "test_y_nn = pd.factorize(test_y_nn['country'], sort=True)[0]\n",
    "\n",
    "print(train_X_nn.shape)\n",
    "print(validate_X.shape)\n",
    "print(train_y_nn.shape)\n",
    "print(validate_y.shape)"
   ],
   "metadata": {
    "collapsed": false
   }
  },
  {
   "cell_type": "markdown",
   "source": [
    "Define model"
   ],
   "metadata": {
    "collapsed": false
   }
  },
  {
   "cell_type": "code",
   "execution_count": 19,
   "outputs": [],
   "source": [
    "def build_optimizer(hp):\n",
    "    optimizer = hp.Choice('optimizer', ['adam', 'rmsprop', 'sgd'])\n",
    "    lr = hp.Float('learning_rate', min_value=1e-5, max_value=1e-4, step=1e-5)\n",
    "    if optimizer == 'adam':\n",
    "        return keras.optimizers.Adam(learning_rate=lr)\n",
    "    elif optimizer == 'rmsprop':\n",
    "        return keras.optimizers.RMSprop(learning_rate=lr)\n",
    "    else:\n",
    "        return keras.optimizers.SGD(learning_rate=lr, momentum=hp.Float('momentum', min_value=0, max_value=0.9, step=0.02))\n",
    "\n",
    "def build_model(hp):\n",
    "    model = keras.models.Sequential(keras.layers.InputLayer(input_shape=[train_X.shape[1]]))\n",
    "    model.add(keras.layers.Dense(hp.Int('neurons1', min_value=1, max_value=300, step=5),\n",
    "                                 activation=hp.Choice('actv1', ['relu', 'tanh', 'sigmoid']),\n",
    "                                 kernel_initializer='he_normal'))\n",
    "    if hp.Boolean('second_layer', True):\n",
    "        model.add(keras.layers.Dropout(hp.Float('dropout1', min_value=0, max_value=0.5, step=0.05)))\n",
    "        model.add(keras.layers.Dense(hp.Int('neurons2', min_value=1, max_value=300, step=5),\n",
    "                                     activation=hp.Choice('actv2', ['relu', 'tanh', 'sigmoid']),\n",
    "                                     kernel_initializer='he_normal'))\n",
    "    model.add(keras.layers.Dense(3, activation=\"softmax\"))\n",
    "\n",
    "    model.compile(loss='categorical_crossentropy',\n",
    "                  optimizer=build_optimizer(hp),\n",
    "                  metrics=['accuracy'])\n",
    "    return model"
   ],
   "metadata": {
    "collapsed": false
   }
  },
  {
   "cell_type": "markdown",
   "source": [
    "Bayesion optimization"
   ],
   "metadata": {
    "collapsed": false
   }
  },
  {
   "cell_type": "code",
   "execution_count": 20,
   "outputs": [
    {
     "name": "stdout",
     "output_type": "stream",
     "text": [
      "Trial 5 Complete [00h 00m 21s]\n",
      "val_accuracy: 0.8812751173973083\n",
      "\n",
      "Best val_accuracy So Far: 0.8812751173973083\n",
      "Total elapsed time: 00h 01m 48s\n",
      "INFO:tensorflow:Oracle triggered exit\n",
      "Best hyperparameters: {'neurons1': 91, 'actv1': 'tanh', 'second_layer': True, 'dropout1': 0.15000000000000002, 'neurons2': 116, 'actv2': 'relu', 'optimizer': 'rmsprop', 'learning_rate': 9e-05, 'momentum': 0.3}\n"
     ]
    }
   ],
   "source": [
    "tuner = BayesianOptimization(\n",
    "    build_model,\n",
    "    objective='val_accuracy',\n",
    "    max_trials=5,\n",
    "    executions_per_trial=2,\n",
    "    project_name='neural_network_optimize'\n",
    ")\n",
    "\n",
    "tuner.search(x=train_X_nn, y=train_y_nn, epochs=30, validation_data=(validate_X, validate_y))\n",
    "\n",
    "best_hps = tuner.get_best_hyperparameters()[0]\n",
    "print(f'Best hyperparameters: {best_hps.values}')\n"
   ],
   "metadata": {
    "collapsed": false
   }
  },
  {
   "cell_type": "markdown",
   "source": [
    "Model Trainning"
   ],
   "metadata": {
    "collapsed": false
   }
  },
  {
   "cell_type": "code",
   "execution_count": 21,
   "outputs": [
    {
     "name": "stdout",
     "output_type": "stream",
     "text": [
      "Epoch 1/30\n",
      "187/187 [==============================] - 1s 2ms/step - loss: 0.9852 - accuracy: 0.6051 - val_loss: 0.8807 - val_accuracy: 0.7385\n",
      "Epoch 2/30\n",
      "187/187 [==============================] - 0s 2ms/step - loss: 0.7994 - accuracy: 0.7537 - val_loss: 0.7109 - val_accuracy: 0.7676\n",
      "Epoch 3/30\n",
      "187/187 [==============================] - 0s 2ms/step - loss: 0.6417 - accuracy: 0.7943 - val_loss: 0.5758 - val_accuracy: 0.8002\n",
      "Epoch 4/30\n",
      "187/187 [==============================] - 0s 2ms/step - loss: 0.5302 - accuracy: 0.8119 - val_loss: 0.4858 - val_accuracy: 0.8198\n",
      "Epoch 5/30\n",
      "187/187 [==============================] - 0s 2ms/step - loss: 0.4522 - accuracy: 0.8380 - val_loss: 0.4291 - val_accuracy: 0.8303\n",
      "Epoch 6/30\n",
      "187/187 [==============================] - 0s 2ms/step - loss: 0.4025 - accuracy: 0.8469 - val_loss: 0.3890 - val_accuracy: 0.8419\n",
      "Epoch 7/30\n",
      "187/187 [==============================] - 0s 2ms/step - loss: 0.3641 - accuracy: 0.8541 - val_loss: 0.3573 - val_accuracy: 0.8504\n",
      "Epoch 8/30\n",
      "187/187 [==============================] - 0s 2ms/step - loss: 0.3347 - accuracy: 0.8658 - val_loss: 0.3328 - val_accuracy: 0.8579\n",
      "Epoch 9/30\n",
      "187/187 [==============================] - 0s 2ms/step - loss: 0.3121 - accuracy: 0.8717 - val_loss: 0.3116 - val_accuracy: 0.8624\n",
      "Epoch 10/30\n",
      "187/187 [==============================] - 0s 2ms/step - loss: 0.2934 - accuracy: 0.8768 - val_loss: 0.2955 - val_accuracy: 0.8690\n",
      "Epoch 11/30\n",
      "187/187 [==============================] - 0s 2ms/step - loss: 0.2775 - accuracy: 0.8849 - val_loss: 0.2826 - val_accuracy: 0.8720\n",
      "Epoch 12/30\n",
      "187/187 [==============================] - 0s 2ms/step - loss: 0.2658 - accuracy: 0.8879 - val_loss: 0.2740 - val_accuracy: 0.8730\n",
      "Epoch 13/30\n",
      "187/187 [==============================] - 0s 2ms/step - loss: 0.2574 - accuracy: 0.8820 - val_loss: 0.2659 - val_accuracy: 0.8725\n",
      "Epoch 14/30\n",
      "187/187 [==============================] - 0s 2ms/step - loss: 0.2503 - accuracy: 0.8857 - val_loss: 0.2608 - val_accuracy: 0.8735\n",
      "Epoch 15/30\n",
      "187/187 [==============================] - 0s 2ms/step - loss: 0.2459 - accuracy: 0.8845 - val_loss: 0.2576 - val_accuracy: 0.8750\n",
      "Epoch 16/30\n",
      "187/187 [==============================] - 0s 2ms/step - loss: 0.2426 - accuracy: 0.8876 - val_loss: 0.2537 - val_accuracy: 0.8735\n",
      "Epoch 17/30\n",
      "187/187 [==============================] - 0s 2ms/step - loss: 0.2368 - accuracy: 0.8894 - val_loss: 0.2495 - val_accuracy: 0.8745\n",
      "Epoch 18/30\n",
      "187/187 [==============================] - 0s 2ms/step - loss: 0.2342 - accuracy: 0.8881 - val_loss: 0.2462 - val_accuracy: 0.8755\n",
      "Epoch 19/30\n",
      "187/187 [==============================] - 0s 2ms/step - loss: 0.2306 - accuracy: 0.8927 - val_loss: 0.2438 - val_accuracy: 0.8805\n",
      "Epoch 20/30\n",
      "187/187 [==============================] - 0s 2ms/step - loss: 0.2289 - accuracy: 0.8924 - val_loss: 0.2432 - val_accuracy: 0.8780\n",
      "Epoch 21/30\n",
      "187/187 [==============================] - 0s 2ms/step - loss: 0.2275 - accuracy: 0.8894 - val_loss: 0.2429 - val_accuracy: 0.8785\n",
      "Epoch 22/30\n",
      "187/187 [==============================] - 0s 2ms/step - loss: 0.2265 - accuracy: 0.8889 - val_loss: 0.2409 - val_accuracy: 0.8800\n",
      "Epoch 23/30\n",
      "187/187 [==============================] - 0s 2ms/step - loss: 0.2240 - accuracy: 0.8906 - val_loss: 0.2399 - val_accuracy: 0.8800\n",
      "Epoch 24/30\n",
      "187/187 [==============================] - 0s 2ms/step - loss: 0.2235 - accuracy: 0.8916 - val_loss: 0.2389 - val_accuracy: 0.8800\n",
      "Epoch 25/30\n",
      "187/187 [==============================] - 0s 2ms/step - loss: 0.2250 - accuracy: 0.8929 - val_loss: 0.2386 - val_accuracy: 0.8805\n",
      "Epoch 26/30\n",
      "187/187 [==============================] - 0s 2ms/step - loss: 0.2205 - accuracy: 0.8937 - val_loss: 0.2366 - val_accuracy: 0.8850\n",
      "Epoch 27/30\n",
      "187/187 [==============================] - 0s 2ms/step - loss: 0.2200 - accuracy: 0.8931 - val_loss: 0.2368 - val_accuracy: 0.8810\n",
      "Epoch 28/30\n",
      "187/187 [==============================] - 0s 2ms/step - loss: 0.2207 - accuracy: 0.8924 - val_loss: 0.2362 - val_accuracy: 0.8825\n",
      "Epoch 29/30\n",
      "187/187 [==============================] - 0s 2ms/step - loss: 0.2175 - accuracy: 0.8957 - val_loss: 0.2353 - val_accuracy: 0.8820\n",
      "Epoch 30/30\n",
      "187/187 [==============================] - 0s 2ms/step - loss: 0.2193 - accuracy: 0.8934 - val_loss: 0.2351 - val_accuracy: 0.8820\n"
     ]
    }
   ],
   "source": [
    "optimized_model = build_model(best_hps)\n",
    "history = optimized_model.fit(train_X_nn, train_y_nn, epochs=30,\n",
    "                     validation_data=(validate_X, validate_y))"
   ],
   "metadata": {
    "collapsed": false
   }
  },
  {
   "cell_type": "markdown",
   "source": [
    "Output"
   ],
   "metadata": {
    "collapsed": false
   }
  },
  {
   "cell_type": "code",
   "execution_count": 22,
   "outputs": [
    {
     "data": {
      "text/plain": "<Figure size 800x500 with 1 Axes>",
      "image/png": "[encoded data removed]"
     },
     "metadata": {},
     "output_type": "display_data"
    },
    {
     "name": "stdout",
     "output_type": "stream",
     "text": [
      "84/84 [==============================] - 0s 758us/step\n",
      "prediction: [1 1 1 ... 1 0 2]\n",
      "ground_truth: [1 1 1 ... 1 0 2]\n",
      "Accuracy on test set:89.76%\n"
     ]
    }
   ],
   "source": [
    "pd.DataFrame(history.history).plot(figsize=(8, 5))\n",
    "plt.grid(True)\n",
    "plt.gca().set_ylim(0, 3)\n",
    "plt.show()\n",
    "\n",
    "y_proba = optimized_model.predict(test_X)\n",
    "prediction = np.argmax(y_proba, axis=1)\n",
    "ground_truth = test_y_nn\n",
    "print('prediction:', prediction)\n",
    "print('ground_truth:', ground_truth)\n",
    "count=0\n",
    "for i,j in zip(prediction, ground_truth):\n",
    "  if i==j:\n",
    "    count+=1\n",
    "print(f'Accuracy on test set:{count*100/test_y_nn.shape[0]:.2f}%')"
   ],
   "metadata": {
    "collapsed": false
   }
  },
  {
   "cell_type": "markdown",
   "metadata": {},
   "source": [
    "## 4. Model Testing and Comparison\n",
    "\n",
    "TODO"
   ]
  }
 ],
 "metadata": {
  "kernelspec": {
   "display_name": "Python 3 (ipykernel)",
   "language": "python",
   "name": "python3"
  },
  "language_info": {
   "codemirror_mode": {
    "name": "ipython",
    "version": 3
   },
   "file_extension": ".py",
   "mimetype": "text/x-python",
   "name": "python",
   "nbconvert_exporter": "python",
   "pygments_lexer": "ipython3",
   "version": "3.9.13"
  }
 },
 "nbformat": 4,
 "nbformat_minor": 2
}
