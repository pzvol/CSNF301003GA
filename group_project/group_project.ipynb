{
 "cells": [
  {
   "cell_type": "markdown",
   "metadata": {},
   "source": [
    "# (Title to be decided)"
   ]
  },
  {
   "cell_type": "markdown",
   "metadata": {},
   "source": [
    "*This is the file for the code of our group assignment. Under development.*"
   ]
  },
  {
   "cell_type": "code",
   "execution_count": 1,
   "metadata": {
    "scrolled": true
   },
   "outputs": [],
   "source": [
    "import json\n",
    "import matplotlib.pyplot as plt\n",
    "import numpy as np\n",
    "import pandas as pd\n",
    "import re\n",
    "from sklearn import preprocessing\n",
    "from sklearn.decomposition import PCA\n",
    "from sklearn.feature_extraction.text import CountVectorizer\n",
    "from sklearn.model_selection import train_test_split\n",
    "from sklearn.preprocessing import MinMaxScaler"
   ]
  },
  {
   "cell_type": "markdown",
   "metadata": {},
   "source": [
    "## 1. Read Data from External File\n",
    "\n",
    "Read data in external files. For convenience, the original `.pcapng` file has been converted into `.json` and `.csv` with Wireshark."
   ]
  },
  {
   "cell_type": "code",
   "execution_count": 2,
   "metadata": {
    "tags": []
   },
   "outputs": [],
   "source": [
    "# Read the JSON including all details of packets\n",
    "#   errors=\"surrogateescape\" to pass the encoding errors raised by contents in HTTP packets\n",
    "with open(\"./data/traffic.json\", \"r\", encoding=\"utf-8\", errors=\"surrogateescape\") as f:\n",
    "    dataset_json=json.load(f)\n",
    "    print(f\"{len(dataset_json)} packets read\")\n",
    "\n",
    "# print one for checking\n",
    "dataset_json[0]"
   ]
  },
  {
   "cell_type": "code",
   "execution_count": 3,
   "metadata": {},
   "outputs": [],
   "source": [
    "# # TODO: UNUSED - REMOVE LATER\n",
    "# # Read the CSV\n",
    "# # TODO: Info in CSV should be covered by the one in JSON.\n",
    "# #       Remove it in the future if not used\n",
    "# dataset_csv=pd.read_csv(\"./data/traffic.csv\")\n",
    "\n",
    "# dataset_csv"
   ]
  },
  {
   "cell_type": "markdown",
   "metadata": {},
   "source": [
    "## 2. Data Preprocessing"
   ]
  },
  {
   "cell_type": "markdown",
   "metadata": {},
   "source": [
    "### 2.1 Extract dataset labels"
   ]
  },
  {
   "cell_type": "code",
   "execution_count": 4,
   "metadata": {
    "tags": []
   },
   "outputs": [],
   "source": [
    "# Extract labels(y) from JSON\n",
    "dataset_y = np.array(list(map(\n",
    "    lambda packet_json: (packet_json[\"_source\"][\"layers\"][\"pkt_comment\"][\"frame.comment\"]).split(\",\")[1], \n",
    "    dataset_json\n",
    ")))\n",
    "\n",
    "print(f\"Labels include {np.unique(dataset_y)}\")\n",
    "print(dataset_y.shape)"
   ]
  },
  {
   "cell_type": "markdown",
   "metadata": {},
   "source": [
    "### 2.2 Extract features"
   ]
  },
  {
   "cell_type": "code",
   "execution_count": 5,
   "metadata": {
    "tags": []
   },
   "outputs": [],
   "source": [
    "# Extract source IP, source IP host, destination IP and destination IP host from dataset\n",
    "dataset_X_ip_src = np.array(list(map(\n",
    "    lambda packet_json: packet_json[\"_source\"][\"layers\"][\"ip\"][\"ip.src\"], \n",
    "    dataset_json\n",
    ")))\n",
    "dataset_X_ip_src_host = np.array(list(map(\n",
    "    lambda packet_json: packet_json[\"_source\"][\"layers\"][\"ip\"][\"ip.src_host\"], \n",
    "    dataset_json\n",
    ")))\n",
    "dataset_X_ip_dst = np.array(list(map(\n",
    "    lambda packet_json: packet_json[\"_source\"][\"layers\"][\"ip\"][\"ip.dst\"], \n",
    "    dataset_json\n",
    ")))\n",
    "dataset_X_ip_dst_host = np.array(list(map(\n",
    "    lambda packet_json: packet_json[\"_source\"][\"layers\"][\"ip\"][\"ip.dst_host\"], \n",
    "    dataset_json\n",
    ")))\n",
    "\n",
    "# print first ones for checking\n",
    "print(dataset_X_ip_src[0])\n",
    "print(dataset_X_ip_src_host[0])\n",
    "print(dataset_X_ip_dst[0])\n",
    "print(dataset_X_ip_dst_host[0])\n"
   ]
  },
  {
   "cell_type": "markdown",
   "metadata": {},
   "source": [
    "### 2.3 Check data sanity and deal with missing fields"
   ]
  },
  {
   "cell_type": "code",
   "execution_count": 6,
   "metadata": {
    "tags": []
   },
   "outputs": [],
   "source": [
    "# Data sanity check\n",
    "pattern_not_ipv4 = re.compile(r\"(?!((\\b25[0-5]|\\b2[0-4][0-9]|\\b[01]?[0-9][0-9]?)(\\.(25[0-5]|2[0-4][0-9]|[01]?[0-9][0-9]?)){3}))\")\n",
    "pattern_not_ipv4_nor_domain = re.compile(r\"(?!((\\b25[0-5]|\\b2[0-4][0-9]|\\b[01]?[0-9][0-9]?)(\\.(25[0-5]|2[0-4][0-9]|[01]?[0-9][0-9]?)){3})|[-_0-9a-zA-Z]+\\.[-_0-9a-zA-Z]+)\")\n",
    "\n",
    "print(\"Source/dest IP not an IPv4 address:\")\n",
    "print(list(filter(pattern_not_ipv4.match, dataset_X_ip_src)))\n",
    "print(list(filter(pattern_not_ipv4.match, dataset_X_ip_dst)))\n",
    "print(\"Source/dest host not an IPv4 nor a domain:\")\n",
    "print(list(filter(pattern_not_ipv4_nor_domain.match, dataset_X_ip_src_host)))\n",
    "print(list(filter(pattern_not_ipv4_nor_domain.match, dataset_X_ip_dst_host)))\n",
    "\n",
    "print()\n",
    "\n",
    "# Fill the missing `dst.host`\n",
    "#\n",
    "# Find \"no-data\" rows\n",
    "missing_dst_host_indexes = np.where(dataset_X_ip_dst_host=='no-data')[0]\n",
    "print(f\"Indexes of rows with missing 'dst.host': {missing_dst_host_indexes}\")\n",
    "\n",
    "# Fill the field with the IP address in `dst`, following the way of other rows\n",
    "for i in missing_dst_host_indexes:\n",
    "    dataset_X_ip_dst_host[i] = dataset_X_ip_dst[i]\n",
    "\n",
    "print(\"Missing 'dst.host' filled\")"
   ]
  },
  {
   "cell_type": "markdown",
   "metadata": {},
   "source": [
    "### 2.4 Bi-gram for similarity between IPs and domains"
   ]
  },
  {
   "cell_type": "code",
   "execution_count": 7,
   "metadata": {
    "tags": []
   },
   "outputs": [],
   "source": [
    "# bi-gram for similar IP and hostnames\n",
    "bigram_vec = CountVectorizer(ngram_range=(2, 2), token_pattern=r\"(?u)[^.]+\")\n",
    "dataset_X_ip_src_bg = bigram_vec.fit_transform(dataset_X_ip_src).toarray()\n",
    "dataset_X_ip_src_host_bg = bigram_vec.fit_transform(dataset_X_ip_src_host).toarray()\n",
    "dataset_X_ip_dst_bg = bigram_vec.fit_transform(dataset_X_ip_dst).toarray()\n",
    "dataset_X_ip_dst_host_bg = bigram_vec.fit_transform(dataset_X_ip_dst_host).toarray()\n",
    "\n",
    "print(dataset_X_ip_src_bg.shape)\n",
    "print(dataset_X_ip_src_host_bg.shape)\n",
    "print(dataset_X_ip_dst_bg.shape)\n",
    "print(dataset_X_ip_dst_host_bg.shape)\n",
    "\n",
    "dataset_X = np.concatenate((\n",
    "    dataset_X_ip_src_bg, \n",
    "    dataset_X_ip_src_host_bg,\n",
    "    dataset_X_ip_dst_bg, \n",
    "    dataset_X_ip_dst_host_bg), axis=1)\n",
    "\n",
    "print(\"\")\n",
    "print(dataset_X.shape)\n"
   ]
  },
  {
   "cell_type": "markdown",
   "metadata": {},
   "source": [
    "### 2.5 Normalization"
   ]
  },
  {
   "cell_type": "code",
   "execution_count": 8,
   "metadata": {
    "tags": []
   },
   "outputs": [],
   "source": [
    "# Normalization\n",
    "dataset_X = MinMaxScaler().fit_transform(dataset_X)\n",
    "print(dataset_X.shape)"
   ]
  },
  {
   "cell_type": "markdown",
   "metadata": {},
   "source": [
    "### 2.6 Principal Component Analysis (PCA)"
   ]
  },
  {
   "cell_type": "code",
   "execution_count": 9,
   "metadata": {},
   "outputs": [],
   "source": [
    "# # PCA - check the 95% with figure\n",
    "# pca = PCA()\n",
    "# pca.fit(dataset_X)\n",
    "# pca_cumsum = np.cumsum(pca.explained_variance_ratio_)\n",
    "\n",
    "# plt.figure()\n",
    "# plt.axis([0, dataset_X.shape[1], 0, 1]) \n",
    "# plt.plot(pca_cumsum)\n",
    "# plt.axhline(y=0.95,color='red')\n",
    "# plt.xlabel(\"dimensions\")\n",
    "# plt.ylabel(\"explained variance\")\n",
    "# plt.grid(True)\n",
    "# plt.show()"
   ]
  },
  {
   "cell_type": "code",
   "execution_count": null,
   "metadata": {
    "tags": []
   },
   "outputs": [],
   "source": [
    "# Apply PCA for compression\n",
    "pca = PCA(n_components=0.95)\n",
    "dataset_X = pca.fit_transform(dataset_X)\n",
    "\n",
    "print(dataset_X.shape)"
   ]
  },
  {
   "cell_type": "markdown",
   "metadata": {},
   "source": [
    "### 2.7 Label encoding the string label for y"
   ]
  },
  {
   "cell_type": "code",
   "execution_count": 21,
   "metadata": {},
   "outputs": [
    {
     "name": "stderr",
     "output_type": "stream",
     "text": [
      "/opt/miniconda3/envs/py38/lib/python3.8/site-packages/sklearn/preprocessing/_label.py:116: DataConversionWarning: A column-vector y was passed when a 1d array was expected. Please change the shape of y to (n_samples, ), for example using ravel().\n",
      "  y = column_or_1d(y, warn=True)\n"
     ]
    }
   ],
   "source": [
    "from sklearn.preprocessing import LabelEncoder\n",
    "dataset_y = LabelEncoder().fit_transform(dataset_y).reshape(-1,1)"
   ]
  },
  {
   "cell_type": "markdown",
   "metadata": {},
   "source": [
    "### 2.8 Dataset split"
   ]
  },
  {
   "cell_type": "code",
   "execution_count": 22,
   "metadata": {
    "tags": []
   },
   "outputs": [
    {
     "name": "stdout",
     "output_type": "stream",
     "text": [
      "(7968, 650)\n",
      "(7968, 1)\n",
      "(2657, 650)\n",
      "(2657, 1)\n"
     ]
    },
    {
     "data": {
      "text/plain": [
       "array([[-1.08502832e+00,  1.35391675e+00, -8.98510724e-02, ...,\n",
       "         1.61431542e-05, -3.24287461e-03, -4.02308876e-05],\n",
       "       [-1.37256606e+00, -1.30645738e+00, -2.43504060e-03, ...,\n",
       "         1.47518527e-05,  6.61440472e-03, -2.26175618e-04],\n",
       "       [-1.44957648e+00, -1.28237230e+00, -1.15245375e-02, ...,\n",
       "         9.79593372e-06,  7.32780186e-04, -1.83503984e-05],\n",
       "       ...,\n",
       "       [-1.35841130e+00, -1.32739694e+00, -2.06831953e-04, ...,\n",
       "         3.10242879e-06, -2.13589786e-02, -3.19577991e-05],\n",
       "       [ 1.52944088e+00, -2.97314827e-02,  1.42330582e+00, ...,\n",
       "         4.08650518e-03,  6.30412056e-06,  2.91432256e-03],\n",
       "       [ 1.81760780e+00, -1.45667155e-01, -1.16834515e+00, ...,\n",
       "         3.43173962e-03,  3.24887331e-06,  1.48616571e-03]])"
      ]
     },
     "execution_count": 22,
     "metadata": {},
     "output_type": "execute_result"
    }
   ],
   "source": [
    "# Split the dataset into training set and testing set\n",
    "train_X, test_X, train_y, test_y = train_test_split(dataset_X, dataset_y, random_state=12345)\n",
    "\n",
    "print(train_X.shape)\n",
    "print(train_y.shape)\n",
    "print(test_X.shape)\n",
    "print(test_y.shape)\n",
    "train_X"
   ]
  },
  {
   "cell_type": "markdown",
   "metadata": {},
   "source": [
    "### 2.X kNN classification as an example for using the processed dataset\n",
    "\n",
    "(And for checking the preprocess performance at the early stage)\n",
    "\n",
    "TODO: REMOVE BEFORE FINAL SUBMIT"
   ]
  },
  {
   "cell_type": "code",
   "execution_count": 23,
   "metadata": {
    "tags": []
   },
   "outputs": [
    {
     "name": "stderr",
     "output_type": "stream",
     "text": [
      "/opt/miniconda3/envs/py38/lib/python3.8/site-packages/sklearn/neighbors/_classification.py:215: DataConversionWarning: A column-vector y was passed when a 1d array was expected. Please change the shape of y to (n_samples,), for example using ravel().\n",
      "  return self._fit(X, y)\n"
     ]
    },
    {
     "name": "stdout",
     "output_type": "stream",
     "text": [
      "Accuracy on test set: 0.8457\n"
     ]
    }
   ],
   "source": [
    "# kNN classification test\n",
    "#\n",
    "# TODO: A brief test for evaluating performance during writing preprocessin code, \n",
    "#       gonna be removed later\n",
    "from sklearn.neighbors import KNeighborsClassifier\n",
    "knn = KNeighborsClassifier(n_neighbors=5)\n",
    "knn.fit(train_X, train_y)\n",
    "print(f\"Accuracy on test set: {knn.score(test_X, test_y):.4f}\")"
   ]
  },
  {
   "cell_type": "markdown",
   "metadata": {},
   "source": [
    "## 3. Model Training\n",
    "\n",
    "### 3.1 Logistic Regression"
   ]
  },
  {
   "cell_type": "code",
   "execution_count": 24,
   "metadata": {},
   "outputs": [
    {
     "name": "stderr",
     "output_type": "stream",
     "text": [
      "/opt/miniconda3/envs/py38/lib/python3.8/site-packages/sklearn/utils/validation.py:1143: DataConversionWarning: A column-vector y was passed when a 1d array was expected. Please change the shape of y to (n_samples, ), for example using ravel().\n",
      "  y = column_or_1d(y, warn=True)\n",
      "/opt/miniconda3/envs/py38/lib/python3.8/site-packages/sklearn/linear_model/_logistic.py:458: ConvergenceWarning: lbfgs failed to converge (status=1):\n",
      "STOP: TOTAL NO. of ITERATIONS REACHED LIMIT.\n",
      "\n",
      "Increase the number of iterations (max_iter) or scale the data as shown in:\n",
      "    https://scikit-learn.org/stable/modules/preprocessing.html\n",
      "Please also refer to the documentation for alternative solver options:\n",
      "    https://scikit-learn.org/stable/modules/linear_model.html#logistic-regression\n",
      "  n_iter_i = _check_optimize_result(\n"
     ]
    }
   ],
   "source": [
    "from sklearn.linear_model import LogisticRegression\n",
    "lr = LogisticRegression()\n",
    "lr.fit(train_X, train_y)\n",
    "\n",
    "# evaluating the lr performance using auc,f1, precision,recall, and accuracy\n",
    "from sklearn.metrics import classification_report, \\\n",
    "    roc_auc_score, f1_score, precision_score, recall_score, accuracy_score\n",
    "y_pred = lr.predict_proba(test_X)[:, 1]\n",
    "y_pred = y_pred.reshape(-1,1)"
   ]
  },
  {
   "cell_type": "markdown",
   "metadata": {},
   "source": [
    "#### evaluating the performance for lr"
   ]
  },
  {
   "cell_type": "code",
   "execution_count": 26,
   "metadata": {},
   "outputs": [
    {
     "name": "stdout",
     "output_type": "stream",
     "text": [
      "              precision    recall  f1-score   support\n",
      "\n",
      "           0       0.42      1.00      0.59       741\n",
      "           1       0.96      0.82      0.89      1031\n",
      "           2       0.00      0.00      0.00       885\n",
      "\n",
      "    accuracy                           0.60      2657\n",
      "   macro avg       0.46      0.61      0.49      2657\n",
      "weighted avg       0.49      0.60      0.51      2657\n",
      "\n",
      "accuracy: 0.5972901768912308, f1: 0.49148191025691657, recall: 0.6067276550200641, precision: 0.4599309898549371\n"
     ]
    },
    {
     "name": "stderr",
     "output_type": "stream",
     "text": [
      "/opt/miniconda3/envs/py38/lib/python3.8/site-packages/sklearn/metrics/_classification.py:1344: UndefinedMetricWarning: Precision is ill-defined and being set to 0.0 in labels with no predicted samples. Use `zero_division` parameter to control this behavior.\n",
      "  _warn_prf(average, modifier, msg_start, len(result))\n",
      "/opt/miniconda3/envs/py38/lib/python3.8/site-packages/sklearn/metrics/_classification.py:1344: UndefinedMetricWarning: Precision and F-score are ill-defined and being set to 0.0 in labels with no predicted samples. Use `zero_division` parameter to control this behavior.\n",
      "  _warn_prf(average, modifier, msg_start, len(result))\n",
      "/opt/miniconda3/envs/py38/lib/python3.8/site-packages/sklearn/metrics/_classification.py:1344: UndefinedMetricWarning: Precision and F-score are ill-defined and being set to 0.0 in labels with no predicted samples. Use `zero_division` parameter to control this behavior.\n",
      "  _warn_prf(average, modifier, msg_start, len(result))\n",
      "/opt/miniconda3/envs/py38/lib/python3.8/site-packages/sklearn/metrics/_classification.py:1344: UndefinedMetricWarning: Precision and F-score are ill-defined and being set to 0.0 in labels with no predicted samples. Use `zero_division` parameter to control this behavior.\n",
      "  _warn_prf(average, modifier, msg_start, len(result))\n"
     ]
    }
   ],
   "source": [
    "f1 = f1_score(test_y, y_pred.round(0),average='macro')\n",
    "recall = recall_score(test_y, y_pred.round(0),average='macro')\n",
    "precision = precision_score(test_y, y_pred.round(0),average='macro')\n",
    "acc = accuracy_score(test_y, y_pred.round(0))\n",
    "print(classification_report(test_y, y_pred.round(0)))\n",
    "print(f'accuracy: {acc}, f1: {f1}, recall: {recall}, precision: {precision}')"
   ]
  },
  {
   "cell_type": "markdown",
   "metadata": {},
   "source": [
    "### 3.2 Support Vector Machine (SVM)\n",
    "\n",
    "TODO"
   ]
  },
  {
   "cell_type": "markdown",
   "metadata": {},
   "source": [
    "### 3.3 (?) neural network\n",
    "\n",
    "Maybe?"
   ]
  },
  {
   "cell_type": "code",
   "execution_count": 27,
   "metadata": {},
   "outputs": [
    {
     "name": "stdout",
     "output_type": "stream",
     "text": [
      "Model: \"sequential\"\n",
      "_________________________________________________________________\n",
      " Layer (type)                Output Shape              Param #   \n",
      "=================================================================\n",
      " dense (Dense)               (None, 300)               195300    \n",
      "                                                                 \n",
      " dense_1 (Dense)             (None, 300)               90300     \n",
      "                                                                 \n",
      " dense_2 (Dense)             (None, 3)                 903       \n",
      "                                                                 \n",
      "=================================================================\n",
      "Total params: 286,503\n",
      "Trainable params: 286,503\n",
      "Non-trainable params: 0\n",
      "_________________________________________________________________\n",
      "None\n",
      "(None, 3)\n"
     ]
    }
   ],
   "source": [
    "from tensorflow import keras\n",
    "\n",
    "keras.backend.clear_session()\n",
    "\n",
    "model = keras.models.Sequential([\n",
    "    keras.layers.InputLayer(input_shape=[train_X.shape[1]]),\n",
    "    keras.layers.Dense(300, activation=\"relu\", kernel_initializer='he_normal'),\n",
    "    keras.layers.Dense(300, activation=\"relu\", kernel_initializer='he_normal'),\n",
    "    keras.layers.Dense(3, activation=\"softmax\")\n",
    "])\n",
    "\n",
    "print(model.summary())\n",
    "print(model.output_shape)"
   ]
  },
  {
   "cell_type": "code",
   "execution_count": 28,
   "metadata": {},
   "outputs": [],
   "source": [
    "opt = keras.optimizers.Adam(learning_rate=1e-3)\n",
    "model.compile(loss='categorical_crossentropy',\n",
    "              optimizer=opt,\n",
    "              metrics=['accuracy'])"
   ]
  },
  {
   "cell_type": "code",
   "execution_count": 29,
   "metadata": {},
   "outputs": [
    {
     "name": "stdout",
     "output_type": "stream",
     "text": [
      "(5976, 650)\n",
      "(1992, 650)\n",
      "(5976, 3)\n",
      "(1992, 3)\n"
     ]
    }
   ],
   "source": [
    "temp_train_y = pd.DataFrame(train_y, columns=['country'])\n",
    "temp_train_y = pd.factorize(temp_train_y['country'])[0]\n",
    "train_X_nn, validate_X, train_y_nn, validate_y = train_test_split(train_X, temp_train_y)\n",
    "\n",
    "train_y_nn = keras.utils.to_categorical(train_y_nn, 3).astype('int32')\n",
    "validate_y = keras.utils.to_categorical(validate_y, 3).astype('int32')\n",
    "\n",
    "print(train_X_nn.shape)\n",
    "print(validate_X.shape)\n",
    "print(train_y_nn.shape)\n",
    "print(validate_y.shape)"
   ]
  },
  {
   "cell_type": "code",
   "execution_count": 30,
   "metadata": {},
   "outputs": [
    {
     "name": "stdout",
     "output_type": "stream",
     "text": [
      "Epoch 1/20\n",
      "187/187 [==============================] - 0s 2ms/step - loss: 0.4123 - accuracy: 0.8258 - val_loss: 0.2599 - val_accuracy: 0.8825\n",
      "Epoch 2/20\n",
      "187/187 [==============================] - 0s 1ms/step - loss: 0.2380 - accuracy: 0.8839 - val_loss: 0.2434 - val_accuracy: 0.8906\n",
      "Epoch 3/20\n",
      "187/187 [==============================] - 0s 1ms/step - loss: 0.2265 - accuracy: 0.8884 - val_loss: 0.2469 - val_accuracy: 0.8820\n",
      "Epoch 4/20\n",
      "187/187 [==============================] - 0s 1ms/step - loss: 0.2143 - accuracy: 0.8906 - val_loss: 0.2403 - val_accuracy: 0.8860\n",
      "Epoch 5/20\n",
      "187/187 [==============================] - 0s 1ms/step - loss: 0.2093 - accuracy: 0.8912 - val_loss: 0.2471 - val_accuracy: 0.8800\n",
      "Epoch 6/20\n",
      "187/187 [==============================] - 0s 1ms/step - loss: 0.2066 - accuracy: 0.8929 - val_loss: 0.2410 - val_accuracy: 0.8830\n",
      "Epoch 7/20\n",
      "187/187 [==============================] - 0s 1ms/step - loss: 0.2021 - accuracy: 0.8934 - val_loss: 0.2435 - val_accuracy: 0.8825\n",
      "Epoch 8/20\n",
      "187/187 [==============================] - 0s 1ms/step - loss: 0.2021 - accuracy: 0.8927 - val_loss: 0.2360 - val_accuracy: 0.8906\n",
      "Epoch 9/20\n",
      "187/187 [==============================] - 0s 1ms/step - loss: 0.1995 - accuracy: 0.8937 - val_loss: 0.2430 - val_accuracy: 0.8810\n",
      "Epoch 10/20\n",
      "187/187 [==============================] - 0s 1ms/step - loss: 0.1980 - accuracy: 0.8981 - val_loss: 0.2403 - val_accuracy: 0.8921\n",
      "Epoch 11/20\n",
      "187/187 [==============================] - 0s 2ms/step - loss: 0.1961 - accuracy: 0.8991 - val_loss: 0.2387 - val_accuracy: 0.8865\n",
      "Epoch 12/20\n",
      "187/187 [==============================] - 0s 2ms/step - loss: 0.1942 - accuracy: 0.8934 - val_loss: 0.2422 - val_accuracy: 0.8906\n",
      "Epoch 13/20\n",
      "187/187 [==============================] - 0s 2ms/step - loss: 0.1935 - accuracy: 0.8912 - val_loss: 0.2429 - val_accuracy: 0.8800\n",
      "Epoch 14/20\n",
      "187/187 [==============================] - 0s 1ms/step - loss: 0.1937 - accuracy: 0.8981 - val_loss: 0.2412 - val_accuracy: 0.8745\n",
      "Epoch 15/20\n",
      "187/187 [==============================] - 0s 1ms/step - loss: 0.1922 - accuracy: 0.8973 - val_loss: 0.2348 - val_accuracy: 0.8916\n",
      "Epoch 16/20\n",
      "187/187 [==============================] - 0s 1ms/step - loss: 0.1919 - accuracy: 0.8971 - val_loss: 0.2417 - val_accuracy: 0.8805\n",
      "Epoch 17/20\n",
      "187/187 [==============================] - 0s 1ms/step - loss: 0.1914 - accuracy: 0.8979 - val_loss: 0.2459 - val_accuracy: 0.8740\n",
      "Epoch 18/20\n",
      "187/187 [==============================] - 0s 1ms/step - loss: 0.1951 - accuracy: 0.8929 - val_loss: 0.2464 - val_accuracy: 0.8911\n",
      "Epoch 19/20\n",
      "187/187 [==============================] - 0s 1ms/step - loss: 0.1929 - accuracy: 0.9001 - val_loss: 0.2386 - val_accuracy: 0.8906\n",
      "Epoch 20/20\n",
      "187/187 [==============================] - 0s 1ms/step - loss: 0.1906 - accuracy: 0.8988 - val_loss: 0.2398 - val_accuracy: 0.8931\n"
     ]
    }
   ],
   "source": [
    "history = model.fit(train_X_nn, train_y_nn, epochs=20,\n",
    "                    validation_data=(validate_X, validate_y))"
   ]
  },
  {
   "cell_type": "code",
   "execution_count": 31,
   "metadata": {},
   "outputs": [
    {
     "data": {
      "image/png": "[encoded data removed]",
      "text/plain": [
       "<Figure size 800x500 with 1 Axes>"
      ]
     },
     "metadata": {},
     "output_type": "display_data"
    }
   ],
   "source": [
    "pd.DataFrame(history.history).plot(figsize=(8, 5))\n",
    "plt.grid(True)\n",
    "plt.gca().set_ylim(0, 3)\n",
    "plt.show()"
   ]
  },
  {
   "cell_type": "markdown",
   "metadata": {},
   "source": [
    "## 4. Model Testing and Comparison\n",
    "\n",
    "TODO"
   ]
  }
 ],
 "metadata": {
  "kernelspec": {
   "display_name": "Python 3 (ipykernel)",
   "language": "python",
   "name": "python3"
  },
  "language_info": {
   "codemirror_mode": {
    "name": "ipython",
    "version": 3
   },
   "file_extension": ".py",
   "mimetype": "text/x-python",
   "name": "python",
   "nbconvert_exporter": "python",
   "pygments_lexer": "ipython3",
   "version": "3.8.11"
  }
 },
 "nbformat": 4,
 "nbformat_minor": 2
}
