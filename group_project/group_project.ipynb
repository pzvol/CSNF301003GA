{
 "cells": [
  {
   "cell_type": "markdown",
   "metadata": {},
   "source": [
    "# (Title to be decided)"
   ]
  },
  {
   "cell_type": "markdown",
   "metadata": {},
   "source": [
    "*This is the file for the code of our group assignment. Under development.*"
   ]
  },
  {
   "cell_type": "code",
   "execution_count": 1,
   "metadata": {},
   "outputs": [],
   "source": [
    "import json\n",
    "import matplotlib.pyplot as plt\n",
    "import numpy as np\n",
    "import pandas as pd\n",
    "import re\n",
    "from sklearn import preprocessing\n",
    "from sklearn.decomposition import PCA\n",
    "from sklearn.feature_extraction.text import CountVectorizer\n",
    "from sklearn.model_selection import train_test_split\n",
    "from sklearn.preprocessing import MinMaxScaler"
   ]
  },
  {
   "cell_type": "markdown",
   "metadata": {},
   "source": [
    "## 1. Read Data from External File\n",
    "\n",
    "Read data in external files. For convenience, the original `.pcapng` file has been converted into `.json` and `.csv` with Wireshark."
   ]
  },
  {
   "cell_type": "code",
   "execution_count": 2,
   "metadata": {
    "tags": []
   },
   "outputs": [
    {
     "output_type": "stream",
     "name": "stdout",
     "text": "10625 packets read\n"
    },
    {
     "output_type": "execute_result",
     "data": {
      "text/plain": "{'_index': 'packets-XXXX-XX-XX',\n '_type': 'doc',\n '_score': None,\n '_source': {'layers': {'pkt_comment': {'frame.comment': '13682128230572000042,china',\n    'frame.comment_tree': {'_ws.expert': {'frame.comment.expert': '',\n      '_ws.expert.message': '13682128230572000042,china',\n      '_ws.expert.severity': '1048576',\n      '_ws.expert.group': '184549376'}}},\n   'frame': {'frame.interface_id': '0',\n    'frame.interface_id_tree': {'frame.interface_name': 'unknown'},\n    'frame.encap_type': '7',\n    'frame.time': 'Not representable',\n    'frame.offset_shift': '0.000000000',\n    'frame.time_epoch': '-1460980371.753735000',\n    'frame.time_delta': '0.000000000',\n    'frame.time_delta_displayed': '0.000000000',\n    'frame.time_relative': '0.000000000',\n    'frame.number': '1',\n    'frame.len': '58',\n    'frame.cap_len': '58',\n    'frame.marked': '0',\n    'frame.ignored': '0',\n    'frame.protocols': 'raw:ip:udp:dns',\n    'frame.coloring_rule.name': 'UDP',\n    'frame.coloring_rule.string': 'udp'},\n   'raw': 'Raw packet data',\n   'ip': {'ip.version': '4',\n    'ip.hdr_len': '20',\n    'ip.dsfield': '0x00000000',\n    'ip.dsfield_tree': {'ip.dsfield.dscp': '0', 'ip.dsfield.ecn': '0'},\n    'ip.len': '58',\n    'ip.id': '0x00002baf',\n    'ip.flags': '0x00000000',\n    'ip.flags_tree': {'ip.flags.rb': '0',\n     'ip.flags.df': '0',\n     'ip.flags.mf': '0'},\n    'ip.frag_offset': '0',\n    'ip.ttl': '254',\n    'ip.proto': '17',\n    'ip.checksum': '0x000075e6',\n    'ip.checksum.status': '2',\n    'ip.src': '10.11.1.3',\n    'ip.addr': '8.8.8.8',\n    'ip.src_host': '10.11.1.3',\n    'ip.host': 'dns.google',\n    'ip.dst': '8.8.8.8',\n    'ip.dst_host': 'dns.google'},\n   'udp': {'udp.srcport': '57329',\n    'udp.dstport': '53',\n    'udp.port': '53',\n    'udp.length': '38',\n    'udp.checksum': '0x000074d0',\n    'udp.checksum.status': '2',\n    'udp.stream': '0',\n    'Timestamps': {'udp.time_relative': '0.000000000',\n     'udp.time_delta': '0.000000000'}},\n   'dns': {'dns.id': '0x0000e8e9',\n    'dns.flags': '0x00000100',\n    'dns.flags_tree': {'dns.flags.response': '0',\n     'dns.flags.opcode': '0',\n     'dns.flags.truncated': '0',\n     'dns.flags.recdesired': '1',\n     'dns.flags.z': '0',\n     'dns.flags.checkdisable': '0'},\n    'dns.count.queries': '1',\n    'dns.count.answers': '0',\n    'dns.count.auth_rr': '0',\n    'dns.count.add_rr': '0',\n    'Queries': {'lcs.naver.jp: type A, class IN': {'dns.qry.name': 'lcs.naver.jp',\n      'dns.qry.name.len': '12',\n      'dns.count.labels': '3',\n      'dns.qry.type': '1',\n      'dns.qry.class': '0x00000001'}},\n    'dns.response_in': '2'}}}}"
     },
     "metadata": {},
     "execution_count": 2
    }
   ],
   "source": [
    "# Read the JSON including all details of packets\n",
    "#   errors=\"surrogateescape\" to pass the encoding errors raised by contents in HTTP packets\n",
    "with open(\"./data/traffic.json\", \"r\", encoding=\"utf-8\", errors=\"surrogateescape\") as f:\n",
    "    dataset_json=json.load(f)\n",
    "    print(f\"{len(dataset_json)} packets read\")\n",
    "\n",
    "# print one for checking\n",
    "dataset_json[0]"
   ]
  },
  {
   "cell_type": "code",
   "execution_count": 3,
   "metadata": {},
   "outputs": [],
   "source": [
    "# # TODO: UNUSED - REMOVE LATER\n",
    "# # Read the CSV\n",
    "# # TODO: Info in CSV should be covered by the one in JSON.\n",
    "# #       Remove it in the future if not used\n",
    "# dataset_csv=pd.read_csv(\"./data/traffic.csv\")\n",
    "\n",
    "# dataset_csv"
   ]
  },
  {
   "cell_type": "markdown",
   "metadata": {},
   "source": [
    "## 2. Data Preprocessing"
   ]
  },
  {
   "cell_type": "markdown",
   "metadata": {},
   "source": [
    "### 2.1 Extract dataset labels"
   ]
  },
  {
   "cell_type": "code",
   "execution_count": 4,
   "metadata": {
    "tags": []
   },
   "outputs": [
    {
     "output_type": "stream",
     "name": "stdout",
     "text": "Labels include ['china' 'india' 'us']\n(10625,)\n"
    }
   ],
   "source": [
    "# Extract labels(y) from JSON\n",
    "dataset_y = np.array(list(map(\n",
    "    lambda packet_json: (packet_json[\"_source\"][\"layers\"][\"pkt_comment\"][\"frame.comment\"]).split(\",\")[1], \n",
    "    dataset_json\n",
    ")))\n",
    "\n",
    "print(f\"Labels include {np.unique(dataset_y)}\")\n",
    "print(dataset_y.shape)"
   ]
  },
  {
   "cell_type": "markdown",
   "metadata": {},
   "source": [
    "### 2.2 Extract features"
   ]
  },
  {
   "cell_type": "code",
   "execution_count": 5,
   "metadata": {
    "tags": []
   },
   "outputs": [
    {
     "output_type": "stream",
     "name": "stdout",
     "text": "10.11.1.3\n10.11.1.3\n8.8.8.8\ndns.google\n"
    }
   ],
   "source": [
    "# Extract source IP, source IP host, destination IP and destination IP host from dataset\n",
    "dataset_X_ip_src = np.array(list(map(\n",
    "    lambda packet_json: packet_json[\"_source\"][\"layers\"][\"ip\"][\"ip.src\"], \n",
    "    dataset_json\n",
    ")))\n",
    "dataset_X_ip_src_host = np.array(list(map(\n",
    "    lambda packet_json: packet_json[\"_source\"][\"layers\"][\"ip\"][\"ip.src_host\"], \n",
    "    dataset_json\n",
    ")))\n",
    "dataset_X_ip_dst = np.array(list(map(\n",
    "    lambda packet_json: packet_json[\"_source\"][\"layers\"][\"ip\"][\"ip.dst\"], \n",
    "    dataset_json\n",
    ")))\n",
    "dataset_X_ip_dst_host = np.array(list(map(\n",
    "    lambda packet_json: packet_json[\"_source\"][\"layers\"][\"ip\"][\"ip.dst_host\"], \n",
    "    dataset_json\n",
    ")))\n",
    "\n",
    "# print first ones for checking\n",
    "print(dataset_X_ip_src[0])\n",
    "print(dataset_X_ip_src_host[0])\n",
    "print(dataset_X_ip_dst[0])\n",
    "print(dataset_X_ip_dst_host[0])\n"
   ]
  },
  {
   "cell_type": "markdown",
   "metadata": {},
   "source": [
    "### 2.3 Check data sanity and deal with missing fields"
   ]
  },
  {
   "cell_type": "code",
   "execution_count": 6,
   "metadata": {
    "tags": []
   },
   "outputs": [
    {
     "output_type": "stream",
     "name": "stdout",
     "text": "Source/dest IP not an IPv4 address:\n[]\n[]\nSource/dest host not an IPv4 nor a domain:\n[]\n['no-data', 'no-data']\n\nIndexes of rows with missing 'dst.host': [960 964]\nMissing 'dst.host' filled\n"
    }
   ],
   "source": [
    "# Data sanity check\n",
    "pattern_not_ipv4 = re.compile(r\"(?!((\\b25[0-5]|\\b2[0-4][0-9]|\\b[01]?[0-9][0-9]?)(\\.(25[0-5]|2[0-4][0-9]|[01]?[0-9][0-9]?)){3}))\")\n",
    "pattern_not_ipv4_nor_domain = re.compile(r\"(?!(((\\b25[0-5]|\\b2[0-4][0-9]|\\b[01]?[0-9][0-9]?)(\\.(25[0-5]|2[0-4][0-9]|[01]?[0-9][0-9]?)){3}))|[-_0-9a-zA-Z]+\\.[-_0-9a-zA-Z]+)\")\n",
    "\n",
    "print(\"Source/dest IP not an IPv4 address:\")\n",
    "print(list(filter(pattern_not_ipv4.match, dataset_X_ip_src)))\n",
    "print(list(filter(pattern_not_ipv4.match, dataset_X_ip_dst)))\n",
    "print(\"Source/dest host not an IPv4 nor a domain:\")\n",
    "print(list(filter(pattern_not_ipv4_nor_domain.match, dataset_X_ip_src_host)))\n",
    "print(list(filter(pattern_not_ipv4_nor_domain.match, dataset_X_ip_dst_host)))\n",
    "\n",
    "print()\n",
    "\n",
    "# Fill the missing `dst.host`\n",
    "#\n",
    "# Find \"no-data\" rows\n",
    "missing_dst_host_indexes = np.where(dataset_X_ip_dst_host=='no-data')[0]\n",
    "print(f\"Indexes of rows with missing 'dst.host': {missing_dst_host_indexes}\")\n",
    "\n",
    "# Fill the field with the IP address in `dst`, following the way of other rows\n",
    "for i in missing_dst_host_indexes:\n",
    "    dataset_X_ip_dst_host[i] = dataset_X_ip_dst[i]\n",
    "\n",
    "print(\"Missing 'dst.host' filled\")"
   ]
  },
  {
   "cell_type": "markdown",
   "metadata": {},
   "source": [
    "### 2.4 Bi-gram for similarity between IPs and domains"
   ]
  },
  {
   "cell_type": "code",
   "execution_count": 7,
   "metadata": {
    "tags": []
   },
   "outputs": [
    {
     "output_type": "stream",
     "name": "stdout",
     "text": "(10625, 1402)\n(10625, 867)\n(10625, 1629)\n(10625, 1059)\n\n(10625, 4957)\n"
    }
   ],
   "source": [
    "# bi-gram for similar IP and hostnames\n",
    "bigram_vec = CountVectorizer(ngram_range=(2, 2), token_pattern=r\"(?u)[^.]+\")\n",
    "dataset_X_ip_src_bg = bigram_vec.fit_transform(dataset_X_ip_src).toarray()\n",
    "dataset_X_ip_src_host_bg = bigram_vec.fit_transform(dataset_X_ip_src_host).toarray()\n",
    "dataset_X_ip_dst_bg = bigram_vec.fit_transform(dataset_X_ip_dst).toarray()\n",
    "dataset_X_ip_dst_host_bg = bigram_vec.fit_transform(dataset_X_ip_dst_host).toarray()\n",
    "\n",
    "print(dataset_X_ip_src_bg.shape)\n",
    "print(dataset_X_ip_src_host_bg.shape)\n",
    "print(dataset_X_ip_dst_bg.shape)\n",
    "print(dataset_X_ip_dst_host_bg.shape)\n",
    "\n",
    "dataset_X = np.concatenate((\n",
    "    dataset_X_ip_src_bg, \n",
    "    dataset_X_ip_src_host_bg,\n",
    "    dataset_X_ip_dst_bg, \n",
    "    dataset_X_ip_dst_host_bg), axis=1)\n",
    "\n",
    "print(\"\")\n",
    "print(dataset_X.shape)\n"
   ]
  },
  {
   "cell_type": "markdown",
   "metadata": {},
   "source": [
    "### 2.5 Normalization"
   ]
  },
  {
   "cell_type": "code",
   "execution_count": 8,
   "metadata": {
    "tags": []
   },
   "outputs": [
    {
     "output_type": "stream",
     "name": "stdout",
     "text": "(10625, 4957)\n"
    }
   ],
   "source": [
    "# Normalization\n",
    "dataset_X = MinMaxScaler().fit_transform(dataset_X)\n",
    "print(dataset_X.shape)"
   ]
  },
  {
   "cell_type": "markdown",
   "metadata": {},
   "source": [
    "### 2.6 Principal Component Analysis (PCA)"
   ]
  },
  {
   "cell_type": "code",
   "execution_count": 9,
   "metadata": {},
   "outputs": [
    {
     "output_type": "display_data",
     "data": {
      "text/plain": "<Figure size 640x480 with 1 Axes>",
      "image/svg+xml": "<?xml version=\"1.0\" encoding=\"utf-8\" standalone=\"no\"?>\n<!DOCTYPE svg PUBLIC \"-//W3C//DTD SVG 1.1//EN\"\n  \"http://www.w3.org/Graphics/SVG/1.1/DTD/svg11.dtd\">\n<svg xmlns:xlink=\"http://www.w3.org/1999/xlink\" width=\"408.10125pt\" height=\"314.667469pt\" viewBox=\"0 0 408.10125 314.667469\" xmlns=\"http://www.w3.org/2000/svg\" version=\"1.1\">\n <metadata>\n  <rdf:RDF xmlns:dc=\"http://purl.org/dc/elements/1.1/\" xmlns:cc=\"http://creativecommons.org/ns#\" xmlns:rdf=\"http://www.w3.org/1999/02/22-rdf-syntax-ns#\">\n   <cc:Work>\n    <dc:type rdf:resource=\"http://purl.org/dc/dcmitype/StillImage\"/>\n    <dc:date>2023-03-18T11:42:16.222891</dc:date>\n    <dc:format>image/svg+xml</dc:format>\n    <dc:creator>\n     <cc:Agent>\n      <dc:title>Matplotlib v3.5.2, https://matplotlib.org/</dc:title>\n     </cc:Agent>\n    </dc:creator>\n   </cc:Work>\n  </rdf:RDF>\n </metadata>\n <defs>\n  <style type=\"text/css\">*{stroke-linejoin: round; stroke-linecap: butt}</style>\n </defs>\n <g id=\"figure_1\">\n  <g id=\"patch_1\">\n   <path d=\"M 0 314.667469 \nL 408.10125 314.667469 \nL 408.10125 0 \nL 0 0 \nz\n\" style=\"fill: #ffffff\"/>\n  </g>\n  <g id=\"axes_1\">\n   <g id=\"patch_2\">\n    <path d=\"M 43.78125 277.111219 \nL 400.90125 277.111219 \nL 400.90125 10.999219 \nL 43.78125 10.999219 \nz\n\" style=\"fill: #ffffff\"/>\n   </g>\n   <g id=\"matplotlib.axis_1\">\n    <g id=\"xtick_1\">\n     <g id=\"line2d_1\">\n      <path d=\"M 43.78125 277.111219 \nL 43.78125 10.999219 \n\" clip-path=\"url(#p208dbaee0c)\" style=\"fill: none; stroke: #b0b0b0; stroke-width: 0.8; stroke-linecap: square\"/>\n     </g>\n     <g id=\"line2d_2\">\n      <defs>\n       <path id=\"m922ccd3295\" d=\"M 0 0 \nL 0 3.5 \n\" style=\"stroke: #000000; stroke-width: 0.8\"/>\n      </defs>\n      <g>\n       <use xlink:href=\"#m922ccd3295\" x=\"43.78125\" y=\"277.111219\" style=\"stroke: #000000; stroke-width: 0.8\"/>\n      </g>\n     </g>\n     <g id=\"text_1\">\n      <!-- 0 -->\n      <g transform=\"translate(40.6 291.709656)scale(0.1 -0.1)\">\n       <defs>\n        <path id=\"DejaVuSans-30\" d=\"M 2034 4250 \nQ 1547 4250 1301 3770 \nQ 1056 3291 1056 2328 \nQ 1056 1369 1301 889 \nQ 1547 409 2034 409 \nQ 2525 409 2770 889 \nQ 3016 1369 3016 2328 \nQ 3016 3291 2770 3770 \nQ 2525 4250 2034 4250 \nz\nM 2034 4750 \nQ 2819 4750 3233 4129 \nQ 3647 3509 3647 2328 \nQ 3647 1150 3233 529 \nQ 2819 -91 2034 -91 \nQ 1250 -91 836 529 \nQ 422 1150 422 2328 \nQ 422 3509 836 4129 \nQ 1250 4750 2034 4750 \nz\n\" transform=\"scale(0.015625)\"/>\n       </defs>\n       <use xlink:href=\"#DejaVuSans-30\"/>\n      </g>\n     </g>\n    </g>\n    <g id=\"xtick_2\">\n     <g id=\"line2d_3\">\n      <path d=\"M 115.824825 277.111219 \nL 115.824825 10.999219 \n\" clip-path=\"url(#p208dbaee0c)\" style=\"fill: none; stroke: #b0b0b0; stroke-width: 0.8; stroke-linecap: square\"/>\n     </g>\n     <g id=\"line2d_4\">\n      <g>\n       <use xlink:href=\"#m922ccd3295\" x=\"115.824825\" y=\"277.111219\" style=\"stroke: #000000; stroke-width: 0.8\"/>\n      </g>\n     </g>\n     <g id=\"text_2\">\n      <!-- 1000 -->\n      <g transform=\"translate(103.099825 291.709656)scale(0.1 -0.1)\">\n       <defs>\n        <path id=\"DejaVuSans-31\" d=\"M 794 531 \nL 1825 531 \nL 1825 4091 \nL 703 3866 \nL 703 4441 \nL 1819 4666 \nL 2450 4666 \nL 2450 531 \nL 3481 531 \nL 3481 0 \nL 794 0 \nL 794 531 \nz\n\" transform=\"scale(0.015625)\"/>\n       </defs>\n       <use xlink:href=\"#DejaVuSans-31\"/>\n       <use xlink:href=\"#DejaVuSans-30\" x=\"63.623047\"/>\n       <use xlink:href=\"#DejaVuSans-30\" x=\"127.246094\"/>\n       <use xlink:href=\"#DejaVuSans-30\" x=\"190.869141\"/>\n      </g>\n     </g>\n    </g>\n    <g id=\"xtick_3\">\n     <g id=\"line2d_5\">\n      <path d=\"M 187.868399 277.111219 \nL 187.868399 10.999219 \n\" clip-path=\"url(#p208dbaee0c)\" style=\"fill: none; stroke: #b0b0b0; stroke-width: 0.8; stroke-linecap: square\"/>\n     </g>\n     <g id=\"line2d_6\">\n      <g>\n       <use xlink:href=\"#m922ccd3295\" x=\"187.868399\" y=\"277.111219\" style=\"stroke: #000000; stroke-width: 0.8\"/>\n      </g>\n     </g>\n     <g id=\"text_3\">\n      <!-- 2000 -->\n      <g transform=\"translate(175.143399 291.709656)scale(0.1 -0.1)\">\n       <defs>\n        <path id=\"DejaVuSans-32\" d=\"M 1228 531 \nL 3431 531 \nL 3431 0 \nL 469 0 \nL 469 531 \nQ 828 903 1448 1529 \nQ 2069 2156 2228 2338 \nQ 2531 2678 2651 2914 \nQ 2772 3150 2772 3378 \nQ 2772 3750 2511 3984 \nQ 2250 4219 1831 4219 \nQ 1534 4219 1204 4116 \nQ 875 4013 500 3803 \nL 500 4441 \nQ 881 4594 1212 4672 \nQ 1544 4750 1819 4750 \nQ 2544 4750 2975 4387 \nQ 3406 4025 3406 3419 \nQ 3406 3131 3298 2873 \nQ 3191 2616 2906 2266 \nQ 2828 2175 2409 1742 \nQ 1991 1309 1228 531 \nz\n\" transform=\"scale(0.015625)\"/>\n       </defs>\n       <use xlink:href=\"#DejaVuSans-32\"/>\n       <use xlink:href=\"#DejaVuSans-30\" x=\"63.623047\"/>\n       <use xlink:href=\"#DejaVuSans-30\" x=\"127.246094\"/>\n       <use xlink:href=\"#DejaVuSans-30\" x=\"190.869141\"/>\n      </g>\n     </g>\n    </g>\n    <g id=\"xtick_4\">\n     <g id=\"line2d_7\">\n      <path d=\"M 259.911974 277.111219 \nL 259.911974 10.999219 \n\" clip-path=\"url(#p208dbaee0c)\" style=\"fill: none; stroke: #b0b0b0; stroke-width: 0.8; stroke-linecap: square\"/>\n     </g>\n     <g id=\"line2d_8\">\n      <g>\n       <use xlink:href=\"#m922ccd3295\" x=\"259.911974\" y=\"277.111219\" style=\"stroke: #000000; stroke-width: 0.8\"/>\n      </g>\n     </g>\n     <g id=\"text_4\">\n      <!-- 3000 -->\n      <g transform=\"translate(247.186974 291.709656)scale(0.1 -0.1)\">\n       <defs>\n        <path id=\"DejaVuSans-33\" d=\"M 2597 2516 \nQ 3050 2419 3304 2112 \nQ 3559 1806 3559 1356 \nQ 3559 666 3084 287 \nQ 2609 -91 1734 -91 \nQ 1441 -91 1130 -33 \nQ 819 25 488 141 \nL 488 750 \nQ 750 597 1062 519 \nQ 1375 441 1716 441 \nQ 2309 441 2620 675 \nQ 2931 909 2931 1356 \nQ 2931 1769 2642 2001 \nQ 2353 2234 1838 2234 \nL 1294 2234 \nL 1294 2753 \nL 1863 2753 \nQ 2328 2753 2575 2939 \nQ 2822 3125 2822 3475 \nQ 2822 3834 2567 4026 \nQ 2313 4219 1838 4219 \nQ 1578 4219 1281 4162 \nQ 984 4106 628 3988 \nL 628 4550 \nQ 988 4650 1302 4700 \nQ 1616 4750 1894 4750 \nQ 2613 4750 3031 4423 \nQ 3450 4097 3450 3541 \nQ 3450 3153 3228 2886 \nQ 3006 2619 2597 2516 \nz\n\" transform=\"scale(0.015625)\"/>\n       </defs>\n       <use xlink:href=\"#DejaVuSans-33\"/>\n       <use xlink:href=\"#DejaVuSans-30\" x=\"63.623047\"/>\n       <use xlink:href=\"#DejaVuSans-30\" x=\"127.246094\"/>\n       <use xlink:href=\"#DejaVuSans-30\" x=\"190.869141\"/>\n      </g>\n     </g>\n    </g>\n    <g id=\"xtick_5\">\n     <g id=\"line2d_9\">\n      <path d=\"M 331.955549 277.111219 \nL 331.955549 10.999219 \n\" clip-path=\"url(#p208dbaee0c)\" style=\"fill: none; stroke: #b0b0b0; stroke-width: 0.8; stroke-linecap: square\"/>\n     </g>\n     <g id=\"line2d_10\">\n      <g>\n       <use xlink:href=\"#m922ccd3295\" x=\"331.955549\" y=\"277.111219\" style=\"stroke: #000000; stroke-width: 0.8\"/>\n      </g>\n     </g>\n     <g id=\"text_5\">\n      <!-- 4000 -->\n      <g transform=\"translate(319.230549 291.709656)scale(0.1 -0.1)\">\n       <defs>\n        <path id=\"DejaVuSans-34\" d=\"M 2419 4116 \nL 825 1625 \nL 2419 1625 \nL 2419 4116 \nz\nM 2253 4666 \nL 3047 4666 \nL 3047 1625 \nL 3713 1625 \nL 3713 1100 \nL 3047 1100 \nL 3047 0 \nL 2419 0 \nL 2419 1100 \nL 313 1100 \nL 313 1709 \nL 2253 4666 \nz\n\" transform=\"scale(0.015625)\"/>\n       </defs>\n       <use xlink:href=\"#DejaVuSans-34\"/>\n       <use xlink:href=\"#DejaVuSans-30\" x=\"63.623047\"/>\n       <use xlink:href=\"#DejaVuSans-30\" x=\"127.246094\"/>\n       <use xlink:href=\"#DejaVuSans-30\" x=\"190.869141\"/>\n      </g>\n     </g>\n    </g>\n    <g id=\"text_6\">\n     <!-- dimensions -->\n     <g transform=\"translate(193.835781 305.387781)scale(0.1 -0.1)\">\n      <defs>\n       <path id=\"DejaVuSans-64\" d=\"M 2906 2969 \nL 2906 4863 \nL 3481 4863 \nL 3481 0 \nL 2906 0 \nL 2906 525 \nQ 2725 213 2448 61 \nQ 2172 -91 1784 -91 \nQ 1150 -91 751 415 \nQ 353 922 353 1747 \nQ 353 2572 751 3078 \nQ 1150 3584 1784 3584 \nQ 2172 3584 2448 3432 \nQ 2725 3281 2906 2969 \nz\nM 947 1747 \nQ 947 1113 1208 752 \nQ 1469 391 1925 391 \nQ 2381 391 2643 752 \nQ 2906 1113 2906 1747 \nQ 2906 2381 2643 2742 \nQ 2381 3103 1925 3103 \nQ 1469 3103 1208 2742 \nQ 947 2381 947 1747 \nz\n\" transform=\"scale(0.015625)\"/>\n       <path id=\"DejaVuSans-69\" d=\"M 603 3500 \nL 1178 3500 \nL 1178 0 \nL 603 0 \nL 603 3500 \nz\nM 603 4863 \nL 1178 4863 \nL 1178 4134 \nL 603 4134 \nL 603 4863 \nz\n\" transform=\"scale(0.015625)\"/>\n       <path id=\"DejaVuSans-6d\" d=\"M 3328 2828 \nQ 3544 3216 3844 3400 \nQ 4144 3584 4550 3584 \nQ 5097 3584 5394 3201 \nQ 5691 2819 5691 2113 \nL 5691 0 \nL 5113 0 \nL 5113 2094 \nQ 5113 2597 4934 2840 \nQ 4756 3084 4391 3084 \nQ 3944 3084 3684 2787 \nQ 3425 2491 3425 1978 \nL 3425 0 \nL 2847 0 \nL 2847 2094 \nQ 2847 2600 2669 2842 \nQ 2491 3084 2119 3084 \nQ 1678 3084 1418 2786 \nQ 1159 2488 1159 1978 \nL 1159 0 \nL 581 0 \nL 581 3500 \nL 1159 3500 \nL 1159 2956 \nQ 1356 3278 1631 3431 \nQ 1906 3584 2284 3584 \nQ 2666 3584 2933 3390 \nQ 3200 3197 3328 2828 \nz\n\" transform=\"scale(0.015625)\"/>\n       <path id=\"DejaVuSans-65\" d=\"M 3597 1894 \nL 3597 1613 \nL 953 1613 \nQ 991 1019 1311 708 \nQ 1631 397 2203 397 \nQ 2534 397 2845 478 \nQ 3156 559 3463 722 \nL 3463 178 \nQ 3153 47 2828 -22 \nQ 2503 -91 2169 -91 \nQ 1331 -91 842 396 \nQ 353 884 353 1716 \nQ 353 2575 817 3079 \nQ 1281 3584 2069 3584 \nQ 2775 3584 3186 3129 \nQ 3597 2675 3597 1894 \nz\nM 3022 2063 \nQ 3016 2534 2758 2815 \nQ 2500 3097 2075 3097 \nQ 1594 3097 1305 2825 \nQ 1016 2553 972 2059 \nL 3022 2063 \nz\n\" transform=\"scale(0.015625)\"/>\n       <path id=\"DejaVuSans-6e\" d=\"M 3513 2113 \nL 3513 0 \nL 2938 0 \nL 2938 2094 \nQ 2938 2591 2744 2837 \nQ 2550 3084 2163 3084 \nQ 1697 3084 1428 2787 \nQ 1159 2491 1159 1978 \nL 1159 0 \nL 581 0 \nL 581 3500 \nL 1159 3500 \nL 1159 2956 \nQ 1366 3272 1645 3428 \nQ 1925 3584 2291 3584 \nQ 2894 3584 3203 3211 \nQ 3513 2838 3513 2113 \nz\n\" transform=\"scale(0.015625)\"/>\n       <path id=\"DejaVuSans-73\" d=\"M 2834 3397 \nL 2834 2853 \nQ 2591 2978 2328 3040 \nQ 2066 3103 1784 3103 \nQ 1356 3103 1142 2972 \nQ 928 2841 928 2578 \nQ 928 2378 1081 2264 \nQ 1234 2150 1697 2047 \nL 1894 2003 \nQ 2506 1872 2764 1633 \nQ 3022 1394 3022 966 \nQ 3022 478 2636 193 \nQ 2250 -91 1575 -91 \nQ 1294 -91 989 -36 \nQ 684 19 347 128 \nL 347 722 \nQ 666 556 975 473 \nQ 1284 391 1588 391 \nQ 1994 391 2212 530 \nQ 2431 669 2431 922 \nQ 2431 1156 2273 1281 \nQ 2116 1406 1581 1522 \nL 1381 1569 \nQ 847 1681 609 1914 \nQ 372 2147 372 2553 \nQ 372 3047 722 3315 \nQ 1072 3584 1716 3584 \nQ 2034 3584 2315 3537 \nQ 2597 3491 2834 3397 \nz\n\" transform=\"scale(0.015625)\"/>\n       <path id=\"DejaVuSans-6f\" d=\"M 1959 3097 \nQ 1497 3097 1228 2736 \nQ 959 2375 959 1747 \nQ 959 1119 1226 758 \nQ 1494 397 1959 397 \nQ 2419 397 2687 759 \nQ 2956 1122 2956 1747 \nQ 2956 2369 2687 2733 \nQ 2419 3097 1959 3097 \nz\nM 1959 3584 \nQ 2709 3584 3137 3096 \nQ 3566 2609 3566 1747 \nQ 3566 888 3137 398 \nQ 2709 -91 1959 -91 \nQ 1206 -91 779 398 \nQ 353 888 353 1747 \nQ 353 2609 779 3096 \nQ 1206 3584 1959 3584 \nz\n\" transform=\"scale(0.015625)\"/>\n      </defs>\n      <use xlink:href=\"#DejaVuSans-64\"/>\n      <use xlink:href=\"#DejaVuSans-69\" x=\"63.476562\"/>\n      <use xlink:href=\"#DejaVuSans-6d\" x=\"91.259766\"/>\n      <use xlink:href=\"#DejaVuSans-65\" x=\"188.671875\"/>\n      <use xlink:href=\"#DejaVuSans-6e\" x=\"250.195312\"/>\n      <use xlink:href=\"#DejaVuSans-73\" x=\"313.574219\"/>\n      <use xlink:href=\"#DejaVuSans-69\" x=\"365.673828\"/>\n      <use xlink:href=\"#DejaVuSans-6f\" x=\"393.457031\"/>\n      <use xlink:href=\"#DejaVuSans-6e\" x=\"454.638672\"/>\n      <use xlink:href=\"#DejaVuSans-73\" x=\"518.017578\"/>\n     </g>\n    </g>\n   </g>\n   <g id=\"matplotlib.axis_2\">\n    <g id=\"ytick_1\">\n     <g id=\"line2d_11\">\n      <path d=\"M 43.78125 277.111219 \nL 400.90125 277.111219 \n\" clip-path=\"url(#p208dbaee0c)\" style=\"fill: none; stroke: #b0b0b0; stroke-width: 0.8; stroke-linecap: square\"/>\n     </g>\n     <g id=\"line2d_12\">\n      <defs>\n       <path id=\"m5435781e4e\" d=\"M 0 0 \nL -3.5 0 \n\" style=\"stroke: #000000; stroke-width: 0.8\"/>\n      </defs>\n      <g>\n       <use xlink:href=\"#m5435781e4e\" x=\"43.78125\" y=\"277.111219\" style=\"stroke: #000000; stroke-width: 0.8\"/>\n      </g>\n     </g>\n     <g id=\"text_7\">\n      <!-- 0.0 -->\n      <g transform=\"translate(20.878125 280.910437)scale(0.1 -0.1)\">\n       <defs>\n        <path id=\"DejaVuSans-2e\" d=\"M 684 794 \nL 1344 794 \nL 1344 0 \nL 684 0 \nL 684 794 \nz\n\" transform=\"scale(0.015625)\"/>\n       </defs>\n       <use xlink:href=\"#DejaVuSans-30\"/>\n       <use xlink:href=\"#DejaVuSans-2e\" x=\"63.623047\"/>\n       <use xlink:href=\"#DejaVuSans-30\" x=\"95.410156\"/>\n      </g>\n     </g>\n    </g>\n    <g id=\"ytick_2\">\n     <g id=\"line2d_13\">\n      <path d=\"M 43.78125 223.888819 \nL 400.90125 223.888819 \n\" clip-path=\"url(#p208dbaee0c)\" style=\"fill: none; stroke: #b0b0b0; stroke-width: 0.8; stroke-linecap: square\"/>\n     </g>\n     <g id=\"line2d_14\">\n      <g>\n       <use xlink:href=\"#m5435781e4e\" x=\"43.78125\" y=\"223.888819\" style=\"stroke: #000000; stroke-width: 0.8\"/>\n      </g>\n     </g>\n     <g id=\"text_8\">\n      <!-- 0.2 -->\n      <g transform=\"translate(20.878125 227.688037)scale(0.1 -0.1)\">\n       <use xlink:href=\"#DejaVuSans-30\"/>\n       <use xlink:href=\"#DejaVuSans-2e\" x=\"63.623047\"/>\n       <use xlink:href=\"#DejaVuSans-32\" x=\"95.410156\"/>\n      </g>\n     </g>\n    </g>\n    <g id=\"ytick_3\">\n     <g id=\"line2d_15\">\n      <path d=\"M 43.78125 170.666419 \nL 400.90125 170.666419 \n\" clip-path=\"url(#p208dbaee0c)\" style=\"fill: none; stroke: #b0b0b0; stroke-width: 0.8; stroke-linecap: square\"/>\n     </g>\n     <g id=\"line2d_16\">\n      <g>\n       <use xlink:href=\"#m5435781e4e\" x=\"43.78125\" y=\"170.666419\" style=\"stroke: #000000; stroke-width: 0.8\"/>\n      </g>\n     </g>\n     <g id=\"text_9\">\n      <!-- 0.4 -->\n      <g transform=\"translate(20.878125 174.465637)scale(0.1 -0.1)\">\n       <use xlink:href=\"#DejaVuSans-30\"/>\n       <use xlink:href=\"#DejaVuSans-2e\" x=\"63.623047\"/>\n       <use xlink:href=\"#DejaVuSans-34\" x=\"95.410156\"/>\n      </g>\n     </g>\n    </g>\n    <g id=\"ytick_4\">\n     <g id=\"line2d_17\">\n      <path d=\"M 43.78125 117.444019 \nL 400.90125 117.444019 \n\" clip-path=\"url(#p208dbaee0c)\" style=\"fill: none; stroke: #b0b0b0; stroke-width: 0.8; stroke-linecap: square\"/>\n     </g>\n     <g id=\"line2d_18\">\n      <g>\n       <use xlink:href=\"#m5435781e4e\" x=\"43.78125\" y=\"117.444019\" style=\"stroke: #000000; stroke-width: 0.8\"/>\n      </g>\n     </g>\n     <g id=\"text_10\">\n      <!-- 0.6 -->\n      <g transform=\"translate(20.878125 121.243237)scale(0.1 -0.1)\">\n       <defs>\n        <path id=\"DejaVuSans-36\" d=\"M 2113 2584 \nQ 1688 2584 1439 2293 \nQ 1191 2003 1191 1497 \nQ 1191 994 1439 701 \nQ 1688 409 2113 409 \nQ 2538 409 2786 701 \nQ 3034 994 3034 1497 \nQ 3034 2003 2786 2293 \nQ 2538 2584 2113 2584 \nz\nM 3366 4563 \nL 3366 3988 \nQ 3128 4100 2886 4159 \nQ 2644 4219 2406 4219 \nQ 1781 4219 1451 3797 \nQ 1122 3375 1075 2522 \nQ 1259 2794 1537 2939 \nQ 1816 3084 2150 3084 \nQ 2853 3084 3261 2657 \nQ 3669 2231 3669 1497 \nQ 3669 778 3244 343 \nQ 2819 -91 2113 -91 \nQ 1303 -91 875 529 \nQ 447 1150 447 2328 \nQ 447 3434 972 4092 \nQ 1497 4750 2381 4750 \nQ 2619 4750 2861 4703 \nQ 3103 4656 3366 4563 \nz\n\" transform=\"scale(0.015625)\"/>\n       </defs>\n       <use xlink:href=\"#DejaVuSans-30\"/>\n       <use xlink:href=\"#DejaVuSans-2e\" x=\"63.623047\"/>\n       <use xlink:href=\"#DejaVuSans-36\" x=\"95.410156\"/>\n      </g>\n     </g>\n    </g>\n    <g id=\"ytick_5\">\n     <g id=\"line2d_19\">\n      <path d=\"M 43.78125 64.221619 \nL 400.90125 64.221619 \n\" clip-path=\"url(#p208dbaee0c)\" style=\"fill: none; stroke: #b0b0b0; stroke-width: 0.8; stroke-linecap: square\"/>\n     </g>\n     <g id=\"line2d_20\">\n      <g>\n       <use xlink:href=\"#m5435781e4e\" x=\"43.78125\" y=\"64.221619\" style=\"stroke: #000000; stroke-width: 0.8\"/>\n      </g>\n     </g>\n     <g id=\"text_11\">\n      <!-- 0.8 -->\n      <g transform=\"translate(20.878125 68.020837)scale(0.1 -0.1)\">\n       <defs>\n        <path id=\"DejaVuSans-38\" d=\"M 2034 2216 \nQ 1584 2216 1326 1975 \nQ 1069 1734 1069 1313 \nQ 1069 891 1326 650 \nQ 1584 409 2034 409 \nQ 2484 409 2743 651 \nQ 3003 894 3003 1313 \nQ 3003 1734 2745 1975 \nQ 2488 2216 2034 2216 \nz\nM 1403 2484 \nQ 997 2584 770 2862 \nQ 544 3141 544 3541 \nQ 544 4100 942 4425 \nQ 1341 4750 2034 4750 \nQ 2731 4750 3128 4425 \nQ 3525 4100 3525 3541 \nQ 3525 3141 3298 2862 \nQ 3072 2584 2669 2484 \nQ 3125 2378 3379 2068 \nQ 3634 1759 3634 1313 \nQ 3634 634 3220 271 \nQ 2806 -91 2034 -91 \nQ 1263 -91 848 271 \nQ 434 634 434 1313 \nQ 434 1759 690 2068 \nQ 947 2378 1403 2484 \nz\nM 1172 3481 \nQ 1172 3119 1398 2916 \nQ 1625 2713 2034 2713 \nQ 2441 2713 2670 2916 \nQ 2900 3119 2900 3481 \nQ 2900 3844 2670 4047 \nQ 2441 4250 2034 4250 \nQ 1625 4250 1398 4047 \nQ 1172 3844 1172 3481 \nz\n\" transform=\"scale(0.015625)\"/>\n       </defs>\n       <use xlink:href=\"#DejaVuSans-30\"/>\n       <use xlink:href=\"#DejaVuSans-2e\" x=\"63.623047\"/>\n       <use xlink:href=\"#DejaVuSans-38\" x=\"95.410156\"/>\n      </g>\n     </g>\n    </g>\n    <g id=\"ytick_6\">\n     <g id=\"line2d_21\">\n      <path d=\"M 43.78125 10.999219 \nL 400.90125 10.999219 \n\" clip-path=\"url(#p208dbaee0c)\" style=\"fill: none; stroke: #b0b0b0; stroke-width: 0.8; stroke-linecap: square\"/>\n     </g>\n     <g id=\"line2d_22\">\n      <g>\n       <use xlink:href=\"#m5435781e4e\" x=\"43.78125\" y=\"10.999219\" style=\"stroke: #000000; stroke-width: 0.8\"/>\n      </g>\n     </g>\n     <g id=\"text_12\">\n      <!-- 1.0 -->\n      <g transform=\"translate(20.878125 14.798437)scale(0.1 -0.1)\">\n       <use xlink:href=\"#DejaVuSans-31\"/>\n       <use xlink:href=\"#DejaVuSans-2e\" x=\"63.623047\"/>\n       <use xlink:href=\"#DejaVuSans-30\" x=\"95.410156\"/>\n      </g>\n     </g>\n    </g>\n    <g id=\"text_13\">\n     <!-- explained variance -->\n     <g transform=\"translate(14.798438 191.555219)rotate(-90)scale(0.1 -0.1)\">\n      <defs>\n       <path id=\"DejaVuSans-78\" d=\"M 3513 3500 \nL 2247 1797 \nL 3578 0 \nL 2900 0 \nL 1881 1375 \nL 863 0 \nL 184 0 \nL 1544 1831 \nL 300 3500 \nL 978 3500 \nL 1906 2253 \nL 2834 3500 \nL 3513 3500 \nz\n\" transform=\"scale(0.015625)\"/>\n       <path id=\"DejaVuSans-70\" d=\"M 1159 525 \nL 1159 -1331 \nL 581 -1331 \nL 581 3500 \nL 1159 3500 \nL 1159 2969 \nQ 1341 3281 1617 3432 \nQ 1894 3584 2278 3584 \nQ 2916 3584 3314 3078 \nQ 3713 2572 3713 1747 \nQ 3713 922 3314 415 \nQ 2916 -91 2278 -91 \nQ 1894 -91 1617 61 \nQ 1341 213 1159 525 \nz\nM 3116 1747 \nQ 3116 2381 2855 2742 \nQ 2594 3103 2138 3103 \nQ 1681 3103 1420 2742 \nQ 1159 2381 1159 1747 \nQ 1159 1113 1420 752 \nQ 1681 391 2138 391 \nQ 2594 391 2855 752 \nQ 3116 1113 3116 1747 \nz\n\" transform=\"scale(0.015625)\"/>\n       <path id=\"DejaVuSans-6c\" d=\"M 603 4863 \nL 1178 4863 \nL 1178 0 \nL 603 0 \nL 603 4863 \nz\n\" transform=\"scale(0.015625)\"/>\n       <path id=\"DejaVuSans-61\" d=\"M 2194 1759 \nQ 1497 1759 1228 1600 \nQ 959 1441 959 1056 \nQ 959 750 1161 570 \nQ 1363 391 1709 391 \nQ 2188 391 2477 730 \nQ 2766 1069 2766 1631 \nL 2766 1759 \nL 2194 1759 \nz\nM 3341 1997 \nL 3341 0 \nL 2766 0 \nL 2766 531 \nQ 2569 213 2275 61 \nQ 1981 -91 1556 -91 \nQ 1019 -91 701 211 \nQ 384 513 384 1019 \nQ 384 1609 779 1909 \nQ 1175 2209 1959 2209 \nL 2766 2209 \nL 2766 2266 \nQ 2766 2663 2505 2880 \nQ 2244 3097 1772 3097 \nQ 1472 3097 1187 3025 \nQ 903 2953 641 2809 \nL 641 3341 \nQ 956 3463 1253 3523 \nQ 1550 3584 1831 3584 \nQ 2591 3584 2966 3190 \nQ 3341 2797 3341 1997 \nz\n\" transform=\"scale(0.015625)\"/>\n       <path id=\"DejaVuSans-20\" transform=\"scale(0.015625)\"/>\n       <path id=\"DejaVuSans-76\" d=\"M 191 3500 \nL 800 3500 \nL 1894 563 \nL 2988 3500 \nL 3597 3500 \nL 2284 0 \nL 1503 0 \nL 191 3500 \nz\n\" transform=\"scale(0.015625)\"/>\n       <path id=\"DejaVuSans-72\" d=\"M 2631 2963 \nQ 2534 3019 2420 3045 \nQ 2306 3072 2169 3072 \nQ 1681 3072 1420 2755 \nQ 1159 2438 1159 1844 \nL 1159 0 \nL 581 0 \nL 581 3500 \nL 1159 3500 \nL 1159 2956 \nQ 1341 3275 1631 3429 \nQ 1922 3584 2338 3584 \nQ 2397 3584 2469 3576 \nQ 2541 3569 2628 3553 \nL 2631 2963 \nz\n\" transform=\"scale(0.015625)\"/>\n       <path id=\"DejaVuSans-63\" d=\"M 3122 3366 \nL 3122 2828 \nQ 2878 2963 2633 3030 \nQ 2388 3097 2138 3097 \nQ 1578 3097 1268 2742 \nQ 959 2388 959 1747 \nQ 959 1106 1268 751 \nQ 1578 397 2138 397 \nQ 2388 397 2633 464 \nQ 2878 531 3122 666 \nL 3122 134 \nQ 2881 22 2623 -34 \nQ 2366 -91 2075 -91 \nQ 1284 -91 818 406 \nQ 353 903 353 1747 \nQ 353 2603 823 3093 \nQ 1294 3584 2113 3584 \nQ 2378 3584 2631 3529 \nQ 2884 3475 3122 3366 \nz\n\" transform=\"scale(0.015625)\"/>\n      </defs>\n      <use xlink:href=\"#DejaVuSans-65\"/>\n      <use xlink:href=\"#DejaVuSans-78\" x=\"59.773438\"/>\n      <use xlink:href=\"#DejaVuSans-70\" x=\"118.953125\"/>\n      <use xlink:href=\"#DejaVuSans-6c\" x=\"182.429688\"/>\n      <use xlink:href=\"#DejaVuSans-61\" x=\"210.212891\"/>\n      <use xlink:href=\"#DejaVuSans-69\" x=\"271.492188\"/>\n      <use xlink:href=\"#DejaVuSans-6e\" x=\"299.275391\"/>\n      <use xlink:href=\"#DejaVuSans-65\" x=\"362.654297\"/>\n      <use xlink:href=\"#DejaVuSans-64\" x=\"424.177734\"/>\n      <use xlink:href=\"#DejaVuSans-20\" x=\"487.654297\"/>\n      <use xlink:href=\"#DejaVuSans-76\" x=\"519.441406\"/>\n      <use xlink:href=\"#DejaVuSans-61\" x=\"578.621094\"/>\n      <use xlink:href=\"#DejaVuSans-72\" x=\"639.900391\"/>\n      <use xlink:href=\"#DejaVuSans-69\" x=\"681.013672\"/>\n      <use xlink:href=\"#DejaVuSans-61\" x=\"708.796875\"/>\n      <use xlink:href=\"#DejaVuSans-6e\" x=\"770.076172\"/>\n      <use xlink:href=\"#DejaVuSans-63\" x=\"833.455078\"/>\n      <use xlink:href=\"#DejaVuSans-65\" x=\"888.435547\"/>\n     </g>\n    </g>\n   </g>\n   <g id=\"line2d_23\">\n    <path d=\"M 43.78125 217.03898 \nL 43.997381 157.676247 \nL 44.429642 124.665723 \nL 44.717816 113.964608 \nL 45.222121 105.52351 \nL 46.086644 95.865282 \nL 46.951167 89.151658 \nL 47.887734 83.586989 \nL 48.896344 78.944852 \nL 50.121085 74.469628 \nL 51.561956 70.026738 \nL 53.218958 65.665548 \nL 55.236178 61.094966 \nL 57.325442 56.920096 \nL 59.414706 53.275938 \nL 61.648057 49.815259 \nL 64.5298 45.798478 \nL 67.267455 42.429989 \nL 69.644893 39.795229 \nL 72.454593 37.021948 \nL 75.336336 34.435521 \nL 78.146035 32.192033 \nL 81.820257 29.5492 \nL 85.350393 27.241687 \nL 89.745051 24.689162 \nL 93.635404 22.71358 \nL 97.958018 20.750236 \nL 102.496763 18.989549 \nL 107.035509 17.451041 \nL 111.574254 16.164688 \nL 118.202263 14.591384 \nL 124.181879 13.378233 \nL 130.305583 12.345423 \nL 136.357244 11.541687 \nL 142.33686 11.03045 \nL 145.002473 10.999219 \nL 400.829206 10.999219 \nL 400.829206 10.999219 \n\" clip-path=\"url(#p208dbaee0c)\" style=\"fill: none; stroke: #1f77b4; stroke-width: 1.5; stroke-linecap: square\"/>\n   </g>\n   <g id=\"line2d_24\">\n    <path d=\"M 43.78125 24.304819 \nL 400.90125 24.304819 \n\" clip-path=\"url(#p208dbaee0c)\" style=\"fill: none; stroke: #ff0000; stroke-width: 1.5; stroke-linecap: square\"/>\n   </g>\n   <g id=\"patch_3\">\n    <path d=\"M 43.78125 277.111219 \nL 43.78125 10.999219 \n\" style=\"fill: none; stroke: #000000; stroke-width: 0.8; stroke-linejoin: miter; stroke-linecap: square\"/>\n   </g>\n   <g id=\"patch_4\">\n    <path d=\"M 400.90125 277.111219 \nL 400.90125 10.999219 \n\" style=\"fill: none; stroke: #000000; stroke-width: 0.8; stroke-linejoin: miter; stroke-linecap: square\"/>\n   </g>\n   <g id=\"patch_5\">\n    <path d=\"M 43.78125 277.111219 \nL 400.90125 277.111219 \n\" style=\"fill: none; stroke: #000000; stroke-width: 0.8; stroke-linejoin: miter; stroke-linecap: square\"/>\n   </g>\n   <g id=\"patch_6\">\n    <path d=\"M 43.78125 10.999219 \nL 400.90125 10.999219 \n\" style=\"fill: none; stroke: #000000; stroke-width: 0.8; stroke-linejoin: miter; stroke-linecap: square\"/>\n   </g>\n  </g>\n </g>\n <defs>\n  <clipPath id=\"p208dbaee0c\">\n   <rect x=\"43.78125\" y=\"10.999219\" width=\"357.12\" height=\"266.112\"/>\n  </clipPath>\n </defs>\n</svg>\n",
      "image/png": "[encoded data removed]"
     },
     "metadata": {}
    }
   ],
   "source": [
    "# # PCA - check the 95% with figure\n",
    "# pca = PCA()\n",
    "# pca.fit(dataset_X)\n",
    "# pca_cumsum = np.cumsum(pca.explained_variance_ratio_)\n",
    "\n",
    "# plt.figure()\n",
    "# plt.axis([0, dataset_X.shape[1], 0, 1]) \n",
    "# plt.plot(pca_cumsum)\n",
    "# plt.axhline(y=0.95,color='red')\n",
    "# plt.xlabel(\"dimensions\")\n",
    "# plt.ylabel(\"explained variance\")\n",
    "# plt.grid(True)\n",
    "# plt.show()"
   ]
  },
  {
   "cell_type": "code",
   "execution_count": 10,
   "metadata": {
    "tags": []
   },
   "outputs": [
    {
     "output_type": "stream",
     "name": "stdout",
     "text": "(10625, 650)\n"
    }
   ],
   "source": [
    "# Apply PCA for compression\n",
    "pca = PCA(n_components=0.95)\n",
    "dataset_X = pca.fit_transform(dataset_X)\n",
    "\n",
    "print(dataset_X.shape)"
   ]
  },
  {
   "cell_type": "markdown",
   "metadata": {},
   "source": [
    "### 2.7 Dataset split"
   ]
  },
  {
   "cell_type": "code",
   "execution_count": 11,
   "metadata": {
    "tags": []
   },
   "outputs": [
    {
     "output_type": "stream",
     "name": "stdout",
     "text": "(7968, 650)\n(7968,)\n(2657, 650)\n(2657,)\n"
    }
   ],
   "source": [
    "# Split the dataset into training set and testing set\n",
    "train_X, test_X, train_y, test_y = train_test_split(dataset_X, dataset_y, random_state=12345)\n",
    "\n",
    "print(train_X.shape)\n",
    "print(train_y.shape)\n",
    "print(test_X.shape)\n",
    "print(test_y.shape)"
   ]
  },
  {
   "cell_type": "markdown",
   "metadata": {},
   "source": [
    "### 2.X kNN classification as an example for using the processed dataset\n",
    "\n",
    "(And for checking the preprocess performance at the early stage)\n",
    "\n",
    "TODO: REMOVE BEFORE FINAL SUBMIT"
   ]
  },
  {
   "cell_type": "code",
   "execution_count": 12,
   "metadata": {
    "tags": []
   },
   "outputs": [
    {
     "output_type": "stream",
     "name": "stdout",
     "text": "Accuracy on test set: 0.8724\n"
    }
   ],
   "source": [
    "# kNN classification test\n",
    "#\n",
    "# TODO: A brief test for evaluating performance during writing preprocessin code, \n",
    "#       gonna be removed later\n",
    "from sklearn.neighbors import KNeighborsClassifier\n",
    "knn = KNeighborsClassifier(n_neighbors=5)\n",
    "knn.fit(train_X, train_y)\n",
    "print(f\"Accuracy on test set: {knn.score(test_X, test_y):.4f}\")"
   ]
  },
  {
   "cell_type": "markdown",
   "metadata": {},
   "source": [
    "## 3. Model Training\n",
    "\n",
    "### 3.1 Logistic Regression\n",
    "\n",
    "TODO"
   ]
  },
  {
   "cell_type": "markdown",
   "metadata": {},
   "source": [
    "### 3.2 Support Vector Machine (SVM)\n",
    "\n",
    "TODO"
   ]
  },
  {
   "cell_type": "markdown",
   "metadata": {},
   "source": [
    "### 3.3 (?) neural network\n",
    "\n",
    "Maybe?"
   ]
  },
  {
   "cell_type": "markdown",
   "metadata": {},
   "source": [
    "## 4. Model Testing and Comparison\n",
    "\n",
    "TODO"
   ]
  }
 ],
 "metadata": {
  "language_info": {
   "codemirror_mode": {
    "name": "ipython",
    "version": 3
   },
   "file_extension": ".py",
   "mimetype": "text/x-python",
   "name": "python",
   "nbconvert_exporter": "python",
   "pygments_lexer": "ipython3",
   "version": "3.9.13-final"
  },
  "orig_nbformat": 2,
  "kernelspec": {
   "name": "python3",
   "display_name": "Python 3 (ipykernel)"
  }
 },
 "nbformat": 4,
 "nbformat_minor": 2
}