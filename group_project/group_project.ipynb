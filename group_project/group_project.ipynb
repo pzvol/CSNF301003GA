{
 "cells": [
  {
   "cell_type": "markdown",
   "metadata": {},
   "source": [
    "# (Title to be decided)"
   ]
  },
  {
   "cell_type": "markdown",
   "metadata": {},
   "source": [
    "*This is the file for the code of our group assignment. Under development.*"
   ]
  },
  {
   "cell_type": "code",
   "execution_count": 200,
   "metadata": {},
   "outputs": [],
   "source": [
    "import json\n",
    "import matplotlib.pyplot as plt\n",
    "import numpy as np\n",
    "import pandas as pd\n",
    "import re\n",
    "from sklearn import preprocessing\n",
    "from sklearn.decomposition import PCA\n",
    "from sklearn.feature_extraction.text import CountVectorizer\n",
    "from sklearn.model_selection import train_test_split\n",
    "from sklearn.preprocessing import MinMaxScaler"
   ]
  },
  {
   "cell_type": "markdown",
   "metadata": {},
   "source": [
    "## 1. Read Data from External File\n",
    "\n",
    "Read data in external files. For convenience, the original `.pcapng` file has been converted into `.json` and `.csv` with Wireshark."
   ]
  },
  {
   "cell_type": "code",
   "execution_count": 201,
   "metadata": {
    "tags": []
   },
   "outputs": [
    {
     "name": "stdout",
     "output_type": "stream",
     "text": [
      "10625 packets read\n"
     ]
    },
    {
     "data": {
      "text/plain": "{'_index': 'packets-XXXX-XX-XX',\n '_type': 'doc',\n '_score': None,\n '_source': {'layers': {'pkt_comment': {'frame.comment': '13682128230572000042,china',\n    'frame.comment_tree': {'_ws.expert': {'frame.comment.expert': '',\n      '_ws.expert.message': '13682128230572000042,china',\n      '_ws.expert.severity': '1048576',\n      '_ws.expert.group': '184549376'}}},\n   'frame': {'frame.interface_id': '0',\n    'frame.interface_id_tree': {'frame.interface_name': 'unknown'},\n    'frame.encap_type': '7',\n    'frame.time': 'Not representable',\n    'frame.offset_shift': '0.000000000',\n    'frame.time_epoch': '-1460980371.753735000',\n    'frame.time_delta': '0.000000000',\n    'frame.time_delta_displayed': '0.000000000',\n    'frame.time_relative': '0.000000000',\n    'frame.number': '1',\n    'frame.len': '58',\n    'frame.cap_len': '58',\n    'frame.marked': '0',\n    'frame.ignored': '0',\n    'frame.protocols': 'raw:ip:udp:dns',\n    'frame.coloring_rule.name': 'UDP',\n    'frame.coloring_rule.string': 'udp'},\n   'raw': 'Raw packet data',\n   'ip': {'ip.version': '4',\n    'ip.hdr_len': '20',\n    'ip.dsfield': '0x00000000',\n    'ip.dsfield_tree': {'ip.dsfield.dscp': '0', 'ip.dsfield.ecn': '0'},\n    'ip.len': '58',\n    'ip.id': '0x00002baf',\n    'ip.flags': '0x00000000',\n    'ip.flags_tree': {'ip.flags.rb': '0',\n     'ip.flags.df': '0',\n     'ip.flags.mf': '0'},\n    'ip.frag_offset': '0',\n    'ip.ttl': '254',\n    'ip.proto': '17',\n    'ip.checksum': '0x000075e6',\n    'ip.checksum.status': '2',\n    'ip.src': '10.11.1.3',\n    'ip.addr': '8.8.8.8',\n    'ip.src_host': '10.11.1.3',\n    'ip.host': 'dns.google',\n    'ip.dst': '8.8.8.8',\n    'ip.dst_host': 'dns.google'},\n   'udp': {'udp.srcport': '57329',\n    'udp.dstport': '53',\n    'udp.port': '53',\n    'udp.length': '38',\n    'udp.checksum': '0x000074d0',\n    'udp.checksum.status': '2',\n    'udp.stream': '0',\n    'Timestamps': {'udp.time_relative': '0.000000000',\n     'udp.time_delta': '0.000000000'}},\n   'dns': {'dns.id': '0x0000e8e9',\n    'dns.flags': '0x00000100',\n    'dns.flags_tree': {'dns.flags.response': '0',\n     'dns.flags.opcode': '0',\n     'dns.flags.truncated': '0',\n     'dns.flags.recdesired': '1',\n     'dns.flags.z': '0',\n     'dns.flags.checkdisable': '0'},\n    'dns.count.queries': '1',\n    'dns.count.answers': '0',\n    'dns.count.auth_rr': '0',\n    'dns.count.add_rr': '0',\n    'Queries': {'lcs.naver.jp: type A, class IN': {'dns.qry.name': 'lcs.naver.jp',\n      'dns.qry.name.len': '12',\n      'dns.count.labels': '3',\n      'dns.qry.type': '1',\n      'dns.qry.class': '0x00000001'}},\n    'dns.response_in': '2'}}}}"
     },
     "execution_count": 201,
     "metadata": {},
     "output_type": "execute_result"
    }
   ],
   "source": [
    "# Read the JSON including all details of packets\n",
    "#   errors=\"surrogateescape\" to pass the encoding errors raised by contents in HTTP packets\n",
    "with open(\"./data/traffic.json\", \"r\", encoding=\"utf-8\", errors=\"surrogateescape\") as f:\n",
    "    dataset_json=json.load(f)\n",
    "    print(f\"{len(dataset_json)} packets read\")\n",
    "\n",
    "# print one for checking\n",
    "dataset_json[0]"
   ]
  },
  {
   "cell_type": "code",
   "execution_count": 202,
   "metadata": {},
   "outputs": [],
   "source": [
    "# # TODO: UNUSED - REMOVE LATER\n",
    "# # Read the CSV\n",
    "# # TODO: Info in CSV should be covered by the one in JSON.\n",
    "# #       Remove it in the future if not used\n",
    "# dataset_csv=pd.read_csv(\"./data/traffic.csv\")\n",
    "\n",
    "# dataset_csv"
   ]
  },
  {
   "cell_type": "markdown",
   "metadata": {},
   "source": [
    "## 2. Data Preprocessing"
   ]
  },
  {
   "cell_type": "markdown",
   "metadata": {},
   "source": [
    "### 2.1 Extract dataset labels"
   ]
  },
  {
   "cell_type": "code",
   "execution_count": 203,
   "metadata": {
    "tags": []
   },
   "outputs": [
    {
     "name": "stdout",
     "output_type": "stream",
     "text": [
      "Labels include ['china' 'india' 'us']\n",
      "(10625,)\n"
     ]
    }
   ],
   "source": [
    "# Extract labels(y) from JSON\n",
    "dataset_y = np.array(list(map(\n",
    "    lambda packet_json: (packet_json[\"_source\"][\"layers\"][\"pkt_comment\"][\"frame.comment\"]).split(\",\")[1], \n",
    "    dataset_json\n",
    ")))\n",
    "\n",
    "print(f\"Labels include {np.unique(dataset_y)}\")\n",
    "print(dataset_y.shape)"
   ]
  },
  {
   "cell_type": "markdown",
   "metadata": {},
   "source": [
    "### 2.2 Extract features"
   ]
  },
  {
   "cell_type": "code",
   "execution_count": 204,
   "metadata": {
    "tags": []
   },
   "outputs": [
    {
     "name": "stdout",
     "output_type": "stream",
     "text": [
      "10.11.1.3\n",
      "10.11.1.3\n",
      "8.8.8.8\n",
      "dns.google\n"
     ]
    }
   ],
   "source": [
    "# Extract source IP, source IP host, destination IP and destination IP host from dataset\n",
    "dataset_X_ip_src = np.array(list(map(\n",
    "    lambda packet_json: packet_json[\"_source\"][\"layers\"][\"ip\"][\"ip.src\"], \n",
    "    dataset_json\n",
    ")))\n",
    "dataset_X_ip_src_host = np.array(list(map(\n",
    "    lambda packet_json: packet_json[\"_source\"][\"layers\"][\"ip\"][\"ip.src_host\"], \n",
    "    dataset_json\n",
    ")))\n",
    "dataset_X_ip_dst = np.array(list(map(\n",
    "    lambda packet_json: packet_json[\"_source\"][\"layers\"][\"ip\"][\"ip.dst\"], \n",
    "    dataset_json\n",
    ")))\n",
    "dataset_X_ip_dst_host = np.array(list(map(\n",
    "    lambda packet_json: packet_json[\"_source\"][\"layers\"][\"ip\"][\"ip.dst_host\"], \n",
    "    dataset_json\n",
    ")))\n",
    "\n",
    "# print first ones for checking\n",
    "print(dataset_X_ip_src[0])\n",
    "print(dataset_X_ip_src_host[0])\n",
    "print(dataset_X_ip_dst[0])\n",
    "print(dataset_X_ip_dst_host[0])\n"
   ]
  },
  {
   "cell_type": "markdown",
   "metadata": {},
   "source": [
    "### 2.3 Check data sanity and deal with missing fields"
   ]
  },
  {
   "cell_type": "code",
   "execution_count": 205,
   "metadata": {
    "tags": []
   },
   "outputs": [
    {
     "name": "stdout",
     "output_type": "stream",
     "text": [
      "Source/dest IP not an IPv4 address:\n",
      "[]\n",
      "[]\n",
      "Source/dest host not an IPv4 nor a domain:\n",
      "[]\n",
      "['no-data', 'no-data']\n",
      "\n",
      "Indexes of rows with missing 'dst.host': [960 964]\n",
      "Missing 'dst.host' filled\n"
     ]
    }
   ],
   "source": [
    "# Data sanity check\n",
    "pattern_not_ipv4 = re.compile(r\"(?!((\\b25[0-5]|\\b2[0-4][0-9]|\\b[01]?[0-9][0-9]?)(\\.(25[0-5]|2[0-4][0-9]|[01]?[0-9][0-9]?)){3}))\")\n",
    "pattern_not_ipv4_nor_domain = re.compile(r\"(?!((\\b25[0-5]|\\b2[0-4][0-9]|\\b[01]?[0-9][0-9]?)(\\.(25[0-5]|2[0-4][0-9]|[01]?[0-9][0-9]?)){3})|[-_0-9a-zA-Z]+\\.[-_0-9a-zA-Z]+)\")\n",
    "\n",
    "print(\"Source/dest IP not an IPv4 address:\")\n",
    "print(list(filter(pattern_not_ipv4.match, dataset_X_ip_src)))\n",
    "print(list(filter(pattern_not_ipv4.match, dataset_X_ip_dst)))\n",
    "print(\"Source/dest host not an IPv4 nor a domain:\")\n",
    "print(list(filter(pattern_not_ipv4_nor_domain.match, dataset_X_ip_src_host)))\n",
    "print(list(filter(pattern_not_ipv4_nor_domain.match, dataset_X_ip_dst_host)))\n",
    "\n",
    "print()\n",
    "\n",
    "# Fill the missing `dst.host`\n",
    "#\n",
    "# Find \"no-data\" rows\n",
    "missing_dst_host_indexes = np.where(dataset_X_ip_dst_host=='no-data')[0]\n",
    "print(f\"Indexes of rows with missing 'dst.host': {missing_dst_host_indexes}\")\n",
    "\n",
    "# Fill the field with the IP address in `dst`, following the way of other rows\n",
    "for i in missing_dst_host_indexes:\n",
    "    dataset_X_ip_dst_host[i] = dataset_X_ip_dst[i]\n",
    "\n",
    "print(\"Missing 'dst.host' filled\")"
   ]
  },
  {
   "cell_type": "markdown",
   "metadata": {},
   "source": [
    "### 2.4 Bi-gram for similarity between IPs and domains"
   ]
  },
  {
   "cell_type": "code",
   "execution_count": 206,
   "metadata": {
    "tags": []
   },
   "outputs": [
    {
     "name": "stdout",
     "output_type": "stream",
     "text": [
      "(10625, 1402)\n",
      "(10625, 867)\n",
      "(10625, 1629)\n",
      "(10625, 1059)\n",
      "\n",
      "(10625, 4957)\n"
     ]
    }
   ],
   "source": [
    "# bi-gram for similar IP and hostnames\n",
    "bigram_vec = CountVectorizer(ngram_range=(2, 2), token_pattern=r\"(?u)[^.]+\")\n",
    "dataset_X_ip_src_bg = bigram_vec.fit_transform(dataset_X_ip_src).toarray()\n",
    "dataset_X_ip_src_host_bg = bigram_vec.fit_transform(dataset_X_ip_src_host).toarray()\n",
    "dataset_X_ip_dst_bg = bigram_vec.fit_transform(dataset_X_ip_dst).toarray()\n",
    "dataset_X_ip_dst_host_bg = bigram_vec.fit_transform(dataset_X_ip_dst_host).toarray()\n",
    "\n",
    "print(dataset_X_ip_src_bg.shape)\n",
    "print(dataset_X_ip_src_host_bg.shape)\n",
    "print(dataset_X_ip_dst_bg.shape)\n",
    "print(dataset_X_ip_dst_host_bg.shape)\n",
    "\n",
    "dataset_X = np.concatenate((\n",
    "    dataset_X_ip_src_bg, \n",
    "    dataset_X_ip_src_host_bg,\n",
    "    dataset_X_ip_dst_bg, \n",
    "    dataset_X_ip_dst_host_bg), axis=1)\n",
    "\n",
    "print(\"\")\n",
    "print(dataset_X.shape)\n"
   ]
  },
  {
   "cell_type": "markdown",
   "metadata": {},
   "source": [
    "### 2.5 Normalization"
   ]
  },
  {
   "cell_type": "code",
   "execution_count": 207,
   "metadata": {
    "tags": []
   },
   "outputs": [
    {
     "name": "stdout",
     "output_type": "stream",
     "text": [
      "(10625, 4957)\n"
     ]
    }
   ],
   "source": [
    "# Normalization\n",
    "dataset_X = MinMaxScaler().fit_transform(dataset_X)\n",
    "print(dataset_X.shape)"
   ]
  },
  {
   "cell_type": "markdown",
   "metadata": {},
   "source": [
    "### 2.6 Principal Component Analysis (PCA)"
   ]
  },
  {
   "cell_type": "code",
   "execution_count": 208,
   "metadata": {},
   "outputs": [],
   "source": [
    "# # PCA - check the 95% with figure\n",
    "# pca = PCA()\n",
    "# pca.fit(dataset_X)\n",
    "# pca_cumsum = np.cumsum(pca.explained_variance_ratio_)\n",
    "\n",
    "# plt.figure()\n",
    "# plt.axis([0, dataset_X.shape[1], 0, 1]) \n",
    "# plt.plot(pca_cumsum)\n",
    "# plt.axhline(y=0.95,color='red')\n",
    "# plt.xlabel(\"dimensions\")\n",
    "# plt.ylabel(\"explained variance\")\n",
    "# plt.grid(True)\n",
    "# plt.show()"
   ]
  },
  {
   "cell_type": "code",
   "execution_count": 209,
   "metadata": {
    "tags": []
   },
   "outputs": [
    {
     "name": "stdout",
     "output_type": "stream",
     "text": [
      "(10625, 650)\n"
     ]
    }
   ],
   "source": [
    "# Apply PCA for compression\n",
    "pca = PCA(n_components=0.95)\n",
    "dataset_X = pca.fit_transform(dataset_X)\n",
    "\n",
    "print(dataset_X.shape)"
   ]
  },
  {
   "cell_type": "markdown",
   "metadata": {},
   "source": [
    "### 2.7 Dataset split"
   ]
  },
  {
   "cell_type": "code",
   "execution_count": 210,
   "metadata": {
    "tags": []
   },
   "outputs": [
    {
     "name": "stdout",
     "output_type": "stream",
     "text": [
      "(7968, 650)\n",
      "(7968,)\n",
      "(2657, 650)\n",
      "(2657,)\n"
     ]
    },
    {
     "data": {
      "text/plain": "array([[-1.08502832e+00,  1.35391675e+00, -8.98510724e-02, ...,\n         1.61431542e-05, -3.24287461e-03, -4.02308876e-05],\n       [-1.37256606e+00, -1.30645738e+00, -2.43504060e-03, ...,\n         1.47518527e-05,  6.61440472e-03, -2.26175618e-04],\n       [-1.44957648e+00, -1.28237230e+00, -1.15245375e-02, ...,\n         9.79593372e-06,  7.32780186e-04, -1.83503984e-05],\n       ...,\n       [-1.35841130e+00, -1.32739694e+00, -2.06831953e-04, ...,\n         3.10242880e-06, -2.13589786e-02, -3.19577991e-05],\n       [ 1.52944088e+00, -2.97314827e-02,  1.42330582e+00, ...,\n         4.08650518e-03,  6.30412056e-06,  2.91432256e-03],\n       [ 1.81760780e+00, -1.45667155e-01, -1.16834515e+00, ...,\n         3.43173962e-03,  3.24887331e-06,  1.48616571e-03]])"
     },
     "execution_count": 210,
     "metadata": {},
     "output_type": "execute_result"
    }
   ],
   "source": [
    "# Split the dataset into training set and testing set\n",
    "train_X, test_X, train_y, test_y = train_test_split(dataset_X, dataset_y, random_state=12345)\n",
    "\n",
    "print(train_X.shape)\n",
    "print(train_y.shape)\n",
    "print(test_X.shape)\n",
    "print(test_y.shape)\n",
    "train_X"
   ]
  },
  {
   "cell_type": "markdown",
   "metadata": {},
   "source": [
    "### 2.X kNN classification as an example for using the processed dataset\n",
    "\n",
    "(And for checking the preprocess performance at the early stage)\n",
    "\n",
    "TODO: REMOVE BEFORE FINAL SUBMIT"
   ]
  },
  {
   "cell_type": "code",
   "execution_count": 211,
   "metadata": {
    "tags": []
   },
   "outputs": [
    {
     "name": "stdout",
     "output_type": "stream",
     "text": [
      "Accuracy on test set: 0.8683\n"
     ]
    }
   ],
   "source": [
    "# kNN classification test\n",
    "#\n",
    "# TODO: A brief test for evaluating performance during writing preprocessin code, \n",
    "#       gonna be removed later\n",
    "from sklearn.neighbors import KNeighborsClassifier\n",
    "knn = KNeighborsClassifier(n_neighbors=5)\n",
    "knn.fit(train_X, train_y)\n",
    "print(f\"Accuracy on test set: {knn.score(test_X, test_y):.4f}\")"
   ]
  },
  {
   "cell_type": "markdown",
   "metadata": {},
   "source": [
    "## 3. Model Training\n",
    "\n",
    "### 3.1 Logistic Regression\n",
    "\n",
    "TODO"
   ]
  },
  {
   "cell_type": "markdown",
   "metadata": {},
   "source": [
    "### 3.2 Support Vector Machine (SVM)\n",
    "\n",
    "TODO"
   ]
  },
  {
   "cell_type": "markdown",
   "metadata": {},
   "source": [
    "### 3.3 (?) neural network\n",
    "\n",
    "Maybe?"
   ]
  },
  {
   "cell_type": "code",
   "execution_count": 212,
   "outputs": [
    {
     "name": "stdout",
     "output_type": "stream",
     "text": [
      "Model: \"sequential\"\n",
      "_________________________________________________________________\n",
      "Layer (type)                 Output Shape              Param #   \n",
      "=================================================================\n",
      "dense (Dense)                (None, 300)               195300    \n",
      "_________________________________________________________________\n",
      "dense_1 (Dense)              (None, 300)               90300     \n",
      "_________________________________________________________________\n",
      "dense_2 (Dense)              (None, 3)                 903       \n",
      "=================================================================\n",
      "Total params: 286,503\n",
      "Trainable params: 286,503\n",
      "Non-trainable params: 0\n",
      "_________________________________________________________________\n",
      "None\n",
      "(None, 3)\n"
     ]
    }
   ],
   "source": [
    "from tensorflow import keras\n",
    "\n",
    "keras.backend.clear_session()\n",
    "\n",
    "model = keras.models.Sequential([\n",
    "    keras.layers.InputLayer(input_shape=[train_X.shape[1]]),\n",
    "    keras.layers.Dense(300, activation=\"relu\", kernel_initializer='he_normal'),\n",
    "    keras.layers.Dense(300, activation=\"relu\", kernel_initializer='he_normal'),\n",
    "    keras.layers.Dense(3, activation=\"softmax\")\n",
    "])\n",
    "\n",
    "print(model.summary())\n",
    "print(model.output_shape)"
   ],
   "metadata": {
    "collapsed": false
   }
  },
  {
   "cell_type": "code",
   "execution_count": 213,
   "outputs": [],
   "source": [
    "opt = keras.optimizers.SGD(learning_rate=1e-3)\n",
    "model.compile(loss='categorical_crossentropy',\n",
    "              optimizer=opt,\n",
    "              metrics=['accuracy'])"
   ],
   "metadata": {
    "collapsed": false
   }
  },
  {
   "cell_type": "code",
   "execution_count": 214,
   "outputs": [
    {
     "name": "stdout",
     "output_type": "stream",
     "text": [
      "(5976, 650)\n",
      "(1992, 650)\n",
      "(5976, 3)\n",
      "(1992, 3)\n"
     ]
    }
   ],
   "source": [
    "temp_train_y = pd.DataFrame(train_y, columns=['country'])\n",
    "temp_train_y = pd.factorize(temp_train_y['country'])[0]\n",
    "train_X_nn, validate_X, train_y_nn, validate_y = train_test_split(train_X, temp_train_y)\n",
    "\n",
    "train_y_nn = keras.utils.to_categorical(train_y_nn, 3).astype('int32')\n",
    "validate_y = keras.utils.to_categorical(validate_y, 3).astype('int32')\n",
    "\n",
    "print(train_X_nn.shape)\n",
    "print(validate_X.shape)\n",
    "print(train_y_nn.shape)\n",
    "print(validate_y.shape)"
   ],
   "metadata": {
    "collapsed": false
   }
  },
  {
   "cell_type": "code",
   "execution_count": 220,
   "outputs": [
    {
     "name": "stdout",
     "output_type": "stream",
     "text": [
      "Epoch 1/20\n",
      "187/187 [==============================] - 0s 2ms/step - loss: 0.3798 - accuracy: 0.8482 - val_loss: 0.3963 - val_accuracy: 0.8404\n",
      "Epoch 2/20\n",
      "187/187 [==============================] - 0s 2ms/step - loss: 0.3784 - accuracy: 0.8479 - val_loss: 0.3950 - val_accuracy: 0.8409\n",
      "Epoch 3/20\n",
      "187/187 [==============================] - 0s 2ms/step - loss: 0.3769 - accuracy: 0.8499 - val_loss: 0.3937 - val_accuracy: 0.8323\n",
      "Epoch 4/20\n",
      "187/187 [==============================] - 0s 1ms/step - loss: 0.3755 - accuracy: 0.8482 - val_loss: 0.3924 - val_accuracy: 0.8328\n",
      "Epoch 5/20\n",
      "187/187 [==============================] - 0s 1ms/step - loss: 0.3741 - accuracy: 0.8506 - val_loss: 0.3911 - val_accuracy: 0.8328\n",
      "Epoch 6/20\n",
      "187/187 [==============================] - 0s 1ms/step - loss: 0.3727 - accuracy: 0.8516 - val_loss: 0.3897 - val_accuracy: 0.8424\n",
      "Epoch 7/20\n",
      "187/187 [==============================] - 0s 1ms/step - loss: 0.3713 - accuracy: 0.8511 - val_loss: 0.3886 - val_accuracy: 0.8333\n",
      "Epoch 8/20\n",
      "187/187 [==============================] - 0s 1ms/step - loss: 0.3699 - accuracy: 0.8502 - val_loss: 0.3873 - val_accuracy: 0.8338\n",
      "Epoch 9/20\n",
      "187/187 [==============================] - 0s 1ms/step - loss: 0.3685 - accuracy: 0.8506 - val_loss: 0.3860 - val_accuracy: 0.8444\n",
      "Epoch 10/20\n",
      "187/187 [==============================] - 0s 1ms/step - loss: 0.3671 - accuracy: 0.8526 - val_loss: 0.3848 - val_accuracy: 0.8348\n",
      "Epoch 11/20\n",
      "187/187 [==============================] - 0s 1ms/step - loss: 0.3658 - accuracy: 0.8526 - val_loss: 0.3834 - val_accuracy: 0.8439\n",
      "Epoch 12/20\n",
      "187/187 [==============================] - 0s 1ms/step - loss: 0.3645 - accuracy: 0.8531 - val_loss: 0.3823 - val_accuracy: 0.8348\n",
      "Epoch 13/20\n",
      "187/187 [==============================] - 0s 1ms/step - loss: 0.3631 - accuracy: 0.8551 - val_loss: 0.3809 - val_accuracy: 0.8449\n",
      "Epoch 14/20\n",
      "187/187 [==============================] - 0s 1ms/step - loss: 0.3618 - accuracy: 0.8532 - val_loss: 0.3798 - val_accuracy: 0.8379\n",
      "Epoch 15/20\n",
      "187/187 [==============================] - 0s 1ms/step - loss: 0.3605 - accuracy: 0.8543 - val_loss: 0.3786 - val_accuracy: 0.8384\n",
      "Epoch 16/20\n",
      "187/187 [==============================] - 0s 1ms/step - loss: 0.3592 - accuracy: 0.8531 - val_loss: 0.3773 - val_accuracy: 0.8379\n",
      "Epoch 17/20\n",
      "187/187 [==============================] - 0s 2ms/step - loss: 0.3579 - accuracy: 0.8563 - val_loss: 0.3762 - val_accuracy: 0.8384\n",
      "Epoch 18/20\n",
      "187/187 [==============================] - 0s 1ms/step - loss: 0.3565 - accuracy: 0.8544 - val_loss: 0.3750 - val_accuracy: 0.8394\n",
      "Epoch 19/20\n",
      "187/187 [==============================] - 0s 1ms/step - loss: 0.3553 - accuracy: 0.8566 - val_loss: 0.3737 - val_accuracy: 0.8399\n",
      "Epoch 20/20\n",
      "187/187 [==============================] - 0s 1ms/step - loss: 0.3540 - accuracy: 0.8578 - val_loss: 0.3726 - val_accuracy: 0.8494\n"
     ]
    }
   ],
   "source": [
    "history = model.fit(train_X_nn, train_y_nn, epochs=20,\n",
    "                    validation_data=(validate_X, validate_y))"
   ],
   "metadata": {
    "collapsed": false
   }
  },
  {
   "cell_type": "code",
   "execution_count": 221,
   "outputs": [
    {
     "data": {
      "text/plain": "<Figure size 800x500 with 1 Axes>",
      "image/png": "[encoded data removed]"
     },
     "metadata": {},
     "output_type": "display_data"
    }
   ],
   "source": [
    "pd.DataFrame(history.history).plot(figsize=(8, 5))\n",
    "plt.grid(True)\n",
    "plt.gca().set_ylim(0, 3)\n",
    "plt.show()"
   ],
   "metadata": {
    "collapsed": false
   }
  },
  {
   "cell_type": "markdown",
   "metadata": {},
   "source": [
    "## 4. Model Testing and Comparison\n",
    "\n",
    "TODO"
   ]
  }
 ],
 "metadata": {
  "language_info": {
   "codemirror_mode": {
    "name": "ipython",
    "version": 3
   },
   "file_extension": ".py",
   "mimetype": "text/x-python",
   "name": "python",
   "nbconvert_exporter": "python",
   "pygments_lexer": "ipython3",
   "version": "3.9.13-final"
  },
  "orig_nbformat": 2,
  "kernelspec": {
   "name": "python3",
   "display_name": "Python 3 (ipykernel)"
  }
 },
 "nbformat": 4,
 "nbformat_minor": 2
}
