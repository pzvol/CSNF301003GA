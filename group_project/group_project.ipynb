{
 "cells": [
  {
   "cell_type": "markdown",
   "metadata": {},
   "source": [
    "# (Title to be decided)"
   ]
  },
  {
   "cell_type": "markdown",
   "metadata": {},
   "source": [
    "*This is the file for the code of our group assignment. Under development.*"
   ]
  },
  {
   "cell_type": "code",
   "execution_count": 1,
   "metadata": {},
   "outputs": [],
   "source": [
    "import json\n",
    "import numpy as np\n",
    "import pandas as pd\n",
    "from sklearn import preprocessing\n",
    "from sklearn.model_selection import train_test_split"
   ]
  },
  {
   "cell_type": "markdown",
   "metadata": {},
   "source": [
    "## 1. Read Data from External File\n",
    "\n",
    "TODO: Still Under Dev\n",
    "\n",
    "Read data in external files. For convenience, the original `.pcapng` file has been converted into `.json` and `.csv` with Wireshark."
   ]
  },
  {
   "cell_type": "code",
   "execution_count": 2,
   "metadata": {
    "tags": []
   },
   "outputs": [
    {
     "output_type": "stream",
     "name": "stdout",
     "text": "10625 packets read\n"
    },
    {
     "output_type": "execute_result",
     "data": {
      "text/plain": "{'_index': 'packets-XXXX-XX-XX',\n '_type': 'doc',\n '_score': None,\n '_source': {'layers': {'pkt_comment': {'frame.comment': '13682128230572000042,china',\n    'frame.comment_tree': {'_ws.expert': {'frame.comment.expert': '',\n      '_ws.expert.message': '13682128230572000042,china',\n      '_ws.expert.severity': '1048576',\n      '_ws.expert.group': '184549376'}}},\n   'frame': {'frame.interface_id': '0',\n    'frame.interface_id_tree': {'frame.interface_name': 'unknown'},\n    'frame.encap_type': '7',\n    'frame.time': 'Not representable',\n    'frame.offset_shift': '0.000000000',\n    'frame.time_epoch': '-1460980371.753735000',\n    'frame.time_delta': '0.000000000',\n    'frame.time_delta_displayed': '0.000000000',\n    'frame.time_relative': '0.000000000',\n    'frame.number': '1',\n    'frame.len': '58',\n    'frame.cap_len': '58',\n    'frame.marked': '0',\n    'frame.ignored': '0',\n    'frame.protocols': 'raw:ip:udp:dns',\n    'frame.coloring_rule.name': 'UDP',\n    'frame.coloring_rule.string': 'udp'},\n   'raw': 'Raw packet data',\n   'ip': {'ip.version': '4',\n    'ip.hdr_len': '20',\n    'ip.dsfield': '0x00000000',\n    'ip.dsfield_tree': {'ip.dsfield.dscp': '0', 'ip.dsfield.ecn': '0'},\n    'ip.len': '58',\n    'ip.id': '0x00002baf',\n    'ip.flags': '0x00000000',\n    'ip.flags_tree': {'ip.flags.rb': '0',\n     'ip.flags.df': '0',\n     'ip.flags.mf': '0'},\n    'ip.frag_offset': '0',\n    'ip.ttl': '254',\n    'ip.proto': '17',\n    'ip.checksum': '0x000075e6',\n    'ip.checksum.status': '2',\n    'ip.src': '10.11.1.3',\n    'ip.addr': '8.8.8.8',\n    'ip.src_host': '10.11.1.3',\n    'ip.host': 'dns.google',\n    'ip.dst': '8.8.8.8',\n    'ip.dst_host': 'dns.google'},\n   'udp': {'udp.srcport': '57329',\n    'udp.dstport': '53',\n    'udp.port': '53',\n    'udp.length': '38',\n    'udp.checksum': '0x000074d0',\n    'udp.checksum.status': '2',\n    'udp.stream': '0',\n    'Timestamps': {'udp.time_relative': '0.000000000',\n     'udp.time_delta': '0.000000000'}},\n   'dns': {'dns.id': '0x0000e8e9',\n    'dns.flags': '0x00000100',\n    'dns.flags_tree': {'dns.flags.response': '0',\n     'dns.flags.opcode': '0',\n     'dns.flags.truncated': '0',\n     'dns.flags.recdesired': '1',\n     'dns.flags.z': '0',\n     'dns.flags.checkdisable': '0'},\n    'dns.count.queries': '1',\n    'dns.count.answers': '0',\n    'dns.count.auth_rr': '0',\n    'dns.count.add_rr': '0',\n    'Queries': {'lcs.naver.jp: type A, class IN': {'dns.qry.name': 'lcs.naver.jp',\n      'dns.qry.name.len': '12',\n      'dns.count.labels': '3',\n      'dns.qry.type': '1',\n      'dns.qry.class': '0x00000001'}},\n    'dns.response_in': '2'}}}}"
     },
     "metadata": {},
     "execution_count": 2
    }
   ],
   "source": [
    "# Read the JSON including all details of packets\n",
    "#   errors=\"surrogateescape\" to pass the encoding errors raised by contents in HTTP packets\n",
    "with open(\"./data/traffic.json\", \"r\", encoding=\"utf-8\", errors=\"surrogateescape\") as f:\n",
    "    dataset_json=json.load(f)\n",
    "    print(f\"{len(dataset_json)} packets read\")\n",
    "\n",
    "# print one for checking\n",
    "dataset_json[0]"
   ]
  },
  {
   "cell_type": "code",
   "execution_count": 3,
   "metadata": {},
   "outputs": [
    {
     "output_type": "execute_result",
     "data": {
      "text/plain": "         No.          Time                  Source             Destination  \\\n0          1  0.000000e+00               10.11.1.3              dns.google   \n1          2  1.234100e-02              dns.google               10.11.1.3   \n2          3  3.187300e-02               10.11.1.3              dns.google   \n3          4  3.673000e-02               10.11.1.3              dns.google   \n4          5  1.151130e-01               10.11.1.3              dns.google   \n...      ...           ...                     ...                     ...   \n10620  10621  7.349290e+08               10.11.2.4  e7178.g.akamaiedge.net   \n10621  10622  7.349290e+08  e7178.g.akamaiedge.net               10.11.2.4   \n10622  10623  7.349290e+08               10.11.2.4              dns.google   \n10623  10624  7.349290e+08              dns.google               10.11.2.4   \n10624  10625  7.349290e+08               10.11.2.4  e7178.g.akamaiedge.net   \n\n      Protocol  Length                                               Info  \n0          DNS      58               Standard query 0xe8e9 A lcs.naver.jp  \n1          DNS      74  Standard query response 0xe8e9 A lcs.naver.jp ...  \n2          DNS      64         Standard query 0x1556 A cgi.connect.qq.com  \n3          DNS      59              Standard query 0x0d1f A fusion.qq.com  \n4          DNS      68     Standard query 0x639b A nelo2-col.linecorp.com  \n...        ...     ...                                                ...  \n10620      TCP      52  59035  >  80 [ACK] Seq=652 Ack=5079 Win=93504 ...  \n10621     HTTP     211                                   HTTP/1.1 200 OK   \n10622      DNS      59           Standard query 0x321a AAAA api.zedge.net  \n10623      DNS     129  Standard query response 0x321a AAAA api.zedge....  \n10624      TCP      52  59035  >  80 [ACK] Seq=652 Ack=6427 Win=96192 ...  \n\n[10625 rows x 7 columns]",
      "text/html": "<div>\n<style scoped>\n    .dataframe tbody tr th:only-of-type {\n        vertical-align: middle;\n    }\n\n    .dataframe tbody tr th {\n        vertical-align: top;\n    }\n\n    .dataframe thead th {\n        text-align: right;\n    }\n</style>\n<table border=\"1\" class=\"dataframe\">\n  <thead>\n    <tr style=\"text-align: right;\">\n      <th></th>\n      <th>No.</th>\n      <th>Time</th>\n      <th>Source</th>\n      <th>Destination</th>\n      <th>Protocol</th>\n      <th>Length</th>\n      <th>Info</th>\n    </tr>\n  </thead>\n  <tbody>\n    <tr>\n      <th>0</th>\n      <td>1</td>\n      <td>0.000000e+00</td>\n      <td>10.11.1.3</td>\n      <td>dns.google</td>\n      <td>DNS</td>\n      <td>58</td>\n      <td>Standard query 0xe8e9 A lcs.naver.jp</td>\n    </tr>\n    <tr>\n      <th>1</th>\n      <td>2</td>\n      <td>1.234100e-02</td>\n      <td>dns.google</td>\n      <td>10.11.1.3</td>\n      <td>DNS</td>\n      <td>74</td>\n      <td>Standard query response 0xe8e9 A lcs.naver.jp ...</td>\n    </tr>\n    <tr>\n      <th>2</th>\n      <td>3</td>\n      <td>3.187300e-02</td>\n      <td>10.11.1.3</td>\n      <td>dns.google</td>\n      <td>DNS</td>\n      <td>64</td>\n      <td>Standard query 0x1556 A cgi.connect.qq.com</td>\n    </tr>\n    <tr>\n      <th>3</th>\n      <td>4</td>\n      <td>3.673000e-02</td>\n      <td>10.11.1.3</td>\n      <td>dns.google</td>\n      <td>DNS</td>\n      <td>59</td>\n      <td>Standard query 0x0d1f A fusion.qq.com</td>\n    </tr>\n    <tr>\n      <th>4</th>\n      <td>5</td>\n      <td>1.151130e-01</td>\n      <td>10.11.1.3</td>\n      <td>dns.google</td>\n      <td>DNS</td>\n      <td>68</td>\n      <td>Standard query 0x639b A nelo2-col.linecorp.com</td>\n    </tr>\n    <tr>\n      <th>...</th>\n      <td>...</td>\n      <td>...</td>\n      <td>...</td>\n      <td>...</td>\n      <td>...</td>\n      <td>...</td>\n      <td>...</td>\n    </tr>\n    <tr>\n      <th>10620</th>\n      <td>10621</td>\n      <td>7.349290e+08</td>\n      <td>10.11.2.4</td>\n      <td>e7178.g.akamaiedge.net</td>\n      <td>TCP</td>\n      <td>52</td>\n      <td>59035  &gt;  80 [ACK] Seq=652 Ack=5079 Win=93504 ...</td>\n    </tr>\n    <tr>\n      <th>10621</th>\n      <td>10622</td>\n      <td>7.349290e+08</td>\n      <td>e7178.g.akamaiedge.net</td>\n      <td>10.11.2.4</td>\n      <td>HTTP</td>\n      <td>211</td>\n      <td>HTTP/1.1 200 OK</td>\n    </tr>\n    <tr>\n      <th>10622</th>\n      <td>10623</td>\n      <td>7.349290e+08</td>\n      <td>10.11.2.4</td>\n      <td>dns.google</td>\n      <td>DNS</td>\n      <td>59</td>\n      <td>Standard query 0x321a AAAA api.zedge.net</td>\n    </tr>\n    <tr>\n      <th>10623</th>\n      <td>10624</td>\n      <td>7.349290e+08</td>\n      <td>dns.google</td>\n      <td>10.11.2.4</td>\n      <td>DNS</td>\n      <td>129</td>\n      <td>Standard query response 0x321a AAAA api.zedge....</td>\n    </tr>\n    <tr>\n      <th>10624</th>\n      <td>10625</td>\n      <td>7.349290e+08</td>\n      <td>10.11.2.4</td>\n      <td>e7178.g.akamaiedge.net</td>\n      <td>TCP</td>\n      <td>52</td>\n      <td>59035  &gt;  80 [ACK] Seq=652 Ack=6427 Win=96192 ...</td>\n    </tr>\n  </tbody>\n</table>\n<p>10625 rows × 7 columns</p>\n</div>"
     },
     "metadata": {},
     "execution_count": 3
    }
   ],
   "source": [
    "# Read the CSV\n",
    "# TODO: Info in CSV should be covered by the one in JSON.\n",
    "#       Remove it in the future if not used\n",
    "dataset_csv=pd.read_csv(\"./data/traffic.csv\")\n",
    "\n",
    "dataset_csv"
   ]
  },
  {
   "cell_type": "markdown",
   "metadata": {},
   "source": [
    "## 2. Data Preprocessing\n",
    "\n",
    "TODO: Still Under Dev"
   ]
  },
  {
   "cell_type": "markdown",
   "metadata": {},
   "source": [
    "### 2.1 Extract dataset labels"
   ]
  },
  {
   "cell_type": "code",
   "execution_count": 4,
   "metadata": {
    "tags": []
   },
   "outputs": [
    {
     "output_type": "stream",
     "name": "stdout",
     "text": "Labels include ['china' 'india' 'us']\n(10625,)\n"
    }
   ],
   "source": [
    "# Extract labels(y) from JSON\n",
    "dataset_y = np.array(list(map(\n",
    "    lambda packet_json: (packet_json[\"_source\"][\"layers\"][\"pkt_comment\"][\"frame.comment\"]).split(\",\")[1], \n",
    "    dataset_json\n",
    ")))\n",
    "\n",
    "print(f\"Labels include {np.unique(dataset_y)}\")\n",
    "print(dataset_y.shape)"
   ]
  },
  {
   "cell_type": "markdown",
   "metadata": {},
   "source": [
    "### 2.2 Extract features"
   ]
  },
  {
   "cell_type": "code",
   "execution_count": 5,
   "metadata": {
    "tags": []
   },
   "outputs": [
    {
     "output_type": "stream",
     "name": "stdout",
     "text": "10.11.1.3\n10.11.1.3\n8.8.8.8\ndns.google\n"
    }
   ],
   "source": [
    "# Extract source IP, source IP host, destination IP and destination IP host from dataset\n",
    "dataset_X_ip_src = np.array(list(map(\n",
    "    lambda packet_json: packet_json[\"_source\"][\"layers\"][\"ip\"][\"ip.src\"], \n",
    "    dataset_json\n",
    ")))\n",
    "dataset_X_ip_src_host = np.array(list(map(\n",
    "    lambda packet_json: packet_json[\"_source\"][\"layers\"][\"ip\"][\"ip.src_host\"], \n",
    "    dataset_json\n",
    ")))\n",
    "dataset_X_ip_dst = np.array(list(map(\n",
    "    lambda packet_json: packet_json[\"_source\"][\"layers\"][\"ip\"][\"ip.dst\"], \n",
    "    dataset_json\n",
    ")))\n",
    "dataset_X_ip_dst_host = np.array(list(map(\n",
    "    lambda packet_json: packet_json[\"_source\"][\"layers\"][\"ip\"][\"ip.dst_host\"], \n",
    "    dataset_json\n",
    ")))\n",
    "\n",
    "# print first ones for checking\n",
    "print(dataset_X_ip_src[0])\n",
    "print(dataset_X_ip_src_host[0])\n",
    "print(dataset_X_ip_dst[0])\n",
    "print(dataset_X_ip_dst_host[0])\n"
   ]
  },
  {
   "cell_type": "code",
   "execution_count": 6,
   "metadata": {},
   "outputs": [],
   "source": [
    "# Encode nominal features to numeric for testing with kNN\n",
    "#\n",
    "# TODO: Temp added for kNN testing - not an apporpriate way for handling strings.\n",
    "#       The transformation here does not help finding the similarity between them.\n",
    "def encode_label(original):\n",
    "    le = preprocessing.LabelEncoder()\n",
    "    le.fit(original)\n",
    "    return le.transform(original)\n",
    "\n",
    "dataset_X_ip_src=encode_label(dataset_X_ip_src)\n",
    "dataset_X_ip_src_host=encode_label(dataset_X_ip_src_host)\n",
    "dataset_X_ip_dst=encode_label(dataset_X_ip_dst)\n",
    "dataset_X_ip_dst_host=encode_label(dataset_X_ip_dst_host)"
   ]
  },
  {
   "cell_type": "code",
   "execution_count": 7,
   "metadata": {
    "tags": []
   },
   "outputs": [
    {
     "output_type": "stream",
     "name": "stdout",
     "text": "(10625, 4)\n"
    },
    {
     "output_type": "execute_result",
     "data": {
      "text/plain": "   ip_src  ip_src_host  ip_dst  ip_dst_host\n0       1            3     740          243\n1     631          186       1            3\n2       1            3     740          243\n3       1            3     740          243\n4       1            3     740          243",
      "text/html": "<div>\n<style scoped>\n    .dataframe tbody tr th:only-of-type {\n        vertical-align: middle;\n    }\n\n    .dataframe tbody tr th {\n        vertical-align: top;\n    }\n\n    .dataframe thead th {\n        text-align: right;\n    }\n</style>\n<table border=\"1\" class=\"dataframe\">\n  <thead>\n    <tr style=\"text-align: right;\">\n      <th></th>\n      <th>ip_src</th>\n      <th>ip_src_host</th>\n      <th>ip_dst</th>\n      <th>ip_dst_host</th>\n    </tr>\n  </thead>\n  <tbody>\n    <tr>\n      <th>0</th>\n      <td>1</td>\n      <td>3</td>\n      <td>740</td>\n      <td>243</td>\n    </tr>\n    <tr>\n      <th>1</th>\n      <td>631</td>\n      <td>186</td>\n      <td>1</td>\n      <td>3</td>\n    </tr>\n    <tr>\n      <th>2</th>\n      <td>1</td>\n      <td>3</td>\n      <td>740</td>\n      <td>243</td>\n    </tr>\n    <tr>\n      <th>3</th>\n      <td>1</td>\n      <td>3</td>\n      <td>740</td>\n      <td>243</td>\n    </tr>\n    <tr>\n      <th>4</th>\n      <td>1</td>\n      <td>3</td>\n      <td>740</td>\n      <td>243</td>\n    </tr>\n  </tbody>\n</table>\n</div>"
     },
     "metadata": {},
     "execution_count": 7
    }
   ],
   "source": [
    "# Collect extracted features to one place\n",
    "dataset_X = pd.DataFrame({\n",
    "    \"ip_src\": dataset_X_ip_src,\n",
    "    \"ip_src_host\": dataset_X_ip_src_host,\n",
    "    \"ip_dst\": dataset_X_ip_dst,\n",
    "    \"ip_dst_host\": dataset_X_ip_dst_host,\n",
    "})\n",
    "\n",
    "print(dataset_X.shape)\n",
    "dataset_X.head()"
   ]
  },
  {
   "cell_type": "code",
   "execution_count": 8,
   "metadata": {
    "tags": []
   },
   "outputs": [
    {
     "output_type": "stream",
     "name": "stdout",
     "text": "(7968, 4)\n(7968,)\n(2657, 4)\n(2657,)\n"
    }
   ],
   "source": [
    "# Split the dataset into training set and testing set\n",
    "#\n",
    "# TODO: validation set not created here - might be needed? \n",
    "#       just add it later if it is necessary in the future\n",
    "train_X, test_X, train_y, test_y = train_test_split(dataset_X, dataset_y, random_state=123)\n",
    "\n",
    "print(train_X.shape)\n",
    "print(train_y.shape)\n",
    "print(test_X.shape)\n",
    "print(test_y.shape)"
   ]
  },
  {
   "cell_type": "code",
   "execution_count": 9,
   "metadata": {
    "tags": []
   },
   "outputs": [
    {
     "output_type": "stream",
     "name": "stdout",
     "text": "Accuracy on test set: 0.8220\n"
    }
   ],
   "source": [
    "# kNN classification test\n",
    "#\n",
    "# TODO: A brief test for evaluating performance during writing preprocessin code, \n",
    "#       gonna be removed later\n",
    "from sklearn.neighbors import KNeighborsClassifier\n",
    "knn = KNeighborsClassifier(n_neighbors=5)\n",
    "knn.fit(train_X, train_y)\n",
    "print(f\"Accuracy on test set: {knn.score(test_X, test_y):.4f}\")\n"
   ]
  },
  {
   "cell_type": "markdown",
   "metadata": {},
   "source": [
    "## 3. Model Training\n",
    "\n",
    "### 3.1 Logistic Regression\n",
    "\n",
    "TODO"
   ]
  },
  {
   "cell_type": "markdown",
   "metadata": {},
   "source": [
    "### 3.2 Support Vector Machine (SVM)\n",
    "\n",
    "TODO"
   ]
  },
  {
   "cell_type": "markdown",
   "metadata": {},
   "source": [
    "### 3.3 (?) neural network\n",
    "\n",
    "Maybe?"
   ]
  },
  {
   "cell_type": "markdown",
   "metadata": {},
   "source": [
    "## 4. Model Testing and Comparison\n",
    "\n",
    "TODO"
   ]
  }
 ],
 "metadata": {
  "language_info": {
   "codemirror_mode": {
    "name": "ipython",
    "version": 3
   },
   "file_extension": ".py",
   "mimetype": "text/x-python",
   "name": "python",
   "nbconvert_exporter": "python",
   "pygments_lexer": "ipython3",
   "version": "3.9.13-final"
  },
  "orig_nbformat": 2,
  "kernelspec": {
   "name": "python3",
   "display_name": "Python 3 (ipykernel)"
  }
 },
 "nbformat": 4,
 "nbformat_minor": 2
}